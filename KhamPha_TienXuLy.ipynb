{
 "cells": [
  {
   "cell_type": "markdown",
   "id": "62050c72",
   "metadata": {},
   "source": [
    "<div style=\"border:2px solid black; padding:10px;\">\n",
    "    <h3>Nhóm 15</h3>\n",
    "    <h1 style='color:red;text-align:center;font-size:30px'>Chủ đề: Phân tích về doanh thu phim<b></b></h1>\n",
    "</div>\n"
   ]
  },
  {
   "cell_type": "markdown",
   "id": "eede0177",
   "metadata": {},
   "source": [
    "<h3>Danh sách thành viên</h3>\n",
    "<li> Nguyễn Quốc Hưng - 21120464 </li>\n",
    "<li> Đoàn Đức Hữu - 21120465 </li>\n",
    "<li> Võ Minh Khuê - 21120486</li>\n",
    "<li> Hồ Trọng Lễ - 21120494</li>\n"
   ]
  },
  {
   "cell_type": "markdown",
   "id": "fadad046",
   "metadata": {},
   "source": [
    "<h1 style='color:blue;text-align:center;font-size:30px'><b>Phần I - B. Khám phá - Tiền xử xử lý dữ liệu </b></h1>\n"
   ]
  },
  {
   "cell_type": "markdown",
   "id": "d9aeff06",
   "metadata": {},
   "source": [
    "# Import thư viện\n"
   ]
  },
  {
   "cell_type": "code",
   "execution_count": 1,
   "id": "bb276657",
   "metadata": {},
   "outputs": [],
   "source": [
    "%matplotlib inline\n",
    "import matplotlib.pyplot as plt\n",
    "import numpy as np\n",
    "import pandas as pd \n",
    "import seaborn as sns\n",
    "\n",
    "import os\n",
    "import re\n",
    "import statistics\n",
    "import seaborn as sns\n",
    "sns.set(rc={'axes.facecolor':'lightblue', 'figure.facecolor':'lightgray'})"
   ]
  },
  {
   "cell_type": "code",
   "execution_count": 2,
   "id": "2af86d9c",
   "metadata": {},
   "outputs": [
    {
     "data": {
      "text/plain": [
       "'/home/khuevo098/miniconda3/envs/min_ds-env/bin/python'"
      ]
     },
     "execution_count": 2,
     "metadata": {},
     "output_type": "execute_result"
    }
   ],
   "source": [
    "import sys\n",
    "sys.executable"
   ]
  },
  {
   "cell_type": "markdown",
   "id": "79b3a572",
   "metadata": {},
   "source": [
    "### Đọc file 'boxoffice_1990_2022.csv' vào dataframe df\n"
   ]
  },
  {
   "cell_type": "code",
   "execution_count": 3,
   "id": "09468941",
   "metadata": {},
   "outputs": [
    {
     "data": {
      "text/html": [
       "<div>\n",
       "<style scoped>\n",
       "    .dataframe tbody tr th:only-of-type {\n",
       "        vertical-align: middle;\n",
       "    }\n",
       "\n",
       "    .dataframe tbody tr th {\n",
       "        vertical-align: top;\n",
       "    }\n",
       "\n",
       "    .dataframe thead th {\n",
       "        text-align: right;\n",
       "    }\n",
       "</style>\n",
       "<table border=\"1\" class=\"dataframe\">\n",
       "  <thead>\n",
       "    <tr style=\"text-align: right;\">\n",
       "      <th></th>\n",
       "      <th>title</th>\n",
       "      <th>domestic_revenue</th>\n",
       "      <th>world_revenue</th>\n",
       "      <th>distributor</th>\n",
       "      <th>opening_revenue</th>\n",
       "      <th>opening_theaters</th>\n",
       "      <th>budget</th>\n",
       "      <th>MPAA</th>\n",
       "      <th>genres</th>\n",
       "      <th>running_time</th>\n",
       "      <th>in_release</th>\n",
       "      <th>release_date</th>\n",
       "    </tr>\n",
       "  </thead>\n",
       "  <tbody>\n",
       "    <tr>\n",
       "      <th>0</th>\n",
       "      <td>Batman Returns</td>\n",
       "      <td>$162,831,698</td>\n",
       "      <td>$266,831,698</td>\n",
       "      <td>Warner Bros.</td>\n",
       "      <td>$45,687,711</td>\n",
       "      <td>2,644</td>\n",
       "      <td>$80,000,000</td>\n",
       "      <td>PG-13</td>\n",
       "      <td>Action,Crime,Fantasy</td>\n",
       "      <td>126.0</td>\n",
       "      <td>196</td>\n",
       "      <td>19/06/1992</td>\n",
       "    </tr>\n",
       "    <tr>\n",
       "      <th>1</th>\n",
       "      <td>Coupe de Ville</td>\n",
       "      <td>$715,983</td>\n",
       "      <td>$715,983</td>\n",
       "      <td>Universal Pictures</td>\n",
       "      <td>$66,871</td>\n",
       "      <td>7</td>\n",
       "      <td>NaN</td>\n",
       "      <td>NaN</td>\n",
       "      <td>Comedy,Drama</td>\n",
       "      <td>99.0</td>\n",
       "      <td>298</td>\n",
       "      <td>09/03/1990</td>\n",
       "    </tr>\n",
       "    <tr>\n",
       "      <th>2</th>\n",
       "      <td>C'est la vie</td>\n",
       "      <td>$805,472</td>\n",
       "      <td>$805,472</td>\n",
       "      <td>The Samuel Goldwyn Company</td>\n",
       "      <td>$18,749</td>\n",
       "      <td>2</td>\n",
       "      <td>NaN</td>\n",
       "      <td>NaN</td>\n",
       "      <td>Comedy,Drama,Romance</td>\n",
       "      <td>110.0</td>\n",
       "      <td>63</td>\n",
       "      <td>02/11/1990</td>\n",
       "    </tr>\n",
       "    <tr>\n",
       "      <th>3</th>\n",
       "      <td>Waiting for the Light</td>\n",
       "      <td>$808,690</td>\n",
       "      <td>$808,690</td>\n",
       "      <td>Triumph Releasing Corporation</td>\n",
       "      <td>$334,748</td>\n",
       "      <td>149</td>\n",
       "      <td>NaN</td>\n",
       "      <td>NaN</td>\n",
       "      <td>Comedy</td>\n",
       "      <td>94.0</td>\n",
       "      <td>63</td>\n",
       "      <td>02/11/1990</td>\n",
       "    </tr>\n",
       "    <tr>\n",
       "      <th>4</th>\n",
       "      <td>Atlantis: The Lost Empire</td>\n",
       "      <td>$84,056,472</td>\n",
       "      <td>$186,053,725</td>\n",
       "      <td>Walt Disney Studios Motion Pictures</td>\n",
       "      <td>$329,011</td>\n",
       "      <td>2</td>\n",
       "      <td>$120,000,000</td>\n",
       "      <td>PG</td>\n",
       "      <td>Action,Adventure,Animation,Family,Fantasy,Sci-Fi</td>\n",
       "      <td>95.0</td>\n",
       "      <td>210</td>\n",
       "      <td>NaN</td>\n",
       "    </tr>\n",
       "  </tbody>\n",
       "</table>\n",
       "</div>"
      ],
      "text/plain": [
       "                       title domestic_revenue world_revenue  \\\n",
       "0             Batman Returns     $162,831,698  $266,831,698   \n",
       "1             Coupe de Ville         $715,983      $715,983   \n",
       "2               C'est la vie         $805,472      $805,472   \n",
       "3      Waiting for the Light         $808,690      $808,690   \n",
       "4  Atlantis: The Lost Empire      $84,056,472  $186,053,725   \n",
       "\n",
       "                           distributor opening_revenue opening_theaters  \\\n",
       "0                         Warner Bros.     $45,687,711            2,644   \n",
       "1                   Universal Pictures         $66,871                7   \n",
       "2           The Samuel Goldwyn Company         $18,749                2   \n",
       "3        Triumph Releasing Corporation        $334,748              149   \n",
       "4  Walt Disney Studios Motion Pictures        $329,011                2   \n",
       "\n",
       "         budget   MPAA                                            genres  \\\n",
       "0   $80,000,000  PG-13                              Action,Crime,Fantasy   \n",
       "1           NaN    NaN                                      Comedy,Drama   \n",
       "2           NaN    NaN                              Comedy,Drama,Romance   \n",
       "3           NaN    NaN                                            Comedy   \n",
       "4  $120,000,000     PG  Action,Adventure,Animation,Family,Fantasy,Sci-Fi   \n",
       "\n",
       "   running_time in_release release_date  \n",
       "0         126.0        196   19/06/1992  \n",
       "1          99.0        298   09/03/1990  \n",
       "2         110.0         63   02/11/1990  \n",
       "3          94.0         63   02/11/1990  \n",
       "4          95.0        210          NaN  "
      ]
     },
     "execution_count": 3,
     "metadata": {},
     "output_type": "execute_result"
    }
   ],
   "source": [
    "df = pd.read_csv(\n",
    "    './boxoffice_crawler/boxoffice_crawler/boxoffice_1990_2022.csv', encoding='latin1')\n",
    "df.head(5)"
   ]
  },
  {
   "cell_type": "markdown",
   "id": "37cdb7ea",
   "metadata": {},
   "source": [
    "## Khám phá dữ liệu\n"
   ]
  },
  {
   "cell_type": "markdown",
   "id": "35fc847c",
   "metadata": {},
   "source": [
    "### Dữ liệu có bao nhiêu dòng và bao nhiêu cột?"
   ]
  },
  {
   "cell_type": "code",
   "execution_count": 4,
   "id": "2390b124",
   "metadata": {},
   "outputs": [
    {
     "data": {
      "text/plain": [
       "(6405, 12)"
      ]
     },
     "execution_count": 4,
     "metadata": {},
     "output_type": "execute_result"
    }
   ],
   "source": [
    "num_rows, num_cols = df.shape\n",
    "num_rows, num_cols"
   ]
  },
  {
   "cell_type": "markdown",
   "id": "8f5f8d98-03e2-4d3f-b64a-68e0c7145389",
   "metadata": {},
   "source": [
    "### Mỗi dòng có ý nghĩa gì? Có vấn đề các dòng có ý nghĩa khác nhau không?\n",
    "- Dựa vào kết quả trên, mỗi dòng thể hiện thông tin chi tiết của các phim trong khoảng thời gian từ năm 1980 đến năm 2022 được thu thập từ trang web Box Office Mojo.\n",
    "- Không có dòng nào có ý nghĩa khác so với các dòng còn lại."
   ]
  },
  {
   "cell_type": "markdown",
   "id": "a2521df9-2531-4711-8230-491f9dfa2d73",
   "metadata": {},
   "source": [
    "### Dữ liệu có dòng nào bị lặp không?"
   ]
  },
  {
   "cell_type": "code",
   "execution_count": 5,
   "id": "3df755ef-ad31-4f48-80a7-1e30c6926fd3",
   "metadata": {},
   "outputs": [
    {
     "name": "stdout",
     "output_type": "stream",
     "text": [
      "Có dữ liệu lặp: 487 dòng\n"
     ]
    }
   ],
   "source": [
    "duplicated_rows = df[df.duplicated()]\n",
    "duplicated_nums = duplicated_rows.shape\n",
    "if duplicated_nums[0] > 0:\n",
    "    print(f'Có dữ liệu lặp: {duplicated_nums[0]} dòng')\n",
    "else:\n",
    "    print('Không có dữ liệu bị lặp')"
   ]
  },
  {
   "cell_type": "markdown",
   "id": "7253ff50-25ed-4050-b4f8-8f10be313560",
   "metadata": {},
   "source": [
    "Như kết quả trả về cho ta thấy, trong tập dữ liệu này có 487 dòng bị lặp. Vậy phải xử lý các dòng dữ liệu lặp: "
   ]
  },
  {
   "cell_type": "code",
   "execution_count": 6,
   "id": "8a40c335-ac0f-41b1-b099-df9886fbc211",
   "metadata": {},
   "outputs": [
    {
     "name": "stdout",
     "output_type": "stream",
     "text": [
      "Không có dữ liệu bị lặp\n"
     ]
    }
   ],
   "source": [
    "df = df.drop_duplicates()\n",
    "\n",
    "duplicated_rows = df[df.duplicated()]\n",
    "duplicated_nums = duplicated_rows.shape\n",
    "if duplicated_nums[0] > 0:\n",
    "    print(f'Có dữ liệu lặp: {duplicated_nums[0]} dòng')\n",
    "else:\n",
    "    print('Không có dữ liệu bị lặp')"
   ]
  },
  {
   "cell_type": "markdown",
   "id": "19b65cfa",
   "metadata": {},
   "source": [
    "### Ý nghĩa của các cột\n"
   ]
  },
  {
   "cell_type": "code",
   "execution_count": 7,
   "id": "e6bfed67",
   "metadata": {},
   "outputs": [
    {
     "data": {
      "text/html": [
       "<div>\n",
       "<style scoped>\n",
       "    .dataframe tbody tr th:only-of-type {\n",
       "        vertical-align: middle;\n",
       "    }\n",
       "\n",
       "    .dataframe tbody tr th {\n",
       "        vertical-align: top;\n",
       "    }\n",
       "\n",
       "    .dataframe thead th {\n",
       "        text-align: right;\n",
       "    }\n",
       "</style>\n",
       "<table border=\"1\" class=\"dataframe\">\n",
       "  <thead>\n",
       "    <tr style=\"text-align: right;\">\n",
       "      <th></th>\n",
       "      <th>STT</th>\n",
       "      <th>name</th>\n",
       "      <th>meaning</th>\n",
       "    </tr>\n",
       "  </thead>\n",
       "  <tbody>\n",
       "    <tr>\n",
       "      <th>0</th>\n",
       "      <td>1</td>\n",
       "      <td>title</td>\n",
       "      <td>Tựa đề phim</td>\n",
       "    </tr>\n",
       "    <tr>\n",
       "      <th>1</th>\n",
       "      <td>2</td>\n",
       "      <td>domestic_revenue</td>\n",
       "      <td>Doanh thu trong nước (USA)</td>\n",
       "    </tr>\n",
       "    <tr>\n",
       "      <th>2</th>\n",
       "      <td>3</td>\n",
       "      <td>world_revenue</td>\n",
       "      <td>Doanh thu toàn cầu</td>\n",
       "    </tr>\n",
       "    <tr>\n",
       "      <th>3</th>\n",
       "      <td>4</td>\n",
       "      <td>distributor</td>\n",
       "      <td>Nhà phân phối</td>\n",
       "    </tr>\n",
       "    <tr>\n",
       "      <th>4</th>\n",
       "      <td>5</td>\n",
       "      <td>opening_revenue</td>\n",
       "      <td>Doanh thu mở màn, hay còn được gọi là doanh thu đạt được trong tuần đầu tiên</td>\n",
       "    </tr>\n",
       "    <tr>\n",
       "      <th>5</th>\n",
       "      <td>6</td>\n",
       "      <td>opening_theater</td>\n",
       "      <td>Số lượng rạp mà bộ phim được chiếu trong được chiếu trong tuần đầu tiên</td>\n",
       "    </tr>\n",
       "    <tr>\n",
       "      <th>6</th>\n",
       "      <td>7</td>\n",
       "      <td>budget</td>\n",
       "      <td>Ngân sách dùng để sản xuất bộ phim</td>\n",
       "    </tr>\n",
       "    <tr>\n",
       "      <th>7</th>\n",
       "      <td>8</td>\n",
       "      <td>MPPA</td>\n",
       "      <td>Chỉ số đánh giá cảu Hiệp Hội điện ảnh Hoa Kỳ</td>\n",
       "    </tr>\n",
       "    <tr>\n",
       "      <th>8</th>\n",
       "      <td>10</td>\n",
       "      <td>in_release</td>\n",
       "      <td>Số ngày bộ phim được phát hành</td>\n",
       "    </tr>\n",
       "    <tr>\n",
       "      <th>9</th>\n",
       "      <td>11</td>\n",
       "      <td>release_date</td>\n",
       "      <td>Ngày phát hành</td>\n",
       "    </tr>\n",
       "  </tbody>\n",
       "</table>\n",
       "</div>"
      ],
      "text/plain": [
       "   STT              name  \\\n",
       "0    1             title   \n",
       "1    2  domestic_revenue   \n",
       "2    3     world_revenue   \n",
       "3    4       distributor   \n",
       "4    5   opening_revenue   \n",
       "5    6   opening_theater   \n",
       "6    7            budget   \n",
       "7    8              MPPA   \n",
       "8   10        in_release   \n",
       "9   11      release_date   \n",
       "\n",
       "                                                                        meaning  \n",
       "0                                                                   Tựa đề phim  \n",
       "1                                                    Doanh thu trong nước (USA)  \n",
       "2                                                           Doanh thu toàn cầu   \n",
       "3                                                                 Nhà phân phối  \n",
       "4  Doanh thu mở màn, hay còn được gọi là doanh thu đạt được trong tuần đầu tiên  \n",
       "5       Số lượng rạp mà bộ phim được chiếu trong được chiếu trong tuần đầu tiên  \n",
       "6                                            Ngân sách dùng để sản xuất bộ phim  \n",
       "7                                  Chỉ số đánh giá cảu Hiệp Hội điện ảnh Hoa Kỳ  \n",
       "8                                                Số ngày bộ phim được phát hành  \n",
       "9                                                                Ngày phát hành  "
      ]
     },
     "execution_count": 7,
     "metadata": {},
     "output_type": "execute_result"
    }
   ],
   "source": [
    "schema_data = pd.read_csv(\n",
    "    \"./boxoffice_crawler/boxoffice_crawler/MovieRevenue_schema.csv\", encoding='utf-8')\n",
    "pd.set_option('max_colwidth', 400)\n",
    "schema_data\n"
   ]
  },
  {
   "cell_type": "markdown",
   "id": "08bbeacc",
   "metadata": {},
   "source": [
    "### Kiểu dữ liệu của các cột\n"
   ]
  },
  {
   "cell_type": "code",
   "execution_count": 8,
   "id": "e443e05b",
   "metadata": {},
   "outputs": [
    {
     "name": "stdout",
     "output_type": "stream",
     "text": [
      "<class 'pandas.core.frame.DataFrame'>\n",
      "Int64Index: 5918 entries, 0 to 6403\n",
      "Data columns (total 12 columns):\n",
      " #   Column            Non-Null Count  Dtype  \n",
      "---  ------            --------------  -----  \n",
      " 0   title             5918 non-null   object \n",
      " 1   domestic_revenue  5918 non-null   object \n",
      " 2   world_revenue     5918 non-null   object \n",
      " 3   distributor       5918 non-null   object \n",
      " 4   opening_revenue   5858 non-null   object \n",
      " 5   opening_theaters  5851 non-null   object \n",
      " 6   budget            2944 non-null   object \n",
      " 7   MPAA              5251 non-null   object \n",
      " 8   genres            5912 non-null   object \n",
      " 9   running_time      5915 non-null   float64\n",
      " 10  in_release        5916 non-null   object \n",
      " 11  release_date      5415 non-null   object \n",
      "dtypes: float64(1), object(11)\n",
      "memory usage: 601.0+ KB\n"
     ]
    }
   ],
   "source": [
    "df.info()"
   ]
  },
  {
   "cell_type": "markdown",
   "id": "b7bb20b8",
   "metadata": {},
   "source": [
    "## Tiền xử lý\n",
    "\n",
    "1. **Chuyển đổi các cột chứa số thành kiểu dữ liệu số**: Các cột như `domestic_revenue`, `world_revenue`, `opening_revenue`, `opening_theaters`, `budget`, và `in_release` đều chứa dữ liệu số, nhưng hiện đang được lưu trữ dưới dạng object. Chúng ta sẽ loại bỏ các ký tự không phải số (như dấu `$` và dấu phẩy) và chuyển đổi các cột này thành kiểu dữ liệu số.\n",
    "\n",
    "2. **Chuyển đổi cột `release_date` thành kiểu dữ liệu datetime**: Điều này sẽ hữu ích cho việc phân tích sau này.\n"
   ]
  },
  {
   "cell_type": "code",
   "execution_count": 9,
   "id": "f5ebd277",
   "metadata": {},
   "outputs": [],
   "source": [
    "# Remove $ and , in the revenue and budget columns\n",
    "for col in ['domestic_revenue', 'world_revenue', 'opening_revenue', 'budget']:\n",
    "    df[col] = df[col].replace({'\\$': '', ',': ''}, regex=True)\n",
    "\n",
    "# Convert columns to numeric type\n",
    "for col in ['domestic_revenue', 'world_revenue', 'opening_revenue', 'opening_theaters', 'budget', 'in_release']:\n",
    "    df[col] = pd.to_numeric(df[col], errors='coerce')\n",
    "\n",
    "# Convert release_date to datetime\n",
    "df['release_date'] = pd.to_datetime(df['release_date'], format='%d/%m/%Y')"
   ]
  },
  {
   "cell_type": "code",
   "execution_count": 10,
   "id": "ffea5cb8",
   "metadata": {},
   "outputs": [
    {
     "data": {
      "text/html": [
       "<div>\n",
       "<style scoped>\n",
       "    .dataframe tbody tr th:only-of-type {\n",
       "        vertical-align: middle;\n",
       "    }\n",
       "\n",
       "    .dataframe tbody tr th {\n",
       "        vertical-align: top;\n",
       "    }\n",
       "\n",
       "    .dataframe thead th {\n",
       "        text-align: right;\n",
       "    }\n",
       "</style>\n",
       "<table border=\"1\" class=\"dataframe\">\n",
       "  <thead>\n",
       "    <tr style=\"text-align: right;\">\n",
       "      <th></th>\n",
       "      <th>title</th>\n",
       "      <th>domestic_revenue</th>\n",
       "      <th>world_revenue</th>\n",
       "      <th>distributor</th>\n",
       "      <th>opening_revenue</th>\n",
       "      <th>opening_theaters</th>\n",
       "      <th>budget</th>\n",
       "      <th>MPAA</th>\n",
       "      <th>genres</th>\n",
       "      <th>running_time</th>\n",
       "      <th>in_release</th>\n",
       "      <th>release_date</th>\n",
       "    </tr>\n",
       "  </thead>\n",
       "  <tbody>\n",
       "    <tr>\n",
       "      <th>0</th>\n",
       "      <td>Batman Returns</td>\n",
       "      <td>162831698</td>\n",
       "      <td>266831698</td>\n",
       "      <td>Warner Bros.</td>\n",
       "      <td>45687711.0</td>\n",
       "      <td>NaN</td>\n",
       "      <td>80000000.0</td>\n",
       "      <td>PG-13</td>\n",
       "      <td>Action,Crime,Fantasy</td>\n",
       "      <td>126.0</td>\n",
       "      <td>196.0</td>\n",
       "      <td>1992-06-19</td>\n",
       "    </tr>\n",
       "    <tr>\n",
       "      <th>1</th>\n",
       "      <td>Coupe de Ville</td>\n",
       "      <td>715983</td>\n",
       "      <td>715983</td>\n",
       "      <td>Universal Pictures</td>\n",
       "      <td>66871.0</td>\n",
       "      <td>7.0</td>\n",
       "      <td>NaN</td>\n",
       "      <td>NaN</td>\n",
       "      <td>Comedy,Drama</td>\n",
       "      <td>99.0</td>\n",
       "      <td>298.0</td>\n",
       "      <td>1990-03-09</td>\n",
       "    </tr>\n",
       "    <tr>\n",
       "      <th>2</th>\n",
       "      <td>C'est la vie</td>\n",
       "      <td>805472</td>\n",
       "      <td>805472</td>\n",
       "      <td>The Samuel Goldwyn Company</td>\n",
       "      <td>18749.0</td>\n",
       "      <td>2.0</td>\n",
       "      <td>NaN</td>\n",
       "      <td>NaN</td>\n",
       "      <td>Comedy,Drama,Romance</td>\n",
       "      <td>110.0</td>\n",
       "      <td>63.0</td>\n",
       "      <td>1990-11-02</td>\n",
       "    </tr>\n",
       "    <tr>\n",
       "      <th>3</th>\n",
       "      <td>Waiting for the Light</td>\n",
       "      <td>808690</td>\n",
       "      <td>808690</td>\n",
       "      <td>Triumph Releasing Corporation</td>\n",
       "      <td>334748.0</td>\n",
       "      <td>149.0</td>\n",
       "      <td>NaN</td>\n",
       "      <td>NaN</td>\n",
       "      <td>Comedy</td>\n",
       "      <td>94.0</td>\n",
       "      <td>63.0</td>\n",
       "      <td>1990-11-02</td>\n",
       "    </tr>\n",
       "    <tr>\n",
       "      <th>4</th>\n",
       "      <td>Atlantis: The Lost Empire</td>\n",
       "      <td>84056472</td>\n",
       "      <td>186053725</td>\n",
       "      <td>Walt Disney Studios Motion Pictures</td>\n",
       "      <td>329011.0</td>\n",
       "      <td>2.0</td>\n",
       "      <td>120000000.0</td>\n",
       "      <td>PG</td>\n",
       "      <td>Action,Adventure,Animation,Family,Fantasy,Sci-Fi</td>\n",
       "      <td>95.0</td>\n",
       "      <td>210.0</td>\n",
       "      <td>NaT</td>\n",
       "    </tr>\n",
       "  </tbody>\n",
       "</table>\n",
       "</div>"
      ],
      "text/plain": [
       "                       title  domestic_revenue  world_revenue  \\\n",
       "0             Batman Returns         162831698      266831698   \n",
       "1             Coupe de Ville            715983         715983   \n",
       "2               C'est la vie            805472         805472   \n",
       "3      Waiting for the Light            808690         808690   \n",
       "4  Atlantis: The Lost Empire          84056472      186053725   \n",
       "\n",
       "                           distributor  opening_revenue  opening_theaters  \\\n",
       "0                         Warner Bros.       45687711.0               NaN   \n",
       "1                   Universal Pictures          66871.0               7.0   \n",
       "2           The Samuel Goldwyn Company          18749.0               2.0   \n",
       "3        Triumph Releasing Corporation         334748.0             149.0   \n",
       "4  Walt Disney Studios Motion Pictures         329011.0               2.0   \n",
       "\n",
       "        budget   MPAA                                            genres  \\\n",
       "0   80000000.0  PG-13                              Action,Crime,Fantasy   \n",
       "1          NaN    NaN                                      Comedy,Drama   \n",
       "2          NaN    NaN                              Comedy,Drama,Romance   \n",
       "3          NaN    NaN                                            Comedy   \n",
       "4  120000000.0     PG  Action,Adventure,Animation,Family,Fantasy,Sci-Fi   \n",
       "\n",
       "   running_time  in_release release_date  \n",
       "0         126.0       196.0   1992-06-19  \n",
       "1          99.0       298.0   1990-03-09  \n",
       "2         110.0        63.0   1990-11-02  \n",
       "3          94.0        63.0   1990-11-02  \n",
       "4          95.0       210.0          NaT  "
      ]
     },
     "execution_count": 10,
     "metadata": {},
     "output_type": "execute_result"
    }
   ],
   "source": [
    "df.head(5)"
   ]
  },
  {
   "cell_type": "markdown",
   "id": "e1c40fea",
   "metadata": {},
   "source": [
    "### Với mỗi cột có dữ liệu dạng số, các giá trị được phân bố như thế nào?\n"
   ]
  },
  {
   "cell_type": "markdown",
   "id": "d2631232",
   "metadata": {},
   "source": [
    "Với các cột có kiểu dữ liệu số, ta cần tính:\n",
    "\n",
    "- Tỉ lệ % (từ 0 đến 100) các giá trị thiếu\n",
    "- Giá trị min\n",
    "- Giá trị lower quartile (phân vị 25)\n",
    "- Giá trị median (phân vị 50)\n",
    "- Giá trị upper quartile (phân vị 75)\n",
    "- Giá trị max\n",
    "\n",
    "Sau đó lưu kết quả vào DataFrame `num_col_info_df`, trong đó:\n",
    "\n",
    "- Tên của các cột là tên của các cột số trong `df`\n",
    "- Tên của các dòng là: \"missing_ratio\", \"min\", \"lower_quartile\", \"median\", \"upper_quartile\", \"max\"\n",
    "\n",
    "Để dễ nhìn, tất cả các giá trị bạn đều làm tròn với 1 chữ số thập phân bằng phương thức `.round(1)`.\n"
   ]
  },
  {
   "cell_type": "code",
   "execution_count": 11,
   "id": "9428ea92",
   "metadata": {},
   "outputs": [
    {
     "data": {
      "text/html": [
       "<div>\n",
       "<style scoped>\n",
       "    .dataframe tbody tr th:only-of-type {\n",
       "        vertical-align: middle;\n",
       "    }\n",
       "\n",
       "    .dataframe tbody tr th {\n",
       "        vertical-align: top;\n",
       "    }\n",
       "\n",
       "    .dataframe thead th {\n",
       "        text-align: right;\n",
       "    }\n",
       "</style>\n",
       "<table border=\"1\" class=\"dataframe\">\n",
       "  <thead>\n",
       "    <tr style=\"text-align: right;\">\n",
       "      <th></th>\n",
       "      <th>domestic_revenue</th>\n",
       "      <th>world_revenue</th>\n",
       "      <th>opening_revenue</th>\n",
       "      <th>opening_theaters</th>\n",
       "      <th>budget</th>\n",
       "      <th>running_time</th>\n",
       "      <th>in_release</th>\n",
       "    </tr>\n",
       "  </thead>\n",
       "  <tbody>\n",
       "    <tr>\n",
       "      <th>missing_ratio</th>\n",
       "      <td>0.00</td>\n",
       "      <td>0.00</td>\n",
       "      <td>1.01</td>\n",
       "      <td>67.34</td>\n",
       "      <td>50.25</td>\n",
       "      <td>0.05</td>\n",
       "      <td>0.56</td>\n",
       "    </tr>\n",
       "    <tr>\n",
       "      <th>min</th>\n",
       "      <td>153,504.00</td>\n",
       "      <td>153,504.00</td>\n",
       "      <td>2,515.00</td>\n",
       "      <td>1.00</td>\n",
       "      <td>15,000.00</td>\n",
       "      <td>35.00</td>\n",
       "      <td>21.00</td>\n",
       "    </tr>\n",
       "    <tr>\n",
       "      <th>lower_quartile</th>\n",
       "      <td>6,858,971.25</td>\n",
       "      <td>10,631,912.25</td>\n",
       "      <td>970,951.25</td>\n",
       "      <td>4.00</td>\n",
       "      <td>18,000,000.00</td>\n",
       "      <td>95.00</td>\n",
       "      <td>158.00</td>\n",
       "    </tr>\n",
       "    <tr>\n",
       "      <th>median</th>\n",
       "      <td>21,208,579.00</td>\n",
       "      <td>32,596,692.50</td>\n",
       "      <td>5,812,160.00</td>\n",
       "      <td>19.00</td>\n",
       "      <td>35,000,000.00</td>\n",
       "      <td>105.00</td>\n",
       "      <td>265.00</td>\n",
       "    </tr>\n",
       "    <tr>\n",
       "      <th>upper_quartile</th>\n",
       "      <td>53,657,832.25</td>\n",
       "      <td>96,240,876.50</td>\n",
       "      <td>14,574,818.25</td>\n",
       "      <td>350.00</td>\n",
       "      <td>70,000,000.00</td>\n",
       "      <td>118.00</td>\n",
       "      <td>368.00</td>\n",
       "    </tr>\n",
       "    <tr>\n",
       "      <th>max</th>\n",
       "      <td>936,662,225.00</td>\n",
       "      <td>2,799,439,100.00</td>\n",
       "      <td>357,115,007.00</td>\n",
       "      <td>998.00</td>\n",
       "      <td>356,000,000.00</td>\n",
       "      <td>271.00</td>\n",
       "      <td>996.00</td>\n",
       "    </tr>\n",
       "  </tbody>\n",
       "</table>\n",
       "</div>"
      ],
      "text/plain": [
       "                domestic_revenue    world_revenue  opening_revenue  \\\n",
       "missing_ratio               0.00             0.00             1.01   \n",
       "min                   153,504.00       153,504.00         2,515.00   \n",
       "lower_quartile      6,858,971.25    10,631,912.25       970,951.25   \n",
       "median             21,208,579.00    32,596,692.50     5,812,160.00   \n",
       "upper_quartile     53,657,832.25    96,240,876.50    14,574,818.25   \n",
       "max               936,662,225.00 2,799,439,100.00   357,115,007.00   \n",
       "\n",
       "                opening_theaters         budget  running_time  in_release  \n",
       "missing_ratio              67.34          50.25          0.05        0.56  \n",
       "min                         1.00      15,000.00         35.00       21.00  \n",
       "lower_quartile              4.00  18,000,000.00         95.00      158.00  \n",
       "median                     19.00  35,000,000.00        105.00      265.00  \n",
       "upper_quartile            350.00  70,000,000.00        118.00      368.00  \n",
       "max                       998.00 356,000,000.00        271.00      996.00  "
      ]
     },
     "execution_count": 11,
     "metadata": {},
     "output_type": "execute_result"
    }
   ],
   "source": [
    "# Get numeric columns\n",
    "numeric_cols = df.select_dtypes(include=np.number).columns.tolist()\n",
    "\n",
    "# Calculate statistics\n",
    "missing_ratio = df[numeric_cols].isnull().mean() * 100\n",
    "min_values = df[numeric_cols].min()\n",
    "lower_quartile = df[numeric_cols].quantile(0.25)\n",
    "median = df[numeric_cols].median()\n",
    "upper_quartile = df[numeric_cols].quantile(0.75)\n",
    "max_values = df[numeric_cols].max()\n",
    "\n",
    "# Create DataFrame\n",
    "num_col_info_df = pd.DataFrame({\n",
    "    'missing_ratio': missing_ratio,\n",
    "    'min': min_values,\n",
    "    'lower_quartile': lower_quartile,\n",
    "    'median': median,\n",
    "    'upper_quartile': upper_quartile,\n",
    "    'max': max_values\n",
    "})\n",
    "\n",
    "# Round to 1 decimal place\n",
    "num_col_info_df = num_col_info_df.round(2)\n",
    "pd.options.display.float_format = '{:10,.2f}'.format\n",
    "num_col_info_df.T"
   ]
  },
  {
   "cell_type": "markdown",
   "id": "05beadcb-27b1-47a9-a65b-a5a0b058293b",
   "metadata": {},
   "source": [
    "### Với mỗi cột có dữ liệu không phải dạng số, các giá trị được phân bố như thế nào?"
   ]
  },
  {
   "cell_type": "markdown",
   "id": "318d5842",
   "metadata": {},
   "source": [
    "Với các cột \"title\",\"distributor\",\"MPAA\",\"genres\" ta cần tính:\n",
    "\n",
    "- Tỉ lệ % (từ 0 đến 100) các giá trị thiếu\n",
    "- Số lượng các giá trị (các giá trị ở đây là các giá trị khác nhau và ta không xét giá trị thiếu): với cột mà ứng với câu hỏi dạng multichoice (ví dụ, cột \"genres\"), mỗi giá trị có thể chứa nhiều choice (các choice được phân tách bởi dấu phẩy)\n",
    "- Tỉ lệ % (từ 0 đến 100) của mỗi giá trị được sort theo tỉ lệ % giảm dần (ta không xét giá trị thiếu, tỉ lệ là tỉ lệ so với số lượng các giá trị không thiếu)\n",
    "\n",
    "Lưu kết quả vào DataFrame `cat_col_info_df`, trong đó:\n",
    "\n",
    "- Tên của các cột là tên của các cột không phải số trong `survey_df`\n",
    "- Tên của các dòng là: \"missing_ratio\", \"num_values\", \"value_ratios\"\n",
    "\n",
    "Để dễ nhìn, tất cả các giá trị bạn đều làm tròn với 1 chữ số thập phân bằng phương thức `.round(1)`.\n"
   ]
  },
  {
   "cell_type": "code",
   "execution_count": 12,
   "id": "3d45cbfa",
   "metadata": {},
   "outputs": [
    {
     "data": {
      "text/html": [
       "<div>\n",
       "<style scoped>\n",
       "    .dataframe tbody tr th:only-of-type {\n",
       "        vertical-align: middle;\n",
       "    }\n",
       "\n",
       "    .dataframe tbody tr th {\n",
       "        vertical-align: top;\n",
       "    }\n",
       "\n",
       "    .dataframe thead th {\n",
       "        text-align: right;\n",
       "    }\n",
       "</style>\n",
       "<table border=\"1\" class=\"dataframe\">\n",
       "  <thead>\n",
       "    <tr style=\"text-align: right;\">\n",
       "      <th></th>\n",
       "      <th>title</th>\n",
       "      <th>distributor</th>\n",
       "      <th>MPAA</th>\n",
       "      <th>genres</th>\n",
       "    </tr>\n",
       "  </thead>\n",
       "  <tbody>\n",
       "    <tr>\n",
       "      <th>missing_ratio</th>\n",
       "      <td>0.00</td>\n",
       "      <td>0.00</td>\n",
       "      <td>11.30</td>\n",
       "      <td>0.10</td>\n",
       "    </tr>\n",
       "    <tr>\n",
       "      <th>num_values</th>\n",
       "      <td>5840</td>\n",
       "      <td>237</td>\n",
       "      <td>8</td>\n",
       "      <td>25</td>\n",
       "    </tr>\n",
       "    <tr>\n",
       "      <th>value_ratios</th>\n",
       "      <td>{'Beauty and the Beast': 0.08358408559010365, 'The Lion King': 0.06686726847208291, 'The Nightmare Before Christmas': 0.06686726847208291, ' Inc.': 0.06686726847208291, 'Ghostbusters': 0.06686726847208291, 'Monsters': 0.05015045135406219, 'Jurassic Park': 0.05015045135406219, 'Avatar': 0.05015045135406219, 'The Jungle Book': 0.05015045135406219, 'I': 0.05015045135406219, 'Les Misï¿½rables': 0....</td>\n",
       "      <td>{'Warner Bros.': 11.118621155795877, 'Walt Disney Studios Motion Pictures': 8.938830686042582, 'Universal Pictures': 8.938830686042582, 'Twentieth Century Fox': 7.6377154444068935, 'Paramount Pictures': 6.67455221358567, 'Sony Pictures Entertainment (SPE)': 6.471781007096992, 'Lions Gate Films': 4.393376140588036, 'Miramax': 3.6329841162554914, 'New Line Cinema': 3.3119297059817505, 'Metro-Gol...</td>\n",
       "      <td>{'R': 44.27728051799657, 'PG-13': 37.66901542563321, 'PG': 16.853932584269664, 'G': 1.0093315558941154, 'NC-17': 0.11426394972386211, 'Not Rated': 0.03808798324128738, 'Approved': 0.01904399162064369, 'TV-14': 0.01904399162064369}</td>\n",
       "      <td>{'Drama': 16.737035834145285, 'Comedy': 13.380967846703475, 'Thriller': 9.137165746454476, 'Action': 8.216953556349464, 'Romance': 7.377936559489011, 'Adventure': 6.755440077947386, 'Crime': 5.965140197033669, 'Fantasy': 4.568582873227238, 'Family': 4.389953448089207, 'Sci-Fi': 3.870304211324023, 'Mystery': 3.8540651726751114, 'Horror': 3.1287214463570425, 'Biography': 2.522464003464328, 'Anim...</td>\n",
       "    </tr>\n",
       "  </tbody>\n",
       "</table>\n",
       "</div>"
      ],
      "text/plain": [
       "                                                                                                                                                                                                                                                                                                                                                                                                                         title  \\\n",
       "missing_ratio                                                                                                                                                                                                                                                                                                                                                                                                             0.00   \n",
       "num_values                                                                                                                                                                                                                                                                                                                                                                                                                5840   \n",
       "value_ratios   {'Beauty and the Beast': 0.08358408559010365, 'The Lion King': 0.06686726847208291, 'The Nightmare Before Christmas': 0.06686726847208291, ' Inc.': 0.06686726847208291, 'Ghostbusters': 0.06686726847208291, 'Monsters': 0.05015045135406219, 'Jurassic Park': 0.05015045135406219, 'Avatar': 0.05015045135406219, 'The Jungle Book': 0.05015045135406219, 'I': 0.05015045135406219, 'Les Misï¿½rables': 0....   \n",
       "\n",
       "                                                                                                                                                                                                                                                                                                                                                                                                                   distributor  \\\n",
       "missing_ratio                                                                                                                                                                                                                                                                                                                                                                                                             0.00   \n",
       "num_values                                                                                                                                                                                                                                                                                                                                                                                                                 237   \n",
       "value_ratios   {'Warner Bros.': 11.118621155795877, 'Walt Disney Studios Motion Pictures': 8.938830686042582, 'Universal Pictures': 8.938830686042582, 'Twentieth Century Fox': 7.6377154444068935, 'Paramount Pictures': 6.67455221358567, 'Sony Pictures Entertainment (SPE)': 6.471781007096992, 'Lions Gate Films': 4.393376140588036, 'Miramax': 3.6329841162554914, 'New Line Cinema': 3.3119297059817505, 'Metro-Gol...   \n",
       "\n",
       "                                                                                                                                                                                                                                                 MPAA  \\\n",
       "missing_ratio                                                                                                                                                                                                                                   11.30   \n",
       "num_values                                                                                                                                                                                                                                          8   \n",
       "value_ratios   {'R': 44.27728051799657, 'PG-13': 37.66901542563321, 'PG': 16.853932584269664, 'G': 1.0093315558941154, 'NC-17': 0.11426394972386211, 'Not Rated': 0.03808798324128738, 'Approved': 0.01904399162064369, 'TV-14': 0.01904399162064369}   \n",
       "\n",
       "                                                                                                                                                                                                                                                                                                                                                                                                                        genres  \n",
       "missing_ratio                                                                                                                                                                                                                                                                                                                                                                                                             0.10  \n",
       "num_values                                                                                                                                                                                                                                                                                                                                                                                                                  25  \n",
       "value_ratios   {'Drama': 16.737035834145285, 'Comedy': 13.380967846703475, 'Thriller': 9.137165746454476, 'Action': 8.216953556349464, 'Romance': 7.377936559489011, 'Adventure': 6.755440077947386, 'Crime': 5.965140197033669, 'Fantasy': 4.568582873227238, 'Family': 4.389953448089207, 'Sci-Fi': 3.870304211324023, 'Mystery': 3.8540651726751114, 'Horror': 3.1287214463570425, 'Biography': 2.522464003464328, 'Anim...  "
      ]
     },
     "execution_count": 12,
     "metadata": {},
     "output_type": "execute_result"
    }
   ],
   "source": [
    "# Define categorical columns\n",
    "cat_cols = [\"title\", \"distributor\", \"MPAA\", \"genres\"]\n",
    "\n",
    "# Initialize DataFrame to store results\n",
    "cat_col_info_df = pd.DataFrame(\n",
    "    index=[\"missing_ratio\", \"num_values\", \"value_ratios\"], columns=cat_cols)\n",
    "\n",
    "for col in cat_cols:\n",
    "    # Calculate missing ratio\n",
    "    missing_ratio = df[col].isnull().mean() * 100\n",
    "\n",
    "    # Calculate number of unique values\n",
    "    # Split values by comma and flatten the list\n",
    "    values = [val for sublist in df[col].dropna().str.split(',').tolist()\n",
    "              for val in sublist]\n",
    "    num_values = len(set(values))\n",
    "\n",
    "    # Calculate value ratios\n",
    "    value_counts = pd.Series(values).value_counts(normalize=True) * 100\n",
    "    value_ratios = value_counts.sort_values(ascending=False).to_dict()\n",
    "\n",
    "    # Store results\n",
    "    cat_col_info_df.at[\"missing_ratio\", col] = missing_ratio\n",
    "    cat_col_info_df.at[\"num_values\", col] = num_values\n",
    "    cat_col_info_df.at[\"value_ratios\", col] = value_ratios\n",
    "\n",
    "# Round to 1 decimal place\n",
    "cat_col_info_df = cat_col_info_df.applymap(\n",
    "    lambda x: round(x, 1) if isinstance(x, (int, float)) else x)\n",
    "\n",
    "cat_col_info_df"
   ]
  },
  {
   "cell_type": "markdown",
   "id": "e0410b00",
   "metadata": {},
   "source": [
    "### Xử lý dữ liệu bị thiếu\n"
   ]
  },
  {
   "cell_type": "markdown",
   "id": "9cc6de1e",
   "metadata": {},
   "source": [
    "- Tỷ lệ thiếu dữ liệu của từng cột\n"
   ]
  },
  {
   "cell_type": "code",
   "execution_count": 13,
   "id": "755bfd77",
   "metadata": {},
   "outputs": [
    {
     "data": {
      "text/plain": [
       "opening_theaters        67.34\n",
       "budget                  50.25\n",
       "MPAA                    11.27\n",
       "release_date             8.50\n",
       "opening_revenue          1.01\n",
       "in_release               0.56\n",
       "genres                   0.10\n",
       "running_time             0.05\n",
       "title                    0.00\n",
       "domestic_revenue         0.00\n",
       "world_revenue            0.00\n",
       "distributor              0.00\n",
       "dtype: float64"
      ]
     },
     "execution_count": 13,
     "metadata": {},
     "output_type": "execute_result"
    }
   ],
   "source": [
    "df.agg(lambda x: x.isna().mean()*100).sort_values(ascending=False)"
   ]
  },
  {
   "cell_type": "code",
   "execution_count": 14,
   "id": "5db54f2b",
   "metadata": {},
   "outputs": [
    {
     "name": "stdout",
     "output_type": "stream",
     "text": [
      "<class 'pandas.core.frame.DataFrame'>\n",
      "Int64Index: 4760 entries, 0 to 6402\n",
      "Data columns (total 10 columns):\n",
      " #   Column            Non-Null Count  Dtype         \n",
      "---  ------            --------------  -----         \n",
      " 0   title             4760 non-null   object        \n",
      " 1   domestic_revenue  4760 non-null   int64         \n",
      " 2   world_revenue     4760 non-null   int64         \n",
      " 3   distributor       4760 non-null   object        \n",
      " 4   opening_revenue   4760 non-null   float64       \n",
      " 5   MPAA              4760 non-null   object        \n",
      " 6   genres            4760 non-null   object        \n",
      " 7   running_time      4760 non-null   float64       \n",
      " 8   in_release        4760 non-null   float64       \n",
      " 9   release_date      4760 non-null   datetime64[ns]\n",
      "dtypes: datetime64[ns](1), float64(3), int64(2), object(4)\n",
      "memory usage: 409.1+ KB\n"
     ]
    },
    {
     "data": {
      "text/plain": [
       "(4760, 10)"
      ]
     },
     "execution_count": 14,
     "metadata": {},
     "output_type": "execute_result"
    }
   ],
   "source": [
    "# Drop the 'opening_theaters' and 'budget' columns\n",
    "df = df.drop(['opening_theaters', 'budget'], axis=1)\n",
    "\n",
    "# Drop rows with missing values\n",
    "df = df.dropna()\n",
    "\n",
    "df.agg(lambda x: x.isna().mean()*100).sort_values(ascending=False)\n",
    "df.info()\n",
    "df.shape"
   ]
  },
  {
   "cell_type": "markdown",
   "id": "b583f900",
   "metadata": {},
   "source": [
    "## Trực quan hóa và thống kê dữ liệu\n"
   ]
  },
  {
   "cell_type": "code",
   "execution_count": 15,
   "id": "5a2d2d0b",
   "metadata": {},
   "outputs": [
    {
     "data": {
      "image/png": "[encoded data removed]",
      "text/plain": [
       "<Figure size 800x600 with 1 Axes>"
      ]
     },
     "metadata": {},
     "output_type": "display_data"
    },
    {
     "data": {
      "image/png": "[encoded data removed]",
      "text/plain": [
       "<Figure size 800x600 with 1 Axes>"
      ]
     },
     "metadata": {},
     "output_type": "display_data"
    },
    {
     "data": {
      "image/png": "[encoded data removed]",
      "text/plain": [
       "<Figure size 800x600 with 1 Axes>"
      ]
     },
     "metadata": {},
     "output_type": "display_data"
    },
    {
     "data": {
      "image/png": "[encoded data removed]",
      "text/plain": [
       "<Figure size 800x600 with 1 Axes>"
      ]
     },
     "metadata": {},
     "output_type": "display_data"
    },
    {
     "data": {
      "image/png": "[encoded data removed]",
      "text/plain": [
       "<Figure size 800x600 with 1 Axes>"
      ]
     },
     "metadata": {},
     "output_type": "display_data"
    },
    {
     "name": "stdout",
     "output_type": "stream",
     "text": [
      "\n",
      "Basic Statistics for Categorical Columns:\n",
      "\n",
      "Column: title\n",
      "count                 4760\n",
      "unique                4676\n",
      "top       Les Misï¿½rables\n",
      "freq                     3\n",
      "Name: title, dtype: object\n",
      "\n",
      "Column: distributor\n",
      "count             4760\n",
      "unique             178\n",
      "top       Warner Bros.\n",
      "freq               572\n",
      "Name: distributor, dtype: object\n",
      "\n",
      "Column: MPAA\n",
      "count     4760\n",
      "unique       8\n",
      "top          R\n",
      "freq      2045\n",
      "Name: MPAA, dtype: object\n",
      "\n",
      "Column: genres\n",
      "count                     4760\n",
      "unique                     909\n",
      "top       Comedy,Drama,Romance\n",
      "freq                       233\n",
      "Name: genres, dtype: object\n",
      "\n",
      "Column: release_date\n",
      "count                    4760\n",
      "unique                   1873\n",
      "top       2000-12-22 00:00:00\n",
      "freq                        8\n",
      "first     1989-11-08 00:00:00\n",
      "last      2022-12-23 00:00:00\n",
      "Name: release_date, dtype: object\n"
     ]
    },
    {
     "name": "stderr",
     "output_type": "stream",
     "text": [
      "/tmp/ipykernel_26733/1929468206.py:17: FutureWarning: Treating datetime data as categorical rather than numeric in `.describe` is deprecated and will be removed in a future version of pandas. Specify `datetime_is_numeric=True` to silence this warning and adopt the future behavior now.\n",
      "  print(df[col].describe())\n"
     ]
    }
   ],
   "source": [
    "# Separate numeric and categorical columns\n",
    "numeric_cols = df.select_dtypes(include=['int64', 'float64']).columns\n",
    "categorical_cols = df.select_dtypes(\n",
    "    include=['object', 'bool', 'datetime64[ns]']).columns\n",
    "\n",
    "# Plot boxplots for numeric columns\n",
    "for col in numeric_cols:\n",
    "    plt.figure(figsize=(8, 6))\n",
    "    plt.title(f'Boxplot of {col}')\n",
    "    sns.boxplot(x=df[col])\n",
    "    plt.show()\n",
    "\n",
    "# Print basic statistics for categorical columns\n",
    "print(\"\\nBasic Statistics for Categorical Columns:\")\n",
    "for col in categorical_cols:\n",
    "    print(f'\\nColumn: {col}')\n",
    "    print(df[col].describe())"
   ]
  },
  {
   "cell_type": "code",
   "execution_count": 16,
   "id": "2f9afe4c-fb4a-4cf0-84f9-e3d189fb4d43",
   "metadata": {},
   "outputs": [],
   "source": [
    "df.to_csv('./data/processed/processed_data.csv', index=False)"
   ]
  }
 ],
 "metadata": {
  "kernelspec": {
   "display_name": "Python 3 (ipykernel)",
   "language": "python",
   "name": "python3"
  },
  "language_info": {
   "codemirror_mode": {
    "name": "ipython",
    "version": 3
   },
   "file_extension": ".py",
   "mimetype": "text/x-python",
   "name": "python",
   "nbconvert_exporter": "python",
   "pygments_lexer": "ipython3",
   "version": "3.10.8"
  },
  "vscode": {
   "interpreter": {
    "hash": "230eced423d2f0c873d70f568fb3b91d4d0a92783dea9e5e343fd82907c96f27"
   }
  }
 },
 "nbformat": 4,
 "nbformat_minor": 5
}
