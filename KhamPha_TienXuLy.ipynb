{
 "cells": [
  {
   "cell_type": "markdown",
   "id": "62050c72",
   "metadata": {},
   "source": [
    "<div style=\"border:2px solid black; padding:10px;\">\n",
    "    <h3>Nhóm 15</h3>\n",
    "    <h1 style='color:red;text-align:center;font-size:30px'>Chủ đề: Phân tích về doanh thu phim<b></b></h1>\n",
    "</div>\n"
   ]
  },
  {
   "cell_type": "markdown",
   "id": "eede0177",
   "metadata": {},
   "source": [
    "<h3>Danh sách thành viên</h3>\n",
    "<li> Nguyễn Quốc Hưng - 21120464 </li>\n",
    "<li> Đoàn Đức Hữu - 21120465 </li>\n",
    "<li> Võ Minh Khuê - 21120486</li>\n",
    "<li> Hồ Trọng Lễ - 21120494</li>\n"
   ]
  },
  {
   "cell_type": "markdown",
   "id": "fadad046",
   "metadata": {},
   "source": [
    "<h1 style='color:blue;text-align:center;font-size:30px'><b>Phần I - B. Khám phá - Tiền xử xử lý dữ liệu </b></h1>\n"
   ]
  },
  {
   "cell_type": "markdown",
   "id": "d9aeff06",
   "metadata": {},
   "source": [
    "# Import thư viện\n"
   ]
  },
  {
   "cell_type": "code",
   "execution_count": 1,
   "id": "bb276657",
   "metadata": {},
   "outputs": [],
   "source": [
    "%matplotlib inline\n",
    "import matplotlib.pyplot as plt\n",
    "import numpy as np\n",
    "import pandas as pd \n",
    "import seaborn as sns\n",
    "\n",
    "import os\n",
    "import re\n",
    "import statistics\n",
    "import seaborn as sns\n",
    "sns.set(rc={'axes.facecolor':'lightblue', 'figure.facecolor':'lightgray'})"
   ]
  },
  {
   "cell_type": "code",
   "execution_count": 2,
   "id": "2af86d9c",
   "metadata": {},
   "outputs": [
    {
     "data": {
      "text/plain": [
       "'/home/khuevo098/miniconda3/envs/min_ds-env/bin/python'"
      ]
     },
     "execution_count": 2,
     "metadata": {},
     "output_type": "execute_result"
    }
   ],
   "source": [
    "import sys\n",
    "sys.executable"
   ]
  },
  {
   "cell_type": "markdown",
   "id": "79b3a572",
   "metadata": {},
   "source": [
    "### Đọc file 'boxoffice_1990_2022.csv' vào dataframe df\n"
   ]
  },
  {
   "cell_type": "code",
   "execution_count": 3,
   "id": "09468941",
   "metadata": {},
   "outputs": [
    {
     "ename": "ParserError",
     "evalue": "Error tokenizing data. C error: Expected 11 fields in line 10960, saw 12\n",
     "output_type": "error",
     "traceback": [
      "\u001b[0;31m---------------------------------------------------------------------------\u001b[0m",
      "\u001b[0;31mParserError\u001b[0m                               Traceback (most recent call last)",
      "Cell \u001b[0;32mIn[3], line 1\u001b[0m\n\u001b[0;32m----> 1\u001b[0m df \u001b[38;5;241m=\u001b[39m \u001b[43mpd\u001b[49m\u001b[38;5;241;43m.\u001b[39;49m\u001b[43mread_csv\u001b[49m\u001b[43m(\u001b[49m\n\u001b[1;32m      2\u001b[0m \u001b[43m    \u001b[49m\u001b[38;5;124;43m'\u001b[39;49m\u001b[38;5;124;43m./boxoffice_crawler/boxoffice_crawler/boxoffice_1990_2022.csv\u001b[39;49m\u001b[38;5;124;43m'\u001b[39;49m\u001b[43m,\u001b[49m\u001b[43m \u001b[49m\u001b[43mencoding\u001b[49m\u001b[38;5;241;43m=\u001b[39;49m\u001b[38;5;124;43m'\u001b[39;49m\u001b[38;5;124;43mlatin1\u001b[39;49m\u001b[38;5;124;43m'\u001b[39;49m\u001b[43m)\u001b[49m\n\u001b[1;32m      3\u001b[0m df\u001b[38;5;241m.\u001b[39mhead(\u001b[38;5;241m5\u001b[39m)\n",
      "File \u001b[0;32m~/miniconda3/envs/min_ds-env/lib/python3.10/site-packages/pandas/util/_decorators.py:211\u001b[0m, in \u001b[0;36mdeprecate_kwarg.<locals>._deprecate_kwarg.<locals>.wrapper\u001b[0;34m(*args, **kwargs)\u001b[0m\n\u001b[1;32m    209\u001b[0m     \u001b[38;5;28;01melse\u001b[39;00m:\n\u001b[1;32m    210\u001b[0m         kwargs[new_arg_name] \u001b[38;5;241m=\u001b[39m new_arg_value\n\u001b[0;32m--> 211\u001b[0m \u001b[38;5;28;01mreturn\u001b[39;00m \u001b[43mfunc\u001b[49m\u001b[43m(\u001b[49m\u001b[38;5;241;43m*\u001b[39;49m\u001b[43margs\u001b[49m\u001b[43m,\u001b[49m\u001b[43m \u001b[49m\u001b[38;5;241;43m*\u001b[39;49m\u001b[38;5;241;43m*\u001b[39;49m\u001b[43mkwargs\u001b[49m\u001b[43m)\u001b[49m\n",
      "File \u001b[0;32m~/miniconda3/envs/min_ds-env/lib/python3.10/site-packages/pandas/util/_decorators.py:331\u001b[0m, in \u001b[0;36mdeprecate_nonkeyword_arguments.<locals>.decorate.<locals>.wrapper\u001b[0;34m(*args, **kwargs)\u001b[0m\n\u001b[1;32m    325\u001b[0m \u001b[38;5;28;01mif\u001b[39;00m \u001b[38;5;28mlen\u001b[39m(args) \u001b[38;5;241m>\u001b[39m num_allow_args:\n\u001b[1;32m    326\u001b[0m     warnings\u001b[38;5;241m.\u001b[39mwarn(\n\u001b[1;32m    327\u001b[0m         msg\u001b[38;5;241m.\u001b[39mformat(arguments\u001b[38;5;241m=\u001b[39m_format_argument_list(allow_args)),\n\u001b[1;32m    328\u001b[0m         \u001b[38;5;167;01mFutureWarning\u001b[39;00m,\n\u001b[1;32m    329\u001b[0m         stacklevel\u001b[38;5;241m=\u001b[39mfind_stack_level(),\n\u001b[1;32m    330\u001b[0m     )\n\u001b[0;32m--> 331\u001b[0m \u001b[38;5;28;01mreturn\u001b[39;00m \u001b[43mfunc\u001b[49m\u001b[43m(\u001b[49m\u001b[38;5;241;43m*\u001b[39;49m\u001b[43margs\u001b[49m\u001b[43m,\u001b[49m\u001b[43m \u001b[49m\u001b[38;5;241;43m*\u001b[39;49m\u001b[38;5;241;43m*\u001b[39;49m\u001b[43mkwargs\u001b[49m\u001b[43m)\u001b[49m\n",
      "File \u001b[0;32m~/miniconda3/envs/min_ds-env/lib/python3.10/site-packages/pandas/io/parsers/readers.py:950\u001b[0m, in \u001b[0;36mread_csv\u001b[0;34m(filepath_or_buffer, sep, delimiter, header, names, index_col, usecols, squeeze, prefix, mangle_dupe_cols, dtype, engine, converters, true_values, false_values, skipinitialspace, skiprows, skipfooter, nrows, na_values, keep_default_na, na_filter, verbose, skip_blank_lines, parse_dates, infer_datetime_format, keep_date_col, date_parser, dayfirst, cache_dates, iterator, chunksize, compression, thousands, decimal, lineterminator, quotechar, quoting, doublequote, escapechar, comment, encoding, encoding_errors, dialect, error_bad_lines, warn_bad_lines, on_bad_lines, delim_whitespace, low_memory, memory_map, float_precision, storage_options)\u001b[0m\n\u001b[1;32m    935\u001b[0m kwds_defaults \u001b[38;5;241m=\u001b[39m _refine_defaults_read(\n\u001b[1;32m    936\u001b[0m     dialect,\n\u001b[1;32m    937\u001b[0m     delimiter,\n\u001b[0;32m   (...)\u001b[0m\n\u001b[1;32m    946\u001b[0m     defaults\u001b[38;5;241m=\u001b[39m{\u001b[38;5;124m\"\u001b[39m\u001b[38;5;124mdelimiter\u001b[39m\u001b[38;5;124m\"\u001b[39m: \u001b[38;5;124m\"\u001b[39m\u001b[38;5;124m,\u001b[39m\u001b[38;5;124m\"\u001b[39m},\n\u001b[1;32m    947\u001b[0m )\n\u001b[1;32m    948\u001b[0m kwds\u001b[38;5;241m.\u001b[39mupdate(kwds_defaults)\n\u001b[0;32m--> 950\u001b[0m \u001b[38;5;28;01mreturn\u001b[39;00m \u001b[43m_read\u001b[49m\u001b[43m(\u001b[49m\u001b[43mfilepath_or_buffer\u001b[49m\u001b[43m,\u001b[49m\u001b[43m \u001b[49m\u001b[43mkwds\u001b[49m\u001b[43m)\u001b[49m\n",
      "File \u001b[0;32m~/miniconda3/envs/min_ds-env/lib/python3.10/site-packages/pandas/io/parsers/readers.py:611\u001b[0m, in \u001b[0;36m_read\u001b[0;34m(filepath_or_buffer, kwds)\u001b[0m\n\u001b[1;32m    608\u001b[0m     \u001b[38;5;28;01mreturn\u001b[39;00m parser\n\u001b[1;32m    610\u001b[0m \u001b[38;5;28;01mwith\u001b[39;00m parser:\n\u001b[0;32m--> 611\u001b[0m     \u001b[38;5;28;01mreturn\u001b[39;00m \u001b[43mparser\u001b[49m\u001b[38;5;241;43m.\u001b[39;49m\u001b[43mread\u001b[49m\u001b[43m(\u001b[49m\u001b[43mnrows\u001b[49m\u001b[43m)\u001b[49m\n",
      "File \u001b[0;32m~/miniconda3/envs/min_ds-env/lib/python3.10/site-packages/pandas/io/parsers/readers.py:1778\u001b[0m, in \u001b[0;36mTextFileReader.read\u001b[0;34m(self, nrows)\u001b[0m\n\u001b[1;32m   1771\u001b[0m nrows \u001b[38;5;241m=\u001b[39m validate_integer(\u001b[38;5;124m\"\u001b[39m\u001b[38;5;124mnrows\u001b[39m\u001b[38;5;124m\"\u001b[39m, nrows)\n\u001b[1;32m   1772\u001b[0m \u001b[38;5;28;01mtry\u001b[39;00m:\n\u001b[1;32m   1773\u001b[0m     \u001b[38;5;66;03m# error: \"ParserBase\" has no attribute \"read\"\u001b[39;00m\n\u001b[1;32m   1774\u001b[0m     (\n\u001b[1;32m   1775\u001b[0m         index,\n\u001b[1;32m   1776\u001b[0m         columns,\n\u001b[1;32m   1777\u001b[0m         col_dict,\n\u001b[0;32m-> 1778\u001b[0m     ) \u001b[38;5;241m=\u001b[39m \u001b[38;5;28;43mself\u001b[39;49m\u001b[38;5;241;43m.\u001b[39;49m\u001b[43m_engine\u001b[49m\u001b[38;5;241;43m.\u001b[39;49m\u001b[43mread\u001b[49m\u001b[43m(\u001b[49m\u001b[43m  \u001b[49m\u001b[38;5;66;43;03m# type: ignore[attr-defined]\u001b[39;49;00m\n\u001b[1;32m   1779\u001b[0m \u001b[43m        \u001b[49m\u001b[43mnrows\u001b[49m\n\u001b[1;32m   1780\u001b[0m \u001b[43m    \u001b[49m\u001b[43m)\u001b[49m\n\u001b[1;32m   1781\u001b[0m \u001b[38;5;28;01mexcept\u001b[39;00m \u001b[38;5;167;01mException\u001b[39;00m:\n\u001b[1;32m   1782\u001b[0m     \u001b[38;5;28mself\u001b[39m\u001b[38;5;241m.\u001b[39mclose()\n",
      "File \u001b[0;32m~/miniconda3/envs/min_ds-env/lib/python3.10/site-packages/pandas/io/parsers/c_parser_wrapper.py:230\u001b[0m, in \u001b[0;36mCParserWrapper.read\u001b[0;34m(self, nrows)\u001b[0m\n\u001b[1;32m    228\u001b[0m \u001b[38;5;28;01mtry\u001b[39;00m:\n\u001b[1;32m    229\u001b[0m     \u001b[38;5;28;01mif\u001b[39;00m \u001b[38;5;28mself\u001b[39m\u001b[38;5;241m.\u001b[39mlow_memory:\n\u001b[0;32m--> 230\u001b[0m         chunks \u001b[38;5;241m=\u001b[39m \u001b[38;5;28;43mself\u001b[39;49m\u001b[38;5;241;43m.\u001b[39;49m\u001b[43m_reader\u001b[49m\u001b[38;5;241;43m.\u001b[39;49m\u001b[43mread_low_memory\u001b[49m\u001b[43m(\u001b[49m\u001b[43mnrows\u001b[49m\u001b[43m)\u001b[49m\n\u001b[1;32m    231\u001b[0m         \u001b[38;5;66;03m# destructive to chunks\u001b[39;00m\n\u001b[1;32m    232\u001b[0m         data \u001b[38;5;241m=\u001b[39m _concatenate_chunks(chunks)\n",
      "File \u001b[0;32m~/miniconda3/envs/min_ds-env/lib/python3.10/site-packages/pandas/_libs/parsers.pyx:808\u001b[0m, in \u001b[0;36mpandas._libs.parsers.TextReader.read_low_memory\u001b[0;34m()\u001b[0m\n",
      "File \u001b[0;32m~/miniconda3/envs/min_ds-env/lib/python3.10/site-packages/pandas/_libs/parsers.pyx:866\u001b[0m, in \u001b[0;36mpandas._libs.parsers.TextReader._read_rows\u001b[0;34m()\u001b[0m\n",
      "File \u001b[0;32m~/miniconda3/envs/min_ds-env/lib/python3.10/site-packages/pandas/_libs/parsers.pyx:852\u001b[0m, in \u001b[0;36mpandas._libs.parsers.TextReader._tokenize_rows\u001b[0;34m()\u001b[0m\n",
      "File \u001b[0;32m~/miniconda3/envs/min_ds-env/lib/python3.10/site-packages/pandas/_libs/parsers.pyx:1973\u001b[0m, in \u001b[0;36mpandas._libs.parsers.raise_parser_error\u001b[0;34m()\u001b[0m\n",
      "\u001b[0;31mParserError\u001b[0m: Error tokenizing data. C error: Expected 11 fields in line 10960, saw 12\n"
     ]
    }
   ],
   "source": [
    "df = pd.read_csv(\n",
    "    './boxoffice_crawler/boxoffice_crawler/boxoffice_1990_2022.csv', encoding='latin1')\n",
    "df.head(5)"
   ]
  },
  {
   "cell_type": "markdown",
   "id": "37cdb7ea",
   "metadata": {},
   "source": [
    "## Khám phá dữ liệu\n"
   ]
  },
  {
   "cell_type": "markdown",
   "id": "35fc847c",
   "metadata": {},
   "source": [
    "### Dữ liệu có bao nhiêu dòng và bao nhiêu cột?"
   ]
  },
  {
   "cell_type": "code",
   "execution_count": null,
   "id": "2390b124",
   "metadata": {},
   "outputs": [],
   "source": [
    "num_rows, num_cols = df.shape\n",
    "num_rows, num_cols"
   ]
  },
  {
   "cell_type": "markdown",
   "id": "8f5f8d98-03e2-4d3f-b64a-68e0c7145389",
   "metadata": {},
   "source": [
    "### Mỗi dòng có ý nghĩa gì? Có vấn đề các dòng có ý nghĩa khác nhau không?\n",
    "- Dựa vào kết quả trên, mỗi dòng thể hiện thông tin chi tiết của các phim trong khoảng thời gian từ năm 1980 đến năm 2022 được thu thập từ trang web Box Office Mojo.\n",
    "- Không có dòng nào có ý nghĩa khác so với các dòng còn lại."
   ]
  },
  {
   "cell_type": "markdown",
   "id": "a2521df9-2531-4711-8230-491f9dfa2d73",
   "metadata": {},
   "source": [
    "### Dữ liệu có dòng nào bị lặp không?"
   ]
  },
  {
   "cell_type": "code",
   "execution_count": null,
   "id": "3df755ef-ad31-4f48-80a7-1e30c6926fd3",
   "metadata": {},
   "outputs": [],
   "source": [
    "duplicated_rows = df[df.duplicated()]\n",
    "duplicated_nums = duplicated_rows.shape\n",
    "if duplicated_nums[0] > 0:\n",
    "    print(f'Có dữ liệu lặp: {duplicated_nums[0]} dòng')\n",
    "else:\n",
    "    print('Không có dữ liệu bị lặp')"
   ]
  },
  {
   "cell_type": "markdown",
   "id": "7253ff50-25ed-4050-b4f8-8f10be313560",
   "metadata": {},
   "source": [
    "Như kết quả trả về cho ta thấy, trong tập dữ liệu này có 487 dòng bị lặp. Vậy phải xử lý các dòng dữ liệu lặp: "
   ]
  },
  {
   "cell_type": "code",
   "execution_count": null,
   "id": "8a40c335-ac0f-41b1-b099-df9886fbc211",
   "metadata": {},
   "outputs": [],
   "source": [
    "df = df.drop_duplicates()\n",
    "\n",
    "duplicated_rows = df[df.duplicated()]\n",
    "duplicated_nums = duplicated_rows.shape\n",
    "if duplicated_nums[0] > 0:\n",
    "    print(f'Có dữ liệu lặp: {duplicated_nums[0]} dòng')\n",
    "else:\n",
    "    print('Không có dữ liệu bị lặp')"
   ]
  },
  {
   "cell_type": "markdown",
   "id": "19b65cfa",
   "metadata": {},
   "source": [
    "### Ý nghĩa của các cột\n"
   ]
  },
  {
   "cell_type": "code",
   "execution_count": null,
   "id": "e6bfed67",
   "metadata": {},
   "outputs": [],
   "source": [
    "schema_data = pd.read_csv(\n",
    "    \"./boxoffice_crawler/boxoffice_crawler/MovieRevenue_schema.csv\", encoding='utf-8')\n",
    "pd.set_option('max_colwidth', 400)\n",
    "schema_data\n"
   ]
  },
  {
   "cell_type": "markdown",
   "id": "08bbeacc",
   "metadata": {},
   "source": [
    "### Kiểu dữ liệu của các cột\n"
   ]
  },
  {
   "cell_type": "code",
   "execution_count": null,
   "id": "e443e05b",
   "metadata": {},
   "outputs": [],
   "source": [
    "df.info()"
   ]
  },
  {
   "cell_type": "markdown",
   "id": "b7bb20b8",
   "metadata": {},
   "source": [
    "## Tiền xử lý\n",
    "\n",
    "1. **Chuyển đổi các cột chứa số thành kiểu dữ liệu số**: Các cột như `domestic_revenue`, `world_revenue`, `opening_revenue`, `opening_theaters`, `budget`, và `in_release` đều chứa dữ liệu số, nhưng hiện đang được lưu trữ dưới dạng object. Chúng ta sẽ loại bỏ các ký tự không phải số (như dấu `$` và dấu phẩy) và chuyển đổi các cột này thành kiểu dữ liệu số.\n",
    "\n",
    "2. **Chuyển đổi cột `release_date` thành kiểu dữ liệu datetime**: Điều này sẽ hữu ích cho việc phân tích sau này.\n"
   ]
  },
  {
   "cell_type": "code",
   "execution_count": null,
   "id": "f5ebd277",
   "metadata": {},
   "outputs": [],
   "source": [
    "# Remove $ and , in the revenue and budget columns\n",
    "for col in ['domestic_revenue', 'world_revenue', 'opening_revenue', 'budget']:\n",
    "    df[col] = df[col].replace({'\\$': '', ',': ''}, regex=True)\n",
    "\n",
    "# Convert columns to numeric type\n",
    "for col in ['domestic_revenue', 'world_revenue', 'opening_revenue', 'opening_theaters', 'budget', 'in_release']:\n",
    "    df[col] = pd.to_numeric(df[col], errors='coerce')\n",
    "\n",
    "# Convert release_date to datetime\n",
    "df['release_date'] = pd.to_datetime(df['release_date'], format='%d/%m/%Y')"
   ]
  },
  {
   "cell_type": "code",
   "execution_count": null,
   "id": "ffea5cb8",
   "metadata": {},
   "outputs": [],
   "source": [
    "df.head(5)"
   ]
  },
  {
   "cell_type": "markdown",
   "id": "e1c40fea",
   "metadata": {},
   "source": [
    "### Với mỗi cột có dữ liệu dạng số, các giá trị được phân bố như thế nào?\n"
   ]
  },
  {
   "cell_type": "markdown",
   "id": "d2631232",
   "metadata": {},
   "source": [
    "Với các cột có kiểu dữ liệu số, ta cần tính:\n",
    "\n",
    "- Tỉ lệ % (từ 0 đến 100) các giá trị thiếu\n",
    "- Giá trị min\n",
    "- Giá trị lower quartile (phân vị 25)\n",
    "- Giá trị median (phân vị 50)\n",
    "- Giá trị upper quartile (phân vị 75)\n",
    "- Giá trị max\n",
    "\n",
    "Sau đó lưu kết quả vào DataFrame `num_col_info_df`, trong đó:\n",
    "\n",
    "- Tên của các cột là tên của các cột số trong `df`\n",
    "- Tên của các dòng là: \"missing_ratio\", \"min\", \"lower_quartile\", \"median\", \"upper_quartile\", \"max\"\n",
    "\n",
    "Để dễ nhìn, tất cả các giá trị bạn đều làm tròn với 1 chữ số thập phân bằng phương thức `.round(1)`.\n"
   ]
  },
  {
   "cell_type": "code",
   "execution_count": null,
   "id": "9428ea92",
   "metadata": {},
   "outputs": [],
   "source": [
    "# Get numeric columns\n",
    "numeric_cols = df.select_dtypes(include=np.number).columns.tolist()\n",
    "\n",
    "# Calculate statistics\n",
    "missing_ratio = df[numeric_cols].isnull().mean() * 100\n",
    "min_values = df[numeric_cols].min()\n",
    "lower_quartile = df[numeric_cols].quantile(0.25)\n",
    "median = df[numeric_cols].median()\n",
    "upper_quartile = df[numeric_cols].quantile(0.75)\n",
    "max_values = df[numeric_cols].max()\n",
    "\n",
    "# Create DataFrame\n",
    "num_col_info_df = pd.DataFrame({\n",
    "    'missing_ratio': missing_ratio,\n",
    "    'min': min_values,\n",
    "    'lower_quartile': lower_quartile,\n",
    "    'median': median,\n",
    "    'upper_quartile': upper_quartile,\n",
    "    'max': max_values\n",
    "})\n",
    "\n",
    "# Round to 1 decimal place\n",
    "num_col_info_df = num_col_info_df.round(2)\n",
    "pd.options.display.float_format = '{:10,.2f}'.format\n",
    "num_col_info_df.T"
   ]
  },
  {
   "cell_type": "markdown",
   "id": "05beadcb-27b1-47a9-a65b-a5a0b058293b",
   "metadata": {},
   "source": [
    "### Với mỗi cột có dữ liệu không phải dạng số, các giá trị được phân bố như thế nào?"
   ]
  },
  {
   "cell_type": "markdown",
   "id": "318d5842",
   "metadata": {},
   "source": [
    "Với các cột \"title\",\"distributor\",\"MPAA\",\"genres\" ta cần tính:\n",
    "\n",
    "- Tỉ lệ % (từ 0 đến 100) các giá trị thiếu\n",
    "- Số lượng các giá trị (các giá trị ở đây là các giá trị khác nhau và ta không xét giá trị thiếu): với cột mà ứng với câu hỏi dạng multichoice (ví dụ, cột \"genres\"), mỗi giá trị có thể chứa nhiều choice (các choice được phân tách bởi dấu phẩy)\n",
    "- Tỉ lệ % (từ 0 đến 100) của mỗi giá trị được sort theo tỉ lệ % giảm dần (ta không xét giá trị thiếu, tỉ lệ là tỉ lệ so với số lượng các giá trị không thiếu)\n",
    "\n",
    "Lưu kết quả vào DataFrame `cat_col_info_df`, trong đó:\n",
    "\n",
    "- Tên của các cột là tên của các cột không phải số trong `survey_df`\n",
    "- Tên của các dòng là: \"missing_ratio\", \"num_values\", \"value_ratios\"\n",
    "\n",
    "Để dễ nhìn, tất cả các giá trị bạn đều làm tròn với 1 chữ số thập phân bằng phương thức `.round(1)`.\n"
   ]
  },
  {
   "cell_type": "code",
   "execution_count": null,
   "id": "3d45cbfa",
   "metadata": {},
   "outputs": [],
   "source": [
    "# Define categorical columns\n",
    "cat_cols = [\"title\", \"distributor\", \"MPAA\", \"genres\"]\n",
    "\n",
    "# Initialize DataFrame to store results\n",
    "cat_col_info_df = pd.DataFrame(\n",
    "    index=[\"missing_ratio\", \"num_values\", \"value_ratios\"], columns=cat_cols)\n",
    "\n",
    "for col in cat_cols:\n",
    "    # Calculate missing ratio\n",
    "    missing_ratio = df[col].isnull().mean() * 100\n",
    "\n",
    "    # Calculate number of unique values\n",
    "    # Split values by comma and flatten the list\n",
    "    values = [val for sublist in df[col].dropna().str.split(',').tolist()\n",
    "              for val in sublist]\n",
    "    num_values = len(set(values))\n",
    "\n",
    "    # Calculate value ratios\n",
    "    value_counts = pd.Series(values).value_counts(normalize=True) * 100\n",
    "    value_ratios = value_counts.sort_values(ascending=False).to_dict()\n",
    "\n",
    "    # Store results\n",
    "    cat_col_info_df.at[\"missing_ratio\", col] = missing_ratio\n",
    "    cat_col_info_df.at[\"num_values\", col] = num_values\n",
    "    cat_col_info_df.at[\"value_ratios\", col] = value_ratios\n",
    "\n",
    "# Round to 1 decimal place\n",
    "cat_col_info_df = cat_col_info_df.applymap(\n",
    "    lambda x: round(x, 1) if isinstance(x, (int, float)) else x)\n",
    "\n",
    "cat_col_info_df"
   ]
  },
  {
   "cell_type": "markdown",
   "id": "e0410b00",
   "metadata": {},
   "source": [
    "### Xử lý dữ liệu bị thiếu\n"
   ]
  },
  {
   "cell_type": "markdown",
   "id": "9cc6de1e",
   "metadata": {},
   "source": [
    "- Tỷ lệ thiếu dữ liệu của từng cột\n"
   ]
  },
  {
   "cell_type": "code",
   "execution_count": null,
   "id": "755bfd77",
   "metadata": {},
   "outputs": [],
   "source": [
    "df.agg(lambda x: x.isna().mean()*100).sort_values(ascending=False)"
   ]
  },
  {
   "cell_type": "code",
   "execution_count": null,
   "id": "5db54f2b",
   "metadata": {},
   "outputs": [],
   "source": [
    "# Drop the 'opening_theaters' and 'budget' columns\n",
    "df = df.drop(['opening_theaters', 'budget'], axis=1)\n",
    "\n",
    "# Drop rows with missing values\n",
    "df = df.dropna()\n",
    "\n",
    "df.agg(lambda x: x.isna().mean()*100).sort_values(ascending=False)\n",
    "df.info()\n",
    "df.shape"
   ]
  },
  {
   "cell_type": "markdown",
   "id": "b583f900",
   "metadata": {},
   "source": [
    "## Trực quan hóa và thống kê dữ liệu\n"
   ]
  },
  {
   "cell_type": "code",
   "execution_count": null,
   "id": "5a2d2d0b",
   "metadata": {},
   "outputs": [],
   "source": [
    "# Separate numeric and categorical columns\n",
    "numeric_cols = df.select_dtypes(include=['int64', 'float64']).columns\n",
    "categorical_cols = df.select_dtypes(\n",
    "    include=['object', 'bool', 'datetime64[ns]']).columns\n",
    "\n",
    "# Plot boxplots for numeric columns\n",
    "for col in numeric_cols:\n",
    "    plt.figure(figsize=(8, 6))\n",
    "    plt.title(f'Boxplot of {col}')\n",
    "    sns.boxplot(x=df[col])\n",
    "    plt.show()\n",
    "\n",
    "# Print basic statistics for categorical columns\n",
    "print(\"\\nBasic Statistics for Categorical Columns:\")\n",
    "for col in categorical_cols:\n",
    "    print(f'\\nColumn: {col}')\n",
    "    print(df[col].describe())"
   ]
  },
  {
   "cell_type": "code",
   "execution_count": null,
   "id": "2f9afe4c-fb4a-4cf0-84f9-e3d189fb4d43",
   "metadata": {},
   "outputs": [],
   "source": [
    "df.to_csv('./data/processed/processed_data.csv', index=False)"
   ]
  }
 ],
 "metadata": {
  "kernelspec": {
   "display_name": "Python 3 (ipykernel)",
   "language": "python",
   "name": "python3"
  },
  "language_info": {
   "codemirror_mode": {
    "name": "ipython",
    "version": 3
   },
   "file_extension": ".py",
   "mimetype": "text/x-python",
   "name": "python",
   "nbconvert_exporter": "python",
   "pygments_lexer": "ipython3",
   "version": "3.10.8"
  },
  "vscode": {
   "interpreter": {
    "hash": "230eced423d2f0c873d70f568fb3b91d4d0a92783dea9e5e343fd82907c96f27"
   }
  }
 },
 "nbformat": 4,
 "nbformat_minor": 5
}
