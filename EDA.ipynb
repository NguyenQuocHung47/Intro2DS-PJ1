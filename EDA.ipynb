{
 "cells": [
  {
   "cell_type": "markdown",
   "id": "71580d4c-5661-4752-a768-a4c852cd6ff2",
   "metadata": {},
   "source": [
    "## Import thư viện"
   ]
  },
  {
   "cell_type": "code",
   "execution_count": null,
   "id": "24e0c6a1-10c9-48f3-926d-6cf95ac5b10b",
   "metadata": {},
   "outputs": [],
   "source": [
    "import os\n",
    "import sys\n",
    "\n",
    "module_path = os.path.abspath(os.path.join('..'))\n",
    "if module_path not in sys.path:\n",
    "    sys.path.append(module_path)\n",
    "    \n",
    "import warnings\n",
    "warnings.filterwarnings('ignore')\n",
    "\n",
    "import numpy as np\n",
    "import pandas as pd\n",
    "import matplotlib.pyplot as plt\n",
    "%matplotlib inline\n",
    "\n",
    "# YOUR CODE HERE (OPTION) \n",
    "# If you need other libraries, you can import them here\n",
    "import seaborn as sns\n",
    "from itertools import chain\n",
    "from collections import Counter\n",
    "\n",
    "import plotly.graph_objs as go\n",
    "import plotly.offline as py\n",
    "import plotly.express as px\n",
    "pd.options.display.float_format = '{:10,.2f}'.format\n",
    "plt.rcParams.update({'font.size': 12})"
   ]
  },
  {
   "cell_type": "markdown",
   "id": "23651dd9-62e5-4566-b57c-eaccc7813809",
   "metadata": {},
   "source": [
    "## Khám phá dữ liệu"
   ]
  },
  {
   "cell_type": "markdown",
   "id": "8927636e-b676-4998-bfad-dedceb69e56b",
   "metadata": {},
   "source": [
    "### Đọc dữ liệu đã xử lý ở bước Tiền xử lý"
   ]
  },
  {
   "cell_type": "code",
   "execution_count": null,
   "id": "303c3290-8e54-4de3-abf0-ccc1a295a8e3",
   "metadata": {},
   "outputs": [],
   "source": [
    "movies_df = pd.read_csv('./data/processed/processed_data.csv')\n",
    "movies_df.head(5)"
   ]
  },
  {
   "cell_type": "code",
   "execution_count": null,
   "id": "f096e981-c62a-485c-9c16-e91386c9b251",
   "metadata": {},
   "outputs": [],
   "source": [
    "movies_df.shape"
   ]
  },
  {
   "cell_type": "code",
   "execution_count": null,
   "id": "e58c7ee9-12dd-4656-a472-81c1d97e9e40",
   "metadata": {},
   "outputs": [],
   "source": [
    "movies_df.info()"
   ]
  },
  {
   "cell_type": "code",
   "execution_count": null,
   "id": "804275fc-61a8-498b-b7a6-ad2597ef6ce0",
   "metadata": {},
   "outputs": [],
   "source": [
    "movies_df['release_date'] = pd.to_datetime(movies_df['release_date'])\n",
    "movies_df.info()"
   ]
  },
  {
   "cell_type": "markdown",
   "id": "910f47f0-74c5-49aa-ab73-5b15683f3116",
   "metadata": {},
   "source": [
    "### Phân tích dữ liệu số bằng cách sử dụng thống kê mô tả"
   ]
  },
  {
   "cell_type": "code",
   "execution_count": null,
   "id": "f23ae957-6608-44c0-b8b2-2c49e1cc357c",
   "metadata": {},
   "outputs": [],
   "source": [
    "numeric_cols = movies_df.select_dtypes(include=np.number).columns.tolist()\n",
    "df_copy = movies_df[numeric_cols]\n",
    "\n",
    "def lower_quartile(series):\n",
    "    return series.quantile(0.25)\n",
    "    \n",
    "def upper_quartile(series):\n",
    "    return series.quantile(0.75)\n",
    "\n",
    "def variance(series):\n",
    "    return series.var()\n",
    "\n",
    "def standard_deviation(series):\n",
    "    return series.std()\n",
    "    \n",
    "def coefficient_of_variation(series):\n",
    "    return (series.std()/series.mean())\n",
    "    \n",
    "def covariance(df: pd.DataFrame):\n",
    "    return df.cov()\n",
    "    \n",
    "def correlation(df: pd.DataFrame):\n",
    "    return df.corr()\n",
    "\n",
    "column_statistics = df_copy.agg(['mean','min','max', lower_quartile, 'median', upper_quartile, variance, standard_deviation, coefficient_of_variation])\n",
    "column_statistics"
   ]
  },
  {
   "cell_type": "markdown",
   "id": "805fa25b-ba26-4cde-9a1e-977fca5955a0",
   "metadata": {},
   "source": [
    "### Sự tương quan và mỗi liên hệ giữa các biến"
   ]
  },
  {
   "cell_type": "code",
   "execution_count": null,
   "id": "a3873a6a-87cf-4555-a5df-8dcf53c3b85d",
   "metadata": {},
   "outputs": [],
   "source": [
    "df_copy\n",
    "corr_matrix = df_copy.corr().round(1)\n",
    "corr_matrix"
   ]
  },
  {
   "cell_type": "code",
   "execution_count": null,
   "id": "df062e35-d0ac-4e4f-aac3-d8288695505a",
   "metadata": {},
   "outputs": [],
   "source": [
    "plt.imshow(corr_matrix, cmap='coolwarm', interpolation='nearest')\n",
    "plt.colorbar()\n",
    "plt.xticks(np.arange(len(corr_matrix.columns)), corr_matrix.columns, rotation=90)\n",
    "plt.yticks(np.arange(len(corr_matrix.index)), corr_matrix.index)\n",
    "\n",
    "plt.show()"
   ]
  },
  {
   "cell_type": "markdown",
   "id": "54f9c82e-970e-42c6-b61d-29317daa0155",
   "metadata": {},
   "source": [
    "## Đặt câu hỏi"
   ]
  },
  {
   "cell_type": "markdown",
   "id": "1c7e0ef5-8bb4-4fdf-8b03-e97d7d93a091",
   "metadata": {},
   "source": [
    "#### Câu 1: Phân tích mối tương quan giữa các thể loại và tổng doanh thu của các phim từ năm 1990 đến 2022. Xu hướng phát triển của ngành công nghiệp điện ảnh thay đổi như thế nào? Liệu những thể loại phim được sản xuất nhiều có mang lại doanh thu lớn?\n",
    "- Ý nghĩa khi trả lời câu hỏi:\n",
    "  - Có thể biết được xu hướng và sự phát triển của các thể loại phim trong ngành công nghiệp điện ảnh. Hiểu được thể loại nào là thể loại ưa chuộng của người xem thông qua số lượng thể loại được sản xuất từng khoảng thời gian.\n",
    "  - Biết được thể loại nào mang lại doanh thu cao nhất từ trước đến nay. "
   ]
  },
  {
   "cell_type": "code",
   "execution_count": null,
   "id": "9c137c6d-dea0-405e-b424-69d3efc7633b",
   "metadata": {},
   "outputs": [],
   "source": [
    "components = movies_df['genres'].str.split(',').tolist() \n",
    "temp_list = list(chain.from_iterable(components)) \n",
    "genres_counter = Counter(temp_list)\n",
    "genres_dict = dict(genres_counter)\n",
    "genres_dict.keys()"
   ]
  },
  {
   "cell_type": "code",
   "execution_count": null,
   "id": "85d1b81a-ea6a-4bae-be6f-6d416127258b",
   "metadata": {},
   "outputs": [],
   "source": [
    "plt.figure(figsize = (7, 7))\n",
    "wc = WordCloud(background_color=\"white\",width=1000,height=1000, max_words=len(genres_dict),relative_scaling=0.5,normalize_plurals=False).generate_from_frequencies(genres_dict)\n",
    "plt.imshow(wc)\n",
    "plt.title('Top genres')\n",
    "plt.axis(\"off\")\n",
    "plt.show()"
   ]
  },
  {
   "cell_type": "code",
   "execution_count": null,
   "id": "9347ce6f-838a-4ac8-8180-d3c41c569bc8",
   "metadata": {},
   "outputs": [],
   "source": [
    "fig =plt.subplots(figsize=(25,10))\n",
    "\n",
    "genres_dict = dict(sorted(genres_dict.items(), key=lambda item: item[1], reverse=True))\n",
    "genre=list(genres_dict.keys())\n",
    "num_film=list(genres_dict.values())\n",
    "\n",
    "# Vẽ bar plot\n",
    "plt.bar(genre, num_film)\n",
    "\n",
    "# Thêm tiêu đề và nhãn cho trục x, y\n",
    "\n",
    "plt.xlabel('Categories')\n",
    "plt.ylabel('Values')\n",
    "\n",
    "# Hiển thị biểu đồ\n",
    "plt.show()"
   ]
  },
  {
   "cell_type": "code",
   "execution_count": null,
   "id": "830110e2-0372-4f3c-975e-448e2ce9b7e8",
   "metadata": {},
   "outputs": [],
   "source": [
    "# Tạo cột 'release_year_bin' để phân loại năm vào các khoảng 4 năm\n",
    "year_ranges = ['1990-1994','1994-1998','1998-2002','2002-2006','2006-2010','2010-2014','2014-2018','2018-2022']\n",
    "x_positions = list(range(len(year_ranges)))\n",
    "\n",
    "df_copy = movies_df.copy()\n",
    "df_copy['release_date'] = pd.to_datetime(df_copy['release_date'])\n",
    "df_copy['release_year'] = df_copy['release_date'].dt.year\n",
    "df_copy['release_year_bin'] = pd.cut(df_copy['release_year'], bins=range(df_copy['release_year'].min(), df_copy['release_year'].max(), 4), labels=False)\n",
    "\n",
    "# Tạo các biến giả cho thể loại phim\n",
    "genres_dummies = df_copy['genres'].str.get_dummies(',')\n",
    "\n",
    "# Ghép các biến giả vào DataFrame\n",
    "df_copy = pd.concat([df_copy, genres_dummies], axis=1)\n",
    "\n",
    "# Gom nhóm và tính tổng số lượng mỗi thể loại trong từng khoảng thời gian\n",
    "grouped_data = df_copy.groupby('release_year_bin')[genres_dummies.columns].sum()\n",
    "\n",
    "fig =plt.subplots(figsize=(20,10))\n",
    "plt.plot(grouped_data)\n",
    "plt.xlabel('Năm')\n",
    "plt.ylabel('Khoảng thời gian')\n",
    "plt.xticks(x_positions,year_ranges)\n",
    "plt.title('Sự thay đổi của số lượng thể loại phim theo khoảng thời gian 4 năm')\n",
    "plt.legend(grouped_data.columns,title='Thể loại',loc='center left',bbox_to_anchor=(1.0,0.5))\n",
    "plt.show()"
   ]
  },
  {
   "cell_type": "markdown",
   "id": "6052da49-5f1a-4b02-a11f-6e8d547a5a51",
   "metadata": {},
   "source": [
    "Từ biểu đồ cột trên, ta thấy rằng:\n",
    "- Từ năm 1990 đến 2022, thể loại `Drama(Chính kịch)` là thể loại được nhiều nhà sản xuất phim quan tâm nhất. Theo sau là các thể loại `Hài kịch`, `Giật gân` và `Hành động`. Thật vậy, những thể loại trên mang tính giải trí cao nên việc được quan tâm và yêu thích là điều hiển nhiên!\n",
    "- Hơn nữa, xu hướng sản xuất phim mang thể loại `Chính kịch` vẫn luôn tăng theo từng năm, mặc dù ở số lượng phim được sản xuất giảm đi so với khoảng 1994-1998 nhưng thể loại này đang có xu hướng tăng lên lại trong tương lai.\n",
    "- Việc một thể loại phim phổ biến có thể phản ánh cả nhu cầu của thị trường. Qua đó một phần có thể xem `Chính kịch` là thể loại được ưa chuộng nhất."
   ]
  },
  {
   "cell_type": "markdown",
   "id": "0d23da77-1425-454e-8472-752167f42eeb",
   "metadata": {},
   "source": [
    "Tuy nhiên việc trực quan hóa trên chỉ cho ta biết được thể loại phim nào phổ biến nhất từ trước đến nay, chưa thể biết được thể loại nào đem lại doanh thu lớn nhất."
   ]
  },
  {
   "cell_type": "code",
   "execution_count": null,
   "id": "a041ada5-60a4-49f3-9c58-c67654e03cc3",
   "metadata": {},
   "outputs": [],
   "source": [
    "df_copy = movies_df.copy()\n",
    "df_encoded = df_copy['genres'].str.get_dummies(',')\n",
    "df_encoded.columns = [col + '_genres' for col in df_encoded.columns]\n",
    "temp_df = pd.concat([movies_df['world_revenue'],df_encoded],axis=1)\n",
    "\n",
    "genre_cols = [col for col in temp_df.columns if '_genres' in col]\n",
    "\n",
    "sum_list = []\n",
    "for col in genre_cols:\n",
    "    sum = temp_df.loc[temp_df[col] == 1, 'world_revenue'].sum()\n",
    "    sum_list.append(sum)\n",
    "result_df = pd.DataFrame({\"Genres\": genre_cols, \"Sum_Revenue\": sum_list})\n",
    "\n",
    "result_df = result_df.sort_values(by=['Sum_Revenue'],ascending=False)\n",
    "\n",
    "\n",
    "# Vẽ bar plot\n",
    "fig, ax = plt.subplots(figsize=(25, 10))\n",
    "result_df.plot(kind='bar',\n",
    "        x='Genres',\n",
    "        y='Sum_Revenue',\n",
    "        color='steelblue',\n",
    "        ax=ax,\n",
    "        legend=None,\n",
    "        fontsize=14)\n",
    "\n",
    "\n",
    "plt.xlabel('Thể loại',fontsize=14)\n",
    "plt.ylabel('Tổng doanh thu',fontsize=14)\n",
    "plt.xticks(rotation=45)\n",
    "plt.show()"
   ]
  },
  {
   "cell_type": "markdown",
   "id": "dd3eaa3f-6756-4c76-971e-0a5723cd0c08",
   "metadata": {},
   "source": [
    "Mặc dù thể loại `Phiêu lưu` không phải là thể loại được sản xuất nhiều nhất từ trước đến nay nhưng `Phiêu lưu` là thể loại mang lại doanh thu cao nhất trong tất cả các thể loại trên."
   ]
  },
  {
   "cell_type": "markdown",
   "id": "4ebb5cdf-7572-482d-8fd9-e2d9bb2acf06",
   "metadata": {},
   "source": [
    "Để hiểu rõ hơn về mối liên hệ giữa tổng doanh thu và số lượng thể loại trên mỗi phim, chúng ta cần phải thêm 1 cột đếm số lượng thể loại của mỗi phim:"
   ]
  },
  {
   "cell_type": "code",
   "execution_count": null,
   "id": "45ba56df-9ac1-4eaa-a4ec-c0df180b2e2e",
   "metadata": {},
   "outputs": [],
   "source": [
    "movies_df['genres_count'] = movies_df['genres'].apply(lambda x: len(x.split(',')) if pd.notna(x) else 0)\n",
    "movies_df.head(5)"
   ]
  },
  {
   "cell_type": "code",
   "execution_count": null,
   "id": "59957209-d64d-4c2c-8432-054eb47e3193",
   "metadata": {},
   "outputs": [],
   "source": [
    "sns.catplot(x='genres_count', y='world_revenue', data=movies_df)\n",
    "plt.title('Revenue for different number of genres in the film')"
   ]
  },
  {
   "cell_type": "markdown",
   "id": "6ac3e807-13c6-4459-8a81-415fd2d33988",
   "metadata": {},
   "source": [
    "Các phim có doanh thu cao chủ yếu có từ 3-5 thể loại"
   ]
  },
  {
   "cell_type": "markdown",
   "id": "2a056ca9-e59f-4a60-8457-80127c8a2f1f",
   "metadata": {},
   "source": [
    "#### **Kết luận:**\n",
    "\n",
    "- Thể loại được sản xuất và được yêu thích nhiều nhất: **Chính kịch**.\n",
    "- Top các thể loại yêu thích kế tiếp: **Phiêu lưu, Giật gân, Hài kịch, Hành động**.\n",
    "- Thể loại mang lại doanh thu lớn nhất: **Phiêu lưu**.\n",
    "- Để tạo nên một bộ phim mang lại doanh thu cao thì nên có tối thiểu từ 3 đến 6 thể loại trong nó."
   ]
  },
  {
   "cell_type": "markdown",
   "id": "2dba2799-4e80-44ae-86a4-a1dfdfbef59c",
   "metadata": {},
   "source": [
    "### Hãng phim"
   ]
  },
  {
   "cell_type": "markdown",
   "id": "cc0b6bb6-361d-4a6c-875f-40387bb8f8a1",
   "metadata": {},
   "source": [
    "distributor = movies_df['distributor'].value_counts().to_dict()\n",
    "distributor"
   ]
  },
  {
   "cell_type": "markdown",
   "id": "8999ac38-2fb9-49a7-9f43-52be22660dc3",
   "metadata": {},
   "source": [
    "### Phân loại phim"
   ]
  },
  {
   "cell_type": "markdown",
   "id": "a95560ec-a16b-42c5-9b8f-e435fbbfa994",
   "metadata": {},
   "source": [
    "mpaa = movies_df['MPAA'].value_counts().to_dict()\n",
    "mpaa"
   ]
  },
  {
   "cell_type": "markdown",
   "id": "78db84ef-c75d-4548-a782-602259c9ba98",
   "metadata": {},
   "source": [
    "plt.bar(range(len(mpaa)), list(mpaa.values()), align='center')\n",
    "plt.xticks(range(len(mpaa)), list(mpaa.keys()))\n",
    "\n",
    "plt.xlabel('Thể loại')\n",
    "plt.ylabel('Số lượng')\n",
    "plt.show()"
   ]
  },
  {
   "cell_type": "markdown",
   "id": "3bf4d121-9c4f-4b6b-a754-abf87aca6df3",
   "metadata": {},
   "source": [
    "### Ngày ra mắt"
   ]
  },
  {
   "cell_type": "markdown",
   "id": "084ece27-d684-4320-be2c-cfdd3a8eaabb",
   "metadata": {},
   "source": [
    "movies_df['release_date'] = pd.to_datetime(movies_df['release_date'], format='%Y-%m-%d')\n",
    "film_counts = movies_df['release_date'].dt.year.value_counts().sort_index()\n",
    "\n",
    "# Create a plot\n",
    "fig = px.line(x=film_counts.index, y=film_counts.values, \n",
    "              labels={'x': 'Năm', 'y': 'Số lượng'},\n",
    "              title='Số lượng phim hằng năm')\n",
    "\n",
    "fig.show()"
   ]
  },
  {
   "cell_type": "markdown",
   "id": "13fddf0c-6cc7-4df1-977f-d1e7136b5ec7",
   "metadata": {},
   "source": [
    "revenue_per_year = movies_df.groupby(movies_df['release_date'].dt.year)['world_revenue'].sum()\n",
    "data = [go.Scatter(x=film_counts.index, y=film_counts.values, name='film count'), go.Scatter(x=revenue_per_year.index, y=revenue_per_year.values, name='total revenue', yaxis='y2')]\n",
    "layout = go.Layout(dict(title = \"Số lượng phim và tổng doanh thu từng năm\",\n",
    "                  xaxis = dict(title = 'Năm'),\n",
    "                  yaxis = dict(title = 'Số lượng'),\n",
    "                  yaxis2=dict(title='Tổng doanh thu', overlaying='y', side='right')\n",
    "                  ),legend=dict(\n",
    "                orientation=\"v\"))\n",
    "py.iplot(dict(data=data, layout=layout))"
   ]
  },
  {
   "cell_type": "markdown",
   "id": "40e5ce8c-230d-4569-bb2e-52d72c6c1116",
   "metadata": {},
   "source": [
    "revenue_per_year_mean = movies_df.groupby(movies_df['release_date'].dt.year)['world_revenue'].mean()\n",
    "data = [go.Scatter(x=film_counts.index, y=film_counts.values, name='film count'), go.Scatter(x=revenue_per_year_mean.index, y=revenue_per_year_mean.values, name='total revenue', yaxis='y2')]\n",
    "layout = go.Layout(dict(title = \"Số lượng phim và trung bình doanh thu từng năm\",\n",
    "                  xaxis = dict(title = 'Năm'),\n",
    "                  yaxis = dict(title = 'Số lượng'),\n",
    "                  yaxis2=dict(title='Doanh thu trung bình', overlaying='y', side='right')\n",
    "                  ),legend=dict(\n",
    "                orientation=\"v\"))\n",
    "py.iplot(dict(data=data, layout=layout))"
   ]
  },
  {
   "cell_type": "markdown",
   "id": "7d4c7d7e-b885-4117-a989-9be84a0cc66f",
   "metadata": {},
   "source": [
    "plt.figure(figsize = (12, 12))\n",
    "movies_df['day_of_week'] = movies_df['release_date'].dt.day_name()\n",
    "day_order = ['Monday', 'Tuesday', 'Wednesday', 'Thursday', 'Friday', 'Saturday', 'Sunday']\n",
    "temp_df = movies_df[['world_revenue','day_of_week']]\n",
    "sns.catplot(x='day_of_week', y='world_revenue', data=temp_df,height=6,order=day_order);\n",
    "plt.title('Doanh thu dựa trên ngày trong tuần của ngày ra mắt');\n",
    "plt.xlabel('Các ngày trong tuần')\n",
    "plt.ylabel('Tổng doanh thu')\n",
    "plt.show()"
   ]
  },
  {
   "cell_type": "markdown",
   "id": "99a9ae68-857f-4062-90c2-517e31408a98",
   "metadata": {},
   "source": [
    "Dựa vào biểu đồ ta thấy rằng, các bộ phim ra mắt vào thứ Sáu có xu hướng có doanh thu cao hơn so với ra mắt trong các ngày còn lại."
   ]
  },
  {
   "cell_type": "markdown",
   "id": "b13787ca-3ec5-42ba-9e55-aa2c728a71ad",
   "metadata": {},
   "source": [
    "plt.figure(figsize=(20, 6))\n",
    "plt.subplot(1, 3, 1)\n",
    "plt.hist(movies_df['running_time'].fillna(0) / 60, bins=40);\n",
    "plt.title('Phân phối thời lượng phim');\n",
    "plt.subplot(1, 3, 2)\n",
    "plt.scatter(movies_df['running_time'].fillna(0), movies_df['world_revenue'])\n",
    "plt.title('Thời lượng và doanh thu');"
   ]
  },
  {
   "cell_type": "markdown",
   "id": "a1ee3a6a-0e4f-42a2-8e7c-7327129f14e0",
   "metadata": {},
   "source": [
    "Dựa vào 2 biểu đồ phân phối:\n",
    "- Thời lượng của các phim từ 1990 đến 2020 chủ yếu rơi vào khoảng từ 1,5 tiếng đến 2 tiếng.\n",
    "- Đồng thời, các bộ phim có doanh thu lớn cũng rơi vào khoảng thời lượng đó."
   ]
  },
  {
   "cell_type": "markdown",
   "id": "e4d3cff8",
   "metadata": {},
   "source": [
    "#### Câu 2: Liệu có sử ảnh hưởng nào của hệ thống phân loại MPAA đối với doanh thu của một bộ phim không?\n",
    "- Ý nghĩa khi trả lời câu hỏi: \n",
    "    + Tìm ra phân loại MPAA có doanh thu cao nhất, từ đó tìm ra xu hướng của các bộ phim khi sử dụng hệ thống phân loại MPAA để đạt được doanh thu tối ưu nhất\n",
    "    + Mở ra khả năng nghiên cứu sự tác động của phân loại MPAA đối với doanh thu trong cả thời gian ngắn và dài hạn. Có thể xác định xem liệu sự thay đổi trong phân loại có tác động ngay lập tức hay cần một khoảng thời gian để phản ánh trong doanh thu."
   ]
  },
  {
   "cell_type": "code",
   "execution_count": null,
   "id": "e680659e",
   "metadata": {},
   "outputs": [],
   "source": [
    "print(movies_df['MPAA'].unique())"
   ]
  },
  {
   "cell_type": "code",
   "execution_count": null,
   "id": "adecf22d",
   "metadata": {},
   "outputs": [],
   "source": [
    "# Thống kê mô tả doanh thu theo từng phân loại MPAA\n",
    "mpaa_stats = movies_df.groupby('MPAA')['world_revenue'].describe()\n",
    "print(mpaa_stats)"
   ]
  },
  {
   "cell_type": "code",
   "execution_count": null,
   "id": "36a45e72",
   "metadata": {},
   "outputs": [],
   "source": [
    "# Biểu đồ so sánh doanh thu giữa các nhóm phân loại MPAA\n",
    "plt.figure(figsize=(10, 6))\n",
    "movies_df.groupby('MPAA')['world_revenue'].mean().sort_values().plot(kind='barh', color='skyblue')\n",
    "plt.title('Doanh thu trung bình theo phân loại MPAA')\n",
    "plt.xlabel('Doanh thu trung bình (tổng cộng)')\n",
    "plt.ylabel('Phân loại MPAA')\n",
    "plt.show()"
   ]
  },
  {
   "cell_type": "markdown",
   "id": "2d508022",
   "metadata": {},
   "source": [
    "Nhận xét biểu đồ : Ta thấy phân loại G và PG-13 có world_revenue cao nhất. "
   ]
  },
  {
   "cell_type": "markdown",
   "id": "b48fc060",
   "metadata": {},
   "source": [
    "- Ở đây ta sẽ dùng kiểm định t-test để kiểm định xem có sự khác biệt đáng kể về doanh thu giữa hai nhóm này không."
   ]
  },
  {
   "cell_type": "code",
   "execution_count": null,
   "id": "8e20489e",
   "metadata": {},
   "outputs": [],
   "source": [
    "from scipy.stats import ttest_ind\n",
    "\n",
    "mpaa_group1 = movies_df['world_revenue'][movies_df['MPAA'] == 'G']\n",
    "mpaa_group2 = movies_df['world_revenue'][movies_df['MPAA'] == 'PG-13']\n",
    "\n",
    "statistic, p_value = ttest_ind(mpaa_group1, mpaa_group2)\n",
    "print(f'Kiểm định T-Test: Statistic={statistic}, p-value={p_value}')"
   ]
  },
  {
   "cell_type": "markdown",
   "id": "dbf6270f",
   "metadata": {},
   "source": [
    "- Dựa trên kết quả T-test: Không có sự khác biệt đáng kể giữa hai nhóm được chấp nhận, có nghĩa là không có sự khác biệt đáng kể giữa doanh thu của nhóm phim có phân loại MPAA 'PG-13' và 'G'.\n",
    "\n",
    "- Điều này có thể ngụ ý rằng phân loại MPAA không ảnh hưởng đáng kể đến doanh thu toàn cầu của các bộ phim trong tập dữ liệu. Ta sẽ chứng minh xem điều này có đúng hay không."
   ]
  },
  {
   "cell_type": "code",
   "execution_count": null,
   "id": "91d4fb80",
   "metadata": {},
   "outputs": [],
   "source": [
    "from scipy.stats import f_oneway\n",
    "\n",
    "grouped_data = [movies_df['world_revenue'][movies_df['MPAA'] == mpaa] for mpaa in movies_df['MPAA'].unique()]\n",
    "\n",
    "# Kiểm định ANOVA\n",
    "statistic, p_value = f_oneway(*grouped_data)\n",
    "print(f'Kiểm định ANOVA: Statistic={statistic}, p-value={p_value}')"
   ]
  },
  {
   "cell_type": "markdown",
   "id": "ddd3454c",
   "metadata": {},
   "source": [
    "- Ta thấy p-value rất gần 0, thể hiện rằng sự khác biệt giữa các nhóm là rất lớn và không phải là ngẫu nhiên.\n",
    "- Dựa vào kết quả trên, có thể kết luận:\n",
    "    + Có sự khác biệt đáng kể giữa các nhóm phân loại MPAA: Giả thuyết không thay đổi giữa các nhóm được bác bỏ. Có đủ bằng chứng để cho rằng có sự khác biệt đáng kể về doanh thu toàn cầu của các bộ phim giữa các nhóm phân loại MPAA.\n",
    "    \n",
    "    + Phân loại MPAA ảnh hưởng đáng kể đến doanh thu: Kết quả này ngụ ý rằng phân loại MPAA có tác động đáng kể đến doanh thu toàn cầu của các bộ phim trong tập dữ liệu."
   ]
  },
  {
   "cell_type": "markdown",
   "id": "9693f3df",
   "metadata": {},
   "source": [
    "- Kết luận được rằng phân loại MPAA ảnh hưởng đáng kể đến doanh thu.\n",
    "- Vậy ta sẽ xem xét sự ảnh hưởng của MPAA theo ngày phát hành phim sẽ như thế nào."
   ]
  },
  {
   "cell_type": "code",
   "execution_count": null,
   "id": "095c8b7a",
   "metadata": {},
   "outputs": [],
   "source": [
    "movies_df['release_year'] = movies_df['release_date'].dt.year\n",
    "\n",
    "# Biểu đồ số lượng phim theo từng phân loại MPAA theo năm\n",
    "plt.figure(figsize=(25, 8))\n",
    "sns.countplot(x='release_year', hue='MPAA', data=movies_df)\n",
    "plt.title('Số lượng phim theo từng phân loại MPAA qua các năm')\n",
    "plt.xlabel('Năm phát hành')\n",
    "plt.ylabel('Số lượng phim')\n",
    "plt.show()"
   ]
  },
  {
   "cell_type": "code",
   "execution_count": null,
   "id": "9fce0f08",
   "metadata": {},
   "outputs": [],
   "source": [
    "# Biểu đồ doanh thu trung bình theo từng phân loại MPAA qua thời gian\n",
    "plt.figure(figsize=(12, 6))\n",
    "sns.lineplot(x='release_date', y='world_revenue', hue='MPAA', data=movies_df, ci=None)\n",
    "plt.title('Doanh thu trung bình theo từng phân loại MPAA qua thời gian')\n",
    "plt.xlabel('Năm phát hành')\n",
    "plt.ylabel('Doanh thu trung bình')\n",
    "plt.show()"
   ]
  },
  {
   "cell_type": "markdown",
   "id": "dee9c59c",
   "metadata": {},
   "source": [
    "Nhận xét biểu đồ: Doanh thu trung bình của phân loại PG-13 là cao nhất ở hầu hết các năm phát hành"
   ]
  },
  {
   "cell_type": "markdown",
   "id": "4b1f6872",
   "metadata": {},
   "source": [
    "- Phần ý nghĩa khi trả lời câu hỏi có đề cập đến việc có thể xác định xem liệu sự thay đổi trong phân loại có tác động ngay lập tức hay cần một khoảng thời gian để phản ánh trong doanh thu.\n",
    "- Ở đây ta sẽ thử làm việc này."
   ]
  },
  {
   "cell_type": "code",
   "execution_count": null,
   "id": "4121e9c1",
   "metadata": {},
   "outputs": [],
   "source": [
    "import matplotlib.pyplot as plt\n",
    "import seaborn as sns\n",
    "from scipy.stats import ttest_rel\n",
    "\n",
    "# Tạo một cột mới 'change_category' để đánh dấu thay đổi phân loại (1: có thay đổi, 0: không có thay đổi)\n",
    "movies_df['change_category'] = movies_df['MPAA'].ne(movies_df['MPAA'].shift()).astype(int)\n",
    "\n",
    "# Biểu đồ doanh thu trung bình của từng nhóm theo thời gian\n",
    "plt.figure(figsize=(12, 6))\n",
    "sns.lineplot(x='release_date', y='world_revenue', hue='change_category', data=movies_df)\n",
    "plt.title('Biểu đồ Doanh thu trung bình theo thời gian và Thay đổi Phân loại MPAA')\n",
    "plt.xlabel('Năm phát hành')\n",
    "plt.ylabel('Doanh thu trung bình')\n",
    "plt.show()"
   ]
  },
  {
   "cell_type": "markdown",
   "id": "32c36239",
   "metadata": {},
   "source": [
    "Nhận xét biểu đồ: \n",
    "- Sự thay đổi trong phân MPAA làm cho doanh thu tăng lên theo thời gian, nhưng cần một khoảng thời gian dài.\n",
    "- Cụ thể, nếu xét trong khoảng 4 năm (1992-1996) thì doanh thu không biến động nhiều. Nhưng nếu xét từ năm 1992 đến năm 2016, có thể thấy doanh thu đã tăng nhiều.\n",
    "- Ở một số thời điểm, việc không thay đổi phân loại MPAA làm cho doanh thu cao hơn rất nhiều so với mặt bằng chung."
   ]
  },
  {
   "cell_type": "markdown",
   "id": "e8ba1021",
   "metadata": {},
   "source": [
    "## Câu 3: Phân tích mối tương quan giữa ngày phát hành và doanh thu . Thời điểm nào trong năm là thích hợp nhất để phát hành một bộ phim ? \n",
    " \n"
   ]
  },
  {
   "cell_type": "markdown",
   "id": "32232cd0",
   "metadata": {},
   "source": [
    "\n",
    "\n",
    "**Ý nghĩa khi trả lời câu hỏi:** \n",
    "\n",
    " * Biết được thời điểm nào trong năm thích hợp nhất để ra mắt một bộ phim để tối ưu  doanh thu đạt được. \n",
    " * Hiểu rõ hơn về mối tương quan giữa ngày ra mắt phim và doanh thu toàn cầu.\n",
    "\n",
    "**Nguồn cảm hứng đặt câu hỏi:**\n",
    "* Cảm hứng bắt nguồn từ câu hỏi thực tiễn rằng liệu có một thời điểm nào trong năm thích hợp nhất để ra mắt một bộ phim để đạt được doanh thu cao nhất không. Điều này có thể giúp các nhà sản xuất phim lên kế hoạch cho việc ra mắt phim của mình một cách hiệu quả hơn."
   ]
  },
  {
   "cell_type": "markdown",
   "id": "334acb79",
   "metadata": {},
   "source": [
    "**Bước 1**: Tạo  cột `month` và cột `quarter` dự trên cột `release_date` để thuận tiện cho việc phân tích"
   ]
  },
  {
   "cell_type": "code",
   "execution_count": null,
   "id": "8fed9157",
   "metadata": {},
   "outputs": [],
   "source": [
    "\n",
    "\n",
    "df_copy = movies_df.copy()\n",
    "\n",
    "# Tạo cột 'month' và 'quarter'\n",
    "df_copy['month'] = df_copy['release_date'].dt.month\n",
    "df_copy['quarter'] = df_copy['release_date'].dt.quarter\n",
    "\n"
   ]
  },
  {
   "cell_type": "markdown",
   "id": "79b84293",
   "metadata": {},
   "source": [
    "**Bước 2**: `Tính doanh thu trung bình toàn cầu theo tháng` và `vẽ biểu đồ trực quan` để có thể thấy rõ hơn mối tương quan giữa tháng ra mắt và doanh thu"
   ]
  },
  {
   "cell_type": "code",
   "execution_count": null,
   "id": "f6d3fd83",
   "metadata": {},
   "outputs": [],
   "source": [
    "# Tính doanh thu trung bình toàn cầu và nội địa theo tháng\n",
    "avg_revenue_by_month = df_copy.groupby('month')['world_revenue'].mean()\n",
    "avg_domestic_revenue_by_month = df_copy.groupby('month')['domestic_revenue'].mean()\n",
    "\n",
    "# Vẽ biểu đồ\n",
    "plt.figure(figsize=(10, 5))\n",
    "plt.plot(avg_revenue_by_month.index, avg_revenue_by_month.values, marker='o', label='Global Revenue')\n",
    "plt.plot(avg_domestic_revenue_by_month.index, avg_domestic_revenue_by_month.values, marker='o', label='Domestic Revenue')\n",
    "plt.xlabel('Month')\n",
    "plt.ylabel('Average Revenue')\n",
    "plt.title('Average Global and Domestic Revenue by Month')\n",
    "plt.grid()\n",
    "plt.legend()\n",
    "plt.show()"
   ]
  },
  {
   "cell_type": "markdown",
   "id": "86cdc201",
   "metadata": {},
   "source": [
    "**Bước 3**: `Phân tích doanh thu theo quý`, để có một cái nhìn tổng quan hơn về xu hướng của doanh thu theo mùa."
   ]
  },
  {
   "cell_type": "code",
   "execution_count": null,
   "id": "95f32cb2",
   "metadata": {},
   "outputs": [],
   "source": [
    "# Tính doanh thu trung bình nội địa và toàn cầu theo quý\n",
    "avg_domestic_revenue_by_quarter = df_copy.groupby('quarter')['domestic_revenue'].mean()\n",
    "avg_world_revenue_by_quarter = df_copy.groupby('quarter')['world_revenue'].mean()\n",
    "\n",
    "# Vẽ biểu đồ\n",
    "plt.figure(figsize=(10, 5))\n",
    "plt.plot(avg_domestic_revenue_by_quarter.index, avg_domestic_revenue_by_quarter.values, marker='o', label='Domestic Revenue')\n",
    "plt.plot(avg_world_revenue_by_quarter.index, avg_world_revenue_by_quarter.values, marker='o', label='Global Revenue')\n",
    "plt.xlabel('Quarter')\n",
    "plt.ylabel('Average Revenue')\n",
    "plt.title('Average Domestic and Global Revenue by Quarter')\n",
    "plt.grid()\n",
    "plt.legend()\n",
    "plt.show()\n"
   ]
  },
  {
   "cell_type": "markdown",
   "id": "3bd1218e",
   "metadata": {},
   "source": [
    "**Nhận xét**:\n",
    "\n",
    "- Dựa trên các biểu đồ, có thể thấy rằng thời điểm ra mắt phim có ảnh hưởng đến doanh thu. Cụ thể, tháng 6, 5, 7, 11 và 12 tương ứng với Quý 2 va Quý 4 là những thời điểm  có doanh thu cao nhất. Điều này có thể được giải thích bởi việc tháng 6, 5, và 7 nằm trong mùa hè, đây là thời điểm mà học sinh, sinh viên có nhiều thời gian rảnh rỗi để xem phim. Tháng 11 và 12 là mùa đông, đây là một mùa với thời tiết lạnh kết hợp với việc chứa nhiều kỳ nghỉ lễ nên cũng thu hút được lượng lớn khán giả đến rạp.\n"
   ]
  },
  {
   "cell_type": "markdown",
   "id": "3eab3a38",
   "metadata": {},
   "source": [
    "**Kết luận**:\n",
    "\n",
    "- Thời điểm phát hành có ảnh hướng đến doanh thu đạt được.\n",
    "- `Quý 2` và `Quý 4` là hai thời điểm mà các bộ phim đạt được doanh thu cao thường phát hành. \n",
    "- Tuy nhiên, cần lưu ý rằng việc chọn thời điểm ra mắt phim không phải là yếu tố duy nhất quyết định đến doanh thu. Các yếu tố khác như thể loại, chỉ số MPAA,... cũng đóng vai trò quan trọng. Do đó, việc lựa chọn thời điểm ra mắt phim cần phải cân nhắc kỹ lưỡng và kết hợp với các yếu tố khác để đạt được doanh thu tối ưu."
   ]
  },
  {
   "cell_type": "markdown",
   "id": "0ecde842",
   "metadata": {},
   "source": [
    "## Câu 4: Liệu việc lựa chọn nhà phát hành có ảnh hưởng đến doanh thu của một bộ phim hay không? Các nhà phát hành nào có khả năng sản xuất phim đạt doanh thu cao?\n",
    "\n",
    "\n"
   ]
  },
  {
   "cell_type": "markdown",
   "id": "833424b5",
   "metadata": {},
   "source": [
    "**Ý nghĩa khi trả lời câu hỏi:**\n",
    "- Có thể lựa chọn được các nhà phát hành tốt để sản xuất phim hoặc để mua bản quyền phim để đạt doanh thu lớn\n",
    "- Dự đoán được doanh thu bằng doanh thu của ngày phát hành để thấy được mức độ thu hút của phim từ đó đưa ra các giải pháp marketing phù hợp để tăng doanh \n",
    "\n",
    "\n"
   ]
  },
  {
   "cell_type": "markdown",
   "id": "f95ed392",
   "metadata": {},
   "source": [
    "**Đầu tiên chúng ta sẽ lựa chọn ra các nhà phát hành có doanh thu trung bình lớn nhất**"
   ]
  },
  {
   "cell_type": "code",
   "execution_count": null,
   "id": "00611a2f",
   "metadata": {},
   "outputs": [],
   "source": [
    "\n",
    "\n",
    "\n",
    "# Tính tổng doanh thu theo nhà phát hành\n",
    "revenue_by_distributor = movies_df.groupby('distributor')['world_revenue'].sum()\n",
    "\n",
    "print(revenue_by_distributor)\n",
    "\n",
    "# Chọn ra 20 nhà phát hành có tổng doanh thu cao nhất\n",
    "top_distributors = revenue_by_distributor.nlargest(20)\n",
    "print(top_distributors)\n",
    "# Vẽ biểu đồ histogram\n",
    "plt.figure(figsize=(10, 6))\n",
    "top_distributors.plot(kind='bar', color='skyblue')\n",
    "plt.title('Top 20 Distributors by Total Revenue')\n",
    "plt.xlabel('Distributor')\n",
    "plt.ylabel('Total World Revenue(Milions)')\n",
    "plt.xticks(rotation=45, ha='right')\n",
    "plt.show()\n"
   ]
  },
  {
   "cell_type": "markdown",
   "id": "b1ccc09d",
   "metadata": {},
   "source": [
    "**Ta chọn ra các nhà phát hành có nhiều phim có doanh thu lớn hơn doanh thu trung bình nhất để có cái nhìn rõ hơn về chất lượng của những nhà phát hành phim**"
   ]
  },
  {
   "cell_type": "code",
   "execution_count": null,
   "id": "2fc1fc2f",
   "metadata": {},
   "outputs": [],
   "source": [
    "\n",
    "if not movies_df.empty:\n",
    "    #Tính doanh thu trung bình\n",
    "    distributor_stats = movies_df.groupby('distributor')['world_revenue'].agg(['mean', 'count'])\n",
    "\n",
    "    # Tính số lượng phim có doanh số trên doanh thu trung bình\n",
    "    top_distributors = distributor_stats[distributor_stats['count'] > distributor_stats['count'].mean()].nlargest(20, 'count')\n",
    "\n",
    "    # Vẽ biểu đồ\n",
    "    plt.figure(figsize=(10, 6))\n",
    "    top_distributors['count'].plot(kind='bar', color='skyblue')\n",
    "    plt.title('Top 20 Distributors by Film Count with Revenue above Average')\n",
    "    plt.xlabel('Distributor')\n",
    "    plt.ylabel('Film Count')\n",
    "    plt.xticks(rotation=45, ha='right')\n",
    "    plt.show()\n",
    "else:\n",
    "    print(\"DataFrame is empty.\")\n"
   ]
  },
  {
   "cell_type": "markdown",
   "id": "68de72a1",
   "metadata": {},
   "source": [
    "**Tuy vậy trong một số trường hợp, một số nhà làm phim có doanh số cao trong quá khứ nhưng hiện tại đã phá sản. Vì vậy, chúng ta vẽ biểu đồ cho sự phát triển của 20 nhà phát hành phim có doanh thu lớn nhất theo nhóm thời gian 4 năm**"
   ]
  },
  {
   "cell_type": "code",
   "execution_count": null,
   "id": "6c2e6e38",
   "metadata": {},
   "outputs": [],
   "source": [
    "\n",
    "# Nhóm dữ liệu theo khoảng thời gian 4 năm\n",
    "movies_df['release_date'] = pd.to_datetime(movies_df['release_date'])\n",
    "movies_df['year_group'] = pd.cut(movies_df['release_date'].dt.year, bins=range(1990, 2023, 4), labels=range(1990, 2022, 4))\n",
    "\n",
    "# Nhóm các nhà phát hành theo dữ liệu ở trên và tính trung bình doanh thu\n",
    "distributor_yearly_stats = movies_df.groupby(['distributor', 'year_group'])['world_revenue'].mean().reset_index()\n",
    "\n",
    "# Chọn ra 20 nhà phát hành có doanh thu cao nhất\n",
    "top_distributors = distributor_yearly_stats.groupby('distributor')['world_revenue'].mean().nlargest(20).index\n",
    "filtered_df = distributor_yearly_stats[distributor_yearly_stats['distributor'].isin(top_distributors)]\n",
    "\n",
    "# Sắp xếp dữ liệu\n",
    "pivot_df = filtered_df.pivot(index='year_group', columns='distributor', values='world_revenue')\n",
    "\n",
    "# Vễ biểu đồ\n",
    "plt.figure(figsize=(15, 8))\n",
    "pivot_df.plot(kind='line', marker='o')\n",
    "plt.title('4-Year Group Revenue Changes for Top 20 Distributors (1990-2022)')\n",
    "plt.xlabel('Year Group')\n",
    "plt.ylabel('Average World Revenue')\n",
    "plt.legend(title='Distributor', bbox_to_anchor=(1.05, 1), loc='upper left')\n",
    "plt.show()\n"
   ]
  },
  {
   "cell_type": "markdown",
   "id": "b6f48cb7",
   "metadata": {},
   "source": [
    "**Nhận xét:**"
   ]
  },
  {
   "cell_type": "markdown",
   "id": "0bb97e0e",
   "metadata": {},
   "source": [
    "- Nhìn vào biểu đồ cho ta thấy trung bình doanh thu phân nhóm rõ rệt ở mức cao và thấp dần\n",
    "- Một số hãng có doanh thu cao nhưng chỉ dựa vào vài bộ phim và không có mức tăng rõ ràng\n",
    "- Các hãng phim lâu đời như Walt Disney, Warner Bros,.. có doanh thu nằm ở mức cao"
   ]
  },
  {
   "cell_type": "markdown",
   "id": "ae4d1419",
   "metadata": {},
   "source": [
    "**Kết luận:**"
   ]
  },
  {
   "cell_type": "markdown",
   "id": "5acb9512",
   "metadata": {},
   "source": [
    "- Nhà phát hành có tác động đến doanh số của một bộ phim\n",
    "- Nhà phát hành càng lâu đời thì doanh số càng cao\n",
    "- Nên chọn những ngành như Walt Disney, Universal, Warner Bros,.. để sản xuất phim vì những nhà sản xuất này nổi tiếng và tuổi đời nhờ đó mang lại lợi nhuận cao"
   ]
  }
 ],
 "metadata": {
  "kernelspec": {
   "display_name": "Python 3 (ipykernel)",
   "language": "python",
   "name": "python3"
  },
  "language_info": {
   "codemirror_mode": {
    "name": "ipython",
    "version": 3
   },
   "file_extension": ".py",
   "mimetype": "text/x-python",
   "name": "python",
   "nbconvert_exporter": "python",
   "pygments_lexer": "ipython3",
   "version": "3.11.5"
  }
 },
 "nbformat": 4,
 "nbformat_minor": 5
}
