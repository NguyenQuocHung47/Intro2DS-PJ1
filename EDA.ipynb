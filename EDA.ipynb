{
 "cells": [
  {
   "cell_type": "markdown",
   "id": "71580d4c-5661-4752-a768-a4c852cd6ff2",
   "metadata": {},
   "source": [
    "## Import thư viện"
   ]
  },
  {
   "cell_type": "code",
   "execution_count": 20,
   "id": "24e0c6a1-10c9-48f3-926d-6cf95ac5b10b",
   "metadata": {},
   "outputs": [],
   "source": [
    "import os\n",
    "import sys\n",
    "\n",
    "module_path = os.path.abspath(os.path.join('..'))\n",
    "if module_path not in sys.path:\n",
    "    sys.path.append(module_path)\n",
    "    \n",
    "import warnings\n",
    "warnings.filterwarnings('ignore')\n",
    "\n",
    "import numpy as np\n",
    "import pandas as pd\n",
    "import matplotlib.pyplot as plt\n",
    "%matplotlib inline\n",
    "\n",
    "# YOUR CODE HERE (OPTION) \n",
    "# If you need other libraries, you can import them here\n",
    "import seaborn as sns\n",
    "from itertools import chain\n",
    "from collections import Counter\n",
    "from wordcloud import WordCloud\n",
    "import plotly.graph_objs as go\n",
    "import plotly.offline as py\n",
    "import plotly.express as px"
   ]
  },
  {
   "cell_type": "code",
   "execution_count": 21,
   "id": "303c3290-8e54-4de3-abf0-ccc1a295a8e3",
   "metadata": {},
   "outputs": [
    {
     "data": {
      "text/html": [
       "<div>\n",
       "<style scoped>\n",
       "    .dataframe tbody tr th:only-of-type {\n",
       "        vertical-align: middle;\n",
       "    }\n",
       "\n",
       "    .dataframe tbody tr th {\n",
       "        vertical-align: top;\n",
       "    }\n",
       "\n",
       "    .dataframe thead th {\n",
       "        text-align: right;\n",
       "    }\n",
       "</style>\n",
       "<table border=\"1\" class=\"dataframe\">\n",
       "  <thead>\n",
       "    <tr style=\"text-align: right;\">\n",
       "      <th></th>\n",
       "      <th>title</th>\n",
       "      <th>domestic_revenue</th>\n",
       "      <th>world_revenue</th>\n",
       "      <th>distributor</th>\n",
       "      <th>opening_revenue</th>\n",
       "      <th>MPAA</th>\n",
       "      <th>genres</th>\n",
       "      <th>in_release</th>\n",
       "      <th>release_date</th>\n",
       "    </tr>\n",
       "  </thead>\n",
       "  <tbody>\n",
       "    <tr>\n",
       "      <th>0</th>\n",
       "      <td>The Talented Mr. Ripley</td>\n",
       "      <td>81298265</td>\n",
       "      <td>128798265</td>\n",
       "      <td>Paramount Pictures</td>\n",
       "      <td>12738237.0</td>\n",
       "      <td>R</td>\n",
       "      <td>Crime,Drama,Thriller</td>\n",
       "      <td>373.0</td>\n",
       "      <td>1999-12-25</td>\n",
       "    </tr>\n",
       "    <tr>\n",
       "      <th>1</th>\n",
       "      <td>One False Move</td>\n",
       "      <td>1543112</td>\n",
       "      <td>1543112</td>\n",
       "      <td>IRS Media</td>\n",
       "      <td>44545.0</td>\n",
       "      <td>R</td>\n",
       "      <td>Crime,Drama,Thriller</td>\n",
       "      <td>238.0</td>\n",
       "      <td>1992-05-08</td>\n",
       "    </tr>\n",
       "    <tr>\n",
       "      <th>2</th>\n",
       "      <td>Galaxy Quest</td>\n",
       "      <td>71583916</td>\n",
       "      <td>90683916</td>\n",
       "      <td>DreamWorks Distribution</td>\n",
       "      <td>7012630.0</td>\n",
       "      <td>PG</td>\n",
       "      <td>Adventure,Comedy,Sci-Fi</td>\n",
       "      <td>373.0</td>\n",
       "      <td>1999-12-25</td>\n",
       "    </tr>\n",
       "    <tr>\n",
       "      <th>3</th>\n",
       "      <td>Hero</td>\n",
       "      <td>53710019</td>\n",
       "      <td>177395557</td>\n",
       "      <td>Miramax</td>\n",
       "      <td>17800000.0</td>\n",
       "      <td>PG-13</td>\n",
       "      <td>Action,Adventure,Drama</td>\n",
       "      <td>133.0</td>\n",
       "      <td>2004-08-27</td>\n",
       "    </tr>\n",
       "    <tr>\n",
       "      <th>4</th>\n",
       "      <td>Zebrahead</td>\n",
       "      <td>1557771</td>\n",
       "      <td>1557771</td>\n",
       "      <td>Triumph Releasing Corporation</td>\n",
       "      <td>609041.0</td>\n",
       "      <td>R</td>\n",
       "      <td>Drama,Romance</td>\n",
       "      <td>70.0</td>\n",
       "      <td>1992-10-23</td>\n",
       "    </tr>\n",
       "  </tbody>\n",
       "</table>\n",
       "</div>"
      ],
      "text/plain": [
       "                     title  domestic_revenue  world_revenue  \\\n",
       "0  The Talented Mr. Ripley          81298265      128798265   \n",
       "1           One False Move           1543112        1543112   \n",
       "2             Galaxy Quest          71583916       90683916   \n",
       "3                     Hero          53710019      177395557   \n",
       "4                Zebrahead           1557771        1557771   \n",
       "\n",
       "                     distributor  opening_revenue   MPAA  \\\n",
       "0             Paramount Pictures       12738237.0      R   \n",
       "1                      IRS Media          44545.0      R   \n",
       "2        DreamWorks Distribution        7012630.0     PG   \n",
       "3                        Miramax       17800000.0  PG-13   \n",
       "4  Triumph Releasing Corporation         609041.0      R   \n",
       "\n",
       "                    genres  in_release release_date  \n",
       "0     Crime,Drama,Thriller       373.0   1999-12-25  \n",
       "1     Crime,Drama,Thriller       238.0   1992-05-08  \n",
       "2  Adventure,Comedy,Sci-Fi       373.0   1999-12-25  \n",
       "3   Action,Adventure,Drama       133.0   2004-08-27  \n",
       "4            Drama,Romance        70.0   1992-10-23  "
      ]
     },
     "execution_count": 21,
     "metadata": {},
     "output_type": "execute_result"
    }
   ],
   "source": [
    "movies_df = pd.read_csv('./data/processed/processed_data.csv')\n",
    "movies_df.head(5)"
   ]
  },
  {
   "cell_type": "markdown",
   "id": "2dba2799-4e80-44ae-86a4-a1dfdfbef59c",
   "metadata": {},
   "source": [
    "### Hãng phim"
   ]
  },
  {
   "cell_type": "code",
   "execution_count": 22,
   "id": "bd44ff74-d5dd-4221-bff9-80ea69edadb4",
   "metadata": {},
   "outputs": [
    {
     "data": {
      "text/plain": [
       "{'Warner Bros.': 572,\n",
       " 'Universal Pictures': 458,\n",
       " 'Walt Disney Studios Motion Pictures': 406,\n",
       " 'Twentieth Century Fox': 404,\n",
       " 'Sony Pictures Entertainment (SPE)': 357,\n",
       " 'Paramount Pictures': 338,\n",
       " 'Lions Gate Films': 236,\n",
       " 'Miramax': 161,\n",
       " 'New Line Cinema': 159,\n",
       " 'Metro-Goldwyn-Mayer (MGM)': 117,\n",
       " 'Sony Pictures Classics': 92,\n",
       " 'Focus Features': 91,\n",
       " 'Fox Searchlight': 85,\n",
       " 'Screen Gems': 73,\n",
       " 'TriStar Pictures': 54,\n",
       " 'DreamWorks Distribution': 53,\n",
       " 'Columbia Pictures': 44,\n",
       " 'Roadside Attractions': 42,\n",
       " 'Open Road Films (II)': 42,\n",
       " 'Dimension Films': 37,\n",
       " 'Revolution Studios': 35,\n",
       " 'DreamWorks': 35,\n",
       " 'STX Entertainment': 34,\n",
       " 'The Weinstein Company': 32,\n",
       " 'Relativity Media': 31,\n",
       " 'Gramercy Pictures (I)': 29,\n",
       " 'The Samuel Goldwyn Company': 29,\n",
       " 'Bleecker Street Media': 25,\n",
       " 'Summit Entertainment': 25,\n",
       " 'A24': 25,\n",
       " 'Neon': 24,\n",
       " 'Fine Line Features': 22,\n",
       " 'Artisan Entertainment': 21,\n",
       " 'United Artists Releasing': 20,\n",
       " 'IFC Films': 20,\n",
       " 'Orion Pictures': 17,\n",
       " 'Rogue Pictures': 15,\n",
       " 'MGM/Weinstein': 15,\n",
       " 'Freestyle Releasing': 14,\n",
       " 'Magnolia Pictures': 13,\n",
       " 'Savoy Pictures': 13,\n",
       " 'October Films': 13,\n",
       " 'CBS Films': 13,\n",
       " 'FilmDistrict': 13,\n",
       " 'Searchlight Pictures': 12,\n",
       " '20th Century Studios': 12,\n",
       " 'Overture Films': 12,\n",
       " 'Trimark Pictures': 12,\n",
       " 'Fathom Events': 11,\n",
       " 'Pure Flix Entertainment': 11,\n",
       " 'Pantelion Films': 10,\n",
       " 'USA Films': 10,\n",
       " 'United Artists': 9,\n",
       " 'BH Tilt': 9,\n",
       " 'Paramount Vantage': 9,\n",
       " 'Paramount Classics': 9,\n",
       " 'Triumph Releasing Corporation': 9,\n",
       " 'Vertical Entertainment': 8,\n",
       " 'Picturehouse': 7,\n",
       " 'Entertainment Studios Motion Pictures': 7,\n",
       " 'IDP Distribution': 7,\n",
       " 'Stage 6 Films': 7,\n",
       " 'Broad Green Pictures': 6,\n",
       " 'Newmarket Films': 6,\n",
       " 'FUNimation Entertainment': 6,\n",
       " 'Music Box Films': 6,\n",
       " 'PolyGram': 6,\n",
       " 'Gravitas Ventures': 5,\n",
       " 'Walt Disney Pictures': 5,\n",
       " 'Affirm Films': 5,\n",
       " 'First Look International': 5,\n",
       " 'Amazon Studios': 5,\n",
       " 'Warner Independent Pictures (WIP)': 5,\n",
       " 'Destination Films': 5,\n",
       " 'Aviron Pictures': 4,\n",
       " 'Apparition': 4,\n",
       " 'Rocky Mountain Pictures': 4,\n",
       " 'Saban Films': 4,\n",
       " 'Fox Atomic': 4,\n",
       " 'THINKFilm': 4,\n",
       " 'Global Road Entertainment': 4,\n",
       " 'Crunchyroll': 3,\n",
       " 'Blue Fox Entertainment': 3,\n",
       " 'Clarius Entertainment': 3,\n",
       " 'Greenwich Entertainment': 3,\n",
       " 'Faith Media Distribution': 3,\n",
       " 'EuropaCorp': 3,\n",
       " 'LD Entertainment': 3,\n",
       " 'GKIDS': 3,\n",
       " 'Concorde Pictures': 3,\n",
       " 'Orion Classics': 3,\n",
       " 'Interstar': 3,\n",
       " 'Atlas Distribution Company': 2,\n",
       " 'Good Deed Entertainment': 2,\n",
       " 'Studio Three': 2,\n",
       " 'Briarcliff Entertainment': 2,\n",
       " 'Rainbow Releasing': 2,\n",
       " 'Entertainment One': 2,\n",
       " 'Studio 8': 2,\n",
       " 'The Orchard': 2,\n",
       " 'Millennium Entertainment': 2,\n",
       " 'Well Go USA Entertainment': 2,\n",
       " 'Live': 2,\n",
       " 'Iconic Events Releasing': 2,\n",
       " 'Vivendi Entertainment': 2,\n",
       " '101 Studios': 2,\n",
       " 'RADiUS-TWC': 2,\n",
       " 'Manhattan Pictures': 2,\n",
       " 'Anchor Bay Films': 2,\n",
       " 'Purdie Distribution': 2,\n",
       " 'Alliance Atlantis Vivafilm': 2,\n",
       " 'Arc Entertainment': 2,\n",
       " 'Quiver Distribution': 2,\n",
       " 'IMAX': 2,\n",
       " '8x Entertainment': 2,\n",
       " 'Yari Film Group Releasing': 1,\n",
       " 'Viva Pictures': 1,\n",
       " 'Reliance Big Pictures': 1,\n",
       " 'FIP': 1,\n",
       " 'OTL Releasing': 1,\n",
       " 'Producers Distribution Agency': 1,\n",
       " 'High Top Releasing': 1,\n",
       " 'The Film Arcade': 1,\n",
       " 'Unison/Paladin': 1,\n",
       " 'Creative Thinking International': 1,\n",
       " 'Novus': 1,\n",
       " 'Cinelou Films': 1,\n",
       " 'Drafthouse Films': 1,\n",
       " 'Codeblack Entertainment': 1,\n",
       " 'Visio Entertainment': 1,\n",
       " 'Power Point Films': 1,\n",
       " 'Cloud Ten Pictures': 1,\n",
       " 'National Geographic Entertainment': 1,\n",
       " 'Oscilloscope': 1,\n",
       " 'Picturehouse (II)': 1,\n",
       " 'EchoLight Studios': 1,\n",
       " 'Cohen Media Group': 1,\n",
       " 'Annapurna Pictures': 1,\n",
       " 'Independent Artists': 1,\n",
       " 'Mirror/LD Entertainment': 1,\n",
       " 'Avenue Pictures Productions': 1,\n",
       " 'Televisa Cine': 1,\n",
       " 'Equinox': 1,\n",
       " 'Excel Entertainment': 1,\n",
       " 'Chicago Pictures': 1,\n",
       " 'Legacy': 1,\n",
       " 'Aries Films': 1,\n",
       " 'Triton Pictures': 1,\n",
       " 'Cannon Film Distributors': 1,\n",
       " 'IRS Media': 1,\n",
       " 'Skouras Pictures': 1,\n",
       " 'Roxie Releasing': 1,\n",
       " 'Shapiro-Glickenhaus Entertainment': 1,\n",
       " 'R.S. Entertainment': 1,\n",
       " 'Imperial Entertainment': 1,\n",
       " 'Zeitgeist Films': 1,\n",
       " 'Emshell Production Group': 1,\n",
       " 'Mulberry Square': 1,\n",
       " 'RLJE Films': 1,\n",
       " 'Quality Flix': 1,\n",
       " 'Netflix': 1,\n",
       " 'Fun Academy Motion Pictures': 1,\n",
       " 'Electric Entertainment': 1,\n",
       " 'GVN Releasing': 1,\n",
       " 'Cloudburst Entertainment': 1,\n",
       " 'Global View Entertainment': 1,\n",
       " 'Pryor Entertainment': 1,\n",
       " 'Manifold Productions Inc.': 1,\n",
       " 'Providence Entertainment': 1,\n",
       " 'Dragon Dynasty': 1,\n",
       " 'Gravitas Premiere': 1,\n",
       " 'UP2U Films': 1,\n",
       " 'The Avenue Entertainment': 1,\n",
       " 'Variance Films': 1,\n",
       " 'Fin and Fur Films': 1,\n",
       " 'Zhen Pictures': 1,\n",
       " 'Hidden Empire Film Group (HEFG)': 1,\n",
       " 'Sony BMG': 1}"
      ]
     },
     "execution_count": 22,
     "metadata": {},
     "output_type": "execute_result"
    }
   ],
   "source": [
    "distributor = movies_df['distributor'].value_counts().to_dict()\n",
    "distributor"
   ]
  },
  {
   "cell_type": "markdown",
   "id": "8999ac38-2fb9-49a7-9f43-52be22660dc3",
   "metadata": {},
   "source": [
    "### Phân loại phim"
   ]
  },
  {
   "cell_type": "code",
   "execution_count": 23,
   "id": "4b2a39d8-848e-4014-a738-63404084bf45",
   "metadata": {},
   "outputs": [
    {
     "data": {
      "text/plain": [
       "{'R': 2045,\n",
       " 'PG-13': 1823,\n",
       " 'PG': 837,\n",
       " 'G': 45,\n",
       " 'NC-17': 6,\n",
       " 'Not Rated': 2,\n",
       " 'TV-14': 1,\n",
       " 'Approved': 1}"
      ]
     },
     "execution_count": 23,
     "metadata": {},
     "output_type": "execute_result"
    }
   ],
   "source": [
    "mpaa = movies_df['MPAA'].value_counts().to_dict()\n",
    "mpaa"
   ]
  },
  {
   "cell_type": "code",
   "execution_count": 24,
   "id": "c2b58dcf-353f-4c6d-a385-fee37c4f5258",
   "metadata": {},
   "outputs": [
    {
     "data": {
      "image/png": "[encoded data removed]",
      "text/plain": [
       "<Figure size 640x480 with 1 Axes>"
      ]
     },
     "metadata": {},
     "output_type": "display_data"
    }
   ],
   "source": [
    "plt.bar(range(len(mpaa)), list(mpaa.values()), align='center')\n",
    "plt.xticks(range(len(mpaa)), list(mpaa.keys()))\n",
    "\n",
    "plt.xlabel('Thể loại')\n",
    "plt.ylabel('Số lượng')\n",
    "plt.show()"
   ]
  },
  {
   "cell_type": "markdown",
   "id": "40f5681b-d422-474c-985d-c21a43a72a41",
   "metadata": {},
   "source": [
    "### Thể loại"
   ]
  },
  {
   "cell_type": "code",
   "execution_count": 25,
   "id": "2e77c8c9-aaed-4ca0-b0a5-e2fb6d4f2c0e",
   "metadata": {},
   "outputs": [
    {
     "data": {
      "text/plain": [
       "{'Crime': 929,\n",
       " 'Drama': 2357,\n",
       " 'Thriller': 1490,\n",
       " 'Adventure': 1039,\n",
       " 'Comedy': 2016,\n",
       " 'Sci-Fi': 651,\n",
       " 'Action': 1343,\n",
       " 'Romance': 1081,\n",
       " 'Musical': 110,\n",
       " 'Documentary': 112,\n",
       " 'Mystery': 636,\n",
       " 'Music': 220,\n",
       " 'Animation': 258,\n",
       " 'Fantasy': 695,\n",
       " 'History': 169,\n",
       " 'Horror': 534,\n",
       " 'War': 148,\n",
       " 'Biography': 313,\n",
       " 'Family': 628,\n",
       " 'Western': 64,\n",
       " 'Sport': 209,\n",
       " 'News': 2,\n",
       " 'Film-Noir': 1,\n",
       " 'Short': 1}"
      ]
     },
     "execution_count": 25,
     "metadata": {},
     "output_type": "execute_result"
    }
   ],
   "source": [
    "components = movies_df['genres'].str.split(',').tolist() \n",
    "temp_list = list(chain.from_iterable(components)) \n",
    "genres_counter = Counter(temp_list)\n",
    "genres_dict = dict(genres_counter)\n",
    "genres_dict"
   ]
  },
  {
   "cell_type": "code",
   "execution_count": 26,
   "id": "8ff0fead-52eb-4a7f-88cd-750364cafec5",
   "metadata": {},
   "outputs": [
    {
     "data": {
      "image/png": "[encoded data removed]",
      "text/plain": [
       "<Figure size 700x700 with 1 Axes>"
      ]
     },
     "metadata": {},
     "output_type": "display_data"
    }
   ],
   "source": [
    "plt.figure(figsize = (7, 7))\n",
    "wc = WordCloud(background_color=\"white\",width=1000,height=1000, max_words=len(genres_dict),relative_scaling=0.5,normalize_plurals=False).generate_from_frequencies(genres_dict)\n",
    "plt.imshow(wc)\n",
    "plt.title('Top genres')\n",
    "plt.axis(\"off\")\n",
    "plt.show()"
   ]
  },
  {
   "cell_type": "markdown",
   "id": "3bf4d121-9c4f-4b6b-a754-abf87aca6df3",
   "metadata": {},
   "source": [
    "### Ngày ra mắt"
   ]
  },
  {
   "cell_type": "code",
   "execution_count": 27,
   "id": "cf88394b-817f-4f52-9399-e3334d710c8e",
   "metadata": {},
   "outputs": [
    {
     "data": {
      "application/vnd.plotly.v1+json": {
       "config": {
        "plotlyServerURL": "https://plot.ly"
       },
       "data": [
        {
         "hovertemplate": "Năm=%{x}<br>Số lượng=%{y}<extra></extra>",
         "legendgroup": "",
         "line": {
          "color": "#636efa",
          "dash": "solid"
         },
         "marker": {
          "symbol": "circle"
         },
         "mode": "lines",
         "name": "",
         "orientation": "v",
         "showlegend": false,
         "type": "scatter",
         "x": [
          1989,
          1990,
          1991,
          1992,
          1993,
          1994,
          1995,
          1996,
          1997,
          1998,
          1999,
          2000,
          2001,
          2002,
          2003,
          2004,
          2005,
          2006,
          2007,
          2008,
          2009,
          2010,
          2011,
          2012,
          2013,
          2014,
          2015,
          2016,
          2017,
          2018,
          2019,
          2020,
          2021,
          2022
         ],
         "xaxis": "x",
         "y": [
          1,
          15,
          90,
          144,
          156,
          151,
          158,
          157,
          159,
          160,
          145,
          139,
          154,
          158,
          154,
          154,
          150,
          156,
          159,
          151,
          154,
          160,
          157,
          154,
          141,
          143,
          138,
          155,
          138,
          157,
          148,
          112,
          152,
          140
         ],
         "yaxis": "y"
        }
       ],
       "layout": {
        "legend": {
         "tracegroupgap": 0
        },
        "template": {
         "data": {
          "bar": [
           {
            "error_x": {
             "color": "#2a3f5f"
            },
            "error_y": {
             "color": "#2a3f5f"
            },
            "marker": {
             "line": {
              "color": "#E5ECF6",
              "width": 0.5
             },
             "pattern": {
              "fillmode": "overlay",
              "size": 10,
              "solidity": 0.2
             }
            },
            "type": "bar"
           }
          ],
          "barpolar": [
           {
            "marker": {
             "line": {
              "color": "#E5ECF6",
              "width": 0.5
             },
             "pattern": {
              "fillmode": "overlay",
              "size": 10,
              "solidity": 0.2
             }
            },
            "type": "barpolar"
           }
          ],
          "carpet": [
           {
            "aaxis": {
             "endlinecolor": "#2a3f5f",
             "gridcolor": "white",
             "linecolor": "white",
             "minorgridcolor": "white",
             "startlinecolor": "#2a3f5f"
            },
            "baxis": {
             "endlinecolor": "#2a3f5f",
             "gridcolor": "white",
             "linecolor": "white",
             "minorgridcolor": "white",
             "startlinecolor": "#2a3f5f"
            },
            "type": "carpet"
           }
          ],
          "choropleth": [
           {
            "colorbar": {
             "outlinewidth": 0,
             "ticks": ""
            },
            "type": "choropleth"
           }
          ],
          "contour": [
           {
            "colorbar": {
             "outlinewidth": 0,
             "ticks": ""
            },
            "colorscale": [
             [
              0,
              "#0d0887"
             ],
             [
              0.1111111111111111,
              "#46039f"
             ],
             [
              0.2222222222222222,
              "#7201a8"
             ],
             [
              0.3333333333333333,
              "#9c179e"
             ],
             [
              0.4444444444444444,
              "#bd3786"
             ],
             [
              0.5555555555555556,
              "#d8576b"
             ],
             [
              0.6666666666666666,
              "#ed7953"
             ],
             [
              0.7777777777777778,
              "#fb9f3a"
             ],
             [
              0.8888888888888888,
              "#fdca26"
             ],
             [
              1,
              "#f0f921"
             ]
            ],
            "type": "contour"
           }
          ],
          "contourcarpet": [
           {
            "colorbar": {
             "outlinewidth": 0,
             "ticks": ""
            },
            "type": "contourcarpet"
           }
          ],
          "heatmap": [
           {
            "colorbar": {
             "outlinewidth": 0,
             "ticks": ""
            },
            "colorscale": [
             [
              0,
              "#0d0887"
             ],
             [
              0.1111111111111111,
              "#46039f"
             ],
             [
              0.2222222222222222,
              "#7201a8"
             ],
             [
              0.3333333333333333,
              "#9c179e"
             ],
             [
              0.4444444444444444,
              "#bd3786"
             ],
             [
              0.5555555555555556,
              "#d8576b"
             ],
             [
              0.6666666666666666,
              "#ed7953"
             ],
             [
              0.7777777777777778,
              "#fb9f3a"
             ],
             [
              0.8888888888888888,
              "#fdca26"
             ],
             [
              1,
              "#f0f921"
             ]
            ],
            "type": "heatmap"
           }
          ],
          "heatmapgl": [
           {
            "colorbar": {
             "outlinewidth": 0,
             "ticks": ""
            },
            "colorscale": [
             [
              0,
              "#0d0887"
             ],
             [
              0.1111111111111111,
              "#46039f"
             ],
             [
              0.2222222222222222,
              "#7201a8"
             ],
             [
              0.3333333333333333,
              "#9c179e"
             ],
             [
              0.4444444444444444,
              "#bd3786"
             ],
             [
              0.5555555555555556,
              "#d8576b"
             ],
             [
              0.6666666666666666,
              "#ed7953"
             ],
             [
              0.7777777777777778,
              "#fb9f3a"
             ],
             [
              0.8888888888888888,
              "#fdca26"
             ],
             [
              1,
              "#f0f921"
             ]
            ],
            "type": "heatmapgl"
           }
          ],
          "histogram": [
           {
            "marker": {
             "pattern": {
              "fillmode": "overlay",
              "size": 10,
              "solidity": 0.2
             }
            },
            "type": "histogram"
           }
          ],
          "histogram2d": [
           {
            "colorbar": {
             "outlinewidth": 0,
             "ticks": ""
            },
            "colorscale": [
             [
              0,
              "#0d0887"
             ],
             [
              0.1111111111111111,
              "#46039f"
             ],
             [
              0.2222222222222222,
              "#7201a8"
             ],
             [
              0.3333333333333333,
              "#9c179e"
             ],
             [
              0.4444444444444444,
              "#bd3786"
             ],
             [
              0.5555555555555556,
              "#d8576b"
             ],
             [
              0.6666666666666666,
              "#ed7953"
             ],
             [
              0.7777777777777778,
              "#fb9f3a"
             ],
             [
              0.8888888888888888,
              "#fdca26"
             ],
             [
              1,
              "#f0f921"
             ]
            ],
            "type": "histogram2d"
           }
          ],
          "histogram2dcontour": [
           {
            "colorbar": {
             "outlinewidth": 0,
             "ticks": ""
            },
            "colorscale": [
             [
              0,
              "#0d0887"
             ],
             [
              0.1111111111111111,
              "#46039f"
             ],
             [
              0.2222222222222222,
              "#7201a8"
             ],
             [
              0.3333333333333333,
              "#9c179e"
             ],
             [
              0.4444444444444444,
              "#bd3786"
             ],
             [
              0.5555555555555556,
              "#d8576b"
             ],
             [
              0.6666666666666666,
              "#ed7953"
             ],
             [
              0.7777777777777778,
              "#fb9f3a"
             ],
             [
              0.8888888888888888,
              "#fdca26"
             ],
             [
              1,
              "#f0f921"
             ]
            ],
            "type": "histogram2dcontour"
           }
          ],
          "mesh3d": [
           {
            "colorbar": {
             "outlinewidth": 0,
             "ticks": ""
            },
            "type": "mesh3d"
           }
          ],
          "parcoords": [
           {
            "line": {
             "colorbar": {
              "outlinewidth": 0,
              "ticks": ""
             }
            },
            "type": "parcoords"
           }
          ],
          "pie": [
           {
            "automargin": true,
            "type": "pie"
           }
          ],
          "scatter": [
           {
            "fillpattern": {
             "fillmode": "overlay",
             "size": 10,
             "solidity": 0.2
            },
            "type": "scatter"
           }
          ],
          "scatter3d": [
           {
            "line": {
             "colorbar": {
              "outlinewidth": 0,
              "ticks": ""
             }
            },
            "marker": {
             "colorbar": {
              "outlinewidth": 0,
              "ticks": ""
             }
            },
            "type": "scatter3d"
           }
          ],
          "scattercarpet": [
           {
            "marker": {
             "colorbar": {
              "outlinewidth": 0,
              "ticks": ""
             }
            },
            "type": "scattercarpet"
           }
          ],
          "scattergeo": [
           {
            "marker": {
             "colorbar": {
              "outlinewidth": 0,
              "ticks": ""
             }
            },
            "type": "scattergeo"
           }
          ],
          "scattergl": [
           {
            "marker": {
             "colorbar": {
              "outlinewidth": 0,
              "ticks": ""
             }
            },
            "type": "scattergl"
           }
          ],
          "scattermapbox": [
           {
            "marker": {
             "colorbar": {
              "outlinewidth": 0,
              "ticks": ""
             }
            },
            "type": "scattermapbox"
           }
          ],
          "scatterpolar": [
           {
            "marker": {
             "colorbar": {
              "outlinewidth": 0,
              "ticks": ""
             }
            },
            "type": "scatterpolar"
           }
          ],
          "scatterpolargl": [
           {
            "marker": {
             "colorbar": {
              "outlinewidth": 0,
              "ticks": ""
             }
            },
            "type": "scatterpolargl"
           }
          ],
          "scatterternary": [
           {
            "marker": {
             "colorbar": {
              "outlinewidth": 0,
              "ticks": ""
             }
            },
            "type": "scatterternary"
           }
          ],
          "surface": [
           {
            "colorbar": {
             "outlinewidth": 0,
             "ticks": ""
            },
            "colorscale": [
             [
              0,
              "#0d0887"
             ],
             [
              0.1111111111111111,
              "#46039f"
             ],
             [
              0.2222222222222222,
              "#7201a8"
             ],
             [
              0.3333333333333333,
              "#9c179e"
             ],
             [
              0.4444444444444444,
              "#bd3786"
             ],
             [
              0.5555555555555556,
              "#d8576b"
             ],
             [
              0.6666666666666666,
              "#ed7953"
             ],
             [
              0.7777777777777778,
              "#fb9f3a"
             ],
             [
              0.8888888888888888,
              "#fdca26"
             ],
             [
              1,
              "#f0f921"
             ]
            ],
            "type": "surface"
           }
          ],
          "table": [
           {
            "cells": {
             "fill": {
              "color": "#EBF0F8"
             },
             "line": {
              "color": "white"
             }
            },
            "header": {
             "fill": {
              "color": "#C8D4E3"
             },
             "line": {
              "color": "white"
             }
            },
            "type": "table"
           }
          ]
         },
         "layout": {
          "annotationdefaults": {
           "arrowcolor": "#2a3f5f",
           "arrowhead": 0,
           "arrowwidth": 1
          },
          "autotypenumbers": "strict",
          "coloraxis": {
           "colorbar": {
            "outlinewidth": 0,
            "ticks": ""
           }
          },
          "colorscale": {
           "diverging": [
            [
             0,
             "#8e0152"
            ],
            [
             0.1,
             "#c51b7d"
            ],
            [
             0.2,
             "#de77ae"
            ],
            [
             0.3,
             "#f1b6da"
            ],
            [
             0.4,
             "#fde0ef"
            ],
            [
             0.5,
             "#f7f7f7"
            ],
            [
             0.6,
             "#e6f5d0"
            ],
            [
             0.7,
             "#b8e186"
            ],
            [
             0.8,
             "#7fbc41"
            ],
            [
             0.9,
             "#4d9221"
            ],
            [
             1,
             "#276419"
            ]
           ],
           "sequential": [
            [
             0,
             "#0d0887"
            ],
            [
             0.1111111111111111,
             "#46039f"
            ],
            [
             0.2222222222222222,
             "#7201a8"
            ],
            [
             0.3333333333333333,
             "#9c179e"
            ],
            [
             0.4444444444444444,
             "#bd3786"
            ],
            [
             0.5555555555555556,
             "#d8576b"
            ],
            [
             0.6666666666666666,
             "#ed7953"
            ],
            [
             0.7777777777777778,
             "#fb9f3a"
            ],
            [
             0.8888888888888888,
             "#fdca26"
            ],
            [
             1,
             "#f0f921"
            ]
           ],
           "sequentialminus": [
            [
             0,
             "#0d0887"
            ],
            [
             0.1111111111111111,
             "#46039f"
            ],
            [
             0.2222222222222222,
             "#7201a8"
            ],
            [
             0.3333333333333333,
             "#9c179e"
            ],
            [
             0.4444444444444444,
             "#bd3786"
            ],
            [
             0.5555555555555556,
             "#d8576b"
            ],
            [
             0.6666666666666666,
             "#ed7953"
            ],
            [
             0.7777777777777778,
             "#fb9f3a"
            ],
            [
             0.8888888888888888,
             "#fdca26"
            ],
            [
             1,
             "#f0f921"
            ]
           ]
          },
          "colorway": [
           "#636efa",
           "#EF553B",
           "#00cc96",
           "#ab63fa",
           "#FFA15A",
           "#19d3f3",
           "#FF6692",
           "#B6E880",
           "#FF97FF",
           "#FECB52"
          ],
          "font": {
           "color": "#2a3f5f"
          },
          "geo": {
           "bgcolor": "white",
           "lakecolor": "white",
           "landcolor": "#E5ECF6",
           "showlakes": true,
           "showland": true,
           "subunitcolor": "white"
          },
          "hoverlabel": {
           "align": "left"
          },
          "hovermode": "closest",
          "mapbox": {
           "style": "light"
          },
          "paper_bgcolor": "white",
          "plot_bgcolor": "#E5ECF6",
          "polar": {
           "angularaxis": {
            "gridcolor": "white",
            "linecolor": "white",
            "ticks": ""
           },
           "bgcolor": "#E5ECF6",
           "radialaxis": {
            "gridcolor": "white",
            "linecolor": "white",
            "ticks": ""
           }
          },
          "scene": {
           "xaxis": {
            "backgroundcolor": "#E5ECF6",
            "gridcolor": "white",
            "gridwidth": 2,
            "linecolor": "white",
            "showbackground": true,
            "ticks": "",
            "zerolinecolor": "white"
           },
           "yaxis": {
            "backgroundcolor": "#E5ECF6",
            "gridcolor": "white",
            "gridwidth": 2,
            "linecolor": "white",
            "showbackground": true,
            "ticks": "",
            "zerolinecolor": "white"
           },
           "zaxis": {
            "backgroundcolor": "#E5ECF6",
            "gridcolor": "white",
            "gridwidth": 2,
            "linecolor": "white",
            "showbackground": true,
            "ticks": "",
            "zerolinecolor": "white"
           }
          },
          "shapedefaults": {
           "line": {
            "color": "#2a3f5f"
           }
          },
          "ternary": {
           "aaxis": {
            "gridcolor": "white",
            "linecolor": "white",
            "ticks": ""
           },
           "baxis": {
            "gridcolor": "white",
            "linecolor": "white",
            "ticks": ""
           },
           "bgcolor": "#E5ECF6",
           "caxis": {
            "gridcolor": "white",
            "linecolor": "white",
            "ticks": ""
           }
          },
          "title": {
           "x": 0.05
          },
          "xaxis": {
           "automargin": true,
           "gridcolor": "white",
           "linecolor": "white",
           "ticks": "",
           "title": {
            "standoff": 15
           },
           "zerolinecolor": "white",
           "zerolinewidth": 2
          },
          "yaxis": {
           "automargin": true,
           "gridcolor": "white",
           "linecolor": "white",
           "ticks": "",
           "title": {
            "standoff": 15
           },
           "zerolinecolor": "white",
           "zerolinewidth": 2
          }
         }
        },
        "title": {
         "text": "Số lượng phim hằng năm"
        },
        "xaxis": {
         "anchor": "y",
         "domain": [
          0,
          1
         ],
         "title": {
          "text": "Năm"
         }
        },
        "yaxis": {
         "anchor": "x",
         "domain": [
          0,
          1
         ],
         "title": {
          "text": "Số lượng"
         }
        }
       }
      }
     },
     "metadata": {},
     "output_type": "display_data"
    }
   ],
   "source": [
    "movies_df['release_date'] = pd.to_datetime(movies_df['release_date'], format='%Y-%m-%d')\n",
    "film_counts = movies_df['release_date'].dt.year.value_counts().sort_index()\n",
    "\n",
    "# Create a plot\n",
    "fig = px.line(x=film_counts.index, y=film_counts.values, \n",
    "              labels={'x': 'Năm', 'y': 'Số lượng'},\n",
    "              title='Số lượng phim hằng năm')\n",
    "\n",
    "fig.show()"
   ]
  }
 ],
 "metadata": {
  "kernelspec": {
   "display_name": "Python 3 (ipykernel)",
   "language": "python",
   "name": "python3"
  },
  "language_info": {
   "codemirror_mode": {
    "name": "ipython",
    "version": 3
   },
   "file_extension": ".py",
   "mimetype": "text/x-python",
   "name": "python",
   "nbconvert_exporter": "python",
   "pygments_lexer": "ipython3",
   "version": "3.11.5"
  }
 },
 "nbformat": 4,
 "nbformat_minor": 5
}
