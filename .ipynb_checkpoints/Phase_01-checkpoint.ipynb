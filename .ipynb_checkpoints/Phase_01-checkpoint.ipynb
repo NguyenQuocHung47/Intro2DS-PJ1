{
 "cells": [
  {
   "cell_type": "markdown",
   "id": "5ce44998",
   "metadata": {},
   "source": [
    "# ĐỒ ÁN - NHẬP MÔN KHOA HỌC DỮ LIỆU\n",
    "Nhóm 15\n",
    "\n",
    "Thành viên:\n",
    "\n",
    "21120464-Nguyễn Quốc Hưng\n",
    "\n",
    "21120465-Đoàn Đức Hữu\n",
    "\n",
    "21120486-Võ Minh Khuê\n",
    "\n",
    "21120494-Hồ Trọng Lễ"
   ]
  },
  {
   "cell_type": "markdown",
   "id": "bfc6e742",
   "metadata": {},
   "source": [
    "Import thư viện"
   ]
  },
  {
   "cell_type": "code",
   "execution_count": null,
   "id": "2b09f6bf",
   "metadata": {},
   "outputs": [],
   "source": []
  },
  {
   "cell_type": "markdown",
   "id": "f4eb1514",
   "metadata": {},
   "source": [
    "Mô tả trang web"
   ]
  },
  {
   "cell_type": "code",
   "execution_count": null,
   "id": "224cd2d2",
   "metadata": {},
   "outputs": [],
   "source": []
  }
 ],
 "metadata": {
  "kernelspec": {
   "display_name": "Python 3 (ipykernel)",
   "language": "python",
   "name": "python3"
  },
  "language_info": {
   "codemirror_mode": {
    "name": "ipython",
    "version": 3
   },
   "file_extension": ".py",
   "mimetype": "text/x-python",
   "name": "python",
   "nbconvert_exporter": "python",
   "pygments_lexer": "ipython3",
   "version": "3.11.5"
  }
 },
 "nbformat": 4,
 "nbformat_minor": 5
}
