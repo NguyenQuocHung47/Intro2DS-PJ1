{
 "cells": [
  {
   "cell_type": "markdown",
   "id": "62050c72",
   "metadata": {},
   "source": [
    "<div style=\"border:2px solid black; padding:10px;\">\n",
    "    <h3>Nhóm 15</h3>\n",
    "    <h1 style='color:red;text-align:center;font-size:30px'>Chủ đề: Phân tích về doanh thu phim<b></b></h1>\n",
    "</div>\n"
   ]
  },
  {
   "cell_type": "markdown",
   "id": "eede0177",
   "metadata": {},
   "source": [
    "<h3>Danh sách thành viên</h3>\n",
    "<li> Nguyễn Quốc Hưng - 21120464 </li>\n",
    "<li> Đoàn Đức Hữu - 21120465 </li>\n",
    "<li> Võ Minh Khuê - 21120486</li>\n",
    "<li> Hồ Trọng Lễ - 21120494</li>"
   ]
  },
  {
   "cell_type": "markdown",
   "id": "fadad046",
   "metadata": {},
   "source": [
    "<h1 style='color:blue;text-align:center;font-size:30px'><b>Phần II</b></h1>"
   ]
  },
  {
   "cell_type": "markdown",
   "id": "d9aeff06",
   "metadata": {},
   "source": [
    "# Import thư viện"
   ]
  },
  {
   "cell_type": "code",
   "execution_count": 1,
   "id": "bb276657",
   "metadata": {},
   "outputs": [],
   "source": [
    "%matplotlib inline\n",
    "import matplotlib.pyplot as plt\n",
    "import numpy as np\n",
    "import pandas as pd \n",
    "import seaborn as sns\n",
    "sns.set_theme()\n",
    "import os\n",
    "import re\n",
    "import statistics\n",
    "import seaborn as sns\n",
    "sns.set(rc={'axes.facecolor':'lightblue', 'figure.facecolor':'lightgray'})"
   ]
  },
  {
   "cell_type": "code",
   "execution_count": 2,
   "id": "47af81f8",
   "metadata": {},
   "outputs": [
    {
     "data": {
      "text/plain": [
       "'c:\\\\Users\\\\dhuu2\\\\AppData\\\\Local\\\\Programs\\\\Python\\\\Python311\\\\python.exe'"
      ]
     },
     "execution_count": 2,
     "metadata": {},
     "output_type": "execute_result"
    }
   ],
   "source": [
    "import sys\n",
    "sys.executable"
   ]
  },
  {
   "cell_type": "markdown",
   "id": "79b3a572",
   "metadata": {},
   "source": [
    "## Đọc file 'processed_data' vào dataframe df"
   ]
  },
  {
   "cell_type": "code",
   "execution_count": 3,
   "id": "09468941",
   "metadata": {},
   "outputs": [
    {
     "data": {
      "text/html": [
       "<div>\n",
       "<style scoped>\n",
       "    .dataframe tbody tr th:only-of-type {\n",
       "        vertical-align: middle;\n",
       "    }\n",
       "\n",
       "    .dataframe tbody tr th {\n",
       "        vertical-align: top;\n",
       "    }\n",
       "\n",
       "    .dataframe thead th {\n",
       "        text-align: right;\n",
       "    }\n",
       "</style>\n",
       "<table border=\"1\" class=\"dataframe\">\n",
       "  <thead>\n",
       "    <tr style=\"text-align: right;\">\n",
       "      <th></th>\n",
       "      <th>title</th>\n",
       "      <th>domestic_revenue</th>\n",
       "      <th>world_revenue</th>\n",
       "      <th>distributor</th>\n",
       "      <th>opening_revenue</th>\n",
       "      <th>MPAA</th>\n",
       "      <th>genres</th>\n",
       "      <th>in_release</th>\n",
       "      <th>release_date</th>\n",
       "    </tr>\n",
       "  </thead>\n",
       "  <tbody>\n",
       "    <tr>\n",
       "      <th>0</th>\n",
       "      <td>The Talented Mr. Ripley</td>\n",
       "      <td>81298265</td>\n",
       "      <td>128798265</td>\n",
       "      <td>Paramount Pictures</td>\n",
       "      <td>12738237.0</td>\n",
       "      <td>R</td>\n",
       "      <td>Crime,Drama,Thriller</td>\n",
       "      <td>373.0</td>\n",
       "      <td>1999-12-25</td>\n",
       "    </tr>\n",
       "    <tr>\n",
       "      <th>1</th>\n",
       "      <td>One False Move</td>\n",
       "      <td>1543112</td>\n",
       "      <td>1543112</td>\n",
       "      <td>IRS Media</td>\n",
       "      <td>44545.0</td>\n",
       "      <td>R</td>\n",
       "      <td>Crime,Drama,Thriller</td>\n",
       "      <td>238.0</td>\n",
       "      <td>1992-05-08</td>\n",
       "    </tr>\n",
       "    <tr>\n",
       "      <th>2</th>\n",
       "      <td>Galaxy Quest</td>\n",
       "      <td>71583916</td>\n",
       "      <td>90683916</td>\n",
       "      <td>DreamWorks Distribution</td>\n",
       "      <td>7012630.0</td>\n",
       "      <td>PG</td>\n",
       "      <td>Adventure,Comedy,Sci-Fi</td>\n",
       "      <td>373.0</td>\n",
       "      <td>1999-12-25</td>\n",
       "    </tr>\n",
       "    <tr>\n",
       "      <th>3</th>\n",
       "      <td>Hero</td>\n",
       "      <td>53710019</td>\n",
       "      <td>177395557</td>\n",
       "      <td>Miramax</td>\n",
       "      <td>17800000.0</td>\n",
       "      <td>PG-13</td>\n",
       "      <td>Action,Adventure,Drama</td>\n",
       "      <td>133.0</td>\n",
       "      <td>2004-08-27</td>\n",
       "    </tr>\n",
       "    <tr>\n",
       "      <th>4</th>\n",
       "      <td>Zebrahead</td>\n",
       "      <td>1557771</td>\n",
       "      <td>1557771</td>\n",
       "      <td>Triumph Releasing Corporation</td>\n",
       "      <td>609041.0</td>\n",
       "      <td>R</td>\n",
       "      <td>Drama,Romance</td>\n",
       "      <td>70.0</td>\n",
       "      <td>1992-10-23</td>\n",
       "    </tr>\n",
       "    <tr>\n",
       "      <th>5</th>\n",
       "      <td>The Phantom of the Opera</td>\n",
       "      <td>51268815</td>\n",
       "      <td>154648887</td>\n",
       "      <td>Warner Bros.</td>\n",
       "      <td>4001890.0</td>\n",
       "      <td>PG-13</td>\n",
       "      <td>Drama,Musical,Romance,Thriller</td>\n",
       "      <td>375.0</td>\n",
       "      <td>2004-12-22</td>\n",
       "    </tr>\n",
       "    <tr>\n",
       "      <th>6</th>\n",
       "      <td>South Central</td>\n",
       "      <td>1373196</td>\n",
       "      <td>1373196</td>\n",
       "      <td>Warner Bros.</td>\n",
       "      <td>147629.0</td>\n",
       "      <td>R</td>\n",
       "      <td>Crime,Drama</td>\n",
       "      <td>105.0</td>\n",
       "      <td>1992-09-18</td>\n",
       "    </tr>\n",
       "    <tr>\n",
       "      <th>7</th>\n",
       "      <td>Jurassic Park</td>\n",
       "      <td>357067947</td>\n",
       "      <td>978167947</td>\n",
       "      <td>Universal Pictures</td>\n",
       "      <td>47026828.0</td>\n",
       "      <td>PG-13</td>\n",
       "      <td>Action,Adventure,Sci-Fi,Thriller</td>\n",
       "      <td>569.0</td>\n",
       "      <td>1993-06-11</td>\n",
       "    </tr>\n",
       "    <tr>\n",
       "      <th>8</th>\n",
       "      <td>Shadow of the Wolf</td>\n",
       "      <td>1434174</td>\n",
       "      <td>1434174</td>\n",
       "      <td>Triumph Releasing Corporation</td>\n",
       "      <td>747119.0</td>\n",
       "      <td>PG-13</td>\n",
       "      <td>Adventure,Drama,Thriller</td>\n",
       "      <td>302.0</td>\n",
       "      <td>1993-03-05</td>\n",
       "    </tr>\n",
       "    <tr>\n",
       "      <th>9</th>\n",
       "      <td>Wild Orchid II: Two Shades of Blue</td>\n",
       "      <td>573904</td>\n",
       "      <td>573904</td>\n",
       "      <td>Triumph Releasing Corporation</td>\n",
       "      <td>323288.0</td>\n",
       "      <td>R</td>\n",
       "      <td>Drama,Romance</td>\n",
       "      <td>238.0</td>\n",
       "      <td>1992-05-08</td>\n",
       "    </tr>\n",
       "  </tbody>\n",
       "</table>\n",
       "</div>"
      ],
      "text/plain": [
       "                                title  domestic_revenue  world_revenue  \\\n",
       "0             The Talented Mr. Ripley          81298265      128798265   \n",
       "1                      One False Move           1543112        1543112   \n",
       "2                        Galaxy Quest          71583916       90683916   \n",
       "3                                Hero          53710019      177395557   \n",
       "4                           Zebrahead           1557771        1557771   \n",
       "5            The Phantom of the Opera          51268815      154648887   \n",
       "6                       South Central           1373196        1373196   \n",
       "7                       Jurassic Park         357067947      978167947   \n",
       "8                  Shadow of the Wolf           1434174        1434174   \n",
       "9  Wild Orchid II: Two Shades of Blue            573904         573904   \n",
       "\n",
       "                     distributor  opening_revenue   MPAA  \\\n",
       "0             Paramount Pictures       12738237.0      R   \n",
       "1                      IRS Media          44545.0      R   \n",
       "2        DreamWorks Distribution        7012630.0     PG   \n",
       "3                        Miramax       17800000.0  PG-13   \n",
       "4  Triumph Releasing Corporation         609041.0      R   \n",
       "5                   Warner Bros.        4001890.0  PG-13   \n",
       "6                   Warner Bros.         147629.0      R   \n",
       "7             Universal Pictures       47026828.0  PG-13   \n",
       "8  Triumph Releasing Corporation         747119.0  PG-13   \n",
       "9  Triumph Releasing Corporation         323288.0      R   \n",
       "\n",
       "                             genres  in_release release_date  \n",
       "0              Crime,Drama,Thriller       373.0   1999-12-25  \n",
       "1              Crime,Drama,Thriller       238.0   1992-05-08  \n",
       "2           Adventure,Comedy,Sci-Fi       373.0   1999-12-25  \n",
       "3            Action,Adventure,Drama       133.0   2004-08-27  \n",
       "4                     Drama,Romance        70.0   1992-10-23  \n",
       "5    Drama,Musical,Romance,Thriller       375.0   2004-12-22  \n",
       "6                       Crime,Drama       105.0   1992-09-18  \n",
       "7  Action,Adventure,Sci-Fi,Thriller       569.0   1993-06-11  \n",
       "8          Adventure,Drama,Thriller       302.0   1993-03-05  \n",
       "9                     Drama,Romance       238.0   1992-05-08  "
      ]
     },
     "execution_count": 3,
     "metadata": {},
     "output_type": "execute_result"
    }
   ],
   "source": [
    "movies_df = pd.read_csv('./data/processed/processed_data.csv')\n",
    "movies_df.head(10)"
   ]
  },
  {
   "cell_type": "markdown",
   "id": "37cdb7ea",
   "metadata": {},
   "source": [
    "<h2 style='color:#32a852;text-align:center;font-size:25px'><b>A. Mô hình hóa dữ liệu</b></h2> "
   ]
  },
  {
   "cell_type": "code",
   "execution_count": null,
   "id": "0f2e3ff5",
   "metadata": {},
   "outputs": [],
   "source": []
  },
  {
   "cell_type": "markdown",
   "id": "ed6ecd5f",
   "metadata": {},
   "source": [
    "<h2 style='color:#32a852;text-align:center;font-size:25px'><b>B. Đánh giá mô hình</b></h2> "
   ]
  }
 ],
 "metadata": {
  "kernelspec": {
   "display_name": "Python 3 (ipykernel)",
   "language": "python",
   "name": "python3"
  },
  "language_info": {
   "codemirror_mode": {
    "name": "ipython",
    "version": 3
   },
   "file_extension": ".py",
   "mimetype": "text/x-python",
   "name": "python",
   "nbconvert_exporter": "python",
   "pygments_lexer": "ipython3",
   "version": "3.10.8"
  },
  "vscode": {
   "interpreter": {
    "hash": "230eced423d2f0c873d70f568fb3b91d4d0a92783dea9e5e343fd82907c96f27"
   }
  }
 },
 "nbformat": 4,
 "nbformat_minor": 5
}
