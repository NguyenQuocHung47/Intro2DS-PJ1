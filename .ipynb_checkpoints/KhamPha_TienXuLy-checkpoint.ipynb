<<<<<<< HEAD
{
 "cells": [
  {
   "cell_type": "markdown",
   "id": "62050c72",
   "metadata": {},
   "source": [
    "<div style=\"border:2px solid black; padding:10px;\">\n",
    "    <h3>Nhóm 15</h3>\n",
    "    <h1 style='color:red;text-align:center;font-size:30px'>Chủ đề: Phân tích về doanh thu phim<b></b></h1>\n",
    "</div>\n"
   ]
  },
  {
   "cell_type": "markdown",
   "id": "eede0177",
   "metadata": {},
   "source": [
    "<h3>Danh sách thành viên</h3>\n",
    "<li> Nguyễn Quốc Hưng - 21120464 </li>\n",
    "<li> Đoàn Đức Hữu - 21120465 </li>\n",
    "<li> Võ Minh Khuê - 21120486</li>\n",
    "<li> Hồ Trọng Lễ - 21120494</li>\n"
   ]
  },
  {
   "cell_type": "markdown",
   "id": "fadad046",
   "metadata": {},
   "source": [
    "<h1 style='color:blue;text-align:center;font-size:30px'><b>Phần I - B. Khám phá - Tiền xử xử lý dữ liệu </b></h1>\n"
   ]
  },
  {
   "cell_type": "markdown",
   "id": "d9aeff06",
   "metadata": {},
   "source": [
    "# Import thư viện\n"
   ]
  },
  {
   "cell_type": "code",
   "execution_count": 1,
   "id": "bb276657",
   "metadata": {},
   "outputs": [],
   "source": [
    "%matplotlib inline\n",
    "import matplotlib.pyplot as plt\n",
    "import numpy as np\n",
    "import pandas as pd \n",
    "import seaborn as sns\n",
    "\n",
    "import os\n",
    "import re\n",
    "import statistics\n",
    "import seaborn as sns\n",
    "sns.set(rc={'axes.facecolor':'lightblue', 'figure.facecolor':'lightgray'})"
   ]
  },
  {
   "cell_type": "code",
   "execution_count": 2,
   "id": "2af86d9c",
   "metadata": {},
   "outputs": [
    {
     "data": {
      "text/plain": [
       "'/home/khuevo098/miniconda3/envs/min_ds-env/bin/python'"
      ]
     },
     "execution_count": 2,
     "metadata": {},
     "output_type": "execute_result"
    }
   ],
   "source": [
    "import sys\n",
    "sys.executable"
   ]
  },
  {
   "cell_type": "markdown",
   "id": "79b3a572",
   "metadata": {},
   "source": [
    "### Đọc file 'boxoffice_1990_2022.csv' vào dataframe df\n"
   ]
  },
  {
   "cell_type": "code",
   "execution_count": 3,
   "id": "09468941",
   "metadata": {},
   "outputs": [
    {
     "data": {
      "text/html": [
       "<div>\n",
       "<style scoped>\n",
       "    .dataframe tbody tr th:only-of-type {\n",
       "        vertical-align: middle;\n",
       "    }\n",
       "\n",
       "    .dataframe tbody tr th {\n",
       "        vertical-align: top;\n",
       "    }\n",
       "\n",
       "    .dataframe thead th {\n",
       "        text-align: right;\n",
       "    }\n",
       "</style>\n",
       "<table border=\"1\" class=\"dataframe\">\n",
       "  <thead>\n",
       "    <tr style=\"text-align: right;\">\n",
       "      <th></th>\n",
       "      <th>title</th>\n",
       "      <th>domestic_revenue</th>\n",
       "      <th>world_revenue</th>\n",
       "      <th>distributor</th>\n",
       "      <th>opening_revenue</th>\n",
       "      <th>opening_theaters</th>\n",
       "      <th>budget</th>\n",
       "      <th>MPAA</th>\n",
       "      <th>genres</th>\n",
       "      <th>running_time</th>\n",
       "      <th>in_release</th>\n",
       "      <th>release_date</th>\n",
       "    </tr>\n",
       "  </thead>\n",
       "  <tbody>\n",
       "    <tr>\n",
       "      <th>0</th>\n",
       "      <td>Batman Returns</td>\n",
       "      <td>$162,831,698</td>\n",
       "      <td>$266,831,698</td>\n",
       "      <td>Warner Bros.</td>\n",
       "      <td>$45,687,711</td>\n",
       "      <td>2,644</td>\n",
       "      <td>$80,000,000</td>\n",
       "      <td>PG-13</td>\n",
       "      <td>Action,Crime,Fantasy</td>\n",
       "      <td>126.0</td>\n",
       "      <td>196</td>\n",
       "      <td>19/06/1992</td>\n",
       "    </tr>\n",
       "    <tr>\n",
       "      <th>1</th>\n",
       "      <td>Coupe de Ville</td>\n",
       "      <td>$715,983</td>\n",
       "      <td>$715,983</td>\n",
       "      <td>Universal Pictures</td>\n",
       "      <td>$66,871</td>\n",
       "      <td>7</td>\n",
       "      <td>NaN</td>\n",
       "      <td>NaN</td>\n",
       "      <td>Comedy,Drama</td>\n",
       "      <td>99.0</td>\n",
       "      <td>298</td>\n",
       "      <td>09/03/1990</td>\n",
       "    </tr>\n",
       "    <tr>\n",
       "      <th>2</th>\n",
       "      <td>C'est la vie</td>\n",
       "      <td>$805,472</td>\n",
       "      <td>$805,472</td>\n",
       "      <td>The Samuel Goldwyn Company</td>\n",
       "      <td>$18,749</td>\n",
       "      <td>2</td>\n",
       "      <td>NaN</td>\n",
       "      <td>NaN</td>\n",
       "      <td>Comedy,Drama,Romance</td>\n",
       "      <td>110.0</td>\n",
       "      <td>63</td>\n",
       "      <td>02/11/1990</td>\n",
       "    </tr>\n",
       "    <tr>\n",
       "      <th>3</th>\n",
       "      <td>Waiting for the Light</td>\n",
       "      <td>$808,690</td>\n",
       "      <td>$808,690</td>\n",
       "      <td>Triumph Releasing Corporation</td>\n",
       "      <td>$334,748</td>\n",
       "      <td>149</td>\n",
       "      <td>NaN</td>\n",
       "      <td>NaN</td>\n",
       "      <td>Comedy</td>\n",
       "      <td>94.0</td>\n",
       "      <td>63</td>\n",
       "      <td>02/11/1990</td>\n",
       "    </tr>\n",
       "    <tr>\n",
       "      <th>4</th>\n",
       "      <td>Atlantis: The Lost Empire</td>\n",
       "      <td>$84,056,472</td>\n",
       "      <td>$186,053,725</td>\n",
       "      <td>Walt Disney Studios Motion Pictures</td>\n",
       "      <td>$329,011</td>\n",
       "      <td>2</td>\n",
       "      <td>$120,000,000</td>\n",
       "      <td>PG</td>\n",
       "      <td>Action,Adventure,Animation,Family,Fantasy,Sci-Fi</td>\n",
       "      <td>95.0</td>\n",
       "      <td>210</td>\n",
       "      <td>NaN</td>\n",
       "    </tr>\n",
       "  </tbody>\n",
       "</table>\n",
       "</div>"
      ],
      "text/plain": [
       "                       title domestic_revenue world_revenue  \\\n",
       "0             Batman Returns     $162,831,698  $266,831,698   \n",
       "1             Coupe de Ville         $715,983      $715,983   \n",
       "2               C'est la vie         $805,472      $805,472   \n",
       "3      Waiting for the Light         $808,690      $808,690   \n",
       "4  Atlantis: The Lost Empire      $84,056,472  $186,053,725   \n",
       "\n",
       "                           distributor opening_revenue opening_theaters  \\\n",
       "0                         Warner Bros.     $45,687,711            2,644   \n",
       "1                   Universal Pictures         $66,871                7   \n",
       "2           The Samuel Goldwyn Company         $18,749                2   \n",
       "3        Triumph Releasing Corporation        $334,748              149   \n",
       "4  Walt Disney Studios Motion Pictures        $329,011                2   \n",
       "\n",
       "         budget   MPAA                                            genres  \\\n",
       "0   $80,000,000  PG-13                              Action,Crime,Fantasy   \n",
       "1           NaN    NaN                                      Comedy,Drama   \n",
       "2           NaN    NaN                              Comedy,Drama,Romance   \n",
       "3           NaN    NaN                                            Comedy   \n",
       "4  $120,000,000     PG  Action,Adventure,Animation,Family,Fantasy,Sci-Fi   \n",
       "\n",
       "   running_time in_release release_date  \n",
       "0         126.0        196   19/06/1992  \n",
       "1          99.0        298   09/03/1990  \n",
       "2         110.0         63   02/11/1990  \n",
       "3          94.0         63   02/11/1990  \n",
       "4          95.0        210          NaN  "
      ]
     },
     "execution_count": 3,
     "metadata": {},
     "output_type": "execute_result"
    }
   ],
   "source": [
    "df = pd.read_csv(\n",
    "    './boxoffice_crawler/boxoffice_crawler/boxoffice_1990_2022.csv', encoding='latin1')\n",
    "df.head(5)"
   ]
  },
  {
   "cell_type": "markdown",
   "id": "37cdb7ea",
   "metadata": {},
   "source": [
    "## Khám phá dữ liệu\n"
   ]
  },
  {
   "cell_type": "markdown",
   "id": "35fc847c",
   "metadata": {},
   "source": [
    "### Dữ liệu có bao nhiêu dòng và bao nhiêu cột?"
   ]
  },
  {
   "cell_type": "code",
   "execution_count": 4,
   "id": "2390b124",
   "metadata": {},
   "outputs": [
    {
     "data": {
      "text/plain": [
       "(6405, 12)"
      ]
     },
     "execution_count": 4,
     "metadata": {},
     "output_type": "execute_result"
    }
   ],
   "source": [
    "num_rows, num_cols = df.shape\n",
    "num_rows, num_cols"
   ]
  },
  {
   "cell_type": "markdown",
   "id": "8f5f8d98-03e2-4d3f-b64a-68e0c7145389",
   "metadata": {},
   "source": [
    "### Mỗi dòng có ý nghĩa gì? Có vấn đề các dòng có ý nghĩa khác nhau không?\n",
    "- Dựa vào kết quả trên, mỗi dòng thể hiện thông tin chi tiết của các phim trong khoảng thời gian từ năm 1980 đến năm 2022 được thu thập từ trang web Box Office Mojo.\n",
    "- Không có dòng nào có ý nghĩa khác so với các dòng còn lại."
   ]
  },
  {
   "cell_type": "markdown",
   "id": "a2521df9-2531-4711-8230-491f9dfa2d73",
   "metadata": {},
   "source": [
    "### Dữ liệu có dòng nào bị lặp không?"
   ]
  },
  {
   "cell_type": "code",
   "execution_count": 5,
   "id": "3df755ef-ad31-4f48-80a7-1e30c6926fd3",
   "metadata": {},
   "outputs": [
    {
     "name": "stdout",
     "output_type": "stream",
     "text": [
      "Có dữ liệu lặp: 487 dòng\n"
     ]
    }
   ],
   "source": [
    "duplicated_rows = df[df.duplicated()]\n",
    "duplicated_nums = duplicated_rows.shape\n",
    "if duplicated_nums[0] > 0:\n",
    "    print(f'Có dữ liệu lặp: {duplicated_nums[0]} dòng')\n",
    "else:\n",
    "    print('Không có dữ liệu bị lặp')"
   ]
  },
  {
   "cell_type": "markdown",
   "id": "7253ff50-25ed-4050-b4f8-8f10be313560",
   "metadata": {},
   "source": [
    "Như kết quả trả về cho ta thấy, trong tập dữ liệu này có 487 dòng bị lặp. Vậy phải xử lý các dòng dữ liệu lặp: "
   ]
  },
  {
   "cell_type": "code",
   "execution_count": 6,
   "id": "8a40c335-ac0f-41b1-b099-df9886fbc211",
   "metadata": {},
   "outputs": [
    {
     "name": "stdout",
     "output_type": "stream",
     "text": [
      "Không có dữ liệu bị lặp\n"
     ]
    }
   ],
   "source": [
    "df = df.drop_duplicates()\n",
    "\n",
    "duplicated_rows = df[df.duplicated()]\n",
    "duplicated_nums = duplicated_rows.shape\n",
    "if duplicated_nums[0] > 0:\n",
    "    print(f'Có dữ liệu lặp: {duplicated_nums[0]} dòng')\n",
    "else:\n",
    "    print('Không có dữ liệu bị lặp')"
   ]
  },
  {
   "cell_type": "markdown",
   "id": "19b65cfa",
   "metadata": {},
   "source": [
    "### Ý nghĩa của các cột\n"
   ]
  },
  {
   "cell_type": "code",
   "execution_count": 7,
   "id": "e6bfed67",
   "metadata": {},
   "outputs": [
    {
     "data": {
      "text/html": [
       "<div>\n",
       "<style scoped>\n",
       "    .dataframe tbody tr th:only-of-type {\n",
       "        vertical-align: middle;\n",
       "    }\n",
       "\n",
       "    .dataframe tbody tr th {\n",
       "        vertical-align: top;\n",
       "    }\n",
       "\n",
       "    .dataframe thead th {\n",
       "        text-align: right;\n",
       "    }\n",
       "</style>\n",
       "<table border=\"1\" class=\"dataframe\">\n",
       "  <thead>\n",
       "    <tr style=\"text-align: right;\">\n",
       "      <th></th>\n",
       "      <th>STT</th>\n",
       "      <th>name</th>\n",
       "      <th>meaning</th>\n",
       "    </tr>\n",
       "  </thead>\n",
       "  <tbody>\n",
       "    <tr>\n",
       "      <th>0</th>\n",
       "      <td>1</td>\n",
       "      <td>title</td>\n",
       "      <td>Tựa đề phim</td>\n",
       "    </tr>\n",
       "    <tr>\n",
       "      <th>1</th>\n",
       "      <td>2</td>\n",
       "      <td>domestic_revenue</td>\n",
       "      <td>Doanh thu trong nước (USA)</td>\n",
       "    </tr>\n",
       "    <tr>\n",
       "      <th>2</th>\n",
       "      <td>3</td>\n",
       "      <td>world_revenue</td>\n",
       "      <td>Doanh thu toàn cầu</td>\n",
       "    </tr>\n",
       "    <tr>\n",
       "      <th>3</th>\n",
       "      <td>4</td>\n",
       "      <td>distributor</td>\n",
       "      <td>Nhà phân phối</td>\n",
       "    </tr>\n",
       "    <tr>\n",
       "      <th>4</th>\n",
       "      <td>5</td>\n",
       "      <td>opening_revenue</td>\n",
       "      <td>Doanh thu mở màn, hay còn được gọi là doanh thu đạt được trong tuần đầu tiên</td>\n",
       "    </tr>\n",
       "    <tr>\n",
       "      <th>5</th>\n",
       "      <td>6</td>\n",
       "      <td>opening_theater</td>\n",
       "      <td>Số lượng rạp mà bộ phim được chiếu trong được chiếu trong tuần đầu tiên</td>\n",
       "    </tr>\n",
       "    <tr>\n",
       "      <th>6</th>\n",
       "      <td>7</td>\n",
       "      <td>budget</td>\n",
       "      <td>Ngân sách dùng để sản xuất bộ phim</td>\n",
       "    </tr>\n",
       "    <tr>\n",
       "      <th>7</th>\n",
       "      <td>8</td>\n",
       "      <td>MPPA</td>\n",
       "      <td>Chỉ số đánh giá cảu Hiệp Hội điện ảnh Hoa Kỳ</td>\n",
       "    </tr>\n",
       "    <tr>\n",
       "      <th>8</th>\n",
       "      <td>10</td>\n",
       "      <td>in_release</td>\n",
       "      <td>Số ngày bộ phim được phát hành</td>\n",
       "    </tr>\n",
       "    <tr>\n",
       "      <th>9</th>\n",
       "      <td>11</td>\n",
       "      <td>release_date</td>\n",
       "      <td>Ngày phát hành</td>\n",
       "    </tr>\n",
       "  </tbody>\n",
       "</table>\n",
       "</div>"
      ],
      "text/plain": [
       "   STT              name  \\\n",
       "0    1             title   \n",
       "1    2  domestic_revenue   \n",
       "2    3     world_revenue   \n",
       "3    4       distributor   \n",
       "4    5   opening_revenue   \n",
       "5    6   opening_theater   \n",
       "6    7            budget   \n",
       "7    8              MPPA   \n",
       "8   10        in_release   \n",
       "9   11      release_date   \n",
       "\n",
       "                                                                        meaning  \n",
       "0                                                                   Tựa đề phim  \n",
       "1                                                    Doanh thu trong nước (USA)  \n",
       "2                                                           Doanh thu toàn cầu   \n",
       "3                                                                 Nhà phân phối  \n",
       "4  Doanh thu mở màn, hay còn được gọi là doanh thu đạt được trong tuần đầu tiên  \n",
       "5       Số lượng rạp mà bộ phim được chiếu trong được chiếu trong tuần đầu tiên  \n",
       "6                                            Ngân sách dùng để sản xuất bộ phim  \n",
       "7                                  Chỉ số đánh giá cảu Hiệp Hội điện ảnh Hoa Kỳ  \n",
       "8                                                Số ngày bộ phim được phát hành  \n",
       "9                                                                Ngày phát hành  "
      ]
     },
     "execution_count": 7,
     "metadata": {},
     "output_type": "execute_result"
    }
   ],
   "source": [
    "schema_data = pd.read_csv(\n",
    "    \"./boxoffice_crawler/boxoffice_crawler/MovieRevenue_schema.csv\", encoding='utf-8')\n",
    "pd.set_option('max_colwidth', 400)\n",
    "schema_data\n"
   ]
  },
  {
   "cell_type": "markdown",
   "id": "08bbeacc",
   "metadata": {},
   "source": [
    "### Kiểu dữ liệu của các cột\n"
   ]
  },
  {
   "cell_type": "code",
   "execution_count": 8,
   "id": "e443e05b",
   "metadata": {},
   "outputs": [
    {
     "name": "stdout",
     "output_type": "stream",
     "text": [
      "<class 'pandas.core.frame.DataFrame'>\n",
      "Int64Index: 5918 entries, 0 to 6403\n",
      "Data columns (total 12 columns):\n",
      " #   Column            Non-Null Count  Dtype  \n",
      "---  ------            --------------  -----  \n",
      " 0   title             5918 non-null   object \n",
      " 1   domestic_revenue  5918 non-null   object \n",
      " 2   world_revenue     5918 non-null   object \n",
      " 3   distributor       5918 non-null   object \n",
      " 4   opening_revenue   5858 non-null   object \n",
      " 5   opening_theaters  5851 non-null   object \n",
      " 6   budget            2944 non-null   object \n",
      " 7   MPAA              5251 non-null   object \n",
      " 8   genres            5912 non-null   object \n",
      " 9   running_time      5915 non-null   float64\n",
      " 10  in_release        5916 non-null   object \n",
      " 11  release_date      5415 non-null   object \n",
      "dtypes: float64(1), object(11)\n",
      "memory usage: 601.0+ KB\n"
     ]
    }
   ],
   "source": [
    "df.info()"
   ]
  },
  {
   "cell_type": "markdown",
   "id": "b7bb20b8",
   "metadata": {},
   "source": [
    "## Tiền xử lý\n",
    "\n",
    "1. **Chuyển đổi các cột chứa số thành kiểu dữ liệu số**: Các cột như `domestic_revenue`, `world_revenue`, `opening_revenue`, `opening_theaters`, `budget`, và `in_release` đều chứa dữ liệu số, nhưng hiện đang được lưu trữ dưới dạng object. Chúng ta sẽ loại bỏ các ký tự không phải số (như dấu `$` và dấu phẩy) và chuyển đổi các cột này thành kiểu dữ liệu số.\n",
    "\n",
    "2. **Chuyển đổi cột `release_date` thành kiểu dữ liệu datetime**: Điều này sẽ hữu ích cho việc phân tích sau này.\n"
   ]
  },
  {
   "cell_type": "code",
   "execution_count": 9,
   "id": "f5ebd277",
   "metadata": {},
   "outputs": [],
   "source": [
    "# Remove $ and , in the revenue and budget columns\n",
    "for col in ['domestic_revenue', 'world_revenue', 'opening_revenue', 'budget']:\n",
    "    df[col] = df[col].replace({'\\$': '', ',': ''}, regex=True)\n",
    "\n",
    "# Convert columns to numeric type\n",
    "for col in ['domestic_revenue', 'world_revenue', 'opening_revenue', 'opening_theaters', 'budget', 'in_release']:\n",
    "    df[col] = pd.to_numeric(df[col], errors='coerce')\n",
    "\n",
    "# Convert release_date to datetime\n",
    "df['release_date'] = pd.to_datetime(df['release_date'], format='%d/%m/%Y')"
   ]
  },
  {
   "cell_type": "code",
   "execution_count": 10,
   "id": "ffea5cb8",
   "metadata": {},
   "outputs": [
    {
     "data": {
      "text/html": [
       "<div>\n",
       "<style scoped>\n",
       "    .dataframe tbody tr th:only-of-type {\n",
       "        vertical-align: middle;\n",
       "    }\n",
       "\n",
       "    .dataframe tbody tr th {\n",
       "        vertical-align: top;\n",
       "    }\n",
       "\n",
       "    .dataframe thead th {\n",
       "        text-align: right;\n",
       "    }\n",
       "</style>\n",
       "<table border=\"1\" class=\"dataframe\">\n",
       "  <thead>\n",
       "    <tr style=\"text-align: right;\">\n",
       "      <th></th>\n",
       "      <th>title</th>\n",
       "      <th>domestic_revenue</th>\n",
       "      <th>world_revenue</th>\n",
       "      <th>distributor</th>\n",
       "      <th>opening_revenue</th>\n",
       "      <th>opening_theaters</th>\n",
       "      <th>budget</th>\n",
       "      <th>MPAA</th>\n",
       "      <th>genres</th>\n",
       "      <th>running_time</th>\n",
       "      <th>in_release</th>\n",
       "      <th>release_date</th>\n",
       "    </tr>\n",
       "  </thead>\n",
       "  <tbody>\n",
       "    <tr>\n",
       "      <th>0</th>\n",
       "      <td>Batman Returns</td>\n",
       "      <td>162831698</td>\n",
       "      <td>266831698</td>\n",
       "      <td>Warner Bros.</td>\n",
       "      <td>45687711.0</td>\n",
       "      <td>NaN</td>\n",
       "      <td>80000000.0</td>\n",
       "      <td>PG-13</td>\n",
       "      <td>Action,Crime,Fantasy</td>\n",
       "      <td>126.0</td>\n",
       "      <td>196.0</td>\n",
       "      <td>1992-06-19</td>\n",
       "    </tr>\n",
       "    <tr>\n",
       "      <th>1</th>\n",
       "      <td>Coupe de Ville</td>\n",
       "      <td>715983</td>\n",
       "      <td>715983</td>\n",
       "      <td>Universal Pictures</td>\n",
       "      <td>66871.0</td>\n",
       "      <td>7.0</td>\n",
       "      <td>NaN</td>\n",
       "      <td>NaN</td>\n",
       "      <td>Comedy,Drama</td>\n",
       "      <td>99.0</td>\n",
       "      <td>298.0</td>\n",
       "      <td>1990-03-09</td>\n",
       "    </tr>\n",
       "    <tr>\n",
       "      <th>2</th>\n",
       "      <td>C'est la vie</td>\n",
       "      <td>805472</td>\n",
       "      <td>805472</td>\n",
       "      <td>The Samuel Goldwyn Company</td>\n",
       "      <td>18749.0</td>\n",
       "      <td>2.0</td>\n",
       "      <td>NaN</td>\n",
       "      <td>NaN</td>\n",
       "      <td>Comedy,Drama,Romance</td>\n",
       "      <td>110.0</td>\n",
       "      <td>63.0</td>\n",
       "      <td>1990-11-02</td>\n",
       "    </tr>\n",
       "    <tr>\n",
       "      <th>3</th>\n",
       "      <td>Waiting for the Light</td>\n",
       "      <td>808690</td>\n",
       "      <td>808690</td>\n",
       "      <td>Triumph Releasing Corporation</td>\n",
       "      <td>334748.0</td>\n",
       "      <td>149.0</td>\n",
       "      <td>NaN</td>\n",
       "      <td>NaN</td>\n",
       "      <td>Comedy</td>\n",
       "      <td>94.0</td>\n",
       "      <td>63.0</td>\n",
       "      <td>1990-11-02</td>\n",
       "    </tr>\n",
       "    <tr>\n",
       "      <th>4</th>\n",
       "      <td>Atlantis: The Lost Empire</td>\n",
       "      <td>84056472</td>\n",
       "      <td>186053725</td>\n",
       "      <td>Walt Disney Studios Motion Pictures</td>\n",
       "      <td>329011.0</td>\n",
       "      <td>2.0</td>\n",
       "      <td>120000000.0</td>\n",
       "      <td>PG</td>\n",
       "      <td>Action,Adventure,Animation,Family,Fantasy,Sci-Fi</td>\n",
       "      <td>95.0</td>\n",
       "      <td>210.0</td>\n",
       "      <td>NaT</td>\n",
       "    </tr>\n",
       "  </tbody>\n",
       "</table>\n",
       "</div>"
      ],
      "text/plain": [
       "                       title  domestic_revenue  world_revenue  \\\n",
       "0             Batman Returns         162831698      266831698   \n",
       "1             Coupe de Ville            715983         715983   \n",
       "2               C'est la vie            805472         805472   \n",
       "3      Waiting for the Light            808690         808690   \n",
       "4  Atlantis: The Lost Empire          84056472      186053725   \n",
       "\n",
       "                           distributor  opening_revenue  opening_theaters  \\\n",
       "0                         Warner Bros.       45687711.0               NaN   \n",
       "1                   Universal Pictures          66871.0               7.0   \n",
       "2           The Samuel Goldwyn Company          18749.0               2.0   \n",
       "3        Triumph Releasing Corporation         334748.0             149.0   \n",
       "4  Walt Disney Studios Motion Pictures         329011.0               2.0   \n",
       "\n",
       "        budget   MPAA                                            genres  \\\n",
       "0   80000000.0  PG-13                              Action,Crime,Fantasy   \n",
       "1          NaN    NaN                                      Comedy,Drama   \n",
       "2          NaN    NaN                              Comedy,Drama,Romance   \n",
       "3          NaN    NaN                                            Comedy   \n",
       "4  120000000.0     PG  Action,Adventure,Animation,Family,Fantasy,Sci-Fi   \n",
       "\n",
       "   running_time  in_release release_date  \n",
       "0         126.0       196.0   1992-06-19  \n",
       "1          99.0       298.0   1990-03-09  \n",
       "2         110.0        63.0   1990-11-02  \n",
       "3          94.0        63.0   1990-11-02  \n",
       "4          95.0       210.0          NaT  "
      ]
     },
     "execution_count": 10,
     "metadata": {},
     "output_type": "execute_result"
    }
   ],
   "source": [
    "df.head(5)"
   ]
  },
  {
   "cell_type": "markdown",
   "id": "e1c40fea",
   "metadata": {},
   "source": [
    "### Với mỗi cột có dữ liệu dạng số, các giá trị được phân bố như thế nào?\n"
   ]
  },
  {
   "cell_type": "markdown",
   "id": "d2631232",
   "metadata": {},
   "source": [
    "Với các cột có kiểu dữ liệu số, ta cần tính:\n",
    "\n",
    "- Tỉ lệ % (từ 0 đến 100) các giá trị thiếu\n",
    "- Giá trị min\n",
    "- Giá trị lower quartile (phân vị 25)\n",
    "- Giá trị median (phân vị 50)\n",
    "- Giá trị upper quartile (phân vị 75)\n",
    "- Giá trị max\n",
    "\n",
    "Sau đó lưu kết quả vào DataFrame `num_col_info_df`, trong đó:\n",
    "\n",
    "- Tên của các cột là tên của các cột số trong `df`\n",
    "- Tên của các dòng là: \"missing_ratio\", \"min\", \"lower_quartile\", \"median\", \"upper_quartile\", \"max\"\n",
    "\n",
    "Để dễ nhìn, tất cả các giá trị bạn đều làm tròn với 1 chữ số thập phân bằng phương thức `.round(1)`.\n"
   ]
  },
  {
   "cell_type": "code",
   "execution_count": 11,
   "id": "9428ea92",
   "metadata": {},
   "outputs": [
    {
     "data": {
      "text/html": [
       "<div>\n",
       "<style scoped>\n",
       "    .dataframe tbody tr th:only-of-type {\n",
       "        vertical-align: middle;\n",
       "    }\n",
       "\n",
       "    .dataframe tbody tr th {\n",
       "        vertical-align: top;\n",
       "    }\n",
       "\n",
       "    .dataframe thead th {\n",
       "        text-align: right;\n",
       "    }\n",
       "</style>\n",
       "<table border=\"1\" class=\"dataframe\">\n",
       "  <thead>\n",
       "    <tr style=\"text-align: right;\">\n",
       "      <th></th>\n",
       "      <th>domestic_revenue</th>\n",
       "      <th>world_revenue</th>\n",
       "      <th>opening_revenue</th>\n",
       "      <th>opening_theaters</th>\n",
       "      <th>budget</th>\n",
       "      <th>running_time</th>\n",
       "      <th>in_release</th>\n",
       "    </tr>\n",
       "  </thead>\n",
       "  <tbody>\n",
       "    <tr>\n",
       "      <th>missing_ratio</th>\n",
       "      <td>0.00</td>\n",
       "      <td>0.00</td>\n",
       "      <td>1.01</td>\n",
       "      <td>67.34</td>\n",
       "      <td>50.25</td>\n",
       "      <td>0.05</td>\n",
       "      <td>0.56</td>\n",
       "    </tr>\n",
       "    <tr>\n",
       "      <th>min</th>\n",
       "      <td>153,504.00</td>\n",
       "      <td>153,504.00</td>\n",
       "      <td>2,515.00</td>\n",
       "      <td>1.00</td>\n",
       "      <td>15,000.00</td>\n",
       "      <td>35.00</td>\n",
       "      <td>21.00</td>\n",
       "    </tr>\n",
       "    <tr>\n",
       "      <th>lower_quartile</th>\n",
       "      <td>6,858,971.25</td>\n",
       "      <td>10,631,912.25</td>\n",
       "      <td>970,951.25</td>\n",
       "      <td>4.00</td>\n",
       "      <td>18,000,000.00</td>\n",
       "      <td>95.00</td>\n",
       "      <td>158.00</td>\n",
       "    </tr>\n",
       "    <tr>\n",
       "      <th>median</th>\n",
       "      <td>21,208,579.00</td>\n",
       "      <td>32,596,692.50</td>\n",
       "      <td>5,812,160.00</td>\n",
       "      <td>19.00</td>\n",
       "      <td>35,000,000.00</td>\n",
       "      <td>105.00</td>\n",
       "      <td>265.00</td>\n",
       "    </tr>\n",
       "    <tr>\n",
       "      <th>upper_quartile</th>\n",
       "      <td>53,657,832.25</td>\n",
       "      <td>96,240,876.50</td>\n",
       "      <td>14,574,818.25</td>\n",
       "      <td>350.00</td>\n",
       "      <td>70,000,000.00</td>\n",
       "      <td>118.00</td>\n",
       "      <td>368.00</td>\n",
       "    </tr>\n",
       "    <tr>\n",
       "      <th>max</th>\n",
       "      <td>936,662,225.00</td>\n",
       "      <td>2,799,439,100.00</td>\n",
       "      <td>357,115,007.00</td>\n",
       "      <td>998.00</td>\n",
       "      <td>356,000,000.00</td>\n",
       "      <td>271.00</td>\n",
       "      <td>996.00</td>\n",
       "    </tr>\n",
       "  </tbody>\n",
       "</table>\n",
       "</div>"
      ],
      "text/plain": [
       "                domestic_revenue    world_revenue  opening_revenue  \\\n",
       "missing_ratio               0.00             0.00             1.01   \n",
       "min                   153,504.00       153,504.00         2,515.00   \n",
       "lower_quartile      6,858,971.25    10,631,912.25       970,951.25   \n",
       "median             21,208,579.00    32,596,692.50     5,812,160.00   \n",
       "upper_quartile     53,657,832.25    96,240,876.50    14,574,818.25   \n",
       "max               936,662,225.00 2,799,439,100.00   357,115,007.00   \n",
       "\n",
       "                opening_theaters         budget  running_time  in_release  \n",
       "missing_ratio              67.34          50.25          0.05        0.56  \n",
       "min                         1.00      15,000.00         35.00       21.00  \n",
       "lower_quartile              4.00  18,000,000.00         95.00      158.00  \n",
       "median                     19.00  35,000,000.00        105.00      265.00  \n",
       "upper_quartile            350.00  70,000,000.00        118.00      368.00  \n",
       "max                       998.00 356,000,000.00        271.00      996.00  "
      ]
     },
     "execution_count": 11,
     "metadata": {},
     "output_type": "execute_result"
    }
   ],
   "source": [
    "# Get numeric columns\n",
    "numeric_cols = df.select_dtypes(include=np.number).columns.tolist()\n",
    "\n",
    "# Calculate statistics\n",
    "missing_ratio = df[numeric_cols].isnull().mean() * 100\n",
    "min_values = df[numeric_cols].min()\n",
    "lower_quartile = df[numeric_cols].quantile(0.25)\n",
    "median = df[numeric_cols].median()\n",
    "upper_quartile = df[numeric_cols].quantile(0.75)\n",
    "max_values = df[numeric_cols].max()\n",
    "\n",
    "# Create DataFrame\n",
    "num_col_info_df = pd.DataFrame({\n",
    "    'missing_ratio': missing_ratio,\n",
    "    'min': min_values,\n",
    "    'lower_quartile': lower_quartile,\n",
    "    'median': median,\n",
    "    'upper_quartile': upper_quartile,\n",
    "    'max': max_values\n",
    "})\n",
    "\n",
    "# Round to 1 decimal place\n",
    "num_col_info_df = num_col_info_df.round(1)\n",
    "pd.options.display.float_format = '{:10,.2f}'.format\n",
    "num_col_info_df.T"
   ]
  },
  {
   "cell_type": "markdown",
   "id": "05beadcb-27b1-47a9-a65b-a5a0b058293b",
   "metadata": {},
   "source": [
    "### Với mỗi cột có dữ liệu không phải dạng số, các giá trị được phân bố như thế nào?"
   ]
  },
  {
   "cell_type": "markdown",
   "id": "318d5842",
   "metadata": {},
   "source": [
    "Với các cột \"title\",\"distributor\",\"MPAA\",\"genres\" ta cần tính:\n",
    "\n",
    "- Tỉ lệ % (từ 0 đến 100) các giá trị thiếu\n",
    "- Số lượng các giá trị (các giá trị ở đây là các giá trị khác nhau và ta không xét giá trị thiếu): với cột mà ứng với câu hỏi dạng multichoice (ví dụ, cột \"genres\"), mỗi giá trị có thể chứa nhiều choice (các choice được phân tách bởi dấu phẩy)\n",
    "- Tỉ lệ % (từ 0 đến 100) của mỗi giá trị được sort theo tỉ lệ % giảm dần (ta không xét giá trị thiếu, tỉ lệ là tỉ lệ so với số lượng các giá trị không thiếu)\n",
    "\n",
    "Lưu kết quả vào DataFrame `cat_col_info_df`, trong đó:\n",
    "\n",
    "- Tên của các cột là tên của các cột không phải số trong `survey_df`\n",
    "- Tên của các dòng là: \"missing_ratio\", \"num_values\", \"value_ratios\"\n",
    "\n",
    "Để dễ nhìn, tất cả các giá trị bạn đều làm tròn với 1 chữ số thập phân bằng phương thức `.round(1)`.\n"
   ]
  },
  {
   "cell_type": "code",
   "execution_count": 12,
   "id": "3d45cbfa",
   "metadata": {},
   "outputs": [
    {
     "data": {
      "text/html": [
       "<div>\n",
       "<style scoped>\n",
       "    .dataframe tbody tr th:only-of-type {\n",
       "        vertical-align: middle;\n",
       "    }\n",
       "\n",
       "    .dataframe tbody tr th {\n",
       "        vertical-align: top;\n",
       "    }\n",
       "\n",
       "    .dataframe thead th {\n",
       "        text-align: right;\n",
       "    }\n",
       "</style>\n",
       "<table border=\"1\" class=\"dataframe\">\n",
       "  <thead>\n",
       "    <tr style=\"text-align: right;\">\n",
       "      <th></th>\n",
       "      <th>title</th>\n",
       "      <th>distributor</th>\n",
       "      <th>MPAA</th>\n",
       "      <th>genres</th>\n",
       "    </tr>\n",
       "  </thead>\n",
       "  <tbody>\n",
       "    <tr>\n",
       "      <th>missing_ratio</th>\n",
       "      <td>0.00</td>\n",
       "      <td>0.00</td>\n",
       "      <td>11.30</td>\n",
       "      <td>0.10</td>\n",
       "    </tr>\n",
       "    <tr>\n",
       "      <th>num_values</th>\n",
       "      <td>5840</td>\n",
       "      <td>237</td>\n",
       "      <td>8</td>\n",
       "      <td>25</td>\n",
       "    </tr>\n",
       "    <tr>\n",
       "      <th>value_ratios</th>\n",
       "      <td>{'Beauty and the Beast': 0.08358408559010365, 'The Lion King': 0.06686726847208291, 'The Nightmare Before Christmas': 0.06686726847208291, ' Inc.': 0.06686726847208291, 'Ghostbusters': 0.06686726847208291, 'Monsters': 0.05015045135406219, 'Jurassic Park': 0.05015045135406219, 'Avatar': 0.05015045135406219, 'The Jungle Book': 0.05015045135406219, 'I': 0.05015045135406219, 'Les Misï¿½rables': 0....</td>\n",
       "      <td>{'Warner Bros.': 11.118621155795877, 'Walt Disney Studios Motion Pictures': 8.938830686042582, 'Universal Pictures': 8.938830686042582, 'Twentieth Century Fox': 7.6377154444068935, 'Paramount Pictures': 6.67455221358567, 'Sony Pictures Entertainment (SPE)': 6.471781007096992, 'Lions Gate Films': 4.393376140588036, 'Miramax': 3.6329841162554914, 'New Line Cinema': 3.3119297059817505, 'Metro-Gol...</td>\n",
       "      <td>{'R': 44.27728051799657, 'PG-13': 37.66901542563321, 'PG': 16.853932584269664, 'G': 1.0093315558941154, 'NC-17': 0.11426394972386211, 'Not Rated': 0.03808798324128738, 'Approved': 0.01904399162064369, 'TV-14': 0.01904399162064369}</td>\n",
       "      <td>{'Drama': 16.737035834145285, 'Comedy': 13.380967846703475, 'Thriller': 9.137165746454476, 'Action': 8.216953556349464, 'Romance': 7.377936559489011, 'Adventure': 6.755440077947386, 'Crime': 5.965140197033669, 'Fantasy': 4.568582873227238, 'Family': 4.389953448089207, 'Sci-Fi': 3.870304211324023, 'Mystery': 3.8540651726751114, 'Horror': 3.1287214463570425, 'Biography': 2.522464003464328, 'Anim...</td>\n",
       "    </tr>\n",
       "  </tbody>\n",
       "</table>\n",
       "</div>"
      ],
      "text/plain": [
       "                                                                                                                                                                                                                                                                                                                                                                                                                         title  \\\n",
       "missing_ratio                                                                                                                                                                                                                                                                                                                                                                                                             0.00   \n",
       "num_values                                                                                                                                                                                                                                                                                                                                                                                                                5840   \n",
       "value_ratios   {'Beauty and the Beast': 0.08358408559010365, 'The Lion King': 0.06686726847208291, 'The Nightmare Before Christmas': 0.06686726847208291, ' Inc.': 0.06686726847208291, 'Ghostbusters': 0.06686726847208291, 'Monsters': 0.05015045135406219, 'Jurassic Park': 0.05015045135406219, 'Avatar': 0.05015045135406219, 'The Jungle Book': 0.05015045135406219, 'I': 0.05015045135406219, 'Les Misï¿½rables': 0....   \n",
       "\n",
       "                                                                                                                                                                                                                                                                                                                                                                                                                   distributor  \\\n",
       "missing_ratio                                                                                                                                                                                                                                                                                                                                                                                                             0.00   \n",
       "num_values                                                                                                                                                                                                                                                                                                                                                                                                                 237   \n",
       "value_ratios   {'Warner Bros.': 11.118621155795877, 'Walt Disney Studios Motion Pictures': 8.938830686042582, 'Universal Pictures': 8.938830686042582, 'Twentieth Century Fox': 7.6377154444068935, 'Paramount Pictures': 6.67455221358567, 'Sony Pictures Entertainment (SPE)': 6.471781007096992, 'Lions Gate Films': 4.393376140588036, 'Miramax': 3.6329841162554914, 'New Line Cinema': 3.3119297059817505, 'Metro-Gol...   \n",
       "\n",
       "                                                                                                                                                                                                                                                 MPAA  \\\n",
       "missing_ratio                                                                                                                                                                                                                                   11.30   \n",
       "num_values                                                                                                                                                                                                                                          8   \n",
       "value_ratios   {'R': 44.27728051799657, 'PG-13': 37.66901542563321, 'PG': 16.853932584269664, 'G': 1.0093315558941154, 'NC-17': 0.11426394972386211, 'Not Rated': 0.03808798324128738, 'Approved': 0.01904399162064369, 'TV-14': 0.01904399162064369}   \n",
       "\n",
       "                                                                                                                                                                                                                                                                                                                                                                                                                        genres  \n",
       "missing_ratio                                                                                                                                                                                                                                                                                                                                                                                                             0.10  \n",
       "num_values                                                                                                                                                                                                                                                                                                                                                                                                                  25  \n",
       "value_ratios   {'Drama': 16.737035834145285, 'Comedy': 13.380967846703475, 'Thriller': 9.137165746454476, 'Action': 8.216953556349464, 'Romance': 7.377936559489011, 'Adventure': 6.755440077947386, 'Crime': 5.965140197033669, 'Fantasy': 4.568582873227238, 'Family': 4.389953448089207, 'Sci-Fi': 3.870304211324023, 'Mystery': 3.8540651726751114, 'Horror': 3.1287214463570425, 'Biography': 2.522464003464328, 'Anim...  "
      ]
     },
     "execution_count": 12,
     "metadata": {},
     "output_type": "execute_result"
    }
   ],
   "source": [
    "# Define categorical columns\n",
    "cat_cols = [\"title\", \"distributor\", \"MPAA\", \"genres\"]\n",
    "\n",
    "# Initialize DataFrame to store results\n",
    "cat_col_info_df = pd.DataFrame(\n",
    "    index=[\"missing_ratio\", \"num_values\", \"value_ratios\"], columns=cat_cols)\n",
    "\n",
    "for col in cat_cols:\n",
    "    # Calculate missing ratio\n",
    "    missing_ratio = df[col].isnull().mean() * 100\n",
    "\n",
    "    # Calculate number of unique values\n",
    "    # Split values by comma and flatten the list\n",
    "    values = [val for sublist in df[col].dropna().str.split(',').tolist()\n",
    "              for val in sublist]\n",
    "    num_values = len(set(values))\n",
    "\n",
    "    # Calculate value ratios\n",
    "    value_counts = pd.Series(values).value_counts(normalize=True) * 100\n",
    "    value_ratios = value_counts.sort_values(ascending=False).to_dict()\n",
    "\n",
    "    # Store results\n",
    "    cat_col_info_df.at[\"missing_ratio\", col] = missing_ratio\n",
    "    cat_col_info_df.at[\"num_values\", col] = num_values\n",
    "    cat_col_info_df.at[\"value_ratios\", col] = value_ratios\n",
    "\n",
    "# Round to 1 decimal place\n",
    "cat_col_info_df = cat_col_info_df.applymap(\n",
    "    lambda x: round(x, 1) if isinstance(x, (int, float)) else x)\n",
    "\n",
    "cat_col_info_df"
   ]
  },
  {
   "cell_type": "markdown",
   "id": "e0410b00",
   "metadata": {},
   "source": [
    "### Xử lý dữ liệu bị thiếu\n"
   ]
  },
  {
   "cell_type": "markdown",
   "id": "9cc6de1e",
   "metadata": {},
   "source": [
    "- Tỷ lệ thiếu dữ liệu của từng cột\n"
   ]
  },
  {
   "cell_type": "code",
   "execution_count": 13,
   "id": "755bfd77",
   "metadata": {},
   "outputs": [
    {
     "data": {
      "text/plain": [
       "opening_theaters        67.34\n",
       "budget                  50.25\n",
       "MPAA                    11.27\n",
       "release_date             8.50\n",
       "opening_revenue          1.01\n",
       "in_release               0.56\n",
       "genres                   0.10\n",
       "running_time             0.05\n",
       "title                    0.00\n",
       "domestic_revenue         0.00\n",
       "world_revenue            0.00\n",
       "distributor              0.00\n",
       "dtype: float64"
      ]
     },
     "execution_count": 13,
     "metadata": {},
     "output_type": "execute_result"
    }
   ],
   "source": [
    "df.agg(lambda x: x.isna().mean()*100).sort_values(ascending=False)"
   ]
  },
  {
   "cell_type": "code",
   "execution_count": 14,
   "id": "5db54f2b",
   "metadata": {},
   "outputs": [
    {
     "name": "stdout",
     "output_type": "stream",
     "text": [
      "<class 'pandas.core.frame.DataFrame'>\n",
      "Int64Index: 4760 entries, 0 to 6402\n",
      "Data columns (total 10 columns):\n",
      " #   Column            Non-Null Count  Dtype         \n",
      "---  ------            --------------  -----         \n",
      " 0   title             4760 non-null   object        \n",
      " 1   domestic_revenue  4760 non-null   int64         \n",
      " 2   world_revenue     4760 non-null   int64         \n",
      " 3   distributor       4760 non-null   object        \n",
      " 4   opening_revenue   4760 non-null   float64       \n",
      " 5   MPAA              4760 non-null   object        \n",
      " 6   genres            4760 non-null   object        \n",
      " 7   running_time      4760 non-null   float64       \n",
      " 8   in_release        4760 non-null   float64       \n",
      " 9   release_date      4760 non-null   datetime64[ns]\n",
      "dtypes: datetime64[ns](1), float64(3), int64(2), object(4)\n",
      "memory usage: 409.1+ KB\n"
     ]
    },
    {
     "data": {
      "text/plain": [
       "(4760, 10)"
      ]
     },
     "execution_count": 14,
     "metadata": {},
     "output_type": "execute_result"
    }
   ],
   "source": [
    "# Drop the 'opening_theaters' and 'budget' columns\n",
    "df = df.drop(['opening_theaters', 'budget'], axis=1)\n",
    "\n",
    "# Drop rows with missing values\n",
    "df = df.dropna()\n",
    "\n",
    "df.agg(lambda x: x.isna().mean()*100).sort_values(ascending=False)\n",
    "df.info()\n",
    "df.shape"
   ]
  },
  {
   "cell_type": "markdown",
   "id": "b583f900",
   "metadata": {},
   "source": [
    "## Trực quan hóa và thống kê dữ liệu\n"
   ]
  },
  {
   "cell_type": "code",
   "execution_count": 15,
   "id": "5a2d2d0b",
   "metadata": {},
   "outputs": [
    {
     "data": {
      "image/png": "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",
      "text/plain": [
       "<Figure size 800x600 with 1 Axes>"
      ]
     },
     "metadata": {},
     "output_type": "display_data"
    },
    {
     "data": {
      "image/png": "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",
      "text/plain": [
       "<Figure size 800x600 with 1 Axes>"
      ]
     },
     "metadata": {},
     "output_type": "display_data"
    },
    {
     "data": {
      "image/png": "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",
      "text/plain": [
       "<Figure size 800x600 with 1 Axes>"
      ]
     },
     "metadata": {},
     "output_type": "display_data"
    },
    {
     "data": {
      "image/png": "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",
      "text/plain": [
       "<Figure size 800x600 with 1 Axes>"
      ]
     },
     "metadata": {},
     "output_type": "display_data"
    },
    {
     "data": {
      "image/png": "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",
      "text/plain": [
       "<Figure size 800x600 with 1 Axes>"
      ]
     },
     "metadata": {},
     "output_type": "display_data"
    },
    {
     "name": "stdout",
     "output_type": "stream",
     "text": [
      "\n",
      "Basic Statistics for Categorical Columns:\n",
      "\n",
      "Column: title\n",
      "count                 4760\n",
      "unique                4676\n",
      "top       Les Misï¿½rables\n",
      "freq                     3\n",
      "Name: title, dtype: object\n",
      "\n",
      "Column: distributor\n",
      "count             4760\n",
      "unique             178\n",
      "top       Warner Bros.\n",
      "freq               572\n",
      "Name: distributor, dtype: object\n",
      "\n",
      "Column: MPAA\n",
      "count     4760\n",
      "unique       8\n",
      "top          R\n",
      "freq      2045\n",
      "Name: MPAA, dtype: object\n",
      "\n",
      "Column: genres\n",
      "count                     4760\n",
      "unique                     909\n",
      "top       Comedy,Drama,Romance\n",
      "freq                       233\n",
      "Name: genres, dtype: object\n",
      "\n",
      "Column: release_date\n",
      "count                    4760\n",
      "unique                   1873\n",
      "top       2000-12-22 00:00:00\n",
      "freq                        8\n",
      "first     1989-11-08 00:00:00\n",
      "last      2022-12-23 00:00:00\n",
      "Name: release_date, dtype: object\n"
     ]
    },
    {
     "name": "stderr",
     "output_type": "stream",
     "text": [
      "/tmp/ipykernel_26733/1929468206.py:17: FutureWarning: Treating datetime data as categorical rather than numeric in `.describe` is deprecated and will be removed in a future version of pandas. Specify `datetime_is_numeric=True` to silence this warning and adopt the future behavior now.\n",
      "  print(df[col].describe())\n"
     ]
    }
   ],
   "source": [
    "# Separate numeric and categorical columns\n",
    "numeric_cols = df.select_dtypes(include=['int64', 'float64']).columns\n",
    "categorical_cols = df.select_dtypes(\n",
    "    include=['object', 'bool', 'datetime64[ns]']).columns\n",
    "\n",
    "# Plot boxplots for numeric columns\n",
    "for col in numeric_cols:\n",
    "    plt.figure(figsize=(8, 6))\n",
    "    plt.title(f'Boxplot of {col}')\n",
    "    sns.boxplot(x=df[col])\n",
    "    plt.show()\n",
    "\n",
    "# Print basic statistics for categorical columns\n",
    "print(\"\\nBasic Statistics for Categorical Columns:\")\n",
    "for col in categorical_cols:\n",
    "    print(f'\\nColumn: {col}')\n",
    "    print(df[col].describe())"
   ]
  },
  {
   "cell_type": "code",
   "execution_count": 16,
   "id": "2f9afe4c-fb4a-4cf0-84f9-e3d189fb4d43",
   "metadata": {},
   "outputs": [],
   "source": [
    "df.to_csv('./data/processed/processed_data.csv', index=False)"
   ]
  }
 ],
 "metadata": {
  "kernelspec": {
   "display_name": "Python 3 (ipykernel)",
   "language": "python",
   "name": "python3"
  },
  "language_info": {
   "codemirror_mode": {
    "name": "ipython",
    "version": 3
   },
   "file_extension": ".py",
   "mimetype": "text/x-python",
   "name": "python",
   "nbconvert_exporter": "python",
   "pygments_lexer": "ipython3",
   "version": "3.10.8"
  },
  "vscode": {
   "interpreter": {
    "hash": "230eced423d2f0c873d70f568fb3b91d4d0a92783dea9e5e343fd82907c96f27"
   }
  }
 },
 "nbformat": 4,
 "nbformat_minor": 5
}
=======
{
 "cells": [
  {
   "cell_type": "markdown",
   "id": "62050c72",
   "metadata": {},
   "source": [
    "<div style=\"border:2px solid black; padding:10px;\">\n",
    "    <h3>Nhóm 15</h3>\n",
    "    <h1 style='color:red;text-align:center;font-size:30px'>Chủ đề: Phân tích về doanh thu phim<b></b></h1>\n",
    "</div>\n"
   ]
  },
  {
   "cell_type": "markdown",
   "id": "eede0177",
   "metadata": {},
   "source": [
    "<h3>Danh sách thành viên</h3>\n",
    "<li> Nguyễn Quốc Hưng - 21120464 </li>\n",
    "<li> Đoàn Đức Hữu - 21120465 </li>\n",
    "<li> Võ Minh Khuê - 21120486</li>\n",
    "<li> Hồ Trọng Lễ - 21120494</li>\n"
   ]
  },
  {
   "cell_type": "markdown",
   "id": "fadad046",
   "metadata": {},
   "source": [
    "<h1 style='color:blue;text-align:center;font-size:30px'><b>Phần I - B. Khám phá - Tiền xử xử lý dữ liệu </b></h1>\n"
   ]
  },
  {
   "cell_type": "markdown",
   "id": "d9aeff06",
   "metadata": {},
   "source": [
    "# Import thư viện\n"
   ]
  },
  {
   "cell_type": "code",
   "execution_count": 241,
   "id": "bb276657",
   "metadata": {},
   "outputs": [],
   "source": [
    "%matplotlib inline\n",
    "import matplotlib.pyplot as plt\n",
    "import numpy as np\n",
    "import pandas as pd \n",
    "import seaborn as sns\n",
    "\n",
    "import os\n",
    "import re\n",
    "import statistics\n",
    "import seaborn as sns\n",
    "sns.set(rc={'axes.facecolor':'lightblue', 'figure.facecolor':'lightgray'})"
   ]
  },
  {
   "cell_type": "code",
   "execution_count": 242,
   "id": "2af86d9c",
   "metadata": {},
   "outputs": [
    {
     "data": {
      "text/plain": [
       "'c:\\\\Users\\\\dhuu2\\\\AppData\\\\Local\\\\Programs\\\\Python\\\\Python311\\\\python.exe'"
      ]
     },
     "execution_count": 242,
     "metadata": {},
     "output_type": "execute_result"
    }
   ],
   "source": [
    "import sys\n",
    "sys.executable"
   ]
  },
  {
   "cell_type": "markdown",
   "id": "79b3a572",
   "metadata": {},
   "source": [
    "### Đọc file 'boxoffice_1990_2022.csv' vào dataframe df\n"
   ]
  },
  {
   "cell_type": "code",
   "execution_count": 243,
   "id": "09468941",
   "metadata": {},
   "outputs": [
    {
     "data": {
      "text/html": [
       "<div>\n",
       "<style scoped>\n",
       "    .dataframe tbody tr th:only-of-type {\n",
       "        vertical-align: middle;\n",
       "    }\n",
       "\n",
       "    .dataframe tbody tr th {\n",
       "        vertical-align: top;\n",
       "    }\n",
       "\n",
       "    .dataframe thead th {\n",
       "        text-align: right;\n",
       "    }\n",
       "</style>\n",
       "<table border=\"1\" class=\"dataframe\">\n",
       "  <thead>\n",
       "    <tr style=\"text-align: right;\">\n",
       "      <th></th>\n",
       "      <th>title</th>\n",
       "      <th>domestic_revenue</th>\n",
       "      <th>world_revenue</th>\n",
       "      <th>distributor</th>\n",
       "      <th>opening_revenue</th>\n",
       "      <th>opening_theaters</th>\n",
       "      <th>budget</th>\n",
       "      <th>MPAA</th>\n",
       "      <th>genres</th>\n",
       "      <th>in_release</th>\n",
       "      <th>release_date</th>\n",
       "    </tr>\n",
       "  </thead>\n",
       "  <tbody>\n",
       "    <tr>\n",
       "      <th>0</th>\n",
       "      <td>Thomas and the Magic Railroad</td>\n",
       "      <td>$15,933,506</td>\n",
       "      <td>$19,748,009</td>\n",
       "      <td>Destination Films</td>\n",
       "      <td>$4,154,932</td>\n",
       "      <td>2,016</td>\n",
       "      <td>NaN</td>\n",
       "      <td>NaN</td>\n",
       "      <td>Adventure,Comedy,Drama,Family,Fantasy</td>\n",
       "      <td>159</td>\n",
       "      <td>26/07/2000</td>\n",
       "    </tr>\n",
       "    <tr>\n",
       "      <th>1</th>\n",
       "      <td>The Talented Mr. Ripley</td>\n",
       "      <td>$81,298,265</td>\n",
       "      <td>$128,798,265</td>\n",
       "      <td>Paramount Pictures</td>\n",
       "      <td>$12,738,237</td>\n",
       "      <td>2,307</td>\n",
       "      <td>$40,000,000</td>\n",
       "      <td>R</td>\n",
       "      <td>Crime,Drama,Thriller</td>\n",
       "      <td>373</td>\n",
       "      <td>25/12/1999</td>\n",
       "    </tr>\n",
       "    <tr>\n",
       "      <th>2</th>\n",
       "      <td>One False Move</td>\n",
       "      <td>$1,543,112</td>\n",
       "      <td>$1,543,112</td>\n",
       "      <td>IRS Media</td>\n",
       "      <td>$44,545</td>\n",
       "      <td>5</td>\n",
       "      <td>NaN</td>\n",
       "      <td>R</td>\n",
       "      <td>Crime,Drama,Thriller</td>\n",
       "      <td>238</td>\n",
       "      <td>08/05/1992</td>\n",
       "    </tr>\n",
       "    <tr>\n",
       "      <th>3</th>\n",
       "      <td>C'est la vie</td>\n",
       "      <td>$805,472</td>\n",
       "      <td>$805,472</td>\n",
       "      <td>The Samuel Goldwyn Company</td>\n",
       "      <td>$18,749</td>\n",
       "      <td>2</td>\n",
       "      <td>NaN</td>\n",
       "      <td>NaN</td>\n",
       "      <td>Comedy,Drama,Romance</td>\n",
       "      <td>63</td>\n",
       "      <td>02/11/1990</td>\n",
       "    </tr>\n",
       "    <tr>\n",
       "      <th>4</th>\n",
       "      <td>Coupe de Ville</td>\n",
       "      <td>$715,983</td>\n",
       "      <td>$715,983</td>\n",
       "      <td>Universal Pictures</td>\n",
       "      <td>$66,871</td>\n",
       "      <td>7</td>\n",
       "      <td>NaN</td>\n",
       "      <td>NaN</td>\n",
       "      <td>Comedy,Drama</td>\n",
       "      <td>298</td>\n",
       "      <td>09/03/1990</td>\n",
       "    </tr>\n",
       "    <tr>\n",
       "      <th>5</th>\n",
       "      <td>Galaxy Quest</td>\n",
       "      <td>$71,583,916</td>\n",
       "      <td>$90,683,916</td>\n",
       "      <td>DreamWorks Distribution</td>\n",
       "      <td>$7,012,630</td>\n",
       "      <td>2,412</td>\n",
       "      <td>$45,000,000</td>\n",
       "      <td>PG</td>\n",
       "      <td>Adventure,Comedy,Sci-Fi</td>\n",
       "      <td>373</td>\n",
       "      <td>25/12/1999</td>\n",
       "    </tr>\n",
       "    <tr>\n",
       "      <th>6</th>\n",
       "      <td>Hero</td>\n",
       "      <td>$53,710,019</td>\n",
       "      <td>$177,395,557</td>\n",
       "      <td>Miramax</td>\n",
       "      <td>$17,800,000</td>\n",
       "      <td>2,031</td>\n",
       "      <td>$31,000,000</td>\n",
       "      <td>PG-13</td>\n",
       "      <td>Action,Adventure,Drama</td>\n",
       "      <td>133</td>\n",
       "      <td>27/08/2004</td>\n",
       "    </tr>\n",
       "    <tr>\n",
       "      <th>7</th>\n",
       "      <td>Little Nemo: Adventures in Slumberland</td>\n",
       "      <td>$1,368,000</td>\n",
       "      <td>$1,368,000</td>\n",
       "      <td>Hemdale</td>\n",
       "      <td>$407,695</td>\n",
       "      <td>579</td>\n",
       "      <td>NaN</td>\n",
       "      <td>NaN</td>\n",
       "      <td>Adventure,Animation,Comedy,Family,Fantasy,Musical</td>\n",
       "      <td>133</td>\n",
       "      <td>21/08/1992</td>\n",
       "    </tr>\n",
       "    <tr>\n",
       "      <th>8</th>\n",
       "      <td>Zebrahead</td>\n",
       "      <td>$1,557,771</td>\n",
       "      <td>$1,557,771</td>\n",
       "      <td>Triumph Releasing Corporation</td>\n",
       "      <td>$609,041</td>\n",
       "      <td>251</td>\n",
       "      <td>NaN</td>\n",
       "      <td>R</td>\n",
       "      <td>Drama,Romance</td>\n",
       "      <td>70</td>\n",
       "      <td>23/10/1992</td>\n",
       "    </tr>\n",
       "    <tr>\n",
       "      <th>9</th>\n",
       "      <td>The Phantom of the Opera</td>\n",
       "      <td>$51,268,815</td>\n",
       "      <td>$154,648,887</td>\n",
       "      <td>Warner Bros.</td>\n",
       "      <td>$4,001,890</td>\n",
       "      <td>622</td>\n",
       "      <td>$70,000,000</td>\n",
       "      <td>PG-13</td>\n",
       "      <td>Drama,Musical,Romance,Thriller</td>\n",
       "      <td>375</td>\n",
       "      <td>22/12/2004</td>\n",
       "    </tr>\n",
       "    <tr>\n",
       "      <th>10</th>\n",
       "      <td>South Central</td>\n",
       "      <td>$1,373,196</td>\n",
       "      <td>$1,373,196</td>\n",
       "      <td>Warner Bros.</td>\n",
       "      <td>$147,629</td>\n",
       "      <td>37</td>\n",
       "      <td>NaN</td>\n",
       "      <td>R</td>\n",
       "      <td>Crime,Drama</td>\n",
       "      <td>105</td>\n",
       "      <td>18/09/1992</td>\n",
       "    </tr>\n",
       "    <tr>\n",
       "      <th>11</th>\n",
       "      <td>Jurassic Park</td>\n",
       "      <td>$357,067,947</td>\n",
       "      <td>$978,167,947</td>\n",
       "      <td>Universal Pictures</td>\n",
       "      <td>$47,026,828</td>\n",
       "      <td>2,404</td>\n",
       "      <td>$63,000,000</td>\n",
       "      <td>PG-13</td>\n",
       "      <td>Action,Adventure,Sci-Fi,Thriller</td>\n",
       "      <td>569</td>\n",
       "      <td>11/06/1993</td>\n",
       "    </tr>\n",
       "    <tr>\n",
       "      <th>12</th>\n",
       "      <td>Shadow of the Wolf</td>\n",
       "      <td>$1,434,174</td>\n",
       "      <td>$1,434,174</td>\n",
       "      <td>Triumph Releasing Corporation</td>\n",
       "      <td>$747,119</td>\n",
       "      <td>373</td>\n",
       "      <td>NaN</td>\n",
       "      <td>PG-13</td>\n",
       "      <td>Adventure,Drama,Thriller</td>\n",
       "      <td>302</td>\n",
       "      <td>05/03/1993</td>\n",
       "    </tr>\n",
       "    <tr>\n",
       "      <th>13</th>\n",
       "      <td>Wild Orchid II: Two Shades of Blue</td>\n",
       "      <td>$573,904</td>\n",
       "      <td>$573,904</td>\n",
       "      <td>Triumph Releasing Corporation</td>\n",
       "      <td>$323,288</td>\n",
       "      <td>266</td>\n",
       "      <td>NaN</td>\n",
       "      <td>R</td>\n",
       "      <td>Drama,Romance</td>\n",
       "      <td>238</td>\n",
       "      <td>08/05/1992</td>\n",
       "    </tr>\n",
       "    <tr>\n",
       "      <th>14</th>\n",
       "      <td>Brother's Keeper</td>\n",
       "      <td>$1,305,915</td>\n",
       "      <td>$1,305,915</td>\n",
       "      <td>Creative Thinking International</td>\n",
       "      <td>$10,758</td>\n",
       "      <td>1</td>\n",
       "      <td>NaN</td>\n",
       "      <td>R</td>\n",
       "      <td>Crime,Documentary,Mystery</td>\n",
       "      <td>479</td>\n",
       "      <td>09/09/1992</td>\n",
       "    </tr>\n",
       "    <tr>\n",
       "      <th>15</th>\n",
       "      <td>Coyote Ugly</td>\n",
       "      <td>$60,786,269</td>\n",
       "      <td>$113,916,474</td>\n",
       "      <td>Walt Disney Studios Motion Pictures</td>\n",
       "      <td>$17,319,282</td>\n",
       "      <td>2,653</td>\n",
       "      <td>$45,000,000</td>\n",
       "      <td>PG-13</td>\n",
       "      <td>Comedy,Drama,Music,Romance</td>\n",
       "      <td>154</td>\n",
       "      <td>04/08/2000</td>\n",
       "    </tr>\n",
       "    <tr>\n",
       "      <th>16</th>\n",
       "      <td>Charlie's Angels</td>\n",
       "      <td>$125,305,545</td>\n",
       "      <td>$264,105,545</td>\n",
       "      <td>Sony Pictures Entertainment (SPE)</td>\n",
       "      <td>$40,128,550</td>\n",
       "      <td>3,037</td>\n",
       "      <td>$93,000,000</td>\n",
       "      <td>PG-13</td>\n",
       "      <td>Action,Adventure,Comedy,Crime,Thriller</td>\n",
       "      <td>424</td>\n",
       "      <td>03/11/2000</td>\n",
       "    </tr>\n",
       "    <tr>\n",
       "      <th>17</th>\n",
       "      <td>Sidewalks of New York</td>\n",
       "      <td>$2,402,652</td>\n",
       "      <td>$3,520,373</td>\n",
       "      <td>Paramount Classics</td>\n",
       "      <td>$545,132</td>\n",
       "      <td>99</td>\n",
       "      <td>NaN</td>\n",
       "      <td>R</td>\n",
       "      <td>Comedy,Romance</td>\n",
       "      <td>404</td>\n",
       "      <td>23/11/2001</td>\n",
       "    </tr>\n",
       "    <tr>\n",
       "      <th>18</th>\n",
       "      <td>Gabriela</td>\n",
       "      <td>$2,335,352</td>\n",
       "      <td>$2,335,352</td>\n",
       "      <td>Power Point Films</td>\n",
       "      <td>$63,706</td>\n",
       "      <td>11</td>\n",
       "      <td>NaN</td>\n",
       "      <td>R</td>\n",
       "      <td>Drama,Romance</td>\n",
       "      <td>291</td>\n",
       "      <td>16/03/2001</td>\n",
       "    </tr>\n",
       "    <tr>\n",
       "      <th>19</th>\n",
       "      <td>Waking Life</td>\n",
       "      <td>$2,901,447</td>\n",
       "      <td>$3,176,880</td>\n",
       "      <td>Fox Searchlight</td>\n",
       "      <td>$88,977</td>\n",
       "      <td>4</td>\n",
       "      <td>NaN</td>\n",
       "      <td>R</td>\n",
       "      <td>Animation,Drama,Fantasy</td>\n",
       "      <td>439</td>\n",
       "      <td>19/10/2001</td>\n",
       "    </tr>\n",
       "  </tbody>\n",
       "</table>\n",
       "</div>"
      ],
      "text/plain": [
       "                                     title domestic_revenue world_revenue  \\\n",
       "0            Thomas and the Magic Railroad      $15,933,506   $19,748,009   \n",
       "1                  The Talented Mr. Ripley      $81,298,265  $128,798,265   \n",
       "2                           One False Move       $1,543,112    $1,543,112   \n",
       "3                             C'est la vie         $805,472      $805,472   \n",
       "4                           Coupe de Ville         $715,983      $715,983   \n",
       "5                             Galaxy Quest      $71,583,916   $90,683,916   \n",
       "6                                     Hero      $53,710,019  $177,395,557   \n",
       "7   Little Nemo: Adventures in Slumberland       $1,368,000    $1,368,000   \n",
       "8                                Zebrahead       $1,557,771    $1,557,771   \n",
       "9                 The Phantom of the Opera      $51,268,815  $154,648,887   \n",
       "10                           South Central       $1,373,196    $1,373,196   \n",
       "11                           Jurassic Park     $357,067,947  $978,167,947   \n",
       "12                      Shadow of the Wolf       $1,434,174    $1,434,174   \n",
       "13      Wild Orchid II: Two Shades of Blue         $573,904      $573,904   \n",
       "14                        Brother's Keeper       $1,305,915    $1,305,915   \n",
       "15                             Coyote Ugly      $60,786,269  $113,916,474   \n",
       "16                        Charlie's Angels     $125,305,545  $264,105,545   \n",
       "17                   Sidewalks of New York       $2,402,652    $3,520,373   \n",
       "18                                Gabriela       $2,335,352    $2,335,352   \n",
       "19                             Waking Life       $2,901,447    $3,176,880   \n",
       "\n",
       "                            distributor opening_revenue opening_theaters  \\\n",
       "0                     Destination Films      $4,154,932            2,016   \n",
       "1                    Paramount Pictures     $12,738,237            2,307   \n",
       "2                             IRS Media         $44,545                5   \n",
       "3            The Samuel Goldwyn Company         $18,749                2   \n",
       "4                    Universal Pictures         $66,871                7   \n",
       "5               DreamWorks Distribution      $7,012,630            2,412   \n",
       "6                               Miramax     $17,800,000            2,031   \n",
       "7                               Hemdale        $407,695              579   \n",
       "8         Triumph Releasing Corporation        $609,041              251   \n",
       "9                          Warner Bros.      $4,001,890              622   \n",
       "10                         Warner Bros.        $147,629               37   \n",
       "11                   Universal Pictures     $47,026,828            2,404   \n",
       "12        Triumph Releasing Corporation        $747,119              373   \n",
       "13        Triumph Releasing Corporation        $323,288              266   \n",
       "14      Creative Thinking International         $10,758                1   \n",
       "15  Walt Disney Studios Motion Pictures     $17,319,282            2,653   \n",
       "16    Sony Pictures Entertainment (SPE)     $40,128,550            3,037   \n",
       "17                   Paramount Classics        $545,132               99   \n",
       "18                    Power Point Films         $63,706               11   \n",
       "19                      Fox Searchlight         $88,977                4   \n",
       "\n",
       "         budget   MPAA                                             genres  \\\n",
       "0           NaN    NaN              Adventure,Comedy,Drama,Family,Fantasy   \n",
       "1   $40,000,000      R                               Crime,Drama,Thriller   \n",
       "2           NaN      R                               Crime,Drama,Thriller   \n",
       "3           NaN    NaN                               Comedy,Drama,Romance   \n",
       "4           NaN    NaN                                       Comedy,Drama   \n",
       "5   $45,000,000     PG                            Adventure,Comedy,Sci-Fi   \n",
       "6   $31,000,000  PG-13                             Action,Adventure,Drama   \n",
       "7           NaN    NaN  Adventure,Animation,Comedy,Family,Fantasy,Musical   \n",
       "8           NaN      R                                      Drama,Romance   \n",
       "9   $70,000,000  PG-13                     Drama,Musical,Romance,Thriller   \n",
       "10          NaN      R                                        Crime,Drama   \n",
       "11  $63,000,000  PG-13                   Action,Adventure,Sci-Fi,Thriller   \n",
       "12          NaN  PG-13                           Adventure,Drama,Thriller   \n",
       "13          NaN      R                                      Drama,Romance   \n",
       "14          NaN      R                          Crime,Documentary,Mystery   \n",
       "15  $45,000,000  PG-13                         Comedy,Drama,Music,Romance   \n",
       "16  $93,000,000  PG-13             Action,Adventure,Comedy,Crime,Thriller   \n",
       "17          NaN      R                                     Comedy,Romance   \n",
       "18          NaN      R                                      Drama,Romance   \n",
       "19          NaN      R                            Animation,Drama,Fantasy   \n",
       "\n",
       "   in_release release_date  \n",
       "0         159   26/07/2000  \n",
       "1         373   25/12/1999  \n",
       "2         238   08/05/1992  \n",
       "3          63   02/11/1990  \n",
       "4         298   09/03/1990  \n",
       "5         373   25/12/1999  \n",
       "6         133   27/08/2004  \n",
       "7         133   21/08/1992  \n",
       "8          70   23/10/1992  \n",
       "9         375   22/12/2004  \n",
       "10        105   18/09/1992  \n",
       "11        569   11/06/1993  \n",
       "12        302   05/03/1993  \n",
       "13        238   08/05/1992  \n",
       "14        479   09/09/1992  \n",
       "15        154   04/08/2000  \n",
       "16        424   03/11/2000  \n",
       "17        404   23/11/2001  \n",
       "18        291   16/03/2001  \n",
       "19        439   19/10/2001  "
      ]
     },
     "execution_count": 243,
     "metadata": {},
     "output_type": "execute_result"
    }
   ],
   "source": [
    "df = pd.read_csv(\n",
    "    './boxoffice_crawler/boxoffice_crawler/boxoffice_1990_2022.csv', encoding='latin1')\n",
    "df.head(20)"
   ]
  },
  {
   "cell_type": "markdown",
   "id": "37cdb7ea",
   "metadata": {},
   "source": [
    "## Khám phá dữ liệu\n"
   ]
  },
  {
   "cell_type": "markdown",
   "id": "35fc847c",
   "metadata": {},
   "source": [
    "### Dữ liệu có bao nhiêu dòng và bao nhiêu cột?"
   ]
  },
  {
   "cell_type": "code",
   "execution_count": 244,
   "id": "2390b124",
   "metadata": {},
   "outputs": [
    {
     "data": {
      "text/plain": [
       "(6405, 11)"
      ]
     },
     "execution_count": 244,
     "metadata": {},
     "output_type": "execute_result"
    }
   ],
   "source": [
    "num_rows, num_cols = df.shape\n",
    "num_rows, num_cols"
   ]
  },
  {
   "cell_type": "markdown",
   "id": "8f5f8d98-03e2-4d3f-b64a-68e0c7145389",
   "metadata": {},
   "source": [
    "### Mỗi dòng có ý nghĩa gì? Có vấn đề các dòng có ý nghĩa khác nhau không?\n",
    "- Dựa vào kết quả trên, mỗi dòng thể hiện thông tin chi tiết của các phim trong khoảng thời gian từ năm 1980 đến năm 2022 được thu thập từ trang web Box Office Mojo.\n",
    "- Không có dòng nào có ý nghĩa khác so với các dòng còn lại."
   ]
  },
  {
   "cell_type": "markdown",
   "id": "a2521df9-2531-4711-8230-491f9dfa2d73",
   "metadata": {},
   "source": [
    "### Dữ liệu có dòng nào bị lặp không?"
   ]
  },
  {
   "cell_type": "code",
   "execution_count": 245,
   "id": "3df755ef-ad31-4f48-80a7-1e30c6926fd3",
   "metadata": {},
   "outputs": [
    {
     "name": "stdout",
     "output_type": "stream",
     "text": [
      "Có dữ liệu lặp: 487 dòng\n"
     ]
    }
   ],
   "source": [
    "duplicated_rows = df[df.duplicated()]\n",
    "duplicated_nums = duplicated_rows.shape\n",
    "if duplicated_nums[0] > 0:\n",
    "    print(f'Có dữ liệu lặp: {duplicated_nums[0]} dòng')\n",
    "else:\n",
    "    print('Không có dữ liệu bị lặp')"
   ]
  },
  {
   "cell_type": "markdown",
   "id": "7253ff50-25ed-4050-b4f8-8f10be313560",
   "metadata": {},
   "source": [
    "Như kết quả trả về cho ta thấy, trong tập dữ liệu này có 487 dòng bị lặp. Vậy phải xử lý các dòng dữ liệu lặp: "
   ]
  },
  {
   "cell_type": "code",
   "execution_count": 246,
   "id": "8a40c335-ac0f-41b1-b099-df9886fbc211",
   "metadata": {},
   "outputs": [
    {
     "name": "stdout",
     "output_type": "stream",
     "text": [
      "Không có dữ liệu bị lặp\n"
     ]
    }
   ],
   "source": [
    "df = df.drop_duplicates()\n",
    "\n",
    "duplicated_rows = df[df.duplicated()]\n",
    "duplicated_nums = duplicated_rows.shape\n",
    "if duplicated_nums[0] > 0:\n",
    "    print(f'Có dữ liệu lặp: {duplicated_nums[0]} dòng')\n",
    "else:\n",
    "    print('Không có dữ liệu bị lặp')"
   ]
  },
  {
   "cell_type": "markdown",
   "id": "19b65cfa",
   "metadata": {},
   "source": [
    "### Ý nghĩa của các cột\n"
   ]
  },
  {
   "cell_type": "code",
   "execution_count": 247,
   "id": "e6bfed67",
   "metadata": {},
   "outputs": [
    {
     "data": {
      "text/html": [
       "<div>\n",
       "<style scoped>\n",
       "    .dataframe tbody tr th:only-of-type {\n",
       "        vertical-align: middle;\n",
       "    }\n",
       "\n",
       "    .dataframe tbody tr th {\n",
       "        vertical-align: top;\n",
       "    }\n",
       "\n",
       "    .dataframe thead th {\n",
       "        text-align: right;\n",
       "    }\n",
       "</style>\n",
       "<table border=\"1\" class=\"dataframe\">\n",
       "  <thead>\n",
       "    <tr style=\"text-align: right;\">\n",
       "      <th></th>\n",
       "      <th>STT</th>\n",
       "      <th>name</th>\n",
       "      <th>meaning</th>\n",
       "    </tr>\n",
       "  </thead>\n",
       "  <tbody>\n",
       "    <tr>\n",
       "      <th>0</th>\n",
       "      <td>1</td>\n",
       "      <td>title</td>\n",
       "      <td>Tựa đề phim</td>\n",
       "    </tr>\n",
       "    <tr>\n",
       "      <th>1</th>\n",
       "      <td>2</td>\n",
       "      <td>domestic_revenue</td>\n",
       "      <td>Doanh thu trong nước (USA)</td>\n",
       "    </tr>\n",
       "    <tr>\n",
       "      <th>2</th>\n",
       "      <td>3</td>\n",
       "      <td>world_revenue</td>\n",
       "      <td>Doanh thu toàn cầu</td>\n",
       "    </tr>\n",
       "    <tr>\n",
       "      <th>3</th>\n",
       "      <td>4</td>\n",
       "      <td>distributor</td>\n",
       "      <td>Nhà phân phối</td>\n",
       "    </tr>\n",
       "    <tr>\n",
       "      <th>4</th>\n",
       "      <td>5</td>\n",
       "      <td>opening_revenue</td>\n",
       "      <td>Doanh thu mở màn, hay còn được gọi là doanh thu đạt được trong tuần đầu tiên</td>\n",
       "    </tr>\n",
       "    <tr>\n",
       "      <th>5</th>\n",
       "      <td>6</td>\n",
       "      <td>opening_theater</td>\n",
       "      <td>Số lượng rạp mà bộ phim được chiếu trong được chiếu trong tuần đầu tiên</td>\n",
       "    </tr>\n",
       "    <tr>\n",
       "      <th>6</th>\n",
       "      <td>7</td>\n",
       "      <td>budget</td>\n",
       "      <td>Ngân sách dùng để sản xuất bộ phim</td>\n",
       "    </tr>\n",
       "    <tr>\n",
       "      <th>7</th>\n",
       "      <td>8</td>\n",
       "      <td>MPPA</td>\n",
       "      <td>Chỉ số đánh giá cảu Hiệp Hội điện ảnh Hoa Kỳ</td>\n",
       "    </tr>\n",
       "    <tr>\n",
       "      <th>8</th>\n",
       "      <td>10</td>\n",
       "      <td>in_release</td>\n",
       "      <td>Số ngày bộ phim được phát hành</td>\n",
       "    </tr>\n",
       "    <tr>\n",
       "      <th>9</th>\n",
       "      <td>11</td>\n",
       "      <td>release_date</td>\n",
       "      <td>Ngày phát hành</td>\n",
       "    </tr>\n",
       "  </tbody>\n",
       "</table>\n",
       "</div>"
      ],
      "text/plain": [
       "   STT              name  \\\n",
       "0    1             title   \n",
       "1    2  domestic_revenue   \n",
       "2    3     world_revenue   \n",
       "3    4       distributor   \n",
       "4    5   opening_revenue   \n",
       "5    6   opening_theater   \n",
       "6    7            budget   \n",
       "7    8              MPPA   \n",
       "8   10        in_release   \n",
       "9   11      release_date   \n",
       "\n",
       "                                                                        meaning  \n",
       "0                                                                   Tựa đề phim  \n",
       "1                                                    Doanh thu trong nước (USA)  \n",
       "2                                                           Doanh thu toàn cầu   \n",
       "3                                                                 Nhà phân phối  \n",
       "4  Doanh thu mở màn, hay còn được gọi là doanh thu đạt được trong tuần đầu tiên  \n",
       "5       Số lượng rạp mà bộ phim được chiếu trong được chiếu trong tuần đầu tiên  \n",
       "6                                            Ngân sách dùng để sản xuất bộ phim  \n",
       "7                                  Chỉ số đánh giá cảu Hiệp Hội điện ảnh Hoa Kỳ  \n",
       "8                                                Số ngày bộ phim được phát hành  \n",
       "9                                                                Ngày phát hành  "
      ]
     },
     "execution_count": 247,
     "metadata": {},
     "output_type": "execute_result"
    }
   ],
   "source": [
    "schema_data = pd.read_csv(\n",
    "    \"./boxoffice_crawler/boxoffice_crawler/MovieRevenue_schema.csv\", encoding='utf-8')\n",
    "pd.set_option('max_colwidth', 400)\n",
    "schema_data\n"
   ]
  },
  {
   "cell_type": "markdown",
   "id": "08bbeacc",
   "metadata": {},
   "source": [
    "### Kiểu dữ liệu của các cột\n"
   ]
  },
  {
   "cell_type": "code",
   "execution_count": 248,
   "id": "e443e05b",
   "metadata": {},
   "outputs": [
    {
     "name": "stdout",
     "output_type": "stream",
     "text": [
      "<class 'pandas.core.frame.DataFrame'>\n",
      "Index: 5918 entries, 0 to 6404\n",
      "Data columns (total 11 columns):\n",
      " #   Column            Non-Null Count  Dtype \n",
      "---  ------            --------------  ----- \n",
      " 0   title             5918 non-null   object\n",
      " 1   domestic_revenue  5918 non-null   object\n",
      " 2   world_revenue     5918 non-null   object\n",
      " 3   distributor       5918 non-null   object\n",
      " 4   opening_revenue   5858 non-null   object\n",
      " 5   opening_theaters  5851 non-null   object\n",
      " 6   budget            2944 non-null   object\n",
      " 7   MPAA              5251 non-null   object\n",
      " 8   genres            5912 non-null   object\n",
      " 9   in_release        5916 non-null   object\n",
      " 10  release_date      5415 non-null   object\n",
      "dtypes: object(11)\n",
      "memory usage: 554.8+ KB\n"
     ]
    }
   ],
   "source": [
    "df.info()"
   ]
  },
  {
   "cell_type": "markdown",
   "id": "b7bb20b8",
   "metadata": {},
   "source": [
    "## Tiền xử lý\n",
    "\n",
    "1. **Chuyển đổi các cột chứa số thành kiểu dữ liệu số**: Các cột như `domestic_revenue`, `world_revenue`, `opening_revenue`, `opening_theaters`, `budget`, và `in_release` đều chứa dữ liệu số, nhưng hiện đang được lưu trữ dưới dạng object. Chúng ta sẽ loại bỏ các ký tự không phải số (như dấu `$` và dấu phẩy) và chuyển đổi các cột này thành kiểu dữ liệu số.\n",
    "\n",
    "2. **Chuyển đổi cột `release_date` thành kiểu dữ liệu datetime**: Điều này sẽ hữu ích cho việc phân tích sau này.\n"
   ]
  },
  {
   "cell_type": "code",
   "execution_count": 249,
   "id": "f5ebd277",
   "metadata": {},
   "outputs": [],
   "source": [
    "# Remove $ and , in the revenue and budget columns\n",
    "for col in ['domestic_revenue', 'world_revenue', 'opening_revenue', 'budget']:\n",
    "    df[col] = df[col].replace({'\\$': '', ',': ''}, regex=True)\n",
    "\n",
    "# Convert columns to numeric type\n",
    "for col in ['domestic_revenue', 'world_revenue', 'opening_revenue', 'opening_theaters', 'budget', 'in_release']:\n",
    "    df[col] = pd.to_numeric(df[col], errors='coerce')\n",
    "\n",
    "# Convert release_date to datetime\n",
    "df['release_date'] = pd.to_datetime(df['release_date'], format='%d/%m/%Y')"
   ]
  },
  {
   "cell_type": "code",
   "execution_count": 250,
   "id": "ffea5cb8",
   "metadata": {},
   "outputs": [
    {
     "data": {
      "text/html": [
       "<div>\n",
       "<style scoped>\n",
       "    .dataframe tbody tr th:only-of-type {\n",
       "        vertical-align: middle;\n",
       "    }\n",
       "\n",
       "    .dataframe tbody tr th {\n",
       "        vertical-align: top;\n",
       "    }\n",
       "\n",
       "    .dataframe thead th {\n",
       "        text-align: right;\n",
       "    }\n",
       "</style>\n",
       "<table border=\"1\" class=\"dataframe\">\n",
       "  <thead>\n",
       "    <tr style=\"text-align: right;\">\n",
       "      <th></th>\n",
       "      <th>title</th>\n",
       "      <th>domestic_revenue</th>\n",
       "      <th>world_revenue</th>\n",
       "      <th>distributor</th>\n",
       "      <th>opening_revenue</th>\n",
       "      <th>opening_theaters</th>\n",
       "      <th>budget</th>\n",
       "      <th>MPAA</th>\n",
       "      <th>genres</th>\n",
       "      <th>in_release</th>\n",
       "      <th>release_date</th>\n",
       "    </tr>\n",
       "  </thead>\n",
       "  <tbody>\n",
       "    <tr>\n",
       "      <th>0</th>\n",
       "      <td>Thomas and the Magic Railroad</td>\n",
       "      <td>15933506</td>\n",
       "      <td>19748009</td>\n",
       "      <td>Destination Films</td>\n",
       "      <td>4,154,932.00</td>\n",
       "      <td>NaN</td>\n",
       "      <td>NaN</td>\n",
       "      <td>NaN</td>\n",
       "      <td>Adventure,Comedy,Drama,Family,Fantasy</td>\n",
       "      <td>159.00</td>\n",
       "      <td>2000-07-26</td>\n",
       "    </tr>\n",
       "    <tr>\n",
       "      <th>1</th>\n",
       "      <td>The Talented Mr. Ripley</td>\n",
       "      <td>81298265</td>\n",
       "      <td>128798265</td>\n",
       "      <td>Paramount Pictures</td>\n",
       "      <td>12,738,237.00</td>\n",
       "      <td>NaN</td>\n",
       "      <td>40,000,000.00</td>\n",
       "      <td>R</td>\n",
       "      <td>Crime,Drama,Thriller</td>\n",
       "      <td>373.00</td>\n",
       "      <td>1999-12-25</td>\n",
       "    </tr>\n",
       "    <tr>\n",
       "      <th>2</th>\n",
       "      <td>One False Move</td>\n",
       "      <td>1543112</td>\n",
       "      <td>1543112</td>\n",
       "      <td>IRS Media</td>\n",
       "      <td>44,545.00</td>\n",
       "      <td>5.00</td>\n",
       "      <td>NaN</td>\n",
       "      <td>R</td>\n",
       "      <td>Crime,Drama,Thriller</td>\n",
       "      <td>238.00</td>\n",
       "      <td>1992-05-08</td>\n",
       "    </tr>\n",
       "    <tr>\n",
       "      <th>3</th>\n",
       "      <td>C'est la vie</td>\n",
       "      <td>805472</td>\n",
       "      <td>805472</td>\n",
       "      <td>The Samuel Goldwyn Company</td>\n",
       "      <td>18,749.00</td>\n",
       "      <td>2.00</td>\n",
       "      <td>NaN</td>\n",
       "      <td>NaN</td>\n",
       "      <td>Comedy,Drama,Romance</td>\n",
       "      <td>63.00</td>\n",
       "      <td>1990-11-02</td>\n",
       "    </tr>\n",
       "    <tr>\n",
       "      <th>4</th>\n",
       "      <td>Coupe de Ville</td>\n",
       "      <td>715983</td>\n",
       "      <td>715983</td>\n",
       "      <td>Universal Pictures</td>\n",
       "      <td>66,871.00</td>\n",
       "      <td>7.00</td>\n",
       "      <td>NaN</td>\n",
       "      <td>NaN</td>\n",
       "      <td>Comedy,Drama</td>\n",
       "      <td>298.00</td>\n",
       "      <td>1990-03-09</td>\n",
       "    </tr>\n",
       "  </tbody>\n",
       "</table>\n",
       "</div>"
      ],
      "text/plain": [
       "                           title  domestic_revenue  world_revenue  \\\n",
       "0  Thomas and the Magic Railroad          15933506       19748009   \n",
       "1        The Talented Mr. Ripley          81298265      128798265   \n",
       "2                 One False Move           1543112        1543112   \n",
       "3                   C'est la vie            805472         805472   \n",
       "4                 Coupe de Ville            715983         715983   \n",
       "\n",
       "                  distributor  opening_revenue  opening_theaters  \\\n",
       "0           Destination Films     4,154,932.00               NaN   \n",
       "1          Paramount Pictures    12,738,237.00               NaN   \n",
       "2                   IRS Media        44,545.00              5.00   \n",
       "3  The Samuel Goldwyn Company        18,749.00              2.00   \n",
       "4          Universal Pictures        66,871.00              7.00   \n",
       "\n",
       "         budget MPAA                                 genres  in_release  \\\n",
       "0           NaN  NaN  Adventure,Comedy,Drama,Family,Fantasy      159.00   \n",
       "1 40,000,000.00    R                   Crime,Drama,Thriller      373.00   \n",
       "2           NaN    R                   Crime,Drama,Thriller      238.00   \n",
       "3           NaN  NaN                   Comedy,Drama,Romance       63.00   \n",
       "4           NaN  NaN                           Comedy,Drama      298.00   \n",
       "\n",
       "  release_date  \n",
       "0   2000-07-26  \n",
       "1   1999-12-25  \n",
       "2   1992-05-08  \n",
       "3   1990-11-02  \n",
       "4   1990-03-09  "
      ]
     },
     "execution_count": 250,
     "metadata": {},
     "output_type": "execute_result"
    }
   ],
   "source": [
    "df.head(5)"
   ]
  },
  {
   "cell_type": "markdown",
   "id": "e1c40fea",
   "metadata": {},
   "source": [
    "### Với mỗi cột có dữ liệu dạng số, các giá trị được phân bố như thế nào?\n"
   ]
  },
  {
   "cell_type": "markdown",
   "id": "d2631232",
   "metadata": {},
   "source": [
    "Với các cột có kiểu dữ liệu số, ta cần tính:\n",
    "\n",
    "- Tỉ lệ % (từ 0 đến 100) các giá trị thiếu\n",
    "- Giá trị min\n",
    "- Giá trị lower quartile (phân vị 25)\n",
    "- Giá trị median (phân vị 50)\n",
    "- Giá trị upper quartile (phân vị 75)\n",
    "- Giá trị max\n",
    "\n",
    "Sau đó lưu kết quả vào DataFrame `num_col_info_df`, trong đó:\n",
    "\n",
    "- Tên của các cột là tên của các cột số trong `df`\n",
    "- Tên của các dòng là: \"missing_ratio\", \"min\", \"lower_quartile\", \"median\", \"upper_quartile\", \"max\"\n",
    "\n",
    "Để dễ nhìn, tất cả các giá trị bạn đều làm tròn với 1 chữ số thập phân bằng phương thức `.round(1)`.\n"
   ]
  },
  {
   "cell_type": "code",
   "execution_count": 251,
   "id": "9428ea92",
   "metadata": {},
   "outputs": [
    {
     "data": {
      "text/html": [
       "<div>\n",
       "<style scoped>\n",
       "    .dataframe tbody tr th:only-of-type {\n",
       "        vertical-align: middle;\n",
       "    }\n",
       "\n",
       "    .dataframe tbody tr th {\n",
       "        vertical-align: top;\n",
       "    }\n",
       "\n",
       "    .dataframe thead th {\n",
       "        text-align: right;\n",
       "    }\n",
       "</style>\n",
       "<table border=\"1\" class=\"dataframe\">\n",
       "  <thead>\n",
       "    <tr style=\"text-align: right;\">\n",
       "      <th></th>\n",
       "      <th>domestic_revenue</th>\n",
       "      <th>world_revenue</th>\n",
       "      <th>opening_revenue</th>\n",
       "      <th>opening_theaters</th>\n",
       "      <th>budget</th>\n",
       "      <th>in_release</th>\n",
       "    </tr>\n",
       "  </thead>\n",
       "  <tbody>\n",
       "    <tr>\n",
       "      <th>missing_ratio</th>\n",
       "      <td>0.00</td>\n",
       "      <td>0.00</td>\n",
       "      <td>1.01</td>\n",
       "      <td>67.34</td>\n",
       "      <td>50.25</td>\n",
       "      <td>0.56</td>\n",
       "    </tr>\n",
       "    <tr>\n",
       "      <th>min</th>\n",
       "      <td>153,504.00</td>\n",
       "      <td>153,504.00</td>\n",
       "      <td>2,515.00</td>\n",
       "      <td>1.00</td>\n",
       "      <td>15,000.00</td>\n",
       "      <td>21.00</td>\n",
       "    </tr>\n",
       "    <tr>\n",
       "      <th>lower_quartile</th>\n",
       "      <td>6,858,971.25</td>\n",
       "      <td>10,631,912.25</td>\n",
       "      <td>970,951.25</td>\n",
       "      <td>4.00</td>\n",
       "      <td>18,000,000.00</td>\n",
       "      <td>158.00</td>\n",
       "    </tr>\n",
       "    <tr>\n",
       "      <th>median</th>\n",
       "      <td>21,208,579.00</td>\n",
       "      <td>32,596,692.50</td>\n",
       "      <td>5,812,160.00</td>\n",
       "      <td>19.00</td>\n",
       "      <td>35,000,000.00</td>\n",
       "      <td>265.00</td>\n",
       "    </tr>\n",
       "    <tr>\n",
       "      <th>upper_quartile</th>\n",
       "      <td>53,657,832.25</td>\n",
       "      <td>96,240,876.50</td>\n",
       "      <td>14,574,818.25</td>\n",
       "      <td>350.00</td>\n",
       "      <td>70,000,000.00</td>\n",
       "      <td>368.00</td>\n",
       "    </tr>\n",
       "    <tr>\n",
       "      <th>max</th>\n",
       "      <td>936,662,225.00</td>\n",
       "      <td>2,799,439,100.00</td>\n",
       "      <td>357,115,007.00</td>\n",
       "      <td>998.00</td>\n",
       "      <td>356,000,000.00</td>\n",
       "      <td>996.00</td>\n",
       "    </tr>\n",
       "  </tbody>\n",
       "</table>\n",
       "</div>"
      ],
      "text/plain": [
       "                domestic_revenue    world_revenue  opening_revenue  \\\n",
       "missing_ratio               0.00             0.00             1.01   \n",
       "min                   153,504.00       153,504.00         2,515.00   \n",
       "lower_quartile      6,858,971.25    10,631,912.25       970,951.25   \n",
       "median             21,208,579.00    32,596,692.50     5,812,160.00   \n",
       "upper_quartile     53,657,832.25    96,240,876.50    14,574,818.25   \n",
       "max               936,662,225.00 2,799,439,100.00   357,115,007.00   \n",
       "\n",
       "                opening_theaters         budget  in_release  \n",
       "missing_ratio              67.34          50.25        0.56  \n",
       "min                         1.00      15,000.00       21.00  \n",
       "lower_quartile              4.00  18,000,000.00      158.00  \n",
       "median                     19.00  35,000,000.00      265.00  \n",
       "upper_quartile            350.00  70,000,000.00      368.00  \n",
       "max                       998.00 356,000,000.00      996.00  "
      ]
     },
     "execution_count": 251,
     "metadata": {},
     "output_type": "execute_result"
    }
   ],
   "source": [
    "# Get numeric columns\n",
    "numeric_cols = df.select_dtypes(include=np.number).columns.tolist()\n",
    "\n",
    "# Calculate statistics\n",
    "missing_ratio = df[numeric_cols].isnull().mean() * 100\n",
    "min_values = df[numeric_cols].min()\n",
    "lower_quartile = df[numeric_cols].quantile(0.25)\n",
    "median = df[numeric_cols].median()\n",
    "upper_quartile = df[numeric_cols].quantile(0.75)\n",
    "max_values = df[numeric_cols].max()\n",
    "\n",
    "# Create DataFrame\n",
    "num_col_info_df = pd.DataFrame({\n",
    "    'missing_ratio': missing_ratio,\n",
    "    'min': min_values,\n",
    "    'lower_quartile': lower_quartile,\n",
    "    'median': median,\n",
    "    'upper_quartile': upper_quartile,\n",
    "    'max': max_values\n",
    "})\n",
    "\n",
    "# Round to 1 decimal place\n",
    "num_col_info_df = num_col_info_df.round(2)\n",
    "pd.options.display.float_format = '{:10,.2f}'.format\n",
    "num_col_info_df.T"
   ]
  },
  {
   "cell_type": "markdown",
   "id": "05beadcb-27b1-47a9-a65b-a5a0b058293b",
   "metadata": {},
   "source": [
    "### Với mỗi cột có dữ liệu không phải dạng số, các giá trị được phân bố như thế nào?"
   ]
  },
  {
   "cell_type": "markdown",
   "id": "318d5842",
   "metadata": {},
   "source": [
    "Với các cột \"title\",\"distributor\",\"MPAA\",\"genres\" ta cần tính:\n",
    "\n",
    "- Tỉ lệ % (từ 0 đến 100) các giá trị thiếu\n",
    "- Số lượng các giá trị (các giá trị ở đây là các giá trị khác nhau và ta không xét giá trị thiếu): với cột mà ứng với câu hỏi dạng multichoice (ví dụ, cột \"genres\"), mỗi giá trị có thể chứa nhiều choice (các choice được phân tách bởi dấu phẩy)\n",
    "- Tỉ lệ % (từ 0 đến 100) của mỗi giá trị được sort theo tỉ lệ % giảm dần (ta không xét giá trị thiếu, tỉ lệ là tỉ lệ so với số lượng các giá trị không thiếu)\n",
    "\n",
    "Lưu kết quả vào DataFrame `cat_col_info_df`, trong đó:\n",
    "\n",
    "- Tên của các cột là tên của các cột không phải số trong `survey_df`\n",
    "- Tên của các dòng là: \"missing_ratio\", \"num_values\", \"value_ratios\"\n",
    "\n",
    "Để dễ nhìn, tất cả các giá trị bạn đều làm tròn với 1 chữ số thập phân bằng phương thức `.round(1)`.\n"
   ]
  },
  {
   "cell_type": "code",
   "execution_count": 252,
   "id": "3d45cbfa",
   "metadata": {},
   "outputs": [
    {
     "name": "stderr",
     "output_type": "stream",
     "text": [
      "C:\\Users\\dhuu2\\AppData\\Local\\Temp\\ipykernel_9928\\2806960657.py:28: FutureWarning: DataFrame.applymap has been deprecated. Use DataFrame.map instead.\n",
      "  cat_col_info_df = cat_col_info_df.applymap(\n"
     ]
    },
    {
     "data": {
      "text/html": [
       "<div>\n",
       "<style scoped>\n",
       "    .dataframe tbody tr th:only-of-type {\n",
       "        vertical-align: middle;\n",
       "    }\n",
       "\n",
       "    .dataframe tbody tr th {\n",
       "        vertical-align: top;\n",
       "    }\n",
       "\n",
       "    .dataframe thead th {\n",
       "        text-align: right;\n",
       "    }\n",
       "</style>\n",
       "<table border=\"1\" class=\"dataframe\">\n",
       "  <thead>\n",
       "    <tr style=\"text-align: right;\">\n",
       "      <th></th>\n",
       "      <th>title</th>\n",
       "      <th>distributor</th>\n",
       "      <th>MPAA</th>\n",
       "      <th>genres</th>\n",
       "    </tr>\n",
       "  </thead>\n",
       "  <tbody>\n",
       "    <tr>\n",
       "      <th>missing_ratio</th>\n",
       "      <td>0.00</td>\n",
       "      <td>0.00</td>\n",
       "      <td>11.30</td>\n",
       "      <td>0.10</td>\n",
       "    </tr>\n",
       "    <tr>\n",
       "      <th>num_values</th>\n",
       "      <td>5840</td>\n",
       "      <td>237</td>\n",
       "      <td>8</td>\n",
       "      <td>25</td>\n",
       "    </tr>\n",
       "    <tr>\n",
       "      <th>value_ratios</th>\n",
       "      <td>{'Beauty and the Beast': 0.08358408559010365, 'The Nightmare Before Christmas': 0.06686726847208291, ' Inc.': 0.06686726847208291, 'The Lion King': 0.06686726847208291, 'Ghostbusters': 0.06686726847208291, 'Monsters': 0.05015045135406219, 'Toy Story': 0.05015045135406219, 'Avatar': 0.05015045135406219, 'I': 0.05015045135406219, 'The Addams Family': 0.05015045135406219, 'Jurassic Park': 0.05015...</td>\n",
       "      <td>{'Warner Bros.': 11.118621155795877, 'Universal Pictures': 8.938830686042582, 'Walt Disney Studios Motion Pictures': 8.938830686042582, 'Twentieth Century Fox': 7.6377154444068935, 'Paramount Pictures': 6.67455221358567, 'Sony Pictures Entertainment (SPE)': 6.471781007096992, 'Lions Gate Films': 4.393376140588036, 'Miramax': 3.6329841162554914, 'New Line Cinema': 3.3119297059817505, 'Metro-Gol...</td>\n",
       "      <td>{'R': 44.27728051799657, 'PG-13': 37.66901542563321, 'PG': 16.853932584269664, 'G': 1.0093315558941154, 'NC-17': 0.11426394972386211, 'Not Rated': 0.03808798324128738, 'TV-14': 0.01904399162064369, 'Approved': 0.01904399162064369}</td>\n",
       "      <td>{'Drama': 16.737035834145285, 'Comedy': 13.380967846703475, 'Thriller': 9.137165746454476, 'Action': 8.216953556349464, 'Romance': 7.377936559489011, 'Adventure': 6.755440077947386, 'Crime': 5.965140197033669, 'Fantasy': 4.568582873227238, 'Family': 4.389953448089207, 'Sci-Fi': 3.870304211324023, 'Mystery': 3.8540651726751114, 'Horror': 3.1287214463570425, 'Biography': 2.522464003464328, 'Anim...</td>\n",
       "    </tr>\n",
       "  </tbody>\n",
       "</table>\n",
       "</div>"
      ],
      "text/plain": [
       "                                                                                                                                                                                                                                                                                                                                                                                                                         title  \\\n",
       "missing_ratio                                                                                                                                                                                                                                                                                                                                                                                                             0.00   \n",
       "num_values                                                                                                                                                                                                                                                                                                                                                                                                                5840   \n",
       "value_ratios   {'Beauty and the Beast': 0.08358408559010365, 'The Nightmare Before Christmas': 0.06686726847208291, ' Inc.': 0.06686726847208291, 'The Lion King': 0.06686726847208291, 'Ghostbusters': 0.06686726847208291, 'Monsters': 0.05015045135406219, 'Toy Story': 0.05015045135406219, 'Avatar': 0.05015045135406219, 'I': 0.05015045135406219, 'The Addams Family': 0.05015045135406219, 'Jurassic Park': 0.05015...   \n",
       "\n",
       "                                                                                                                                                                                                                                                                                                                                                                                                                   distributor  \\\n",
       "missing_ratio                                                                                                                                                                                                                                                                                                                                                                                                             0.00   \n",
       "num_values                                                                                                                                                                                                                                                                                                                                                                                                                 237   \n",
       "value_ratios   {'Warner Bros.': 11.118621155795877, 'Universal Pictures': 8.938830686042582, 'Walt Disney Studios Motion Pictures': 8.938830686042582, 'Twentieth Century Fox': 7.6377154444068935, 'Paramount Pictures': 6.67455221358567, 'Sony Pictures Entertainment (SPE)': 6.471781007096992, 'Lions Gate Films': 4.393376140588036, 'Miramax': 3.6329841162554914, 'New Line Cinema': 3.3119297059817505, 'Metro-Gol...   \n",
       "\n",
       "                                                                                                                                                                                                                                                 MPAA  \\\n",
       "missing_ratio                                                                                                                                                                                                                                   11.30   \n",
       "num_values                                                                                                                                                                                                                                          8   \n",
       "value_ratios   {'R': 44.27728051799657, 'PG-13': 37.66901542563321, 'PG': 16.853932584269664, 'G': 1.0093315558941154, 'NC-17': 0.11426394972386211, 'Not Rated': 0.03808798324128738, 'TV-14': 0.01904399162064369, 'Approved': 0.01904399162064369}   \n",
       "\n",
       "                                                                                                                                                                                                                                                                                                                                                                                                                        genres  \n",
       "missing_ratio                                                                                                                                                                                                                                                                                                                                                                                                             0.10  \n",
       "num_values                                                                                                                                                                                                                                                                                                                                                                                                                  25  \n",
       "value_ratios   {'Drama': 16.737035834145285, 'Comedy': 13.380967846703475, 'Thriller': 9.137165746454476, 'Action': 8.216953556349464, 'Romance': 7.377936559489011, 'Adventure': 6.755440077947386, 'Crime': 5.965140197033669, 'Fantasy': 4.568582873227238, 'Family': 4.389953448089207, 'Sci-Fi': 3.870304211324023, 'Mystery': 3.8540651726751114, 'Horror': 3.1287214463570425, 'Biography': 2.522464003464328, 'Anim...  "
      ]
     },
     "execution_count": 252,
     "metadata": {},
     "output_type": "execute_result"
    }
   ],
   "source": [
    "# Define categorical columns\n",
    "cat_cols = [\"title\", \"distributor\", \"MPAA\", \"genres\"]\n",
    "\n",
    "# Initialize DataFrame to store results\n",
    "cat_col_info_df = pd.DataFrame(\n",
    "    index=[\"missing_ratio\", \"num_values\", \"value_ratios\"], columns=cat_cols)\n",
    "\n",
    "for col in cat_cols:\n",
    "    # Calculate missing ratio\n",
    "    missing_ratio = df[col].isnull().mean() * 100\n",
    "\n",
    "    # Calculate number of unique values\n",
    "    # Split values by comma and flatten the list\n",
    "    values = [val for sublist in df[col].dropna().str.split(',').tolist()\n",
    "              for val in sublist]\n",
    "    num_values = len(set(values))\n",
    "\n",
    "    # Calculate value ratios\n",
    "    value_counts = pd.Series(values).value_counts(normalize=True) * 100\n",
    "    value_ratios = value_counts.sort_values(ascending=False).to_dict()\n",
    "\n",
    "    # Store results\n",
    "    cat_col_info_df.at[\"missing_ratio\", col] = missing_ratio\n",
    "    cat_col_info_df.at[\"num_values\", col] = num_values\n",
    "    cat_col_info_df.at[\"value_ratios\", col] = value_ratios\n",
    "\n",
    "# Round to 1 decimal place\n",
    "cat_col_info_df = cat_col_info_df.applymap(\n",
    "    lambda x: round(x, 1) if isinstance(x, (int, float)) else x)\n",
    "\n",
    "cat_col_info_df"
   ]
  },
  {
   "cell_type": "markdown",
   "id": "e0410b00",
   "metadata": {},
   "source": [
    "### Xử lý dữ liệu bị thiếu\n"
   ]
  },
  {
   "cell_type": "markdown",
   "id": "9cc6de1e",
   "metadata": {},
   "source": [
    "- Tỷ lệ thiếu dữ liệu của từng cột\n"
   ]
  },
  {
   "cell_type": "code",
   "execution_count": 253,
   "id": "755bfd77",
   "metadata": {},
   "outputs": [
    {
     "data": {
      "text/plain": [
       "opening_theaters        67.34\n",
       "budget                  50.25\n",
       "MPAA                    11.27\n",
       "release_date             8.50\n",
       "opening_revenue          1.01\n",
       "in_release               0.56\n",
       "genres                   0.10\n",
       "title                    0.00\n",
       "domestic_revenue         0.00\n",
       "world_revenue            0.00\n",
       "distributor              0.00\n",
       "dtype: float64"
      ]
     },
     "execution_count": 253,
     "metadata": {},
     "output_type": "execute_result"
    }
   ],
   "source": [
    "df.agg(lambda x: x.isna().mean()*100).sort_values(ascending=False)"
   ]
  },
  {
   "cell_type": "code",
   "execution_count": 254,
   "id": "5db54f2b",
   "metadata": {},
   "outputs": [
    {
     "name": "stdout",
     "output_type": "stream",
     "text": [
      "<class 'pandas.core.frame.DataFrame'>\n",
      "Index: 4760 entries, 1 to 6403\n",
      "Data columns (total 9 columns):\n",
      " #   Column            Non-Null Count  Dtype         \n",
      "---  ------            --------------  -----         \n",
      " 0   title             4760 non-null   object        \n",
      " 1   domestic_revenue  4760 non-null   int64         \n",
      " 2   world_revenue     4760 non-null   int64         \n",
      " 3   distributor       4760 non-null   object        \n",
      " 4   opening_revenue   4760 non-null   float64       \n",
      " 5   MPAA              4760 non-null   object        \n",
      " 6   genres            4760 non-null   object        \n",
      " 7   in_release        4760 non-null   float64       \n",
      " 8   release_date      4760 non-null   datetime64[ns]\n",
      "dtypes: datetime64[ns](1), float64(2), int64(2), object(4)\n",
      "memory usage: 371.9+ KB\n"
     ]
    },
    {
     "data": {
      "text/plain": [
       "(4760, 9)"
      ]
     },
     "execution_count": 254,
     "metadata": {},
     "output_type": "execute_result"
    }
   ],
   "source": [
    "# Drop the 'opening_theaters' and 'budget' columns\n",
    "df = df.drop(['opening_theaters', 'budget'], axis=1)\n",
    "\n",
    "# Drop rows with missing values\n",
    "df = df.dropna()\n",
    "\n",
    "df.agg(lambda x: x.isna().mean()*100).sort_values(ascending=False)\n",
    "df.info()\n",
    "df.shape"
   ]
  },
  {
   "cell_type": "markdown",
   "id": "b583f900",
   "metadata": {},
   "source": [
    "## Trực quan hóa và thống kê dữ liệu\n"
   ]
  },
  {
   "cell_type": "code",
   "execution_count": 255,
   "id": "5a2d2d0b",
   "metadata": {},
   "outputs": [
    {
     "name": "stderr",
     "output_type": "stream",
     "text": [
      "c:\\Users\\dhuu2\\AppData\\Local\\Programs\\Python\\Python311\\Lib\\site-packages\\seaborn\\_oldcore.py:1498: FutureWarning: is_categorical_dtype is deprecated and will be removed in a future version. Use isinstance(dtype, CategoricalDtype) instead\n",
      "  if pd.api.types.is_categorical_dtype(vector):\n"
     ]
    },
    {
     "data": {
      "image/png": "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",
      "text/plain": [
       "<Figure size 800x600 with 1 Axes>"
      ]
     },
     "metadata": {},
     "output_type": "display_data"
    },
    {
     "name": "stderr",
     "output_type": "stream",
     "text": [
      "c:\\Users\\dhuu2\\AppData\\Local\\Programs\\Python\\Python311\\Lib\\site-packages\\seaborn\\_oldcore.py:1498: FutureWarning: is_categorical_dtype is deprecated and will be removed in a future version. Use isinstance(dtype, CategoricalDtype) instead\n",
      "  if pd.api.types.is_categorical_dtype(vector):\n"
     ]
    },
    {
     "data": {
      "image/png": "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",
      "text/plain": [
       "<Figure size 800x600 with 1 Axes>"
      ]
     },
     "metadata": {},
     "output_type": "display_data"
    },
    {
     "name": "stderr",
     "output_type": "stream",
     "text": [
      "c:\\Users\\dhuu2\\AppData\\Local\\Programs\\Python\\Python311\\Lib\\site-packages\\seaborn\\_oldcore.py:1498: FutureWarning: is_categorical_dtype is deprecated and will be removed in a future version. Use isinstance(dtype, CategoricalDtype) instead\n",
      "  if pd.api.types.is_categorical_dtype(vector):\n"
     ]
    },
    {
     "data": {
      "image/png": "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",
      "text/plain": [
       "<Figure size 800x600 with 1 Axes>"
      ]
     },
     "metadata": {},
     "output_type": "display_data"
    },
    {
     "name": "stderr",
     "output_type": "stream",
     "text": [
      "c:\\Users\\dhuu2\\AppData\\Local\\Programs\\Python\\Python311\\Lib\\site-packages\\seaborn\\_oldcore.py:1498: FutureWarning: is_categorical_dtype is deprecated and will be removed in a future version. Use isinstance(dtype, CategoricalDtype) instead\n",
      "  if pd.api.types.is_categorical_dtype(vector):\n"
     ]
    },
    {
     "data": {
      "image/png": "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",
      "text/plain": [
       "<Figure size 800x600 with 1 Axes>"
      ]
     },
     "metadata": {},
     "output_type": "display_data"
    },
    {
     "name": "stdout",
     "output_type": "stream",
     "text": [
      "\n",
      "Basic Statistics for Categorical Columns:\n",
      "\n",
      "Column: title\n",
      "count               4760\n",
      "unique              4676\n",
      "top       Monsters, Inc.\n",
      "freq                   3\n",
      "Name: title, dtype: object\n",
      "\n",
      "Column: distributor\n",
      "count             4760\n",
      "unique             178\n",
      "top       Warner Bros.\n",
      "freq               572\n",
      "Name: distributor, dtype: object\n",
      "\n",
      "Column: MPAA\n",
      "count     4760\n",
      "unique       8\n",
      "top          R\n",
      "freq      2045\n",
      "Name: MPAA, dtype: object\n",
      "\n",
      "Column: genres\n",
      "count                     4760\n",
      "unique                     909\n",
      "top       Comedy,Drama,Romance\n",
      "freq                       233\n",
      "Name: genres, dtype: object\n",
      "\n",
      "Column: release_date\n",
      "count                             4760\n",
      "mean     2006-12-04 22:15:19.663865600\n",
      "min                1989-11-08 00:00:00\n",
      "25%                1998-12-30 00:00:00\n",
      "50%                2006-11-13 12:00:00\n",
      "75%                2014-08-29 00:00:00\n",
      "max                2022-12-23 00:00:00\n",
      "Name: release_date, dtype: object\n"
     ]
    }
   ],
   "source": [
    "# Separate numeric and categorical columns\n",
    "numeric_cols = df.select_dtypes(include=['int64', 'float64']).columns\n",
    "categorical_cols = df.select_dtypes(\n",
    "    include=['object', 'bool', 'datetime64[ns]']).columns\n",
    "\n",
    "# Plot boxplots for numeric columns\n",
    "for col in numeric_cols:\n",
    "    plt.figure(figsize=(8, 6))\n",
    "    plt.title(f'Boxplot of {col}')\n",
    "    sns.boxplot(x=df[col])\n",
    "    plt.show()\n",
    "\n",
    "# Print basic statistics for categorical columns\n",
    "print(\"\\nBasic Statistics for Categorical Columns:\")\n",
    "for col in categorical_cols:\n",
    "    print(f'\\nColumn: {col}')\n",
    "    print(df[col].describe())"
   ]
  },
  {
   "cell_type": "code",
   "execution_count": 256,
   "id": "2f9afe4c-fb4a-4cf0-84f9-e3d189fb4d43",
   "metadata": {},
   "outputs": [],
   "source": [
    "df.to_csv('./data/processed/processed_data.csv', index=False)"
   ]
  }
 ],
 "metadata": {
  "kernelspec": {
   "display_name": "Python 3 (ipykernel)",
   "language": "python",
   "name": "python3"
  },
  "language_info": {
   "codemirror_mode": {
    "name": "ipython",
    "version": 3
   },
   "file_extension": ".py",
   "mimetype": "text/x-python",
   "name": "python",
   "nbconvert_exporter": "python",
   "pygments_lexer": "ipython3",
   "version": "3.10.8"
  },
  "vscode": {
   "interpreter": {
    "hash": "230eced423d2f0c873d70f568fb3b91d4d0a92783dea9e5e343fd82907c96f27"
   }
  }
 },
 "nbformat": 4,
 "nbformat_minor": 5
}
>>>>>>> 8036ffbd0bc95fc8bf1cd15f679204a4e88c9006
