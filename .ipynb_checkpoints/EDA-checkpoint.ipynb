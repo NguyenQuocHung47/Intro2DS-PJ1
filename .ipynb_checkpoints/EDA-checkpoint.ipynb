{
 "cells": [
  {
   "cell_type": "markdown",
   "id": "71580d4c-5661-4752-a768-a4c852cd6ff2",
   "metadata": {},
   "source": [
    "## Import thư viện"
   ]
  },
  {
   "cell_type": "code",
   "execution_count": null,
   "id": "24e0c6a1-10c9-48f3-926d-6cf95ac5b10b",
   "metadata": {},
   "outputs": [],
   "source": [
    "import os\n",
    "import sys\n",
    "\n",
    "module_path = os.path.abspath(os.path.join('..'))\n",
    "if module_path not in sys.path:\n",
    "    sys.path.append(module_path)\n",
    "    \n",
    "import warnings\n",
    "warnings.filterwarnings('ignore')\n",
    "\n",
    "import numpy as np\n",
    "import pandas as pd\n",
    "import matplotlib.pyplot as plt\n",
    "%matplotlib inline\n",
    "\n",
    "# YOUR CODE HERE (OPTION) \n",
    "# If you need other libraries, you can import them here\n",
    "import seaborn as sns\n",
    "from itertools import chain\n",
    "from collections import Counter\n",
    "from wordcloud import WordCloud\n",
    "import plotly.graph_objs as go\n",
    "import plotly.offline as py\n",
    "import plotly.express as px"
   ]
  },
  {
   "cell_type": "code",
   "execution_count": null,
   "id": "303c3290-8e54-4de3-abf0-ccc1a295a8e3",
   "metadata": {},
   "outputs": [],
   "source": [
    "movies_df = pd.read_csv('./data/processed/processed_data.csv')\n",
    "movies_df.head(5)"
   ]
  },
  {
   "cell_type": "markdown",
   "id": "2dba2799-4e80-44ae-86a4-a1dfdfbef59c",
   "metadata": {},
   "source": [
    "### Hãng phim"
   ]
  },
  {
   "cell_type": "code",
   "execution_count": null,
   "id": "bd44ff74-d5dd-4221-bff9-80ea69edadb4",
   "metadata": {},
   "outputs": [],
   "source": [
    "distributor = movies_df['distributor'].value_counts().to_dict()\n",
    "distributor"
   ]
  },
  {
   "cell_type": "markdown",
   "id": "8999ac38-2fb9-49a7-9f43-52be22660dc3",
   "metadata": {},
   "source": [
    "### Phân loại phim"
   ]
  },
  {
   "cell_type": "code",
   "execution_count": null,
   "id": "4b2a39d8-848e-4014-a738-63404084bf45",
   "metadata": {},
   "outputs": [],
   "source": [
    "mpaa = movies_df['MPAA'].value_counts().to_dict()\n",
    "mpaa"
   ]
  },
  {
   "cell_type": "code",
   "execution_count": null,
   "id": "c2b58dcf-353f-4c6d-a385-fee37c4f5258",
   "metadata": {},
   "outputs": [],
   "source": [
    "plt.bar(range(len(mpaa)), list(mpaa.values()), align='center')\n",
    "plt.xticks(range(len(mpaa)), list(mpaa.keys()))\n",
    "\n",
    "plt.xlabel('Thể loại')\n",
    "plt.ylabel('Số lượng')\n",
    "plt.show()"
   ]
  },
  {
   "cell_type": "markdown",
   "id": "40f5681b-d422-474c-985d-c21a43a72a41",
   "metadata": {},
   "source": [
    "### Thể loại"
   ]
  },
  {
   "cell_type": "code",
   "execution_count": null,
   "id": "2e77c8c9-aaed-4ca0-b0a5-e2fb6d4f2c0e",
   "metadata": {},
   "outputs": [],
   "source": [
    "components = movies_df['genres'].str.split(',').tolist() \n",
    "temp_list = list(chain.from_iterable(components)) \n",
    "genres_counter = Counter(temp_list)\n",
    "genres_dict = dict(genres_counter)\n",
    "genres_dict"
   ]
  },
  {
   "cell_type": "code",
   "execution_count": null,
   "id": "8ff0fead-52eb-4a7f-88cd-750364cafec5",
   "metadata": {},
   "outputs": [],
   "source": [
    "plt.figure(figsize = (7, 7))\n",
    "wc = WordCloud(background_color=\"white\",width=1000,height=1000, max_words=len(genres_dict),relative_scaling=0.5,normalize_plurals=False).generate_from_frequencies(genres_dict)\n",
    "plt.imshow(wc)\n",
    "plt.title('Top genres')\n",
    "plt.axis(\"off\")\n",
    "plt.show()"
   ]
  },
  {
   "cell_type": "markdown",
   "id": "3bf4d121-9c4f-4b6b-a754-abf87aca6df3",
   "metadata": {},
   "source": [
    "### Ngày ra mắt"
   ]
  },
  {
   "cell_type": "code",
   "execution_count": null,
   "id": "cf88394b-817f-4f52-9399-e3334d710c8e",
   "metadata": {},
   "outputs": [],
   "source": [
    "movies_df['release_date'] = pd.to_datetime(movies_df['release_date'], format='%Y/%m/%d')\n",
    "film_counts = movies_df['release_date'].dt.year.value_counts().sort_index()\n",
    "\n",
    "# Create a plot\n",
    "fig = px.line(x=film_counts.index, y=film_counts.values, \n",
    "              labels={'x': 'Năm', 'y': 'Số lượng'},\n",
    "              title='Số lượng phim hằng năm')\n",
    "\n",
    "fig.show()"
   ]
  }
 ],
 "metadata": {
  "kernelspec": {
   "display_name": "Python 3 (ipykernel)",
   "language": "python",
   "name": "python3"
  },
  "language_info": {
   "codemirror_mode": {
    "name": "ipython",
    "version": 3
   },
   "file_extension": ".py",
   "mimetype": "text/x-python",
   "name": "python",
   "nbconvert_exporter": "python",
   "pygments_lexer": "ipython3",
   "version": "3.10.8"
  }
 },
 "nbformat": 4,
 "nbformat_minor": 5
}
