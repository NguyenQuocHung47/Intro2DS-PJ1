{
 "cells": [
  {
   "cell_type": "markdown",
   "id": "62050c72",
   "metadata": {},
   "source": [
    "<div style=\"border:2px solid black; padding:10px;\">\n",
    "    <h3>Nhóm 15</h3>\n",
    "    <h1 style='color:red;text-align:center;font-size:30px'>Chủ đề: Phân tích về doanh thu phim<b></b></h1>\n",
    "</div>\n"
   ]
  },
  {
   "cell_type": "markdown",
   "id": "eede0177",
   "metadata": {},
   "source": [
    "<h3>Danh sách thành viên</h3>\n",
    "<li> Nguyễn Quốc Hưng - 21120464 </li>\n",
    "<li> Đoàn Đức Hữu - 21120465 </li>\n",
    "<li> Võ Minh Khuê - 21120486</li>\n",
    "<li> Hồ Trọng Lễ - 21120494</li>"
   ]
  },
  {
   "cell_type": "markdown",
   "id": "fadad046",
   "metadata": {},
   "source": [
    "<h1 style='color:blue;text-align:center;font-size:30px'><b>Phần II</b></h1>"
   ]
  },
  {
   "cell_type": "markdown",
   "id": "d9aeff06",
   "metadata": {},
   "source": [
    "# Import thư viện"
   ]
  },
  {
   "cell_type": "code",
   "execution_count": 1,
   "id": "bb276657",
   "metadata": {},
   "outputs": [],
   "source": [
    "import matplotlib.pyplot as plt\n",
    "import numpy as np\n",
    "import pandas as pd \n",
    "import seaborn as sns\n",
    "import os\n",
    "import re\n",
    "import statistics\n",
    "sns.set_theme()\n",
    "sns.set(rc={'axes.facecolor':'lightblue', 'figure.facecolor':'lightgray'})\n",
    "\n",
    "from sklearn.model_selection import train_test_split\n",
    "from sklearn.metrics import accuracy_score, classification_report\n",
    "from sklearn.preprocessing import StandardScaler, LabelEncoder, OneHotEncoder\n",
    "\n",
    "from sklearn.ensemble import RandomForestClassifier\n",
    "from sklearn.neighbors import KNeighborsClassifier\n",
    "\n",
    "from sklearn.metrics import confusion_matrix\n",
    "\n",
    "from sklearn.compose import ColumnTransformer\n",
    "from sklearn.pipeline import Pipeline\n",
    "from sklearn.impute import SimpleImputer"
   ]
  },
  {
   "cell_type": "code",
   "execution_count": 2,
   "id": "47af81f8",
   "metadata": {},
   "outputs": [
    {
     "data": {
      "text/plain": [
       "'/home/hunglinux/miniconda3/envs/min_ds-env/bin/python'"
      ]
     },
     "execution_count": 2,
     "metadata": {},
     "output_type": "execute_result"
    }
   ],
   "source": [
    "import sys\n",
    "sys.executable"
   ]
  },
  {
   "cell_type": "markdown",
   "id": "79b3a572",
   "metadata": {},
   "source": [
    "## Đọc file 'processed_data' vào dataframe df"
   ]
  },
  {
   "cell_type": "code",
   "execution_count": 3,
   "id": "09468941",
   "metadata": {},
   "outputs": [
    {
     "data": {
      "text/html": [
       "<div>\n",
       "<style scoped>\n",
       "    .dataframe tbody tr th:only-of-type {\n",
       "        vertical-align: middle;\n",
       "    }\n",
       "\n",
       "    .dataframe tbody tr th {\n",
       "        vertical-align: top;\n",
       "    }\n",
       "\n",
       "    .dataframe thead th {\n",
       "        text-align: right;\n",
       "    }\n",
       "</style>\n",
       "<table border=\"1\" class=\"dataframe\">\n",
       "  <thead>\n",
       "    <tr style=\"text-align: right;\">\n",
       "      <th></th>\n",
       "      <th>title</th>\n",
       "      <th>domestic_revenue</th>\n",
       "      <th>world_revenue</th>\n",
       "      <th>distributor</th>\n",
       "      <th>opening_revenue</th>\n",
       "      <th>MPAA</th>\n",
       "      <th>genres</th>\n",
       "      <th>running_time</th>\n",
       "      <th>in_release</th>\n",
       "      <th>release_date</th>\n",
       "    </tr>\n",
       "  </thead>\n",
       "  <tbody>\n",
       "    <tr>\n",
       "      <th>0</th>\n",
       "      <td>Batman Returns</td>\n",
       "      <td>162831698</td>\n",
       "      <td>266831698</td>\n",
       "      <td>Warner Bros.</td>\n",
       "      <td>45687711.0</td>\n",
       "      <td>PG-13</td>\n",
       "      <td>Action,Crime,Fantasy</td>\n",
       "      <td>126.0</td>\n",
       "      <td>196.0</td>\n",
       "      <td>1992-06-19</td>\n",
       "    </tr>\n",
       "    <tr>\n",
       "      <th>1</th>\n",
       "      <td>Evolution</td>\n",
       "      <td>38345494</td>\n",
       "      <td>98376292</td>\n",
       "      <td>DreamWorks Distribution</td>\n",
       "      <td>13408351.0</td>\n",
       "      <td>PG-13</td>\n",
       "      <td>Comedy,Sci-Fi</td>\n",
       "      <td>101.0</td>\n",
       "      <td>207.0</td>\n",
       "      <td>2001-06-08</td>\n",
       "    </tr>\n",
       "    <tr>\n",
       "      <th>2</th>\n",
       "      <td>Jumanji</td>\n",
       "      <td>100475249</td>\n",
       "      <td>100475249</td>\n",
       "      <td>Sony Pictures Entertainment (SPE)</td>\n",
       "      <td>11084370.0</td>\n",
       "      <td>PG</td>\n",
       "      <td>Adventure,Comedy,Family,Fantasy</td>\n",
       "      <td>104.0</td>\n",
       "      <td>383.0</td>\n",
       "      <td>1995-12-15</td>\n",
       "    </tr>\n",
       "    <tr>\n",
       "      <th>3</th>\n",
       "      <td>The American President</td>\n",
       "      <td>60079496</td>\n",
       "      <td>60079496</td>\n",
       "      <td>Sony Pictures Entertainment (SPE)</td>\n",
       "      <td>10014558.0</td>\n",
       "      <td>PG-13</td>\n",
       "      <td>Comedy,Drama,Romance</td>\n",
       "      <td>114.0</td>\n",
       "      <td>411.0</td>\n",
       "      <td>1995-11-17</td>\n",
       "    </tr>\n",
       "    <tr>\n",
       "      <th>4</th>\n",
       "      <td>Mulholland Drive</td>\n",
       "      <td>7220243</td>\n",
       "      <td>20117339</td>\n",
       "      <td>Universal Pictures</td>\n",
       "      <td>587591.0</td>\n",
       "      <td>R</td>\n",
       "      <td>Drama,Mystery,Thriller</td>\n",
       "      <td>147.0</td>\n",
       "      <td>450.0</td>\n",
       "      <td>2001-10-08</td>\n",
       "    </tr>\n",
       "    <tr>\n",
       "      <th>5</th>\n",
       "      <td>Tombstone</td>\n",
       "      <td>56505065</td>\n",
       "      <td>56505065</td>\n",
       "      <td>Walt Disney Studios Motion Pictures</td>\n",
       "      <td>6454752.0</td>\n",
       "      <td>R</td>\n",
       "      <td>Biography,Drama,History,Western</td>\n",
       "      <td>130.0</td>\n",
       "      <td>373.0</td>\n",
       "      <td>1993-12-24</td>\n",
       "    </tr>\n",
       "    <tr>\n",
       "      <th>6</th>\n",
       "      <td>Heart and Souls</td>\n",
       "      <td>16589540</td>\n",
       "      <td>16589540</td>\n",
       "      <td>Universal Pictures</td>\n",
       "      <td>4322250.0</td>\n",
       "      <td>PG-13</td>\n",
       "      <td>Comedy,Drama,Fantasy,Romance</td>\n",
       "      <td>104.0</td>\n",
       "      <td>141.0</td>\n",
       "      <td>1993-08-13</td>\n",
       "    </tr>\n",
       "    <tr>\n",
       "      <th>7</th>\n",
       "      <td>The Phantom of the Opera</td>\n",
       "      <td>51268815</td>\n",
       "      <td>154648887</td>\n",
       "      <td>Warner Bros.</td>\n",
       "      <td>4001890.0</td>\n",
       "      <td>PG-13</td>\n",
       "      <td>Drama,Musical,Romance,Thriller</td>\n",
       "      <td>143.0</td>\n",
       "      <td>375.0</td>\n",
       "      <td>2004-12-22</td>\n",
       "    </tr>\n",
       "    <tr>\n",
       "      <th>8</th>\n",
       "      <td>The Brady Bunch Movie</td>\n",
       "      <td>46576136</td>\n",
       "      <td>46576136</td>\n",
       "      <td>Paramount Pictures</td>\n",
       "      <td>14827066.0</td>\n",
       "      <td>PG-13</td>\n",
       "      <td>Comedy</td>\n",
       "      <td>90.0</td>\n",
       "      <td>318.0</td>\n",
       "      <td>1995-02-17</td>\n",
       "    </tr>\n",
       "    <tr>\n",
       "      <th>9</th>\n",
       "      <td>Teenage Mutant Ninja Turtles III</td>\n",
       "      <td>42273609</td>\n",
       "      <td>42273609</td>\n",
       "      <td>New Line Cinema</td>\n",
       "      <td>12419597.0</td>\n",
       "      <td>PG</td>\n",
       "      <td>Action,Adventure,Comedy,Family,Fantasy,Sci-Fi</td>\n",
       "      <td>96.0</td>\n",
       "      <td>288.0</td>\n",
       "      <td>1993-03-19</td>\n",
       "    </tr>\n",
       "  </tbody>\n",
       "</table>\n",
       "</div>"
      ],
      "text/plain": [
       "                              title  domestic_revenue  world_revenue  \\\n",
       "0                    Batman Returns         162831698      266831698   \n",
       "1                         Evolution          38345494       98376292   \n",
       "2                           Jumanji         100475249      100475249   \n",
       "3            The American President          60079496       60079496   \n",
       "4                  Mulholland Drive           7220243       20117339   \n",
       "5                         Tombstone          56505065       56505065   \n",
       "6                   Heart and Souls          16589540       16589540   \n",
       "7          The Phantom of the Opera          51268815      154648887   \n",
       "8             The Brady Bunch Movie          46576136       46576136   \n",
       "9  Teenage Mutant Ninja Turtles III          42273609       42273609   \n",
       "\n",
       "                           distributor  opening_revenue   MPAA  \\\n",
       "0                         Warner Bros.       45687711.0  PG-13   \n",
       "1              DreamWorks Distribution       13408351.0  PG-13   \n",
       "2    Sony Pictures Entertainment (SPE)       11084370.0     PG   \n",
       "3    Sony Pictures Entertainment (SPE)       10014558.0  PG-13   \n",
       "4                   Universal Pictures         587591.0      R   \n",
       "5  Walt Disney Studios Motion Pictures        6454752.0      R   \n",
       "6                   Universal Pictures        4322250.0  PG-13   \n",
       "7                         Warner Bros.        4001890.0  PG-13   \n",
       "8                   Paramount Pictures       14827066.0  PG-13   \n",
       "9                      New Line Cinema       12419597.0     PG   \n",
       "\n",
       "                                          genres  running_time  in_release  \\\n",
       "0                           Action,Crime,Fantasy         126.0       196.0   \n",
       "1                                  Comedy,Sci-Fi         101.0       207.0   \n",
       "2                Adventure,Comedy,Family,Fantasy         104.0       383.0   \n",
       "3                           Comedy,Drama,Romance         114.0       411.0   \n",
       "4                         Drama,Mystery,Thriller         147.0       450.0   \n",
       "5                Biography,Drama,History,Western         130.0       373.0   \n",
       "6                   Comedy,Drama,Fantasy,Romance         104.0       141.0   \n",
       "7                 Drama,Musical,Romance,Thriller         143.0       375.0   \n",
       "8                                         Comedy          90.0       318.0   \n",
       "9  Action,Adventure,Comedy,Family,Fantasy,Sci-Fi          96.0       288.0   \n",
       "\n",
       "  release_date  \n",
       "0   1992-06-19  \n",
       "1   2001-06-08  \n",
       "2   1995-12-15  \n",
       "3   1995-11-17  \n",
       "4   2001-10-08  \n",
       "5   1993-12-24  \n",
       "6   1993-08-13  \n",
       "7   2004-12-22  \n",
       "8   1995-02-17  \n",
       "9   1993-03-19  "
      ]
     },
     "execution_count": 3,
     "metadata": {},
     "output_type": "execute_result"
    }
   ],
   "source": [
    "movies_df = pd.read_csv('./data/processed/processed_data.csv')\n",
    "movies_df.head(10)"
   ]
  },
  {
   "cell_type": "markdown",
   "id": "1d0c08f4",
   "metadata": {},
   "source": [
    "### Vấn đề đặt ra \n",
    "- Làm thế nào việc phân loại MPAA ảnh hưởng đến doanh thu của một bộ phim? Nếu có, dự đoánh mức độ ảnh hưởng?"
   ]
  },
  {
   "cell_type": "markdown",
   "id": "25868440",
   "metadata": {},
   "source": [
    "### Chuẩn bị dữ liệu và tiền xử lý"
   ]
  },
  {
   "cell_type": "code",
   "execution_count": 4,
   "id": "583b20b2",
   "metadata": {},
   "outputs": [],
   "source": [
    "features = movies_df[['domestic_revenue', 'opening_revenue', 'world_revenue']]\n",
    "target = movies_df['MPAA']\n",
    "\n",
    "# Chuyển đổi nhãn về dạng số\n",
    "le = LabelEncoder()\n",
    "target_encoded = le.fit_transform(target)"
   ]
  },
  {
   "cell_type": "markdown",
   "id": "ee0a04fe",
   "metadata": {},
   "source": [
    "Chia mô hình thành 2 tập: \n",
    "   - Tập dùng để huấn luyện\n",
    "   - Tập dùng để kiểm tra và đánh giá độ chính xác của mô hình"
   ]
  },
  {
   "cell_type": "code",
   "execution_count": 5,
   "id": "6b2364f3",
   "metadata": {},
   "outputs": [],
   "source": [
    "X_train, X_test, y_train, y_test = train_test_split(features, target_encoded, test_size=0.2, random_state=42)"
   ]
  },
  {
   "cell_type": "markdown",
   "id": "a776ec9d",
   "metadata": {},
   "source": [
    "Tiêu chuẩn hóa dữ liệu"
   ]
  },
  {
   "cell_type": "code",
   "execution_count": 6,
   "id": "59bfc75f",
   "metadata": {},
   "outputs": [],
   "source": [
    "scaler = StandardScaler()\n",
    "X_train_scaled = scaler.fit_transform(X_train)\n",
    "X_test_scaled = scaler.transform(X_test)"
   ]
  },
  {
   "cell_type": "markdown",
   "id": "61c42444",
   "metadata": {},
   "source": [
    "### Triển khai mô hình"
   ]
  },
  {
   "cell_type": "markdown",
   "id": "8cacfce1",
   "metadata": {},
   "source": [
    "1. Random Forest Classifier"
   ]
  },
  {
   "cell_type": "code",
   "execution_count": 7,
   "id": "1e47422c",
   "metadata": {},
   "outputs": [],
   "source": [
    "rf_classifier = RandomForestClassifier(n_estimators=100, random_state=42)\n",
    "rf_classifier.fit(X_train_scaled, y_train)\n",
    "y_pred_rfc = rf_classifier.predict(X_test_scaled)\n",
    "\n",
    "# Đánh giá mô hình\n",
    "accuracy_rfc = accuracy_score(y_test, y_pred_rfc)\n",
    "classification_rep_rfc = classification_report(y_test, y_pred_rfc, zero_division=1)"
   ]
  },
  {
   "cell_type": "markdown",
   "id": "a67afe6c",
   "metadata": {},
   "source": [
    "2. K-Nearest Neighbors"
   ]
  },
  {
   "cell_type": "code",
   "execution_count": 8,
   "id": "380ea305",
   "metadata": {},
   "outputs": [],
   "source": [
    "kn_neighbors = KNeighborsClassifier()\n",
    "kn_neighbors.fit(X_train_scaled, y_train)\n",
    "y_pred_knn = kn_neighbors.predict(X_test_scaled)\n",
    "\n",
    "# Đánh giá mô hình\n",
    "accuracy_knn = accuracy_score(y_test, y_pred_knn)\n",
    "classification_report_knn = classification_report(y_test, y_pred_knn, zero_division=1)"
   ]
  },
  {
   "cell_type": "markdown",
   "id": "7684f6cd",
   "metadata": {},
   "source": [
    "### Đánh giá mô hình"
   ]
  },
  {
   "cell_type": "markdown",
   "id": "31480946",
   "metadata": {},
   "source": [
    "1. Random Forest Classifier"
   ]
  },
  {
   "cell_type": "code",
   "execution_count": 9,
   "id": "54a9ad25",
   "metadata": {},
   "outputs": [
    {
     "name": "stdout",
     "output_type": "stream",
     "text": [
      "Accuracy: 0.47058823529411764\n",
      "Classification Report:\n",
      "               precision    recall  f1-score   support\n",
      "\n",
      "           0       1.00      0.00      0.00         1\n",
      "           1       0.00      0.00      1.00         6\n",
      "           2       1.00      0.00      0.00         1\n",
      "           3       0.00      1.00      0.00         0\n",
      "           4       0.32      0.14      0.19       174\n",
      "           5       0.46      0.53      0.49       367\n",
      "           6       0.51      0.57      0.54       403\n",
      "\n",
      "    accuracy                           0.47       952\n",
      "   macro avg       0.47      0.32      0.32       952\n",
      "weighted avg       0.45      0.47      0.46       952\n",
      "\n"
     ]
    }
   ],
   "source": [
    "print(f'Accuracy: {accuracy_rfc}')\n",
    "print('Classification Report:\\n', classification_rep_rfc)"
   ]
  },
  {
   "cell_type": "markdown",
   "id": "9e396acc",
   "metadata": {},
   "source": [
    "2. K-Nearest Neighbors"
   ]
  },
  {
   "cell_type": "code",
   "execution_count": 10,
   "id": "de7cf000",
   "metadata": {},
   "outputs": [
    {
     "name": "stdout",
     "output_type": "stream",
     "text": [
      "Accuracy: 0.44537815126050423\n",
      "Classification Report: \n",
      "               precision    recall  f1-score   support\n",
      "\n",
      "           0       1.00      0.00      0.00         1\n",
      "           1       1.00      0.00      0.00         6\n",
      "           2       1.00      0.00      0.00         1\n",
      "           4       0.26      0.22      0.24       174\n",
      "           5       0.44      0.48      0.46       367\n",
      "           6       0.51      0.52      0.52       403\n",
      "\n",
      "    accuracy                           0.45       952\n",
      "   macro avg       0.70      0.20      0.20       952\n",
      "weighted avg       0.44      0.45      0.44       952\n",
      "\n"
     ]
    }
   ],
   "source": [
    "print(f'Accuracy: {accuracy_knn}')\n",
    "print('Classification Report: \\n', classification_report_knn)"
   ]
  },
  {
   "cell_type": "markdown",
   "id": "0f80c72e",
   "metadata": {},
   "source": [
    "- Nhận xét: Accuracy ở cả hai mô hình đều không được hiệu quả lắm. Chúng ta sẽ tinh chỉnh lại các siêu tham số"
   ]
  },
  {
   "cell_type": "markdown",
   "id": "7e8094e9",
   "metadata": {},
   "source": [
    "### Tinh chỉnh"
   ]
  },
  {
   "cell_type": "markdown",
   "id": "21efe76d",
   "metadata": {},
   "source": [
    "- Sử dụng Grid SearchCV"
   ]
  },
  {
   "cell_type": "code",
   "execution_count": 11,
   "id": "6825f568",
   "metadata": {},
   "outputs": [],
   "source": [
    "numeric_features = movies_df[['domestic_revenue', 'opening_revenue', 'world_revenue']]\n",
    "categorical_features = movies_df[['genres']]\n",
    "\n",
    "# Tạo Pipeline cho xử lý dữ liệu numerical\n",
    "numeric_transformer = Pipeline(steps=[\n",
    "    ('imputer', SimpleImputer(strategy='median')),\n",
    "    ('scaler', StandardScaler())\n",
    "])\n",
    "\n",
    "# Tạo Pipeline cho xử lý dữ liệu categorical\n",
    "categorical_transformer = Pipeline(steps=[\n",
    "    ('imputer', SimpleImputer(strategy='constant', fill_value='missing')),\n",
    "    ('onehot', OneHotEncoder(handle_unknown='ignore'))\n",
    "])\n",
    "\n",
    "# Kết hợp các Transformer sử dụng ColumnTransformer\n",
    "preprocessor = ColumnTransformer(\n",
    "    transformers=[\n",
    "        ('num', numeric_transformer, numeric_features.columns),\n",
    "        ('cat', categorical_transformer, categorical_features.columns)\n",
    "    ])\n",
    "\n",
    "# Chia dữ liệu thành hai tập test và train\n",
    "X_train, X_test, y_train, y_test = train_test_split(\n",
    "    pd.concat([numeric_features, categorical_features], axis=1), \n",
    "    movies_df['MPAA'],  \n",
    "    test_size=0.2,\n",
    "    random_state=42\n",
    ")"
   ]
  },
  {
   "cell_type": "markdown",
   "id": "2ae7372d",
   "metadata": {},
   "source": [
    "1. Random Forest Classifier"
   ]
  },
  {
   "cell_type": "code",
   "execution_count": 12,
   "id": "26128ce4",
   "metadata": {},
   "outputs": [
    {
     "name": "stdout",
     "output_type": "stream",
     "text": [
      "Accuracy: 0.5892857142857143\n",
      "Classification Report:\n",
      "              precision    recall  f1-score   support\n",
      "\n",
      "    Approved       1.00      0.00      0.00         1\n",
      "           G       0.00      0.00      1.00         6\n",
      "       NC-17       1.00      0.00      0.00         1\n",
      "          PG       0.78      0.42      0.55       174\n",
      "       PG-13       0.54      0.59      0.56       367\n",
      "           R       0.59      0.68      0.63       403\n",
      "\n",
      "    accuracy                           0.59       952\n",
      "   macro avg       0.65      0.28      0.46       952\n",
      "weighted avg       0.61      0.59      0.59       952\n",
      "\n"
     ]
    }
   ],
   "source": [
    "model_rfc = Pipeline(steps=[('preprocessor', preprocessor),\n",
    "                        ('classifier', RandomForestClassifier(random_state=42))])\n",
    "\n",
    "model_rfc.fit(X_train, y_train)\n",
    "\n",
    "y_pred_rfc = model_rfc.predict(X_test)\n",
    "print(f'Accuracy: {accuracy_score(y_test, y_pred_rfc)}')\n",
    "print(f'Classification Report:\\n{classification_report(y_test, y_pred_rfc, zero_division=1)}')"
   ]
  },
  {
   "cell_type": "markdown",
   "id": "c0bd0e37",
   "metadata": {},
   "source": [
    "2. K-Nearest Neighbors"
   ]
  },
  {
   "cell_type": "code",
   "execution_count": 13,
   "id": "be895239",
   "metadata": {},
   "outputs": [
    {
     "name": "stdout",
     "output_type": "stream",
     "text": [
      "Accuracy: 0.6071428571428571\n",
      "Classification Report:\n",
      "              precision    recall  f1-score   support\n",
      "\n",
      "    Approved       1.00      0.00      0.00         1\n",
      "           G       0.00      0.00      1.00         6\n",
      "       NC-17       1.00      0.00      0.00         1\n",
      "          PG       0.69      0.52      0.59       174\n",
      "       PG-13       0.56      0.60      0.58       367\n",
      "           R       0.63      0.66      0.64       403\n",
      "\n",
      "    accuracy                           0.61       952\n",
      "   macro avg       0.65      0.30      0.47       952\n",
      "weighted avg       0.61      0.61      0.61       952\n",
      "\n"
     ]
    }
   ],
   "source": [
    "model_knn = Pipeline(steps=[('preprocessor', preprocessor),\n",
    "                        ('classifier', KNeighborsClassifier())])\n",
    "\n",
    "model_knn.fit(X_train, y_train)\n",
    "\n",
    "y_pred_knn = model_knn.predict(X_test)\n",
    "print(f'Accuracy: {accuracy_score(y_test, y_pred_knn)}')\n",
    "print(f'Classification Report:\\n{classification_report(y_test, y_pred_knn, zero_division=1)}')"
   ]
  },
  {
   "cell_type": "markdown",
   "id": "4d1007d4",
   "metadata": {},
   "source": [
    "3. Trực quan hóa "
   ]
  },
  {
   "cell_type": "code",
   "execution_count": 21,
   "id": "4bd375a0",
   "metadata": {},
   "outputs": [
    {
     "data": {
      "image/png": "[encoded data removed]",
      "text/plain": [
       "<Figure size 1200x500 with 4 Axes>"
      ]
     },
     "metadata": {},
     "output_type": "display_data"
    }
   ],
   "source": [
    "# Tính confusion matrix \n",
    "cm_frc = confusion_matrix(y_test, y_pred_rfc)\n",
    "cm_knn = confusion_matrix(y_test, y_pred_knn)\n",
    "\n",
    "# Biểu diễn ma trận bằng heatmap\n",
    "plt.figure(figsize=(12, 5))\n",
    "\n",
    "plt.subplot(1, 2, 1)\n",
    "sns.heatmap(cm_rfc, annot=True, fmt=\"d\", cmap=\"Greens\", xticklabels=np.unique(y_test), yticklabels=np.unique(y_test))\n",
    "plt.title('Confusion Matrix - Ramdon Forest Classifier')\n",
    "\n",
    "plt.subplot(1, 2, 2)\n",
    "sns.heatmap(cm_knn, annot=True, fmt=\"d\", cmap=\"Blues\", xticklabels=np.unique(y_test), yticklabels=np.unique(y_test))\n",
    "plt.title('Confusion Matrix - K-Nearest Neighbors')\n",
    "\n",
    "plt.tight_layout()\n",
    "plt.show()"
   ]
  },
  {
   "cell_type": "markdown",
   "id": "2e2ab3db",
   "metadata": {},
   "source": [
    "### Đánh giá \n",
    "- Sau khi sử dụng Grid SearchCV để tinh chỉnh lại siêu tham số cho hai mô hình, độ hiệu quả đã được cải thiện.\n",
    "- Cụ thể Accuracy đã tăng lên (RFC: 0.47 -> 0.59, KNN: 0.44 -> 0.61).\n",
    "- So sánh các lớp ở cả hai mô hình đều có hiệu suất gần như nhau, nhưng nhìn vào Accuracy có thể thấy KNN lớn hơn RFC."
   ]
  },
  {
   "cell_type": "markdown",
   "id": "1b7c5dd4",
   "metadata": {},
   "source": [
    "### Kết luận\n",
    "- K-Nearest Neighbors là mô hình hiệu quả hơn để dự đoán mức độ ảnh hưởng của phân loại MPAA đến doanh thu phim."
   ]
  }
 ],
 "metadata": {
  "kernelspec": {
   "display_name": "Python 3 (ipykernel)",
   "language": "python",
   "name": "python3"
  },
  "language_info": {
   "codemirror_mode": {
    "name": "ipython",
    "version": 3
   },
   "file_extension": ".py",
   "mimetype": "text/x-python",
   "name": "python",
   "nbconvert_exporter": "python",
   "pygments_lexer": "ipython3",
   "version": "3.11.5"
  },
  "vscode": {
   "interpreter": {
    "hash": "230eced423d2f0c873d70f568fb3b91d4d0a92783dea9e5e343fd82907c96f27"
   }
  }
 },
 "nbformat": 4,
 "nbformat_minor": 5
}
