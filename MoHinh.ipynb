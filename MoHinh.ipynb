{
 "cells": [
  {
   "cell_type": "markdown",
   "id": "62050c72",
   "metadata": {},
   "source": [
    "<div style=\"border:2px solid black; padding:10px;\">\n",
    "    <h3>Nhóm 15</h3>\n",
    "    <h1 style='color:red;text-align:center;font-size:30px'>Chủ đề: Phân tích về doanh thu phim<b></b></h1>\n",
    "</div>\n"
   ]
  },
  {
   "cell_type": "markdown",
   "id": "eede0177",
   "metadata": {},
   "source": [
    "<h3>Danh sách thành viên</h3>\n",
    "<li> Nguyễn Quốc Hưng - 21120464 </li>\n",
    "<li> Đoàn Đức Hữu - 21120465 </li>\n",
    "<li> Võ Minh Khuê - 21120486</li>\n",
    "<li> Hồ Trọng Lễ - 21120494</li>\n"
   ]
  },
  {
   "cell_type": "markdown",
   "id": "fadad046",
   "metadata": {},
   "source": [
    "<h1 style='color:blue;text-align:center;font-size:30px'><b>Phần II</b></h1>\n"
   ]
  },
  {
   "cell_type": "markdown",
   "id": "d9aeff06",
   "metadata": {},
   "source": [
    "# Import thư viện\n"
   ]
  },
  {
   "cell_type": "code",
   "execution_count": 1098,
   "id": "bb276657",
   "metadata": {},
   "outputs": [],
   "source": [
    "\n",
    "import numpy as np\n",
    "import pandas as pd\n",
    "import matplotlib.pyplot as plt\n",
    "import seaborn as sns\n",
    "from sklearn.model_selection import train_test_split\n",
    "from sklearn.preprocessing import LabelEncoder, StandardScaler\n",
    "from sklearn.feature_extraction.text import CountVectorizer\n",
    "from sklearn.linear_model import LinearRegression\n",
    "from sklearn.tree import DecisionTreeRegressor\n",
    "from sklearn.ensemble import RandomForestRegressor\n",
    "from sklearn.metrics import mean_squared_error, mean_absolute_error\n",
    "from sklearn.model_selection import cross_val_score\n",
    "from sklearn.model_selection import ShuffleSplit\n",
    "from sklearn.model_selection import GridSearchCV"
   ]
  },
  {
   "cell_type": "code",
   "execution_count": 1099,
   "id": "47af81f8",
   "metadata": {},
   "outputs": [
    {
     "data": {
      "text/plain": [
       "'c:\\\\Users\\\\dhuu2\\\\AppData\\\\Local\\\\Programs\\\\Python\\\\Python311\\\\python.exe'"
      ]
     },
     "execution_count": 1099,
     "metadata": {},
     "output_type": "execute_result"
    }
   ],
   "source": [
    "import sys\n",
    "sys.executable"
   ]
  },
  {
   "cell_type": "markdown",
   "id": "79b3a572",
   "metadata": {},
   "source": [
    "## Đọc file 'processed_data' vào dataframe df\n"
   ]
  },
  {
   "cell_type": "code",
   "execution_count": 1100,
   "id": "09468941",
   "metadata": {},
   "outputs": [
    {
     "data": {
      "text/html": [
       "<div>\n",
       "<style scoped>\n",
       "    .dataframe tbody tr th:only-of-type {\n",
       "        vertical-align: middle;\n",
       "    }\n",
       "\n",
       "    .dataframe tbody tr th {\n",
       "        vertical-align: top;\n",
       "    }\n",
       "\n",
       "    .dataframe thead th {\n",
       "        text-align: right;\n",
       "    }\n",
       "</style>\n",
       "<table border=\"1\" class=\"dataframe\">\n",
       "  <thead>\n",
       "    <tr style=\"text-align: right;\">\n",
       "      <th></th>\n",
       "      <th>title</th>\n",
       "      <th>domestic_revenue</th>\n",
       "      <th>world_revenue</th>\n",
       "      <th>distributor</th>\n",
       "      <th>opening_revenue</th>\n",
       "      <th>MPAA</th>\n",
       "      <th>genres</th>\n",
       "      <th>running_time</th>\n",
       "      <th>in_release</th>\n",
       "      <th>release_date</th>\n",
       "    </tr>\n",
       "  </thead>\n",
       "  <tbody>\n",
       "    <tr>\n",
       "      <th>0</th>\n",
       "      <td>Batman Returns</td>\n",
       "      <td>162831698</td>\n",
       "      <td>266831698</td>\n",
       "      <td>Warner Bros.</td>\n",
       "      <td>45687711.0</td>\n",
       "      <td>PG-13</td>\n",
       "      <td>Action,Crime,Fantasy</td>\n",
       "      <td>126.0</td>\n",
       "      <td>196.0</td>\n",
       "      <td>1992-06-19</td>\n",
       "    </tr>\n",
       "    <tr>\n",
       "      <th>1</th>\n",
       "      <td>Evolution</td>\n",
       "      <td>38345494</td>\n",
       "      <td>98376292</td>\n",
       "      <td>DreamWorks Distribution</td>\n",
       "      <td>13408351.0</td>\n",
       "      <td>PG-13</td>\n",
       "      <td>Comedy,Sci-Fi</td>\n",
       "      <td>101.0</td>\n",
       "      <td>207.0</td>\n",
       "      <td>2001-06-08</td>\n",
       "    </tr>\n",
       "    <tr>\n",
       "      <th>2</th>\n",
       "      <td>Jumanji</td>\n",
       "      <td>100475249</td>\n",
       "      <td>100475249</td>\n",
       "      <td>Sony Pictures Entertainment (SPE)</td>\n",
       "      <td>11084370.0</td>\n",
       "      <td>PG</td>\n",
       "      <td>Adventure,Comedy,Family,Fantasy</td>\n",
       "      <td>104.0</td>\n",
       "      <td>383.0</td>\n",
       "      <td>1995-12-15</td>\n",
       "    </tr>\n",
       "    <tr>\n",
       "      <th>3</th>\n",
       "      <td>The American President</td>\n",
       "      <td>60079496</td>\n",
       "      <td>60079496</td>\n",
       "      <td>Sony Pictures Entertainment (SPE)</td>\n",
       "      <td>10014558.0</td>\n",
       "      <td>PG-13</td>\n",
       "      <td>Comedy,Drama,Romance</td>\n",
       "      <td>114.0</td>\n",
       "      <td>411.0</td>\n",
       "      <td>1995-11-17</td>\n",
       "    </tr>\n",
       "    <tr>\n",
       "      <th>4</th>\n",
       "      <td>Mulholland Drive</td>\n",
       "      <td>7220243</td>\n",
       "      <td>20117339</td>\n",
       "      <td>Universal Pictures</td>\n",
       "      <td>587591.0</td>\n",
       "      <td>R</td>\n",
       "      <td>Drama,Mystery,Thriller</td>\n",
       "      <td>147.0</td>\n",
       "      <td>450.0</td>\n",
       "      <td>2001-10-08</td>\n",
       "    </tr>\n",
       "    <tr>\n",
       "      <th>5</th>\n",
       "      <td>Tombstone</td>\n",
       "      <td>56505065</td>\n",
       "      <td>56505065</td>\n",
       "      <td>Walt Disney Studios Motion Pictures</td>\n",
       "      <td>6454752.0</td>\n",
       "      <td>R</td>\n",
       "      <td>Biography,Drama,History,Western</td>\n",
       "      <td>130.0</td>\n",
       "      <td>373.0</td>\n",
       "      <td>1993-12-24</td>\n",
       "    </tr>\n",
       "    <tr>\n",
       "      <th>6</th>\n",
       "      <td>Heart and Souls</td>\n",
       "      <td>16589540</td>\n",
       "      <td>16589540</td>\n",
       "      <td>Universal Pictures</td>\n",
       "      <td>4322250.0</td>\n",
       "      <td>PG-13</td>\n",
       "      <td>Comedy,Drama,Fantasy,Romance</td>\n",
       "      <td>104.0</td>\n",
       "      <td>141.0</td>\n",
       "      <td>1993-08-13</td>\n",
       "    </tr>\n",
       "    <tr>\n",
       "      <th>7</th>\n",
       "      <td>The Phantom of the Opera</td>\n",
       "      <td>51268815</td>\n",
       "      <td>154648887</td>\n",
       "      <td>Warner Bros.</td>\n",
       "      <td>4001890.0</td>\n",
       "      <td>PG-13</td>\n",
       "      <td>Drama,Musical,Romance,Thriller</td>\n",
       "      <td>143.0</td>\n",
       "      <td>375.0</td>\n",
       "      <td>2004-12-22</td>\n",
       "    </tr>\n",
       "    <tr>\n",
       "      <th>8</th>\n",
       "      <td>The Brady Bunch Movie</td>\n",
       "      <td>46576136</td>\n",
       "      <td>46576136</td>\n",
       "      <td>Paramount Pictures</td>\n",
       "      <td>14827066.0</td>\n",
       "      <td>PG-13</td>\n",
       "      <td>Comedy</td>\n",
       "      <td>90.0</td>\n",
       "      <td>318.0</td>\n",
       "      <td>1995-02-17</td>\n",
       "    </tr>\n",
       "    <tr>\n",
       "      <th>9</th>\n",
       "      <td>Teenage Mutant Ninja Turtles III</td>\n",
       "      <td>42273609</td>\n",
       "      <td>42273609</td>\n",
       "      <td>New Line Cinema</td>\n",
       "      <td>12419597.0</td>\n",
       "      <td>PG</td>\n",
       "      <td>Action,Adventure,Comedy,Family,Fantasy,Sci-Fi</td>\n",
       "      <td>96.0</td>\n",
       "      <td>288.0</td>\n",
       "      <td>1993-03-19</td>\n",
       "    </tr>\n",
       "  </tbody>\n",
       "</table>\n",
       "</div>"
      ],
      "text/plain": [
       "                              title  domestic_revenue  world_revenue  \\\n",
       "0                    Batman Returns         162831698      266831698   \n",
       "1                         Evolution          38345494       98376292   \n",
       "2                           Jumanji         100475249      100475249   \n",
       "3            The American President          60079496       60079496   \n",
       "4                  Mulholland Drive           7220243       20117339   \n",
       "5                         Tombstone          56505065       56505065   \n",
       "6                   Heart and Souls          16589540       16589540   \n",
       "7          The Phantom of the Opera          51268815      154648887   \n",
       "8             The Brady Bunch Movie          46576136       46576136   \n",
       "9  Teenage Mutant Ninja Turtles III          42273609       42273609   \n",
       "\n",
       "                           distributor  opening_revenue   MPAA  \\\n",
       "0                         Warner Bros.       45687711.0  PG-13   \n",
       "1              DreamWorks Distribution       13408351.0  PG-13   \n",
       "2    Sony Pictures Entertainment (SPE)       11084370.0     PG   \n",
       "3    Sony Pictures Entertainment (SPE)       10014558.0  PG-13   \n",
       "4                   Universal Pictures         587591.0      R   \n",
       "5  Walt Disney Studios Motion Pictures        6454752.0      R   \n",
       "6                   Universal Pictures        4322250.0  PG-13   \n",
       "7                         Warner Bros.        4001890.0  PG-13   \n",
       "8                   Paramount Pictures       14827066.0  PG-13   \n",
       "9                      New Line Cinema       12419597.0     PG   \n",
       "\n",
       "                                          genres  running_time  in_release  \\\n",
       "0                           Action,Crime,Fantasy         126.0       196.0   \n",
       "1                                  Comedy,Sci-Fi         101.0       207.0   \n",
       "2                Adventure,Comedy,Family,Fantasy         104.0       383.0   \n",
       "3                           Comedy,Drama,Romance         114.0       411.0   \n",
       "4                         Drama,Mystery,Thriller         147.0       450.0   \n",
       "5                Biography,Drama,History,Western         130.0       373.0   \n",
       "6                   Comedy,Drama,Fantasy,Romance         104.0       141.0   \n",
       "7                 Drama,Musical,Romance,Thriller         143.0       375.0   \n",
       "8                                         Comedy          90.0       318.0   \n",
       "9  Action,Adventure,Comedy,Family,Fantasy,Sci-Fi          96.0       288.0   \n",
       "\n",
       "  release_date  \n",
       "0   1992-06-19  \n",
       "1   2001-06-08  \n",
       "2   1995-12-15  \n",
       "3   1995-11-17  \n",
       "4   2001-10-08  \n",
       "5   1993-12-24  \n",
       "6   1993-08-13  \n",
       "7   2004-12-22  \n",
       "8   1995-02-17  \n",
       "9   1993-03-19  "
      ]
     },
     "execution_count": 1100,
     "metadata": {},
     "output_type": "execute_result"
    }
   ],
   "source": [
    "movies_df = pd.read_csv('./data/processed/processed_data.csv')\n",
    "movies_df.head(10)"
   ]
  },
  {
   "cell_type": "markdown",
   "id": "0f2e3ff5",
   "metadata": {},
   "source": [
    "## Vấn đề đặt ra :\n",
    "\n",
    "- Dự đoán doanh thu phim đạt được ở thị trường nội địa\n"
   ]
  },
  {
   "cell_type": "markdown",
   "id": "e6a18f12",
   "metadata": {},
   "source": [
    "### Lựa chọn các đặc trưng\n"
   ]
  },
  {
   "cell_type": "markdown",
   "id": "0539b68d",
   "metadata": {},
   "source": [
    "Ta sẽ chọn lọc ra các đặc trưng có thể ảnh hưởng doanh thu nội địa của một bộ phim , từ đó dùng các đặc trưng này để huấn luyện cho mô hình dự đoán doanh thu phim.\n",
    "Các đặc trưng có khả năng tác đôngh đến doanh thu nội địa bao gồm:\n",
    "\n",
    "- MPAA\n",
    "- Running Time\n",
    "- Genres\n",
    "- Release Date\n",
    "- In Release\n",
    "- Distributor\n"
   ]
  },
  {
   "cell_type": "markdown",
   "id": "24004586",
   "metadata": {},
   "source": [
    "## Tiền xử lý trước khi chạy mô hình\n"
   ]
  },
  {
   "cell_type": "code",
   "execution_count": 1101,
   "id": "7abdefbe",
   "metadata": {},
   "outputs": [],
   "source": [
    "\n",
    "# Tạo các đặc trưng mới dựa trên release_date\n",
    "movies_df['release_date'] = pd.to_datetime(movies_df['release_date'])\n",
    "movies_df['release_month'] = movies_df['release_date'].dt.month\n",
    "movies_df['release_year'] = movies_df['release_date'].dt.year\n",
    "movies_df = movies_df.drop('release_date', axis=1)"
   ]
  },
  {
   "cell_type": "code",
   "execution_count": 1102,
   "id": "e476277e",
   "metadata": {},
   "outputs": [],
   "source": [
    "# Giảm bớt sự ảnh hưởng của giá trị ngoại lệ\n",
    "features = ['domestic_revenue', 'in_release']\n",
    "\n",
    "\n",
    "for col in features:\n",
    "    movies_df[col] = movies_df[col].apply(lambda x: np.log10(x))"
   ]
  },
  {
   "cell_type": "code",
   "execution_count": 1103,
   "id": "8d374564",
   "metadata": {},
   "outputs": [
    {
     "name": "stdout",
     "output_type": "stream",
     "text": [
      "11\n"
     ]
    }
   ],
   "source": [
    "# Chuyển đổi dữ liệu phân loại trong cột genres thành dạng số bằng kỹ thuật 'One-Hot Encoding'\n",
    "vectorizer = CountVectorizer()\n",
    "vectorizer.fit(movies_df['genres'])\n",
    "features = vectorizer.transform(movies_df['genres']).toarray()\n",
    "genres = vectorizer.get_feature_names_out()\n",
    "\n",
    "\n",
    "# Tạo một cột mới cho mỗi thể loại , giá trị trong mỗi cột tương ứng với sự xuất hiện của thể loại đó trong bộ phim (0,1).\n",
    "\n",
    "for i, name in enumerate(genres):\n",
    "    movies_df[name] = features[:, i]\n",
    "\n",
    "movies_df.drop('genres', axis=1, inplace=True)\n",
    "\n",
    "\n",
    "# Xóa cột có hơn 95% là giá trị 0\n",
    "removed = 0\n",
    "for col in movies_df.loc[:, 'action':'western'].columns:\n",
    "\n",
    "    if (movies_df[col] == 0).mean() > 0.95:\n",
    "        removed += 1\n",
    "        movies_df.drop(col, axis=1, inplace=True)\n",
    "\n",
    "print(removed)"
   ]
  },
  {
   "cell_type": "code",
   "execution_count": 1104,
   "id": "8d6519f4",
   "metadata": {},
   "outputs": [],
   "source": [
    "\n",
    "\n",
    "for col in ['distributor', 'MPAA']:\n",
    "    le = LabelEncoder()\n",
    "    movies_df[col] = le.fit_transform(movies_df[col])"
   ]
  },
  {
   "cell_type": "markdown",
   "id": "6fb9c152",
   "metadata": {},
   "source": [
    "Kiểm tra mối tương quan giữa các đặc trưng\n"
   ]
  },
  {
   "cell_type": "code",
   "execution_count": 1105,
   "id": "e1403cdc",
   "metadata": {},
   "outputs": [
    {
     "data": {
      "image/png": "[encoded data removed]",
      "text/plain": [
       "<Figure size 800x800 with 2 Axes>"
      ]
     },
     "metadata": {},
     "output_type": "display_data"
    }
   ],
   "source": [
    "numeric_cols = movies_df.select_dtypes(include=[np.number])\n",
    "\n",
    "plt.figure(figsize=(8, 8))\n",
    "sns.heatmap(numeric_cols.corr() > 0.8,\n",
    "            annot=True,\n",
    "            cbar=True)\n",
    "plt.show()"
   ]
  },
  {
   "cell_type": "markdown",
   "id": "d6096c64",
   "metadata": {},
   "source": [
    "Từ biểu đồ ta có thể quan sát được mối quan hệ giữa các đặc trưng. Những cặp đặc trưng có mối quan hệ cao với nhau sẽ được cân nhắc loại bỏ 1 đặc trưng để tránh hiện tượng đa cộng tuyến.\n",
    "\n",
    "Đồng thời ta sẽ xóa bỏ các cột `Title`, `World_revenue` và `Openning_revenue` vì bài toán đặt ra là dự đoán doanh thu nội địa dựa trên các đặc trưng.\n"
   ]
  },
  {
   "cell_type": "code",
   "execution_count": 1106,
   "id": "5666b525",
   "metadata": {},
   "outputs": [],
   "source": [
    "features = movies_df.drop(\n",
    "    ['title', 'domestic_revenue', 'world_revenue', 'opening_revenue', 'fi'], axis=1)\n",
    "target = movies_df['domestic_revenue'].values"
   ]
  },
  {
   "cell_type": "markdown",
   "id": "c440ca0c",
   "metadata": {},
   "source": [
    "Chia tập dữ liệu thành hai tập dữ liệu với 1 tập dùng để huấn luyện cho mô hình và tập còn lại dùng để kiểm thử và đánh giá độ hiệu quả của mô hình.\n"
   ]
  },
  {
   "cell_type": "code",
   "execution_count": 1107,
   "id": "221ffb9f",
   "metadata": {},
   "outputs": [
    {
     "data": {
      "text/plain": [
       "((3808, 20), (952, 20))"
      ]
     },
     "execution_count": 1107,
     "metadata": {},
     "output_type": "execute_result"
    }
   ],
   "source": [
    "\n",
    "\n",
    "X_train, X_test, \\\n",
    "    Y_train, Y_test = train_test_split(features, target,\n",
    "                                       test_size=0.2,\n",
    "                                       random_state=0)\n",
    "X_train.shape, X_test.shape"
   ]
  },
  {
   "cell_type": "markdown",
   "id": "579ed66c",
   "metadata": {},
   "source": [
    "Chuẩn hóa dữ liệu\n"
   ]
  },
  {
   "cell_type": "code",
   "execution_count": 1108,
   "id": "d309d404",
   "metadata": {},
   "outputs": [],
   "source": [
    "\n",
    "# Chuẩn hóa dữ liệu\n",
    "scaler = StandardScaler()\n",
    "X_train = scaler.fit_transform(X_train)\n",
    "X_test = scaler.transform(X_test)"
   ]
  },
  {
   "cell_type": "markdown",
   "id": "d1ad746a",
   "metadata": {},
   "source": [
    "## Các mô hình\n"
   ]
  },
  {
   "cell_type": "markdown",
   "id": "688a62f0",
   "metadata": {},
   "source": [
    "<h3 style='color:#e28743;text-align:left;font-size:20px'><b>1. Linear Regression</b></h3>\n"
   ]
  },
  {
   "cell_type": "markdown",
   "id": "1f2feca9",
   "metadata": {},
   "source": [
    "Huấn luyện mô hình `Linear Regression` trên tập X_train và Y_train\n"
   ]
  },
  {
   "cell_type": "code",
   "execution_count": 1109,
   "id": "6fc72e6d",
   "metadata": {},
   "outputs": [],
   "source": [
    "ln = LinearRegression().fit(X_train, Y_train)"
   ]
  },
  {
   "cell_type": "markdown",
   "id": "fca3fc7a",
   "metadata": {},
   "source": [
    "Dùng mô hình để dự đoán trên tập `X_test`\n"
   ]
  },
  {
   "cell_type": "code",
   "execution_count": 1110,
   "id": "1ea4eaac",
   "metadata": {},
   "outputs": [],
   "source": [
    "ln_pre = ln.predict(X_test)"
   ]
  },
  {
   "cell_type": "markdown",
   "id": "3c23715e",
   "metadata": {},
   "source": [
    "Đỗ lỗi _MSE_ và _RMSE_ của mô hình so với `Y_test`\n"
   ]
  },
  {
   "cell_type": "code",
   "execution_count": 1111,
   "id": "0f1b6157",
   "metadata": {},
   "outputs": [
    {
     "name": "stdout",
     "output_type": "stream",
     "text": [
      "0.2560706990559403 \t 0.5060342864430634 \t 0.3893063543250529\n"
     ]
    }
   ],
   "source": [
    "ln_mse = mean_squared_error(Y_test, ln_pre)\n",
    "ln_rmse = np.sqrt(ln_mse)\n",
    "ln_mae = mean_absolute_error(Y_test, ln_pre)\n",
    "print(ln_mse, '\\t', ln_rmse, '\\t', ln_mae)"
   ]
  },
  {
   "cell_type": "markdown",
   "id": "d5019bcc",
   "metadata": {},
   "source": [
    "<h3 style='color:#e28743;text-align:left;font-size:20px'><b>2. Decision Tree Regression</b></h3>\n"
   ]
  },
  {
   "cell_type": "code",
   "execution_count": 1112,
   "id": "9dd6f336",
   "metadata": {},
   "outputs": [],
   "source": [
    "dt = DecisionTreeRegressor().fit(X_train, Y_train)"
   ]
  },
  {
   "cell_type": "markdown",
   "id": "aa5a4125",
   "metadata": {},
   "source": [
    "Dùng mô hình để dự đoán trên tập `X_test`\n"
   ]
  },
  {
   "cell_type": "code",
   "execution_count": 1113,
   "id": "fea8c65b",
   "metadata": {},
   "outputs": [],
   "source": [
    "dt_pred = dt.predict(X_test)"
   ]
  },
  {
   "cell_type": "markdown",
   "metadata": {},
   "source": [
    "Đo độ lỗi `MSE`, `RMSE` và `MAE` của mô hình so với `Y_test`\n"
   ]
  },
  {
   "cell_type": "code",
   "execution_count": 1114,
   "id": "888b5aac",
   "metadata": {},
   "outputs": [
    {
     "name": "stdout",
     "output_type": "stream",
     "text": [
      "0.35525269370661655 \t 0.5960307825159843 \t 0.45378208716058016\n"
     ]
    }
   ],
   "source": [
    "dt_mse = mean_squared_error(Y_test, dt_pred)\n",
    "dt_rmse = np.sqrt(dt_mse)\n",
    "dt_mae = mean_absolute_error(Y_test, dt_pred)\n",
    "print(dt_mse, '\\t', dt_rmse, '\\t', dt_mae)"
   ]
  },
  {
   "cell_type": "markdown",
   "id": "dc8a39d8",
   "metadata": {},
   "source": [
    "<h3 style='color:#e28743;text-align:left;font-size:20px'><b>3. Random Forest Regression</b></h3>\n"
   ]
  },
  {
   "cell_type": "code",
   "execution_count": 1115,
   "id": "9cab7c55",
   "metadata": {},
   "outputs": [],
   "source": [
    "rf = RandomForestRegressor(max_depth=5).fit(X_train, Y_train)"
   ]
  },
  {
   "cell_type": "markdown",
   "id": "f7e863e3",
   "metadata": {},
   "source": [
    "Dùng mô hình để dự đoán trên tập `X_test`\n"
   ]
  },
  {
   "cell_type": "code",
   "execution_count": 1116,
   "id": "a034beb5",
   "metadata": {},
   "outputs": [],
   "source": [
    "rf_pred = rf.predict(X_test)"
   ]
  },
  {
   "cell_type": "markdown",
   "id": "2a18418d",
   "metadata": {},
   "source": [
    "Đo độ lỗi `MSE`,`RMSE` và `MAE` của mô hình so với `Y_test`\n"
   ]
  },
  {
   "cell_type": "code",
   "execution_count": 1117,
   "id": "2dafb1ec",
   "metadata": {},
   "outputs": [
    {
     "name": "stdout",
     "output_type": "stream",
     "text": [
      "0.2217409408750024 \t 0.47089376814203265 \t 0.3744826283012073\n"
     ]
    }
   ],
   "source": [
    "rf_mse = mean_squared_error(Y_test, rf_pred)\n",
    "rf_rmse = np.sqrt(rf_mse)\n",
    "rf_mae = mean_absolute_error(Y_test, rf_pred)\n",
    "print(rf_mse, '\\t', rf_rmse, '\\t', rf_mae)"
   ]
  },
  {
   "cell_type": "markdown",
   "id": "2421d2b0",
   "metadata": {},
   "source": [
    "<h2 style='color:#e28743;text-align:center;font-size:25px'><b> Đánh giá mô hình</b></h2>\n"
   ]
  },
  {
   "cell_type": "markdown",
   "id": "51ac708a",
   "metadata": {},
   "source": [
    "<h3 style='color:#21130d;text-align:left;font-size:20px'><b>1. Linear Regression</b></h3>\n"
   ]
  },
  {
   "cell_type": "markdown",
   "id": "d9a0a0d0",
   "metadata": {},
   "source": [
    "#### Cross-Validation\n"
   ]
  },
  {
   "cell_type": "code",
   "execution_count": 1118,
   "id": "9e172655",
   "metadata": {},
   "outputs": [],
   "source": [
    "cv = ShuffleSplit(n_splits=5, test_size=0.2, random_state=0)"
   ]
  },
  {
   "cell_type": "markdown",
   "id": "d774e7bd",
   "metadata": {},
   "source": [
    "Tính độ lỗi trung bình\n"
   ]
  },
  {
   "cell_type": "code",
   "execution_count": 1119,
   "id": "97248276",
   "metadata": {},
   "outputs": [
    {
     "name": "stdout",
     "output_type": "stream",
     "text": [
      "[-0.2560707  -0.28583302 -0.2723138  -0.26768196 -0.26053657] \n",
      " -0.2684872071771351\n"
     ]
    }
   ],
   "source": [
    "scores = cross_val_score(ln, features, target,\n",
    "                         scoring='neg_mean_squared_error', cv=cv)\n",
    "print(scores, '\\n', np.mean(scores))"
   ]
  },
  {
   "cell_type": "code",
   "execution_count": 1120,
   "id": "827ab82b",
   "metadata": {},
   "outputs": [
    {
     "name": "stdout",
     "output_type": "stream",
     "text": [
      "[0.2560707  0.28583302 0.2723138  0.26768196 0.26053657] \n",
      " 0.2684872071771351\n"
     ]
    }
   ],
   "source": [
    "ln_mse_scores = -scores\n",
    "print(ln_mse_scores, '\\n', np.mean(ln_mse_scores))"
   ]
  },
  {
   "cell_type": "code",
   "execution_count": 1121,
   "id": "00928eff",
   "metadata": {},
   "outputs": [
    {
     "name": "stdout",
     "output_type": "stream",
     "text": [
      "[0.50603429 0.53463353 0.52183694 0.5173799  0.51042783] \n",
      " 0.5180624978075632\n"
     ]
    }
   ],
   "source": [
    "ln_rmse_scores = np.sqrt(ln_mse_scores)\n",
    "print(ln_rmse_scores, '\\n', np.mean(ln_rmse_scores))"
   ]
  },
  {
   "cell_type": "markdown",
   "id": "ef256617",
   "metadata": {},
   "source": [
    "### Minh họa\n"
   ]
  },
  {
   "cell_type": "code",
   "execution_count": 1122,
   "id": "e6560e9b",
   "metadata": {},
   "outputs": [
    {
     "data": {
      "text/plain": [
       "Text(0.5, 0, 'Doanh thu nội địa ')"
      ]
     },
     "execution_count": 1122,
     "metadata": {},
     "output_type": "execute_result"
    },
    {
     "data": {
      "image/png": "[encoded data removed]",
      "text/plain": [
       "<Figure size 1200x600 with 1 Axes>"
      ]
     },
     "metadata": {},
     "output_type": "display_data"
    }
   ],
   "source": [
    "\n",
    "\n",
    "plt.figure(figsize=(12, 6))\n",
    "sns.regplot(x=Y_test, y=ln_pre, ci=None, scatter_kws={\n",
    "            \"color\": \"blue\"}, line_kws={\"color\": \"red\"})\n",
    "plt.title('Linear Regression', fontsize=14)\n",
    "plt.xlabel('Doanh thu nội địa ', fontsize=14)"
   ]
  },
  {
   "cell_type": "markdown",
   "id": "30543cb4",
   "metadata": {},
   "source": [
    "<h3 style='color:#21130d;font-size:20px'><b>2. Decision Tree Regression</b></h3>\n"
   ]
  },
  {
   "cell_type": "markdown",
   "id": "fd00c9d3",
   "metadata": {},
   "source": [
    "#### Cross-Validation\n"
   ]
  },
  {
   "cell_type": "code",
   "execution_count": 1123,
   "id": "de5bdf12",
   "metadata": {},
   "outputs": [
    {
     "data": {
      "text/plain": [
       "array([-0.37602429, -0.35283444, -0.33464566, -0.38613275, -0.39613844])"
      ]
     },
     "execution_count": 1123,
     "metadata": {},
     "output_type": "execute_result"
    }
   ],
   "source": [
    "scores = cross_val_score(dt, X_train, Y_train,\n",
    "                         scoring=\"neg_mean_squared_error\", cv=5)\n",
    "scores"
   ]
  },
  {
   "cell_type": "markdown",
   "id": "af27755a",
   "metadata": {},
   "source": [
    "Tính độ lỗi trung bình\n"
   ]
  },
  {
   "cell_type": "code",
   "execution_count": 1124,
   "id": "a1fefcf7",
   "metadata": {},
   "outputs": [
    {
     "data": {
      "text/plain": [
       "0.36915511702005566"
      ]
     },
     "execution_count": 1124,
     "metadata": {},
     "output_type": "execute_result"
    }
   ],
   "source": [
    "scores = -scores\n",
    "scores.mean()"
   ]
  },
  {
   "cell_type": "markdown",
   "id": "e321748f",
   "metadata": {},
   "source": [
    "<h3 style='color:#21130d;font-size:20px'><b>3. Random Forest Regression</b></h3>\n"
   ]
  },
  {
   "cell_type": "markdown",
   "id": "6783c209",
   "metadata": {},
   "source": [
    "#### Cross-Validation\n"
   ]
  },
  {
   "cell_type": "code",
   "execution_count": 1125,
   "id": "6f016645",
   "metadata": {},
   "outputs": [
    {
     "data": {
      "text/plain": [
       "array([-0.3849398 , -0.35155233, -0.3416217 , -0.39648082, -0.39398543])"
      ]
     },
     "execution_count": 1125,
     "metadata": {},
     "output_type": "execute_result"
    }
   ],
   "source": [
    "scores = cross_val_score(dt, X_train, Y_train,\n",
    "                         scoring=\"neg_mean_squared_error\", cv=5)\n",
    "scores"
   ]
  },
  {
   "cell_type": "markdown",
   "id": "968ea947",
   "metadata": {},
   "source": [
    "#### Tính độ lỗi trung bình\n"
   ]
  },
  {
   "cell_type": "code",
   "execution_count": 1126,
   "id": "a09c449a",
   "metadata": {},
   "outputs": [
    {
     "data": {
      "text/plain": [
       "0.37371601469468074"
      ]
     },
     "execution_count": 1126,
     "metadata": {},
     "output_type": "execute_result"
    }
   ],
   "source": [
    "scores = -scores\n",
    "scores.mean()"
   ]
  },
  {
   "cell_type": "markdown",
   "id": "a0ee3291",
   "metadata": {},
   "source": [
    "### So sánh độ lỗi\n"
   ]
  },
  {
   "cell_type": "code",
   "execution_count": 1127,
   "id": "577ef679",
   "metadata": {},
   "outputs": [
    {
     "data": {
      "text/html": [
       "<div>\n",
       "<style scoped>\n",
       "    .dataframe tbody tr th:only-of-type {\n",
       "        vertical-align: middle;\n",
       "    }\n",
       "\n",
       "    .dataframe tbody tr th {\n",
       "        vertical-align: top;\n",
       "    }\n",
       "\n",
       "    .dataframe thead th {\n",
       "        text-align: right;\n",
       "    }\n",
       "</style>\n",
       "<table border=\"1\" class=\"dataframe\">\n",
       "  <thead>\n",
       "    <tr style=\"text-align: right;\">\n",
       "      <th></th>\n",
       "      <th>Linear Regression</th>\n",
       "      <th>Decision Tree Regression</th>\n",
       "      <th>Random Forest Regression</th>\n",
       "    </tr>\n",
       "  </thead>\n",
       "  <tbody>\n",
       "    <tr>\n",
       "      <th>RMSE</th>\n",
       "      <td>0.506034</td>\n",
       "      <td>0.596031</td>\n",
       "      <td>0.470894</td>\n",
       "    </tr>\n",
       "    <tr>\n",
       "      <th>MSE</th>\n",
       "      <td>0.256071</td>\n",
       "      <td>0.355253</td>\n",
       "      <td>0.221741</td>\n",
       "    </tr>\n",
       "    <tr>\n",
       "      <th>MAE</th>\n",
       "      <td>0.389306</td>\n",
       "      <td>0.453782</td>\n",
       "      <td>0.374483</td>\n",
       "    </tr>\n",
       "  </tbody>\n",
       "</table>\n",
       "</div>"
      ],
      "text/plain": [
       "      Linear Regression  Decision Tree Regression  Random Forest Regression\n",
       "RMSE           0.506034                  0.596031                  0.470894\n",
       "MSE            0.256071                  0.355253                  0.221741\n",
       "MAE            0.389306                  0.453782                  0.374483"
      ]
     },
     "execution_count": 1127,
     "metadata": {},
     "output_type": "execute_result"
    }
   ],
   "source": [
    "\n",
    "data = {\n",
    "    'Linear Regression': [ln_rmse, ln_mse, ln_mae],\n",
    "    'Decision Tree Regression': [dt_rmse, dt_mse, dt_mae],\n",
    "    'Random Forest Regression': [rf_rmse, rf_mse, rf_mae]\n",
    "}\n",
    "\n",
    "\n",
    "metrics = ['RMSE', 'MSE', 'MAE']\n",
    "\n",
    "e_df = pd.DataFrame(data, index=metrics)\n",
    "e_df"
   ]
  },
  {
   "cell_type": "markdown",
   "id": "767a79e9",
   "metadata": {},
   "source": [
    "### Tinh chỉnh mô hình bằng siêu tham số\n"
   ]
  },
  {
   "cell_type": "markdown",
   "id": "c0164671",
   "metadata": {},
   "source": [
    "#### Mô hình Random Forest Regresion\n"
   ]
  },
  {
   "cell_type": "code",
   "execution_count": 1128,
   "id": "c96df094",
   "metadata": {},
   "outputs": [],
   "source": [
    "# Chọn các tham số\n",
    "param_grid = {\n",
    "    'bootstrap': [True, False],\n",
    "    'max_depth': [5, 10, 15, 20],\n",
    "    'max_features': ['auto', 'sqrt'],\n",
    "    'min_samples_leaf': [1, 2, 3, 4],\n",
    "    'min_samples_split': [2, 4, 6, 8, 10],\n",
    "    'n_estimators': [5, 10, 15, 20]\n",
    "}"
   ]
  },
  {
   "cell_type": "code",
   "execution_count": 1129,
   "id": "0dd23a31",
   "metadata": {},
   "outputs": [],
   "source": [
    "grid_search_rf = GridSearchCV(estimator=rf, param_grid=param_grid, cv=5)"
   ]
  },
  {
   "cell_type": "code",
   "execution_count": 1130,
   "id": "866beefe",
   "metadata": {},
   "outputs": [
    {
     "data": {
      "text/html": [
       "<style>#sk-container-id-48 {color: black;}#sk-container-id-48 pre{padding: 0;}#sk-container-id-48 div.sk-toggleable {background-color: white;}#sk-container-id-48 label.sk-toggleable__label {cursor: pointer;display: block;width: 100%;margin-bottom: 0;padding: 0.3em;box-sizing: border-box;text-align: center;}#sk-container-id-48 label.sk-toggleable__label-arrow:before {content: \"▸\";float: left;margin-right: 0.25em;color: #696969;}#sk-container-id-48 label.sk-toggleable__label-arrow:hover:before {color: black;}#sk-container-id-48 div.sk-estimator:hover label.sk-toggleable__label-arrow:before {color: black;}#sk-container-id-48 div.sk-toggleable__content {max-height: 0;max-width: 0;overflow: hidden;text-align: left;background-color: #f0f8ff;}#sk-container-id-48 div.sk-toggleable__content pre {margin: 0.2em;color: black;border-radius: 0.25em;background-color: #f0f8ff;}#sk-container-id-48 input.sk-toggleable__control:checked~div.sk-toggleable__content {max-height: 200px;max-width: 100%;overflow: auto;}#sk-container-id-48 input.sk-toggleable__control:checked~label.sk-toggleable__label-arrow:before {content: \"▾\";}#sk-container-id-48 div.sk-estimator input.sk-toggleable__control:checked~label.sk-toggleable__label {background-color: #d4ebff;}#sk-container-id-48 div.sk-label input.sk-toggleable__control:checked~label.sk-toggleable__label {background-color: #d4ebff;}#sk-container-id-48 input.sk-hidden--visually {border: 0;clip: rect(1px 1px 1px 1px);clip: rect(1px, 1px, 1px, 1px);height: 1px;margin: -1px;overflow: hidden;padding: 0;position: absolute;width: 1px;}#sk-container-id-48 div.sk-estimator {font-family: monospace;background-color: #f0f8ff;border: 1px dotted black;border-radius: 0.25em;box-sizing: border-box;margin-bottom: 0.5em;}#sk-container-id-48 div.sk-estimator:hover {background-color: #d4ebff;}#sk-container-id-48 div.sk-parallel-item::after {content: \"\";width: 100%;border-bottom: 1px solid gray;flex-grow: 1;}#sk-container-id-48 div.sk-label:hover label.sk-toggleable__label {background-color: #d4ebff;}#sk-container-id-48 div.sk-serial::before {content: \"\";position: absolute;border-left: 1px solid gray;box-sizing: border-box;top: 0;bottom: 0;left: 50%;z-index: 0;}#sk-container-id-48 div.sk-serial {display: flex;flex-direction: column;align-items: center;background-color: white;padding-right: 0.2em;padding-left: 0.2em;position: relative;}#sk-container-id-48 div.sk-item {position: relative;z-index: 1;}#sk-container-id-48 div.sk-parallel {display: flex;align-items: stretch;justify-content: center;background-color: white;position: relative;}#sk-container-id-48 div.sk-item::before, #sk-container-id-48 div.sk-parallel-item::before {content: \"\";position: absolute;border-left: 1px solid gray;box-sizing: border-box;top: 0;bottom: 0;left: 50%;z-index: -1;}#sk-container-id-48 div.sk-parallel-item {display: flex;flex-direction: column;z-index: 1;position: relative;background-color: white;}#sk-container-id-48 div.sk-parallel-item:first-child::after {align-self: flex-end;width: 50%;}#sk-container-id-48 div.sk-parallel-item:last-child::after {align-self: flex-start;width: 50%;}#sk-container-id-48 div.sk-parallel-item:only-child::after {width: 0;}#sk-container-id-48 div.sk-dashed-wrapped {border: 1px dashed gray;margin: 0 0.4em 0.5em 0.4em;box-sizing: border-box;padding-bottom: 0.4em;background-color: white;}#sk-container-id-48 div.sk-label label {font-family: monospace;font-weight: bold;display: inline-block;line-height: 1.2em;}#sk-container-id-48 div.sk-label-container {text-align: center;}#sk-container-id-48 div.sk-container {/* jupyter's `normalize.less` sets `[hidden] { display: none; }` but bootstrap.min.css set `[hidden] { display: none !important; }` so we also need the `!important` here to be able to override the default hidden behavior on the sphinx rendered scikit-learn.org. See: https://github.com/scikit-learn/scikit-learn/issues/21755 */display: inline-block !important;position: relative;}#sk-container-id-48 div.sk-text-repr-fallback {display: none;}</style><div id=\"sk-container-id-48\" class=\"sk-top-container\"><div class=\"sk-text-repr-fallback\"><pre>GridSearchCV(cv=5, estimator=RandomForestRegressor(max_depth=5),\n",
       "             param_grid={&#x27;bootstrap&#x27;: [True, False],\n",
       "                         &#x27;max_depth&#x27;: [5, 10, 15, 20],\n",
       "                         &#x27;max_features&#x27;: [&#x27;auto&#x27;, &#x27;sqrt&#x27;],\n",
       "                         &#x27;min_samples_leaf&#x27;: [1, 2, 3, 4],\n",
       "                         &#x27;min_samples_split&#x27;: [2, 4, 6, 8, 10],\n",
       "                         &#x27;n_estimators&#x27;: [5, 10, 15, 20]})</pre><b>In a Jupyter environment, please rerun this cell to show the HTML representation or trust the notebook. <br />On GitHub, the HTML representation is unable to render, please try loading this page with nbviewer.org.</b></div><div class=\"sk-container\" hidden><div class=\"sk-item sk-dashed-wrapped\"><div class=\"sk-label-container\"><div class=\"sk-label sk-toggleable\"><input class=\"sk-toggleable__control sk-hidden--visually\" id=\"sk-estimator-id-82\" type=\"checkbox\" ><label for=\"sk-estimator-id-82\" class=\"sk-toggleable__label sk-toggleable__label-arrow\">GridSearchCV</label><div class=\"sk-toggleable__content\"><pre>GridSearchCV(cv=5, estimator=RandomForestRegressor(max_depth=5),\n",
       "             param_grid={&#x27;bootstrap&#x27;: [True, False],\n",
       "                         &#x27;max_depth&#x27;: [5, 10, 15, 20],\n",
       "                         &#x27;max_features&#x27;: [&#x27;auto&#x27;, &#x27;sqrt&#x27;],\n",
       "                         &#x27;min_samples_leaf&#x27;: [1, 2, 3, 4],\n",
       "                         &#x27;min_samples_split&#x27;: [2, 4, 6, 8, 10],\n",
       "                         &#x27;n_estimators&#x27;: [5, 10, 15, 20]})</pre></div></div></div><div class=\"sk-parallel\"><div class=\"sk-parallel-item\"><div class=\"sk-item\"><div class=\"sk-label-container\"><div class=\"sk-label sk-toggleable\"><input class=\"sk-toggleable__control sk-hidden--visually\" id=\"sk-estimator-id-83\" type=\"checkbox\" ><label for=\"sk-estimator-id-83\" class=\"sk-toggleable__label sk-toggleable__label-arrow\">estimator: RandomForestRegressor</label><div class=\"sk-toggleable__content\"><pre>RandomForestRegressor(max_depth=5)</pre></div></div></div><div class=\"sk-serial\"><div class=\"sk-item\"><div class=\"sk-estimator sk-toggleable\"><input class=\"sk-toggleable__control sk-hidden--visually\" id=\"sk-estimator-id-84\" type=\"checkbox\" ><label for=\"sk-estimator-id-84\" class=\"sk-toggleable__label sk-toggleable__label-arrow\">RandomForestRegressor</label><div class=\"sk-toggleable__content\"><pre>RandomForestRegressor(max_depth=5)</pre></div></div></div></div></div></div></div></div></div></div>"
      ],
      "text/plain": [
       "GridSearchCV(cv=5, estimator=RandomForestRegressor(max_depth=5),\n",
       "             param_grid={'bootstrap': [True, False],\n",
       "                         'max_depth': [5, 10, 15, 20],\n",
       "                         'max_features': ['auto', 'sqrt'],\n",
       "                         'min_samples_leaf': [1, 2, 3, 4],\n",
       "                         'min_samples_split': [2, 4, 6, 8, 10],\n",
       "                         'n_estimators': [5, 10, 15, 20]})"
      ]
     },
     "execution_count": 1130,
     "metadata": {},
     "output_type": "execute_result"
    }
   ],
   "source": [
    "grid_search_rf.fit(X_train, Y_train)"
   ]
  },
  {
   "cell_type": "code",
   "execution_count": 1131,
   "id": "2ac35adf",
   "metadata": {},
   "outputs": [
    {
     "name": "stdout",
     "output_type": "stream",
     "text": [
      "{'bootstrap': False, 'max_depth': 15, 'max_features': 'sqrt', 'min_samples_leaf': 1, 'min_samples_split': 4, 'n_estimators': 20}\n"
     ]
    }
   ],
   "source": [
    "print(grid_search_rf.best_params_)"
   ]
  },
  {
   "cell_type": "markdown",
   "id": "16e562b3",
   "metadata": {},
   "source": [
    "#### Mô hình Decision Tree Regression\n"
   ]
  },
  {
   "cell_type": "code",
   "execution_count": 1132,
   "id": "b6debe74",
   "metadata": {},
   "outputs": [],
   "source": [
    "# Chọn các tham số\n",
    "param_grid = {\n",
    "    'max_depth': [5, 10, 15, 20],\n",
    "    'max_features': ['auto', 'sqrt'],\n",
    "    'min_samples_leaf': [1, 2, 3, 4],\n",
    "    'min_samples_split': [2, 4, 6, 8],\n",
    "}"
   ]
  },
  {
   "cell_type": "code",
   "execution_count": 1133,
   "id": "dc707476",
   "metadata": {},
   "outputs": [],
   "source": [
    "grid_search_dt = GridSearchCV(estimator=dt, param_grid=param_grid, cv=5)"
   ]
  },
  {
   "cell_type": "code",
   "execution_count": 1134,
   "id": "19a0ba0a",
   "metadata": {},
   "outputs": [
    {
     "data": {
      "text/html": [
       "<style>#sk-container-id-49 {color: black;}#sk-container-id-49 pre{padding: 0;}#sk-container-id-49 div.sk-toggleable {background-color: white;}#sk-container-id-49 label.sk-toggleable__label {cursor: pointer;display: block;width: 100%;margin-bottom: 0;padding: 0.3em;box-sizing: border-box;text-align: center;}#sk-container-id-49 label.sk-toggleable__label-arrow:before {content: \"▸\";float: left;margin-right: 0.25em;color: #696969;}#sk-container-id-49 label.sk-toggleable__label-arrow:hover:before {color: black;}#sk-container-id-49 div.sk-estimator:hover label.sk-toggleable__label-arrow:before {color: black;}#sk-container-id-49 div.sk-toggleable__content {max-height: 0;max-width: 0;overflow: hidden;text-align: left;background-color: #f0f8ff;}#sk-container-id-49 div.sk-toggleable__content pre {margin: 0.2em;color: black;border-radius: 0.25em;background-color: #f0f8ff;}#sk-container-id-49 input.sk-toggleable__control:checked~div.sk-toggleable__content {max-height: 200px;max-width: 100%;overflow: auto;}#sk-container-id-49 input.sk-toggleable__control:checked~label.sk-toggleable__label-arrow:before {content: \"▾\";}#sk-container-id-49 div.sk-estimator input.sk-toggleable__control:checked~label.sk-toggleable__label {background-color: #d4ebff;}#sk-container-id-49 div.sk-label input.sk-toggleable__control:checked~label.sk-toggleable__label {background-color: #d4ebff;}#sk-container-id-49 input.sk-hidden--visually {border: 0;clip: rect(1px 1px 1px 1px);clip: rect(1px, 1px, 1px, 1px);height: 1px;margin: -1px;overflow: hidden;padding: 0;position: absolute;width: 1px;}#sk-container-id-49 div.sk-estimator {font-family: monospace;background-color: #f0f8ff;border: 1px dotted black;border-radius: 0.25em;box-sizing: border-box;margin-bottom: 0.5em;}#sk-container-id-49 div.sk-estimator:hover {background-color: #d4ebff;}#sk-container-id-49 div.sk-parallel-item::after {content: \"\";width: 100%;border-bottom: 1px solid gray;flex-grow: 1;}#sk-container-id-49 div.sk-label:hover label.sk-toggleable__label {background-color: #d4ebff;}#sk-container-id-49 div.sk-serial::before {content: \"\";position: absolute;border-left: 1px solid gray;box-sizing: border-box;top: 0;bottom: 0;left: 50%;z-index: 0;}#sk-container-id-49 div.sk-serial {display: flex;flex-direction: column;align-items: center;background-color: white;padding-right: 0.2em;padding-left: 0.2em;position: relative;}#sk-container-id-49 div.sk-item {position: relative;z-index: 1;}#sk-container-id-49 div.sk-parallel {display: flex;align-items: stretch;justify-content: center;background-color: white;position: relative;}#sk-container-id-49 div.sk-item::before, #sk-container-id-49 div.sk-parallel-item::before {content: \"\";position: absolute;border-left: 1px solid gray;box-sizing: border-box;top: 0;bottom: 0;left: 50%;z-index: -1;}#sk-container-id-49 div.sk-parallel-item {display: flex;flex-direction: column;z-index: 1;position: relative;background-color: white;}#sk-container-id-49 div.sk-parallel-item:first-child::after {align-self: flex-end;width: 50%;}#sk-container-id-49 div.sk-parallel-item:last-child::after {align-self: flex-start;width: 50%;}#sk-container-id-49 div.sk-parallel-item:only-child::after {width: 0;}#sk-container-id-49 div.sk-dashed-wrapped {border: 1px dashed gray;margin: 0 0.4em 0.5em 0.4em;box-sizing: border-box;padding-bottom: 0.4em;background-color: white;}#sk-container-id-49 div.sk-label label {font-family: monospace;font-weight: bold;display: inline-block;line-height: 1.2em;}#sk-container-id-49 div.sk-label-container {text-align: center;}#sk-container-id-49 div.sk-container {/* jupyter's `normalize.less` sets `[hidden] { display: none; }` but bootstrap.min.css set `[hidden] { display: none !important; }` so we also need the `!important` here to be able to override the default hidden behavior on the sphinx rendered scikit-learn.org. See: https://github.com/scikit-learn/scikit-learn/issues/21755 */display: inline-block !important;position: relative;}#sk-container-id-49 div.sk-text-repr-fallback {display: none;}</style><div id=\"sk-container-id-49\" class=\"sk-top-container\"><div class=\"sk-text-repr-fallback\"><pre>GridSearchCV(cv=5, estimator=DecisionTreeRegressor(),\n",
       "             param_grid={&#x27;max_depth&#x27;: [5, 10, 15, 20],\n",
       "                         &#x27;max_features&#x27;: [&#x27;auto&#x27;, &#x27;sqrt&#x27;],\n",
       "                         &#x27;min_samples_leaf&#x27;: [1, 2, 3, 4],\n",
       "                         &#x27;min_samples_split&#x27;: [2, 4, 6, 8]})</pre><b>In a Jupyter environment, please rerun this cell to show the HTML representation or trust the notebook. <br />On GitHub, the HTML representation is unable to render, please try loading this page with nbviewer.org.</b></div><div class=\"sk-container\" hidden><div class=\"sk-item sk-dashed-wrapped\"><div class=\"sk-label-container\"><div class=\"sk-label sk-toggleable\"><input class=\"sk-toggleable__control sk-hidden--visually\" id=\"sk-estimator-id-85\" type=\"checkbox\" ><label for=\"sk-estimator-id-85\" class=\"sk-toggleable__label sk-toggleable__label-arrow\">GridSearchCV</label><div class=\"sk-toggleable__content\"><pre>GridSearchCV(cv=5, estimator=DecisionTreeRegressor(),\n",
       "             param_grid={&#x27;max_depth&#x27;: [5, 10, 15, 20],\n",
       "                         &#x27;max_features&#x27;: [&#x27;auto&#x27;, &#x27;sqrt&#x27;],\n",
       "                         &#x27;min_samples_leaf&#x27;: [1, 2, 3, 4],\n",
       "                         &#x27;min_samples_split&#x27;: [2, 4, 6, 8]})</pre></div></div></div><div class=\"sk-parallel\"><div class=\"sk-parallel-item\"><div class=\"sk-item\"><div class=\"sk-label-container\"><div class=\"sk-label sk-toggleable\"><input class=\"sk-toggleable__control sk-hidden--visually\" id=\"sk-estimator-id-86\" type=\"checkbox\" ><label for=\"sk-estimator-id-86\" class=\"sk-toggleable__label sk-toggleable__label-arrow\">estimator: DecisionTreeRegressor</label><div class=\"sk-toggleable__content\"><pre>DecisionTreeRegressor()</pre></div></div></div><div class=\"sk-serial\"><div class=\"sk-item\"><div class=\"sk-estimator sk-toggleable\"><input class=\"sk-toggleable__control sk-hidden--visually\" id=\"sk-estimator-id-87\" type=\"checkbox\" ><label for=\"sk-estimator-id-87\" class=\"sk-toggleable__label sk-toggleable__label-arrow\">DecisionTreeRegressor</label><div class=\"sk-toggleable__content\"><pre>DecisionTreeRegressor()</pre></div></div></div></div></div></div></div></div></div></div>"
      ],
      "text/plain": [
       "GridSearchCV(cv=5, estimator=DecisionTreeRegressor(),\n",
       "             param_grid={'max_depth': [5, 10, 15, 20],\n",
       "                         'max_features': ['auto', 'sqrt'],\n",
       "                         'min_samples_leaf': [1, 2, 3, 4],\n",
       "                         'min_samples_split': [2, 4, 6, 8]})"
      ]
     },
     "execution_count": 1134,
     "metadata": {},
     "output_type": "execute_result"
    }
   ],
   "source": [
    "grid_search_dt.fit(X_train, Y_train)"
   ]
  },
  {
   "cell_type": "markdown",
   "id": "391cb957",
   "metadata": {},
   "source": [
    "### Chọn ra các siêu tham số tốt nhất\n"
   ]
  },
  {
   "cell_type": "markdown",
   "id": "6be50f22",
   "metadata": {},
   "source": [
    "#### Mô hình Random Forest Regression\n"
   ]
  },
  {
   "cell_type": "code",
   "execution_count": 1135,
   "id": "3c793a67",
   "metadata": {},
   "outputs": [
    {
     "data": {
      "text/plain": [
       "{'bootstrap': False,\n",
       " 'max_depth': 15,\n",
       " 'max_features': 'sqrt',\n",
       " 'min_samples_leaf': 1,\n",
       " 'min_samples_split': 4,\n",
       " 'n_estimators': 20}"
      ]
     },
     "execution_count": 1135,
     "metadata": {},
     "output_type": "execute_result"
    }
   ],
   "source": [
    "grid_search_rf.best_params_"
   ]
  },
  {
   "cell_type": "code",
   "execution_count": 1136,
   "id": "f9fa3e86",
   "metadata": {},
   "outputs": [
    {
     "data": {
      "text/html": [
       "<style>#sk-container-id-50 {color: black;}#sk-container-id-50 pre{padding: 0;}#sk-container-id-50 div.sk-toggleable {background-color: white;}#sk-container-id-50 label.sk-toggleable__label {cursor: pointer;display: block;width: 100%;margin-bottom: 0;padding: 0.3em;box-sizing: border-box;text-align: center;}#sk-container-id-50 label.sk-toggleable__label-arrow:before {content: \"▸\";float: left;margin-right: 0.25em;color: #696969;}#sk-container-id-50 label.sk-toggleable__label-arrow:hover:before {color: black;}#sk-container-id-50 div.sk-estimator:hover label.sk-toggleable__label-arrow:before {color: black;}#sk-container-id-50 div.sk-toggleable__content {max-height: 0;max-width: 0;overflow: hidden;text-align: left;background-color: #f0f8ff;}#sk-container-id-50 div.sk-toggleable__content pre {margin: 0.2em;color: black;border-radius: 0.25em;background-color: #f0f8ff;}#sk-container-id-50 input.sk-toggleable__control:checked~div.sk-toggleable__content {max-height: 200px;max-width: 100%;overflow: auto;}#sk-container-id-50 input.sk-toggleable__control:checked~label.sk-toggleable__label-arrow:before {content: \"▾\";}#sk-container-id-50 div.sk-estimator input.sk-toggleable__control:checked~label.sk-toggleable__label {background-color: #d4ebff;}#sk-container-id-50 div.sk-label input.sk-toggleable__control:checked~label.sk-toggleable__label {background-color: #d4ebff;}#sk-container-id-50 input.sk-hidden--visually {border: 0;clip: rect(1px 1px 1px 1px);clip: rect(1px, 1px, 1px, 1px);height: 1px;margin: -1px;overflow: hidden;padding: 0;position: absolute;width: 1px;}#sk-container-id-50 div.sk-estimator {font-family: monospace;background-color: #f0f8ff;border: 1px dotted black;border-radius: 0.25em;box-sizing: border-box;margin-bottom: 0.5em;}#sk-container-id-50 div.sk-estimator:hover {background-color: #d4ebff;}#sk-container-id-50 div.sk-parallel-item::after {content: \"\";width: 100%;border-bottom: 1px solid gray;flex-grow: 1;}#sk-container-id-50 div.sk-label:hover label.sk-toggleable__label {background-color: #d4ebff;}#sk-container-id-50 div.sk-serial::before {content: \"\";position: absolute;border-left: 1px solid gray;box-sizing: border-box;top: 0;bottom: 0;left: 50%;z-index: 0;}#sk-container-id-50 div.sk-serial {display: flex;flex-direction: column;align-items: center;background-color: white;padding-right: 0.2em;padding-left: 0.2em;position: relative;}#sk-container-id-50 div.sk-item {position: relative;z-index: 1;}#sk-container-id-50 div.sk-parallel {display: flex;align-items: stretch;justify-content: center;background-color: white;position: relative;}#sk-container-id-50 div.sk-item::before, #sk-container-id-50 div.sk-parallel-item::before {content: \"\";position: absolute;border-left: 1px solid gray;box-sizing: border-box;top: 0;bottom: 0;left: 50%;z-index: -1;}#sk-container-id-50 div.sk-parallel-item {display: flex;flex-direction: column;z-index: 1;position: relative;background-color: white;}#sk-container-id-50 div.sk-parallel-item:first-child::after {align-self: flex-end;width: 50%;}#sk-container-id-50 div.sk-parallel-item:last-child::after {align-self: flex-start;width: 50%;}#sk-container-id-50 div.sk-parallel-item:only-child::after {width: 0;}#sk-container-id-50 div.sk-dashed-wrapped {border: 1px dashed gray;margin: 0 0.4em 0.5em 0.4em;box-sizing: border-box;padding-bottom: 0.4em;background-color: white;}#sk-container-id-50 div.sk-label label {font-family: monospace;font-weight: bold;display: inline-block;line-height: 1.2em;}#sk-container-id-50 div.sk-label-container {text-align: center;}#sk-container-id-50 div.sk-container {/* jupyter's `normalize.less` sets `[hidden] { display: none; }` but bootstrap.min.css set `[hidden] { display: none !important; }` so we also need the `!important` here to be able to override the default hidden behavior on the sphinx rendered scikit-learn.org. See: https://github.com/scikit-learn/scikit-learn/issues/21755 */display: inline-block !important;position: relative;}#sk-container-id-50 div.sk-text-repr-fallback {display: none;}</style><div id=\"sk-container-id-50\" class=\"sk-top-container\"><div class=\"sk-text-repr-fallback\"><pre>RandomForestRegressor(bootstrap=False, max_depth=15, max_features=&#x27;sqrt&#x27;,\n",
       "                      min_samples_split=4, n_estimators=20)</pre><b>In a Jupyter environment, please rerun this cell to show the HTML representation or trust the notebook. <br />On GitHub, the HTML representation is unable to render, please try loading this page with nbviewer.org.</b></div><div class=\"sk-container\" hidden><div class=\"sk-item\"><div class=\"sk-estimator sk-toggleable\"><input class=\"sk-toggleable__control sk-hidden--visually\" id=\"sk-estimator-id-88\" type=\"checkbox\" checked><label for=\"sk-estimator-id-88\" class=\"sk-toggleable__label sk-toggleable__label-arrow\">RandomForestRegressor</label><div class=\"sk-toggleable__content\"><pre>RandomForestRegressor(bootstrap=False, max_depth=15, max_features=&#x27;sqrt&#x27;,\n",
       "                      min_samples_split=4, n_estimators=20)</pre></div></div></div></div></div>"
      ],
      "text/plain": [
       "RandomForestRegressor(bootstrap=False, max_depth=15, max_features='sqrt',\n",
       "                      min_samples_split=4, n_estimators=20)"
      ]
     },
     "execution_count": 1136,
     "metadata": {},
     "output_type": "execute_result"
    }
   ],
   "source": [
    "rf = RandomForestRegressor(n_estimators=grid_search_rf.best_params_['n_estimators'], bootstrap=grid_search_rf.best_params_['bootstrap'],\n",
    "                           max_depth=grid_search_rf.best_params_[\n",
    "                               'max_depth'], max_features=grid_search_rf.best_params_['max_features'],\n",
    "                           min_samples_leaf=grid_search_rf.best_params_['min_samples_leaf'], min_samples_split=grid_search_rf.best_params_['min_samples_split'])\n",
    "rf.fit(X_train, Y_train)"
   ]
  },
  {
   "cell_type": "code",
   "execution_count": 1137,
   "id": "951b98c6",
   "metadata": {},
   "outputs": [],
   "source": [
    "rf_pre = rf.predict(X_test)"
   ]
  },
  {
   "cell_type": "markdown",
   "id": "659958cf",
   "metadata": {},
   "source": [
    "Giá trị `MSE`, `RMSE`, và `MAE`\n"
   ]
  },
  {
   "cell_type": "code",
   "execution_count": 1138,
   "id": "be0082a4",
   "metadata": {},
   "outputs": [
    {
     "name": "stdout",
     "output_type": "stream",
     "text": [
      "0.18421720789916948 \t 0.42920532137797346 \t 0.340242049736312\n"
     ]
    }
   ],
   "source": [
    "rf_mse = mean_squared_error(Y_test, rf_pre)\n",
    "rf_rmse = np.sqrt(rf_mse)\n",
    "rf_mae = mean_absolute_error(Y_test, rf_pre)\n",
    "print(rf_mse, '\\t', rf_rmse, '\\t', rf_mae)"
   ]
  },
  {
   "cell_type": "markdown",
   "id": "fd7214b1",
   "metadata": {},
   "source": [
    "##### Mô hình Decision Tree Regression\n"
   ]
  },
  {
   "cell_type": "code",
   "execution_count": 1139,
   "id": "571a870d",
   "metadata": {},
   "outputs": [
    {
     "data": {
      "text/plain": [
       "{'max_depth': 10,\n",
       " 'max_features': 'sqrt',\n",
       " 'min_samples_leaf': 4,\n",
       " 'min_samples_split': 8}"
      ]
     },
     "execution_count": 1139,
     "metadata": {},
     "output_type": "execute_result"
    }
   ],
   "source": [
    "grid_search_dt.best_params_"
   ]
  },
  {
   "cell_type": "code",
   "execution_count": 1140,
   "id": "d7769497",
   "metadata": {},
   "outputs": [
    {
     "data": {
      "text/html": [
       "<style>#sk-container-id-51 {color: black;}#sk-container-id-51 pre{padding: 0;}#sk-container-id-51 div.sk-toggleable {background-color: white;}#sk-container-id-51 label.sk-toggleable__label {cursor: pointer;display: block;width: 100%;margin-bottom: 0;padding: 0.3em;box-sizing: border-box;text-align: center;}#sk-container-id-51 label.sk-toggleable__label-arrow:before {content: \"▸\";float: left;margin-right: 0.25em;color: #696969;}#sk-container-id-51 label.sk-toggleable__label-arrow:hover:before {color: black;}#sk-container-id-51 div.sk-estimator:hover label.sk-toggleable__label-arrow:before {color: black;}#sk-container-id-51 div.sk-toggleable__content {max-height: 0;max-width: 0;overflow: hidden;text-align: left;background-color: #f0f8ff;}#sk-container-id-51 div.sk-toggleable__content pre {margin: 0.2em;color: black;border-radius: 0.25em;background-color: #f0f8ff;}#sk-container-id-51 input.sk-toggleable__control:checked~div.sk-toggleable__content {max-height: 200px;max-width: 100%;overflow: auto;}#sk-container-id-51 input.sk-toggleable__control:checked~label.sk-toggleable__label-arrow:before {content: \"▾\";}#sk-container-id-51 div.sk-estimator input.sk-toggleable__control:checked~label.sk-toggleable__label {background-color: #d4ebff;}#sk-container-id-51 div.sk-label input.sk-toggleable__control:checked~label.sk-toggleable__label {background-color: #d4ebff;}#sk-container-id-51 input.sk-hidden--visually {border: 0;clip: rect(1px 1px 1px 1px);clip: rect(1px, 1px, 1px, 1px);height: 1px;margin: -1px;overflow: hidden;padding: 0;position: absolute;width: 1px;}#sk-container-id-51 div.sk-estimator {font-family: monospace;background-color: #f0f8ff;border: 1px dotted black;border-radius: 0.25em;box-sizing: border-box;margin-bottom: 0.5em;}#sk-container-id-51 div.sk-estimator:hover {background-color: #d4ebff;}#sk-container-id-51 div.sk-parallel-item::after {content: \"\";width: 100%;border-bottom: 1px solid gray;flex-grow: 1;}#sk-container-id-51 div.sk-label:hover label.sk-toggleable__label {background-color: #d4ebff;}#sk-container-id-51 div.sk-serial::before {content: \"\";position: absolute;border-left: 1px solid gray;box-sizing: border-box;top: 0;bottom: 0;left: 50%;z-index: 0;}#sk-container-id-51 div.sk-serial {display: flex;flex-direction: column;align-items: center;background-color: white;padding-right: 0.2em;padding-left: 0.2em;position: relative;}#sk-container-id-51 div.sk-item {position: relative;z-index: 1;}#sk-container-id-51 div.sk-parallel {display: flex;align-items: stretch;justify-content: center;background-color: white;position: relative;}#sk-container-id-51 div.sk-item::before, #sk-container-id-51 div.sk-parallel-item::before {content: \"\";position: absolute;border-left: 1px solid gray;box-sizing: border-box;top: 0;bottom: 0;left: 50%;z-index: -1;}#sk-container-id-51 div.sk-parallel-item {display: flex;flex-direction: column;z-index: 1;position: relative;background-color: white;}#sk-container-id-51 div.sk-parallel-item:first-child::after {align-self: flex-end;width: 50%;}#sk-container-id-51 div.sk-parallel-item:last-child::after {align-self: flex-start;width: 50%;}#sk-container-id-51 div.sk-parallel-item:only-child::after {width: 0;}#sk-container-id-51 div.sk-dashed-wrapped {border: 1px dashed gray;margin: 0 0.4em 0.5em 0.4em;box-sizing: border-box;padding-bottom: 0.4em;background-color: white;}#sk-container-id-51 div.sk-label label {font-family: monospace;font-weight: bold;display: inline-block;line-height: 1.2em;}#sk-container-id-51 div.sk-label-container {text-align: center;}#sk-container-id-51 div.sk-container {/* jupyter's `normalize.less` sets `[hidden] { display: none; }` but bootstrap.min.css set `[hidden] { display: none !important; }` so we also need the `!important` here to be able to override the default hidden behavior on the sphinx rendered scikit-learn.org. See: https://github.com/scikit-learn/scikit-learn/issues/21755 */display: inline-block !important;position: relative;}#sk-container-id-51 div.sk-text-repr-fallback {display: none;}</style><div id=\"sk-container-id-51\" class=\"sk-top-container\"><div class=\"sk-text-repr-fallback\"><pre>DecisionTreeRegressor(max_depth=10, max_features=&#x27;sqrt&#x27;, min_samples_leaf=4,\n",
       "                      min_samples_split=8)</pre><b>In a Jupyter environment, please rerun this cell to show the HTML representation or trust the notebook. <br />On GitHub, the HTML representation is unable to render, please try loading this page with nbviewer.org.</b></div><div class=\"sk-container\" hidden><div class=\"sk-item\"><div class=\"sk-estimator sk-toggleable\"><input class=\"sk-toggleable__control sk-hidden--visually\" id=\"sk-estimator-id-89\" type=\"checkbox\" checked><label for=\"sk-estimator-id-89\" class=\"sk-toggleable__label sk-toggleable__label-arrow\">DecisionTreeRegressor</label><div class=\"sk-toggleable__content\"><pre>DecisionTreeRegressor(max_depth=10, max_features=&#x27;sqrt&#x27;, min_samples_leaf=4,\n",
       "                      min_samples_split=8)</pre></div></div></div></div></div>"
      ],
      "text/plain": [
       "DecisionTreeRegressor(max_depth=10, max_features='sqrt', min_samples_leaf=4,\n",
       "                      min_samples_split=8)"
      ]
     },
     "execution_count": 1140,
     "metadata": {},
     "output_type": "execute_result"
    }
   ],
   "source": [
    "dt = DecisionTreeRegressor(max_depth=grid_search_dt.best_params_['max_depth'],\n",
    "                           max_features=grid_search_dt.best_params_[\n",
    "                               'max_features'],\n",
    "                           min_samples_leaf=grid_search_dt.best_params_[\n",
    "                               'min_samples_leaf'],\n",
    "                           min_samples_split=grid_search_dt.best_params_['min_samples_split'])\n",
    "dt.fit(X_train, Y_train)"
   ]
  },
  {
   "cell_type": "code",
   "execution_count": 1141,
   "id": "35ca2d09",
   "metadata": {},
   "outputs": [],
   "source": [
    "dt_pre = dt.predict(X_test)"
   ]
  },
  {
   "cell_type": "markdown",
   "id": "b337bb78",
   "metadata": {},
   "source": [
    "Giá trị `MSE`,`RMSE` và `MAE`\n"
   ]
  },
  {
   "cell_type": "code",
   "execution_count": 1142,
   "id": "00a6e2fc",
   "metadata": {},
   "outputs": [
    {
     "name": "stdout",
     "output_type": "stream",
     "text": [
      "0.28103154562054594 \t 0.5301240851164433 \t 0.40421944883340116\n"
     ]
    }
   ],
   "source": [
    "dt_mse = mean_squared_error(Y_test, dt_pre)\n",
    "dt_rmse = np.sqrt(dt_mse)\n",
    "dt_mae = mean_absolute_error(Y_test, dt_pre)\n",
    "print(dt_mse, '\\t', dt_rmse, '\\t', dt_mae)"
   ]
  },
  {
   "cell_type": "markdown",
   "id": "5765dab1",
   "metadata": {},
   "source": [
    "### So sánh độ lỗi giữa các mô hình sau khi đã tinh chỉnh\n"
   ]
  },
  {
   "cell_type": "code",
   "execution_count": 1143,
   "id": "2d4a22b3",
   "metadata": {},
   "outputs": [
    {
     "data": {
      "text/html": [
       "<style type=\"text/css\">\n",
       "#T_cdf1f_row0_col0, #T_cdf1f_row0_col1, #T_cdf1f_row0_col2, #T_cdf1f_row0_col3, #T_cdf1f_row0_col4, #T_cdf1f_row0_col5, #T_cdf1f_row0_col6, #T_cdf1f_row0_col7, #T_cdf1f_row0_col8, #T_cdf1f_row1_col0, #T_cdf1f_row1_col1, #T_cdf1f_row1_col2, #T_cdf1f_row1_col3, #T_cdf1f_row1_col4, #T_cdf1f_row1_col5, #T_cdf1f_row1_col6, #T_cdf1f_row1_col7, #T_cdf1f_row1_col8 {\n",
       "  text-align: center;\n",
       "}\n",
       "</style>\n",
       "<table id=\"T_cdf1f\">\n",
       "  <thead>\n",
       "    <tr>\n",
       "      <th class=\"blank level0\" >&nbsp;</th>\n",
       "      <th id=\"T_cdf1f_level0_col0\" class=\"col_heading level0 col0\" colspan=\"3\">Linear Regression</th>\n",
       "      <th id=\"T_cdf1f_level0_col3\" class=\"col_heading level0 col3\" colspan=\"3\">Decision Tree Regression</th>\n",
       "      <th id=\"T_cdf1f_level0_col6\" class=\"col_heading level0 col6\" colspan=\"3\">Random Forest Regression</th>\n",
       "    </tr>\n",
       "    <tr>\n",
       "      <th class=\"index_name level1\" > </th>\n",
       "      <th id=\"T_cdf1f_level1_col0\" class=\"col_heading level1 col0\" >MAE</th>\n",
       "      <th id=\"T_cdf1f_level1_col1\" class=\"col_heading level1 col1\" >MSE</th>\n",
       "      <th id=\"T_cdf1f_level1_col2\" class=\"col_heading level1 col2\" >RMSE</th>\n",
       "      <th id=\"T_cdf1f_level1_col3\" class=\"col_heading level1 col3\" >MAE</th>\n",
       "      <th id=\"T_cdf1f_level1_col4\" class=\"col_heading level1 col4\" >MSE</th>\n",
       "      <th id=\"T_cdf1f_level1_col5\" class=\"col_heading level1 col5\" >RMSE</th>\n",
       "      <th id=\"T_cdf1f_level1_col6\" class=\"col_heading level1 col6\" >MAE</th>\n",
       "      <th id=\"T_cdf1f_level1_col7\" class=\"col_heading level1 col7\" >MSE</th>\n",
       "      <th id=\"T_cdf1f_level1_col8\" class=\"col_heading level1 col8\" >RMSE</th>\n",
       "    </tr>\n",
       "    <tr>\n",
       "      <th class=\"index_name level0\" >Tuning</th>\n",
       "      <th class=\"blank col0\" >&nbsp;</th>\n",
       "      <th class=\"blank col1\" >&nbsp;</th>\n",
       "      <th class=\"blank col2\" >&nbsp;</th>\n",
       "      <th class=\"blank col3\" >&nbsp;</th>\n",
       "      <th class=\"blank col4\" >&nbsp;</th>\n",
       "      <th class=\"blank col5\" >&nbsp;</th>\n",
       "      <th class=\"blank col6\" >&nbsp;</th>\n",
       "      <th class=\"blank col7\" >&nbsp;</th>\n",
       "      <th class=\"blank col8\" >&nbsp;</th>\n",
       "    </tr>\n",
       "  </thead>\n",
       "  <tbody>\n",
       "    <tr>\n",
       "      <th id=\"T_cdf1f_level0_row0\" class=\"row_heading level0 row0\" >Before</th>\n",
       "      <td id=\"T_cdf1f_row0_col0\" class=\"data row0 col0\" >0.389306</td>\n",
       "      <td id=\"T_cdf1f_row0_col1\" class=\"data row0 col1\" >0.256071</td>\n",
       "      <td id=\"T_cdf1f_row0_col2\" class=\"data row0 col2\" >0.506034</td>\n",
       "      <td id=\"T_cdf1f_row0_col3\" class=\"data row0 col3\" >0.453782</td>\n",
       "      <td id=\"T_cdf1f_row0_col4\" class=\"data row0 col4\" >0.355253</td>\n",
       "      <td id=\"T_cdf1f_row0_col5\" class=\"data row0 col5\" >0.596031</td>\n",
       "      <td id=\"T_cdf1f_row0_col6\" class=\"data row0 col6\" >0.374483</td>\n",
       "      <td id=\"T_cdf1f_row0_col7\" class=\"data row0 col7\" >0.221741</td>\n",
       "      <td id=\"T_cdf1f_row0_col8\" class=\"data row0 col8\" >0.470894</td>\n",
       "    </tr>\n",
       "    <tr>\n",
       "      <th id=\"T_cdf1f_level0_row1\" class=\"row_heading level0 row1\" >After</th>\n",
       "      <td id=\"T_cdf1f_row1_col0\" class=\"data row1 col0\" >0.389306</td>\n",
       "      <td id=\"T_cdf1f_row1_col1\" class=\"data row1 col1\" >0.256071</td>\n",
       "      <td id=\"T_cdf1f_row1_col2\" class=\"data row1 col2\" >0.506034</td>\n",
       "      <td id=\"T_cdf1f_row1_col3\" class=\"data row1 col3\" >0.404219</td>\n",
       "      <td id=\"T_cdf1f_row1_col4\" class=\"data row1 col4\" >0.281032</td>\n",
       "      <td id=\"T_cdf1f_row1_col5\" class=\"data row1 col5\" >0.530124</td>\n",
       "      <td id=\"T_cdf1f_row1_col6\" class=\"data row1 col6\" >0.340242</td>\n",
       "      <td id=\"T_cdf1f_row1_col7\" class=\"data row1 col7\" >0.184217</td>\n",
       "      <td id=\"T_cdf1f_row1_col8\" class=\"data row1 col8\" >0.429205</td>\n",
       "    </tr>\n",
       "  </tbody>\n",
       "</table>\n"
      ],
      "text/plain": [
       "<pandas.io.formats.style.Styler at 0x148cc82cb50>"
      ]
     },
     "execution_count": 1143,
     "metadata": {},
     "output_type": "execute_result"
    }
   ],
   "source": [
    "\n",
    "data = {\n",
    "    'Linear Regression': [ln_rmse, ln_mse, ln_mae],\n",
    "    'Decision Tree Regression': [dt_rmse, dt_mse, dt_mae],\n",
    "    'Random Forest Regression': [rf_rmse, rf_mse, rf_mae]\n",
    "}\n",
    "\n",
    "\n",
    "metrics = ['RMSE', 'MSE', 'MAE']\n",
    "ea_df = pd.DataFrame(data, index=metrics)\n",
    "ea_df\n",
    "\n",
    "e_df['Tuning'] = 'Before'\n",
    "ea_df['Tuning'] = 'After'\n",
    "combined_df = pd.concat([e_df, ea_df], axis=0)\n",
    "\n",
    "combined_df.reset_index(inplace=True)\n",
    "combined_df.rename(columns={'index': ' '}, inplace=True)\n",
    "combined_df['Metric'] = pd.Categorical(\n",
    "    combined_df[' '], ['MSE', 'RMSE', 'MAE'])\n",
    "\n",
    "combined_df['Tuning'] = pd.Categorical(combined_df['Tuning'], categories=[\n",
    "                                       'Before', 'After'], ordered=True)\n",
    "combined_df.sort_values(['Tuning', 'Metric'], inplace=True)\n",
    "final_df = combined_df.pivot(index='Tuning', columns=' ', values=[\n",
    "                             'Linear Regression', 'Decision Tree Regression', 'Random Forest Regression'])\n",
    "\n",
    "\n",
    "final_df = final_df.style.set_properties(**{'text-align': 'center'})\n",
    "\n",
    "final_df"
   ]
  },
  {
   "cell_type": "markdown",
   "id": "82b28623",
   "metadata": {},
   "source": [
    "### KẾT LUẬN\n"
   ]
  },
  {
   "cell_type": "markdown",
   "id": "7d0e408c",
   "metadata": {},
   "source": [
    "`Random Forest Regression` là mô hình có `RMSE` và `MAE` nhỏ nhất nên được xem là mô hình dự đoán tốt nhất trong cả 3 mô hình.\n"
   ]
  }
 ],
 "metadata": {
  "kernelspec": {
   "display_name": "Python 3 (ipykernel)",
   "language": "python",
   "name": "python3"
  },
  "language_info": {
   "codemirror_mode": {
    "name": "ipython",
    "version": 3
   },
   "file_extension": ".py",
   "mimetype": "text/x-python",
   "name": "python",
   "nbconvert_exporter": "python",
   "pygments_lexer": "ipython3",
   "version": "3.11.5"
  },
  "vscode": {
   "interpreter": {
    "hash": "230eced423d2f0c873d70f568fb3b91d4d0a92783dea9e5e343fd82907c96f27"
   }
  }
 },
 "nbformat": 4,
 "nbformat_minor": 5
}
