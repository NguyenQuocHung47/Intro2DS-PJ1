{
 "cells": [
  {
   "cell_type": "markdown",
   "id": "62050c72",
   "metadata": {},
   "source": [
    "<div style=\"border:2px solid black; padding:10px;\">\n",
    "    <h3>Nhóm 15</h3>\n",
    "    <h1 style='color:red;text-align:center;font-size:30px'>Chủ đề: Phân tích về doanh thu phim<b></b></h1>\n",
    "</div>\n"
   ]
  },
  {
   "cell_type": "markdown",
   "id": "eede0177",
   "metadata": {},
   "source": [
    "<h3>Danh sách thành viên</h3>\n",
    "<li> Nguyễn Quốc Hưng - 21120464 </li>\n",
    "<li> Đoàn Đức Hữu - 21120465 </li>\n",
    "<li> Võ Minh Khuê - 21120486</li>\n",
    "<li> Hồ Trọng Lễ - 21120494</li>\n"
   ]
  },
  {
   "cell_type": "markdown",
   "id": "fadad046",
   "metadata": {},
   "source": [
    "<h1 style='color:blue;text-align:center;font-size:30px'><b>Mô hình Hồi quy</b></h1>\n"
   ]
  },
  {
   "cell_type": "markdown",
   "id": "d9aeff06",
   "metadata": {},
   "source": [
    "# Import thư viện\n"
   ]
  },
  {
   "cell_type": "code",
   "execution_count": 51,
   "id": "bb276657",
   "metadata": {},
   "outputs": [],
   "source": [
    "import numpy as np\n",
    "import pandas as pd\n",
    "import matplotlib.pyplot as plt\n",
    "import seaborn as sns\n",
    "from sklearn.model_selection import train_test_split\n",
    "from sklearn.preprocessing import LabelEncoder, StandardScaler\n",
    "from sklearn.feature_extraction.text import CountVectorizer\n",
    "from sklearn.linear_model import LinearRegression\n",
    "from sklearn.tree import DecisionTreeRegressor\n",
    "from sklearn.ensemble import RandomForestRegressor\n",
    "from sklearn.metrics import mean_squared_error, mean_absolute_error\n",
    "from sklearn.model_selection import cross_val_score\n",
    "from sklearn.model_selection import ShuffleSplit\n",
    "from sklearn.model_selection import GridSearchCV\n",
    "\n",
    "import warnings\n",
    "warnings.filterwarnings('ignore')"
   ]
  },
  {
   "cell_type": "code",
   "execution_count": 52,
   "id": "47af81f8",
   "metadata": {},
   "outputs": [
    {
     "data": {
      "text/plain": [
       "'c:\\\\Users\\\\dhuu2\\\\AppData\\\\Local\\\\Programs\\\\Python\\\\Python311\\\\python.exe'"
      ]
     },
     "execution_count": 52,
     "metadata": {},
     "output_type": "execute_result"
    }
   ],
   "source": [
    "import sys\n",
    "sys.executable"
   ]
  },
  {
   "cell_type": "markdown",
   "id": "79b3a572",
   "metadata": {},
   "source": [
    "## Đọc file 'processed_data' vào dataframe df\n"
   ]
  },
  {
   "cell_type": "code",
   "execution_count": 53,
   "id": "09468941",
   "metadata": {},
   "outputs": [
    {
     "data": {
      "text/html": [
       "<div>\n",
       "<style scoped>\n",
       "    .dataframe tbody tr th:only-of-type {\n",
       "        vertical-align: middle;\n",
       "    }\n",
       "\n",
       "    .dataframe tbody tr th {\n",
       "        vertical-align: top;\n",
       "    }\n",
       "\n",
       "    .dataframe thead th {\n",
       "        text-align: right;\n",
       "    }\n",
       "</style>\n",
       "<table border=\"1\" class=\"dataframe\">\n",
       "  <thead>\n",
       "    <tr style=\"text-align: right;\">\n",
       "      <th></th>\n",
       "      <th>title</th>\n",
       "      <th>domestic_revenue</th>\n",
       "      <th>world_revenue</th>\n",
       "      <th>distributor</th>\n",
       "      <th>opening_revenue</th>\n",
       "      <th>MPAA</th>\n",
       "      <th>genres</th>\n",
       "      <th>running_time</th>\n",
       "      <th>in_release</th>\n",
       "      <th>release_date</th>\n",
       "    </tr>\n",
       "  </thead>\n",
       "  <tbody>\n",
       "    <tr>\n",
       "      <th>0</th>\n",
       "      <td>Batman Returns</td>\n",
       "      <td>162831698</td>\n",
       "      <td>266831698</td>\n",
       "      <td>Warner Bros.</td>\n",
       "      <td>45687711.0</td>\n",
       "      <td>PG-13</td>\n",
       "      <td>Action,Crime,Fantasy</td>\n",
       "      <td>126.0</td>\n",
       "      <td>196.0</td>\n",
       "      <td>1992-06-19</td>\n",
       "    </tr>\n",
       "    <tr>\n",
       "      <th>1</th>\n",
       "      <td>Evolution</td>\n",
       "      <td>38345494</td>\n",
       "      <td>98376292</td>\n",
       "      <td>DreamWorks Distribution</td>\n",
       "      <td>13408351.0</td>\n",
       "      <td>PG-13</td>\n",
       "      <td>Comedy,Sci-Fi</td>\n",
       "      <td>101.0</td>\n",
       "      <td>207.0</td>\n",
       "      <td>2001-06-08</td>\n",
       "    </tr>\n",
       "    <tr>\n",
       "      <th>2</th>\n",
       "      <td>Jumanji</td>\n",
       "      <td>100475249</td>\n",
       "      <td>100475249</td>\n",
       "      <td>Sony Pictures Entertainment (SPE)</td>\n",
       "      <td>11084370.0</td>\n",
       "      <td>PG</td>\n",
       "      <td>Adventure,Comedy,Family,Fantasy</td>\n",
       "      <td>104.0</td>\n",
       "      <td>383.0</td>\n",
       "      <td>1995-12-15</td>\n",
       "    </tr>\n",
       "    <tr>\n",
       "      <th>3</th>\n",
       "      <td>The American President</td>\n",
       "      <td>60079496</td>\n",
       "      <td>60079496</td>\n",
       "      <td>Sony Pictures Entertainment (SPE)</td>\n",
       "      <td>10014558.0</td>\n",
       "      <td>PG-13</td>\n",
       "      <td>Comedy,Drama,Romance</td>\n",
       "      <td>114.0</td>\n",
       "      <td>411.0</td>\n",
       "      <td>1995-11-17</td>\n",
       "    </tr>\n",
       "    <tr>\n",
       "      <th>4</th>\n",
       "      <td>Mulholland Drive</td>\n",
       "      <td>7220243</td>\n",
       "      <td>20117339</td>\n",
       "      <td>Universal Pictures</td>\n",
       "      <td>587591.0</td>\n",
       "      <td>R</td>\n",
       "      <td>Drama,Mystery,Thriller</td>\n",
       "      <td>147.0</td>\n",
       "      <td>450.0</td>\n",
       "      <td>2001-10-08</td>\n",
       "    </tr>\n",
       "    <tr>\n",
       "      <th>5</th>\n",
       "      <td>Tombstone</td>\n",
       "      <td>56505065</td>\n",
       "      <td>56505065</td>\n",
       "      <td>Walt Disney Studios Motion Pictures</td>\n",
       "      <td>6454752.0</td>\n",
       "      <td>R</td>\n",
       "      <td>Biography,Drama,History,Western</td>\n",
       "      <td>130.0</td>\n",
       "      <td>373.0</td>\n",
       "      <td>1993-12-24</td>\n",
       "    </tr>\n",
       "    <tr>\n",
       "      <th>6</th>\n",
       "      <td>Heart and Souls</td>\n",
       "      <td>16589540</td>\n",
       "      <td>16589540</td>\n",
       "      <td>Universal Pictures</td>\n",
       "      <td>4322250.0</td>\n",
       "      <td>PG-13</td>\n",
       "      <td>Comedy,Drama,Fantasy,Romance</td>\n",
       "      <td>104.0</td>\n",
       "      <td>141.0</td>\n",
       "      <td>1993-08-13</td>\n",
       "    </tr>\n",
       "    <tr>\n",
       "      <th>7</th>\n",
       "      <td>The Phantom of the Opera</td>\n",
       "      <td>51268815</td>\n",
       "      <td>154648887</td>\n",
       "      <td>Warner Bros.</td>\n",
       "      <td>4001890.0</td>\n",
       "      <td>PG-13</td>\n",
       "      <td>Drama,Musical,Romance,Thriller</td>\n",
       "      <td>143.0</td>\n",
       "      <td>375.0</td>\n",
       "      <td>2004-12-22</td>\n",
       "    </tr>\n",
       "    <tr>\n",
       "      <th>8</th>\n",
       "      <td>The Brady Bunch Movie</td>\n",
       "      <td>46576136</td>\n",
       "      <td>46576136</td>\n",
       "      <td>Paramount Pictures</td>\n",
       "      <td>14827066.0</td>\n",
       "      <td>PG-13</td>\n",
       "      <td>Comedy</td>\n",
       "      <td>90.0</td>\n",
       "      <td>318.0</td>\n",
       "      <td>1995-02-17</td>\n",
       "    </tr>\n",
       "    <tr>\n",
       "      <th>9</th>\n",
       "      <td>Teenage Mutant Ninja Turtles III</td>\n",
       "      <td>42273609</td>\n",
       "      <td>42273609</td>\n",
       "      <td>New Line Cinema</td>\n",
       "      <td>12419597.0</td>\n",
       "      <td>PG</td>\n",
       "      <td>Action,Adventure,Comedy,Family,Fantasy,Sci-Fi</td>\n",
       "      <td>96.0</td>\n",
       "      <td>288.0</td>\n",
       "      <td>1993-03-19</td>\n",
       "    </tr>\n",
       "  </tbody>\n",
       "</table>\n",
       "</div>"
      ],
      "text/plain": [
       "                              title  domestic_revenue  world_revenue  \\\n",
       "0                    Batman Returns         162831698      266831698   \n",
       "1                         Evolution          38345494       98376292   \n",
       "2                           Jumanji         100475249      100475249   \n",
       "3            The American President          60079496       60079496   \n",
       "4                  Mulholland Drive           7220243       20117339   \n",
       "5                         Tombstone          56505065       56505065   \n",
       "6                   Heart and Souls          16589540       16589540   \n",
       "7          The Phantom of the Opera          51268815      154648887   \n",
       "8             The Brady Bunch Movie          46576136       46576136   \n",
       "9  Teenage Mutant Ninja Turtles III          42273609       42273609   \n",
       "\n",
       "                           distributor  opening_revenue   MPAA  \\\n",
       "0                         Warner Bros.       45687711.0  PG-13   \n",
       "1              DreamWorks Distribution       13408351.0  PG-13   \n",
       "2    Sony Pictures Entertainment (SPE)       11084370.0     PG   \n",
       "3    Sony Pictures Entertainment (SPE)       10014558.0  PG-13   \n",
       "4                   Universal Pictures         587591.0      R   \n",
       "5  Walt Disney Studios Motion Pictures        6454752.0      R   \n",
       "6                   Universal Pictures        4322250.0  PG-13   \n",
       "7                         Warner Bros.        4001890.0  PG-13   \n",
       "8                   Paramount Pictures       14827066.0  PG-13   \n",
       "9                      New Line Cinema       12419597.0     PG   \n",
       "\n",
       "                                          genres  running_time  in_release  \\\n",
       "0                           Action,Crime,Fantasy         126.0       196.0   \n",
       "1                                  Comedy,Sci-Fi         101.0       207.0   \n",
       "2                Adventure,Comedy,Family,Fantasy         104.0       383.0   \n",
       "3                           Comedy,Drama,Romance         114.0       411.0   \n",
       "4                         Drama,Mystery,Thriller         147.0       450.0   \n",
       "5                Biography,Drama,History,Western         130.0       373.0   \n",
       "6                   Comedy,Drama,Fantasy,Romance         104.0       141.0   \n",
       "7                 Drama,Musical,Romance,Thriller         143.0       375.0   \n",
       "8                                         Comedy          90.0       318.0   \n",
       "9  Action,Adventure,Comedy,Family,Fantasy,Sci-Fi          96.0       288.0   \n",
       "\n",
       "  release_date  \n",
       "0   1992-06-19  \n",
       "1   2001-06-08  \n",
       "2   1995-12-15  \n",
       "3   1995-11-17  \n",
       "4   2001-10-08  \n",
       "5   1993-12-24  \n",
       "6   1993-08-13  \n",
       "7   2004-12-22  \n",
       "8   1995-02-17  \n",
       "9   1993-03-19  "
      ]
     },
     "execution_count": 53,
     "metadata": {},
     "output_type": "execute_result"
    }
   ],
   "source": [
    "movies_df = pd.read_csv('./data/processed/processed_data.csv')\n",
    "movies_df.head(10)"
   ]
  },
  {
   "cell_type": "markdown",
   "id": "0f2e3ff5",
   "metadata": {},
   "source": [
    "## Vấn đề đặt ra :\n",
    "\n",
    "- Dự đoán doanh thu phim đạt được ở thị trường nội địa\n"
   ]
  },
  {
   "cell_type": "markdown",
   "id": "e6a18f12",
   "metadata": {},
   "source": [
    "### Lựa chọn các đặc trưng\n"
   ]
  },
  {
   "cell_type": "markdown",
   "id": "0539b68d",
   "metadata": {},
   "source": [
    "Ta sẽ chọn lọc ra các đặc trưng có thể ảnh hưởng doanh thu nội địa của một bộ phim , từ đó dùng các đặc trưng này để huấn luyện cho mô hình dự đoán doanh thu phim.\n",
    "Các đặc trưng có khả năng tác đôngh đến doanh thu nội địa bao gồm:\n",
    "\n",
    "- MPAA\n",
    "- Running Time\n",
    "- Genres\n",
    "- Release Date\n",
    "- In Release\n",
    "- Distributor\n"
   ]
  },
  {
   "cell_type": "markdown",
   "id": "24004586",
   "metadata": {},
   "source": [
    "## Tiền xử lý trước khi chạy mô hình\n"
   ]
  },
  {
   "cell_type": "code",
   "execution_count": 54,
   "id": "7abdefbe",
   "metadata": {},
   "outputs": [],
   "source": [
    "\n",
    "# Tạo các đặc trưng mới dựa trên release_date\n",
    "movies_df['release_date'] = pd.to_datetime(movies_df['release_date'])\n",
    "movies_df['release_month'] = movies_df['release_date'].dt.month\n",
    "movies_df['release_year'] = movies_df['release_date'].dt.year\n",
    "movies_df = movies_df.drop('release_date', axis=1)"
   ]
  },
  {
   "cell_type": "code",
   "execution_count": 55,
   "id": "e476277e",
   "metadata": {},
   "outputs": [],
   "source": [
    "# Giảm bớt sự ảnh hưởng của giá trị ngoại lệ\n",
    "features = ['domestic_revenue', 'in_release']\n",
    "\n",
    "\n",
    "for col in features:\n",
    "    movies_df[col] = movies_df[col].apply(lambda x: np.log10(x))"
   ]
  },
  {
   "cell_type": "code",
   "execution_count": 56,
   "id": "8d374564",
   "metadata": {},
   "outputs": [
    {
     "name": "stdout",
     "output_type": "stream",
     "text": [
      "11\n"
     ]
    }
   ],
   "source": [
    "# Chuyển đổi dữ liệu phân loại trong cột genres thành dạng số bằng kỹ thuật 'One-Hot Encoding'\n",
    "vectorizer = CountVectorizer()\n",
    "vectorizer.fit(movies_df['genres'])\n",
    "features = vectorizer.transform(movies_df['genres']).toarray()\n",
    "genres = vectorizer.get_feature_names_out()\n",
    "\n",
    "\n",
    "# Tạo một cột mới cho mỗi thể loại , giá trị trong mỗi cột tương ứng với sự xuất hiện của thể loại đó trong bộ phim (0,1).\n",
    "\n",
    "for i, name in enumerate(genres):\n",
    "    movies_df[name] = features[:, i]\n",
    "\n",
    "movies_df.drop('genres', axis=1, inplace=True)\n",
    "\n",
    "\n",
    "# Xóa cột có hơn 95% là giá trị 0\n",
    "removed = 0\n",
    "for col in movies_df.loc[:, 'action':'western'].columns:\n",
    "\n",
    "    if (movies_df[col] == 0).mean() > 0.95:\n",
    "        removed += 1\n",
    "        movies_df.drop(col, axis=1, inplace=True)\n",
    "\n",
    "print(removed)"
   ]
  },
  {
   "cell_type": "code",
   "execution_count": 57,
   "id": "8d6519f4",
   "metadata": {},
   "outputs": [],
   "source": [
    "\n",
    "\n",
    "for col in ['distributor', 'MPAA']:\n",
    "    le = LabelEncoder()\n",
    "    movies_df[col] = le.fit_transform(movies_df[col])"
   ]
  },
  {
   "cell_type": "markdown",
   "id": "6fb9c152",
   "metadata": {},
   "source": [
    "Kiểm tra mối tương quan giữa các đặc trưng\n"
   ]
  },
  {
   "cell_type": "code",
   "execution_count": 58,
   "id": "e1403cdc",
   "metadata": {},
   "outputs": [
    {
     "data": {
      "image/png": "[encoded data removed]",
      "text/plain": [
       "<Figure size 800x800 with 2 Axes>"
      ]
     },
     "metadata": {},
     "output_type": "display_data"
    }
   ],
   "source": [
    "numeric_cols = movies_df.select_dtypes(include=[np.number])\n",
    "\n",
    "plt.figure(figsize=(8, 8))\n",
    "sns.heatmap(numeric_cols.corr() > 0.8,\n",
    "            annot=True,\n",
    "            cbar=True)\n",
    "plt.show()"
   ]
  },
  {
   "cell_type": "markdown",
   "id": "d6096c64",
   "metadata": {},
   "source": [
    "Từ biểu đồ ta có thể quan sát được mối quan hệ giữa các đặc trưng. Những cặp đặc trưng có mối quan hệ cao với nhau sẽ được cân nhắc loại bỏ 1 đặc trưng để tránh hiện tượng đa cộng tuyến.\n",
    "\n",
    "Đồng thời ta sẽ xóa bỏ các cột `Title`, `World_revenue` và `Openning_revenue` vì bài toán đặt ra là dự đoán doanh thu nội địa dựa trên các đặc trưng.\n"
   ]
  },
  {
   "cell_type": "code",
   "execution_count": 59,
   "id": "5666b525",
   "metadata": {},
   "outputs": [],
   "source": [
    "features = movies_df.drop(\n",
    "    ['title', 'domestic_revenue', 'world_revenue', 'opening_revenue', 'fi'], axis=1)\n",
    "target = movies_df['domestic_revenue'].values"
   ]
  },
  {
   "cell_type": "markdown",
   "id": "c440ca0c",
   "metadata": {},
   "source": [
    "Chia tập dữ liệu thành hai tập dữ liệu với 1 tập dùng để huấn luyện cho mô hình và tập còn lại dùng để kiểm thử và đánh giá độ hiệu quả của mô hình.\n"
   ]
  },
  {
   "cell_type": "code",
   "execution_count": 60,
   "id": "221ffb9f",
   "metadata": {},
   "outputs": [
    {
     "data": {
      "text/plain": [
       "((3808, 20), (952, 20))"
      ]
     },
     "execution_count": 60,
     "metadata": {},
     "output_type": "execute_result"
    }
   ],
   "source": [
    "\n",
    "\n",
    "X_train, X_test, \\\n",
    "    Y_train, Y_test = train_test_split(features, target,\n",
    "                                       test_size=0.2,\n",
    "                                       random_state=0)\n",
    "X_train.shape, X_test.shape"
   ]
  },
  {
   "cell_type": "markdown",
   "id": "579ed66c",
   "metadata": {},
   "source": [
    "Chuẩn hóa dữ liệu\n"
   ]
  },
  {
   "cell_type": "code",
   "execution_count": 61,
   "id": "d309d404",
   "metadata": {},
   "outputs": [],
   "source": [
    "\n",
    "# Chuẩn hóa dữ liệu\n",
    "scaler = StandardScaler()\n",
    "X_train = scaler.fit_transform(X_train)\n",
    "X_test = scaler.transform(X_test)"
   ]
  },
  {
   "cell_type": "markdown",
   "id": "d1ad746a",
   "metadata": {},
   "source": [
    "## Các mô hình\n"
   ]
  },
  {
   "cell_type": "markdown",
   "id": "688a62f0",
   "metadata": {},
   "source": [
    "<h3 style='color:#e28743;text-align:left;font-size:20px'><b>1. Linear Regression</b></h3>\n"
   ]
  },
  {
   "cell_type": "markdown",
   "id": "1f2feca9",
   "metadata": {},
   "source": [
    "Huấn luyện mô hình `Linear Regression` trên tập X_train và Y_train\n"
   ]
  },
  {
   "cell_type": "code",
   "execution_count": 62,
   "id": "6fc72e6d",
   "metadata": {},
   "outputs": [],
   "source": [
    "ln = LinearRegression().fit(X_train, Y_train)"
   ]
  },
  {
   "cell_type": "markdown",
   "id": "fca3fc7a",
   "metadata": {},
   "source": [
    "Dùng mô hình để dự đoán trên tập `X_test`\n"
   ]
  },
  {
   "cell_type": "code",
   "execution_count": 63,
   "id": "1ea4eaac",
   "metadata": {},
   "outputs": [],
   "source": [
    "ln_pre = ln.predict(X_test)"
   ]
  },
  {
   "cell_type": "markdown",
   "id": "3c23715e",
   "metadata": {},
   "source": [
    "Đỗ lỗi _MSE_ và _RMSE_ của mô hình so với `Y_test`\n"
   ]
  },
  {
   "cell_type": "code",
   "execution_count": 64,
   "id": "0f1b6157",
   "metadata": {},
   "outputs": [
    {
     "name": "stdout",
     "output_type": "stream",
     "text": [
      "0.2560706990559403 \t 0.5060342864430634 \t 0.3893063543250529\n"
     ]
    }
   ],
   "source": [
    "ln_mse = mean_squared_error(Y_test, ln_pre)\n",
    "ln_rmse = np.sqrt(ln_mse)\n",
    "ln_mae = mean_absolute_error(Y_test, ln_pre)\n",
    "print(ln_mse, '\\t', ln_rmse, '\\t', ln_mae)"
   ]
  },
  {
   "cell_type": "markdown",
   "id": "d5019bcc",
   "metadata": {},
   "source": [
    "<h3 style='color:#e28743;text-align:left;font-size:20px'><b>2. Decision Tree Regression</b></h3>\n"
   ]
  },
  {
   "cell_type": "code",
   "execution_count": 65,
   "id": "9dd6f336",
   "metadata": {},
   "outputs": [],
   "source": [
    "dt = DecisionTreeRegressor().fit(X_train, Y_train)"
   ]
  },
  {
   "cell_type": "markdown",
   "id": "aa5a4125",
   "metadata": {},
   "source": [
    "Dùng mô hình để dự đoán trên tập `X_test`\n"
   ]
  },
  {
   "cell_type": "code",
   "execution_count": 66,
   "id": "fea8c65b",
   "metadata": {},
   "outputs": [],
   "source": [
    "dt_pred = dt.predict(X_test)"
   ]
  },
  {
   "cell_type": "markdown",
   "id": "417e795d",
   "metadata": {},
   "source": [
    "Đo độ lỗi `MSE`, `RMSE` và `MAE` của mô hình so với `Y_test`\n"
   ]
  },
  {
   "cell_type": "code",
   "execution_count": 67,
   "id": "888b5aac",
   "metadata": {},
   "outputs": [
    {
     "name": "stdout",
     "output_type": "stream",
     "text": [
      "0.36668803758120827 \t 0.6055477170142815 \t 0.4617190956214285\n"
     ]
    }
   ],
   "source": [
    "dt_mse = mean_squared_error(Y_test, dt_pred)\n",
    "dt_rmse = np.sqrt(dt_mse)\n",
    "dt_mae = mean_absolute_error(Y_test, dt_pred)\n",
    "print(dt_mse, '\\t', dt_rmse, '\\t', dt_mae)"
   ]
  },
  {
   "cell_type": "markdown",
   "id": "dc8a39d8",
   "metadata": {},
   "source": [
    "<h3 style='color:#e28743;text-align:left;font-size:20px'><b>3. Random Forest Regression</b></h3>\n"
   ]
  },
  {
   "cell_type": "code",
   "execution_count": 68,
   "id": "9cab7c55",
   "metadata": {},
   "outputs": [],
   "source": [
    "rf = RandomForestRegressor(max_depth=5).fit(X_train, Y_train)"
   ]
  },
  {
   "cell_type": "markdown",
   "id": "f7e863e3",
   "metadata": {},
   "source": [
    "Dùng mô hình để dự đoán trên tập `X_test`\n"
   ]
  },
  {
   "cell_type": "code",
   "execution_count": 69,
   "id": "a034beb5",
   "metadata": {},
   "outputs": [],
   "source": [
    "rf_pred = rf.predict(X_test)"
   ]
  },
  {
   "cell_type": "markdown",
   "id": "2a18418d",
   "metadata": {},
   "source": [
    "Đo độ lỗi `MSE`,`RMSE` và `MAE` của mô hình so với `Y_test`\n"
   ]
  },
  {
   "cell_type": "code",
   "execution_count": 70,
   "id": "2dafb1ec",
   "metadata": {},
   "outputs": [
    {
     "name": "stdout",
     "output_type": "stream",
     "text": [
      "0.22292451823262424 \t 0.47214883059542173 \t 0.3759555820517656\n"
     ]
    }
   ],
   "source": [
    "rf_mse = mean_squared_error(Y_test, rf_pred)\n",
    "rf_rmse = np.sqrt(rf_mse)\n",
    "rf_mae = mean_absolute_error(Y_test, rf_pred)\n",
    "print(rf_mse, '\\t', rf_rmse, '\\t', rf_mae)"
   ]
  },
  {
   "cell_type": "markdown",
   "id": "8e0458ab",
   "metadata": {},
   "source": [
    "### So sánh độ lỗi của ba mô hình"
   ]
  },
  {
   "cell_type": "code",
   "execution_count": 71,
   "id": "e36468dd",
   "metadata": {},
   "outputs": [
    {
     "data": {
      "text/html": [
       "<div>\n",
       "<style scoped>\n",
       "    .dataframe tbody tr th:only-of-type {\n",
       "        vertical-align: middle;\n",
       "    }\n",
       "\n",
       "    .dataframe tbody tr th {\n",
       "        vertical-align: top;\n",
       "    }\n",
       "\n",
       "    .dataframe thead th {\n",
       "        text-align: right;\n",
       "    }\n",
       "</style>\n",
       "<table border=\"1\" class=\"dataframe\">\n",
       "  <thead>\n",
       "    <tr style=\"text-align: right;\">\n",
       "      <th></th>\n",
       "      <th>Linear Regression</th>\n",
       "      <th>Decision Tree Regression</th>\n",
       "      <th>Random Forest Regression</th>\n",
       "    </tr>\n",
       "  </thead>\n",
       "  <tbody>\n",
       "    <tr>\n",
       "      <th>RMSE</th>\n",
       "      <td>0.506034</td>\n",
       "      <td>0.605548</td>\n",
       "      <td>0.472149</td>\n",
       "    </tr>\n",
       "    <tr>\n",
       "      <th>MSE</th>\n",
       "      <td>0.256071</td>\n",
       "      <td>0.366688</td>\n",
       "      <td>0.222925</td>\n",
       "    </tr>\n",
       "    <tr>\n",
       "      <th>MAE</th>\n",
       "      <td>0.389306</td>\n",
       "      <td>0.461719</td>\n",
       "      <td>0.375956</td>\n",
       "    </tr>\n",
       "  </tbody>\n",
       "</table>\n",
       "</div>"
      ],
      "text/plain": [
       "      Linear Regression  Decision Tree Regression  Random Forest Regression\n",
       "RMSE           0.506034                  0.605548                  0.472149\n",
       "MSE            0.256071                  0.366688                  0.222925\n",
       "MAE            0.389306                  0.461719                  0.375956"
      ]
     },
     "execution_count": 71,
     "metadata": {},
     "output_type": "execute_result"
    }
   ],
   "source": [
    "data = {\n",
    "    'Linear Regression': [ln_rmse, ln_mse, ln_mae],\n",
    "    'Decision Tree Regression': [dt_rmse, dt_mse, dt_mae],\n",
    "    'Random Forest Regression': [rf_rmse, rf_mse, rf_mae]\n",
    "}\n",
    "\n",
    "\n",
    "metrics = ['RMSE', 'MSE', 'MAE']\n",
    "\n",
    "e_df = pd.DataFrame(data, index=metrics)\n",
    "e_df"
   ]
  },
  {
   "cell_type": "markdown",
   "id": "2421d2b0",
   "metadata": {},
   "source": [
    "<h2 style='color:#e28743;text-align:center;font-size:25px'><b> Đánh giá mô hình</b></h2>\n"
   ]
  },
  {
   "cell_type": "markdown",
   "id": "51ac708a",
   "metadata": {},
   "source": [
    "<h3 style='color:#21130d;text-align:left;font-size:20px'><b>1. Linear Regression</b></h3>\n"
   ]
  },
  {
   "cell_type": "markdown",
   "id": "d9a0a0d0",
   "metadata": {},
   "source": [
    "#### Cross-Validation\n"
   ]
  },
  {
   "cell_type": "code",
   "execution_count": 72,
   "id": "9e172655",
   "metadata": {},
   "outputs": [],
   "source": [
    "cv = ShuffleSplit(n_splits=5, test_size=0.2, random_state=0)"
   ]
  },
  {
   "cell_type": "markdown",
   "id": "d774e7bd",
   "metadata": {},
   "source": [
    "Tính độ lỗi trung bình\n"
   ]
  },
  {
   "cell_type": "code",
   "execution_count": 73,
   "id": "97248276",
   "metadata": {},
   "outputs": [
    {
     "name": "stdout",
     "output_type": "stream",
     "text": [
      "[-0.2560707  -0.28583302 -0.2723138  -0.26768196 -0.26053657] \n",
      " -0.2684872071771351\n"
     ]
    }
   ],
   "source": [
    "scores = cross_val_score(ln, features, target,\n",
    "                         scoring='neg_mean_squared_error', cv=cv)\n",
    "print(scores, '\\n', np.mean(scores))"
   ]
  },
  {
   "cell_type": "code",
   "execution_count": 74,
   "id": "827ab82b",
   "metadata": {},
   "outputs": [],
   "source": [
    "scores_ln = -scores\n",
    "avg_scores_ln = np.mean(scores_ln)"
   ]
  },
  {
   "cell_type": "markdown",
   "id": "ef256617",
   "metadata": {},
   "source": [
    "### Minh họa\n"
   ]
  },
  {
   "cell_type": "code",
   "execution_count": 75,
   "id": "e6560e9b",
   "metadata": {},
   "outputs": [
    {
     "data": {
      "text/plain": [
       "Text(0.5, 0, 'Doanh thu nội địa ')"
      ]
     },
     "execution_count": 75,
     "metadata": {},
     "output_type": "execute_result"
    },
    {
     "data": {
      "image/png": "[encoded data removed]",
      "text/plain": [
       "<Figure size 1200x600 with 1 Axes>"
      ]
     },
     "metadata": {},
     "output_type": "display_data"
    }
   ],
   "source": [
    "\n",
    "\n",
    "plt.figure(figsize=(12, 6))\n",
    "sns.regplot(x=Y_test, y=ln_pre, ci=None, scatter_kws={\n",
    "            \"color\": \"blue\"}, line_kws={\"color\": \"red\"})\n",
    "plt.title('Linear Regression', fontsize=14)\n",
    "plt.xlabel('Doanh thu nội địa ', fontsize=14)"
   ]
  },
  {
   "cell_type": "markdown",
   "id": "30543cb4",
   "metadata": {},
   "source": [
    "<h3 style='color:#21130d;font-size:20px'><b>2. Decision Tree Regression</b></h3>\n"
   ]
  },
  {
   "cell_type": "markdown",
   "id": "fd00c9d3",
   "metadata": {},
   "source": [
    "#### Cross-Validation\n"
   ]
  },
  {
   "cell_type": "code",
   "execution_count": 76,
   "id": "de5bdf12",
   "metadata": {},
   "outputs": [
    {
     "data": {
      "text/plain": [
       "array([-0.37972711, -0.35212735, -0.35398625, -0.39736741, -0.38506089])"
      ]
     },
     "execution_count": 76,
     "metadata": {},
     "output_type": "execute_result"
    }
   ],
   "source": [
    "scores = cross_val_score(dt, X_train, Y_train,\n",
    "                         scoring=\"neg_mean_squared_error\", cv=5)\n",
    "scores"
   ]
  },
  {
   "cell_type": "markdown",
   "id": "af27755a",
   "metadata": {},
   "source": [
    "Tính độ lỗi trung bình\n"
   ]
  },
  {
   "cell_type": "code",
   "execution_count": 77,
   "id": "a1fefcf7",
   "metadata": {},
   "outputs": [],
   "source": [
    "scores = -scores\n",
    "avg_scores_dt = scores.mean()"
   ]
  },
  {
   "cell_type": "markdown",
   "id": "e321748f",
   "metadata": {},
   "source": [
    "<h3 style='color:#21130d;font-size:20px'><b>3. Random Forest Regression</b></h3>\n"
   ]
  },
  {
   "cell_type": "markdown",
   "id": "6783c209",
   "metadata": {},
   "source": [
    "#### Cross-Validation\n"
   ]
  },
  {
   "cell_type": "code",
   "execution_count": 78,
   "id": "6f016645",
   "metadata": {},
   "outputs": [
    {
     "data": {
      "text/plain": [
       "array([-0.22340084, -0.22187119, -0.25281995, -0.22314432, -0.2122339 ])"
      ]
     },
     "execution_count": 78,
     "metadata": {},
     "output_type": "execute_result"
    }
   ],
   "source": [
    "scores = cross_val_score(rf, X_train, Y_train,\n",
    "                         scoring=\"neg_mean_squared_error\", cv=5)\n",
    "scores"
   ]
  },
  {
   "cell_type": "markdown",
   "id": "968ea947",
   "metadata": {},
   "source": [
    "#### Tính độ lỗi trung bình\n"
   ]
  },
  {
   "cell_type": "code",
   "execution_count": 79,
   "id": "a09c449a",
   "metadata": {},
   "outputs": [],
   "source": [
    "scores = -scores\n",
    "avg_scores_rf = scores.mean()"
   ]
  },
  {
   "cell_type": "markdown",
   "id": "a0ee3291",
   "metadata": {},
   "source": [
    "<h3 style='color:#21130d;font-size:20px'><b>\n",
    "Bảng điểm số trung bình  dựa trên MSE\n",
    "</b></h3>\n"
   ]
  },
  {
   "cell_type": "code",
   "execution_count": 80,
   "id": "577ef679",
   "metadata": {},
   "outputs": [
    {
     "data": {
      "text/html": [
       "<style type=\"text/css\">\n",
       "#T_cfc2a_row0_col0, #T_cfc2a_row0_col1, #T_cfc2a_row1_col0, #T_cfc2a_row1_col1, #T_cfc2a_row2_col0, #T_cfc2a_row2_col1 {\n",
       "  background-color: white;\n",
       "  color: black;\n",
       "  border-color: white;\n",
       "}\n",
       "</style>\n",
       "<table id=\"T_cfc2a\">\n",
       "  <thead>\n",
       "    <tr>\n",
       "      <th class=\"blank level0\" >&nbsp;</th>\n",
       "      <th id=\"T_cfc2a_level0_col0\" class=\"col_heading level0 col0\" >Model</th>\n",
       "      <th id=\"T_cfc2a_level0_col1\" class=\"col_heading level0 col1\" >Average Score</th>\n",
       "    </tr>\n",
       "  </thead>\n",
       "  <tbody>\n",
       "    <tr>\n",
       "      <th id=\"T_cfc2a_level0_row0\" class=\"row_heading level0 row0\" >0</th>\n",
       "      <td id=\"T_cfc2a_row0_col0\" class=\"data row0 col0\" >LinearRegression</td>\n",
       "      <td id=\"T_cfc2a_row0_col1\" class=\"data row0 col1\" >0.268487</td>\n",
       "    </tr>\n",
       "    <tr>\n",
       "      <th id=\"T_cfc2a_level0_row1\" class=\"row_heading level0 row1\" >1</th>\n",
       "      <td id=\"T_cfc2a_row1_col0\" class=\"data row1 col0\" >DecisionTreeRegressor</td>\n",
       "      <td id=\"T_cfc2a_row1_col1\" class=\"data row1 col1\" >0.373654</td>\n",
       "    </tr>\n",
       "    <tr>\n",
       "      <th id=\"T_cfc2a_level0_row2\" class=\"row_heading level0 row2\" >2</th>\n",
       "      <td id=\"T_cfc2a_row2_col0\" class=\"data row2 col0\" >RandomForestRegressor</td>\n",
       "      <td id=\"T_cfc2a_row2_col1\" class=\"data row2 col1\" >0.226694</td>\n",
       "    </tr>\n",
       "  </tbody>\n",
       "</table>\n"
      ],
      "text/plain": [
       "<pandas.io.formats.style.Styler at 0x1aaed62ccd0>"
      ]
     },
     "execution_count": 80,
     "metadata": {},
     "output_type": "execute_result"
    }
   ],
   "source": [
    "\n",
    "\n",
    "avg_scores = pd.DataFrame({\n",
    "    'Model': ['LinearRegression', 'DecisionTreeRegressor', 'RandomForestRegressor'],\n",
    "    'Average Score': [avg_scores_ln, avg_scores_dt, avg_scores_rf]\n",
    "})\n",
    "\n",
    "\n",
    "avg_scores.style.set_properties(**{'background-color': 'white',\n",
    "                                   'color': 'black',\n",
    "                                   'border-color': 'white'})"
   ]
  },
  {
   "cell_type": "markdown",
   "id": "e4fcf3b1",
   "metadata": {},
   "source": [
    "- Với MSE, giá trị càng thấp thì mô hình càng tốt.\n",
    "- Vì vậy, mô hình Random Forest Regression  là mô hình tốt nhất trong trường hợp này, vì nó có giá trị MSE trung bình thấp nhất.\n"
   ]
  },
  {
   "cell_type": "markdown",
   "id": "767a79e9",
   "metadata": {},
   "source": [
    "<h3 style='color:#21130d;font-size:20px'><b>Tinh chỉnh mô hình</b></h3>\n"
   ]
  },
  {
   "cell_type": "markdown",
   "id": "c0164671",
   "metadata": {},
   "source": [
    "#### Mô hình Random Forest Regresion\n"
   ]
  },
  {
   "cell_type": "code",
   "execution_count": 81,
   "id": "c96df094",
   "metadata": {},
   "outputs": [],
   "source": [
    "# Chọn các tham số\n",
    "param_grid = {\n",
    "    'bootstrap': [True, False],\n",
    "    'max_depth': [5, 10, 15, 20],\n",
    "    'max_features': ['auto', 'sqrt'],\n",
    "    'min_samples_leaf': [1, 2, 3, 4],\n",
    "    'min_samples_split': [2, 4, 6, 8, 10],\n",
    "    'n_estimators': [5, 10, 15, 20]\n",
    "}"
   ]
  },
  {
   "cell_type": "code",
   "execution_count": 82,
   "id": "0dd23a31",
   "metadata": {},
   "outputs": [],
   "source": [
    "grid_search_rf = GridSearchCV(estimator=rf, param_grid=param_grid, cv=5)"
   ]
  },
  {
   "cell_type": "code",
   "execution_count": 83,
   "id": "866beefe",
   "metadata": {},
   "outputs": [
    {
     "data": {
      "text/html": [
       "<style>#sk-container-id-1 {color: black;}#sk-container-id-1 pre{padding: 0;}#sk-container-id-1 div.sk-toggleable {background-color: white;}#sk-container-id-1 label.sk-toggleable__label {cursor: pointer;display: block;width: 100%;margin-bottom: 0;padding: 0.3em;box-sizing: border-box;text-align: center;}#sk-container-id-1 label.sk-toggleable__label-arrow:before {content: \"▸\";float: left;margin-right: 0.25em;color: #696969;}#sk-container-id-1 label.sk-toggleable__label-arrow:hover:before {color: black;}#sk-container-id-1 div.sk-estimator:hover label.sk-toggleable__label-arrow:before {color: black;}#sk-container-id-1 div.sk-toggleable__content {max-height: 0;max-width: 0;overflow: hidden;text-align: left;background-color: #f0f8ff;}#sk-container-id-1 div.sk-toggleable__content pre {margin: 0.2em;color: black;border-radius: 0.25em;background-color: #f0f8ff;}#sk-container-id-1 input.sk-toggleable__control:checked~div.sk-toggleable__content {max-height: 200px;max-width: 100%;overflow: auto;}#sk-container-id-1 input.sk-toggleable__control:checked~label.sk-toggleable__label-arrow:before {content: \"▾\";}#sk-container-id-1 div.sk-estimator input.sk-toggleable__control:checked~label.sk-toggleable__label {background-color: #d4ebff;}#sk-container-id-1 div.sk-label input.sk-toggleable__control:checked~label.sk-toggleable__label {background-color: #d4ebff;}#sk-container-id-1 input.sk-hidden--visually {border: 0;clip: rect(1px 1px 1px 1px);clip: rect(1px, 1px, 1px, 1px);height: 1px;margin: -1px;overflow: hidden;padding: 0;position: absolute;width: 1px;}#sk-container-id-1 div.sk-estimator {font-family: monospace;background-color: #f0f8ff;border: 1px dotted black;border-radius: 0.25em;box-sizing: border-box;margin-bottom: 0.5em;}#sk-container-id-1 div.sk-estimator:hover {background-color: #d4ebff;}#sk-container-id-1 div.sk-parallel-item::after {content: \"\";width: 100%;border-bottom: 1px solid gray;flex-grow: 1;}#sk-container-id-1 div.sk-label:hover label.sk-toggleable__label {background-color: #d4ebff;}#sk-container-id-1 div.sk-serial::before {content: \"\";position: absolute;border-left: 1px solid gray;box-sizing: border-box;top: 0;bottom: 0;left: 50%;z-index: 0;}#sk-container-id-1 div.sk-serial {display: flex;flex-direction: column;align-items: center;background-color: white;padding-right: 0.2em;padding-left: 0.2em;position: relative;}#sk-container-id-1 div.sk-item {position: relative;z-index: 1;}#sk-container-id-1 div.sk-parallel {display: flex;align-items: stretch;justify-content: center;background-color: white;position: relative;}#sk-container-id-1 div.sk-item::before, #sk-container-id-1 div.sk-parallel-item::before {content: \"\";position: absolute;border-left: 1px solid gray;box-sizing: border-box;top: 0;bottom: 0;left: 50%;z-index: -1;}#sk-container-id-1 div.sk-parallel-item {display: flex;flex-direction: column;z-index: 1;position: relative;background-color: white;}#sk-container-id-1 div.sk-parallel-item:first-child::after {align-self: flex-end;width: 50%;}#sk-container-id-1 div.sk-parallel-item:last-child::after {align-self: flex-start;width: 50%;}#sk-container-id-1 div.sk-parallel-item:only-child::after {width: 0;}#sk-container-id-1 div.sk-dashed-wrapped {border: 1px dashed gray;margin: 0 0.4em 0.5em 0.4em;box-sizing: border-box;padding-bottom: 0.4em;background-color: white;}#sk-container-id-1 div.sk-label label {font-family: monospace;font-weight: bold;display: inline-block;line-height: 1.2em;}#sk-container-id-1 div.sk-label-container {text-align: center;}#sk-container-id-1 div.sk-container {/* jupyter's `normalize.less` sets `[hidden] { display: none; }` but bootstrap.min.css set `[hidden] { display: none !important; }` so we also need the `!important` here to be able to override the default hidden behavior on the sphinx rendered scikit-learn.org. See: https://github.com/scikit-learn/scikit-learn/issues/21755 */display: inline-block !important;position: relative;}#sk-container-id-1 div.sk-text-repr-fallback {display: none;}</style><div id=\"sk-container-id-1\" class=\"sk-top-container\"><div class=\"sk-text-repr-fallback\"><pre>GridSearchCV(cv=5, estimator=RandomForestRegressor(max_depth=5),\n",
       "             param_grid={&#x27;bootstrap&#x27;: [True, False],\n",
       "                         &#x27;max_depth&#x27;: [5, 10, 15, 20],\n",
       "                         &#x27;max_features&#x27;: [&#x27;auto&#x27;, &#x27;sqrt&#x27;],\n",
       "                         &#x27;min_samples_leaf&#x27;: [1, 2, 3, 4],\n",
       "                         &#x27;min_samples_split&#x27;: [2, 4, 6, 8, 10],\n",
       "                         &#x27;n_estimators&#x27;: [5, 10, 15, 20]})</pre><b>In a Jupyter environment, please rerun this cell to show the HTML representation or trust the notebook. <br />On GitHub, the HTML representation is unable to render, please try loading this page with nbviewer.org.</b></div><div class=\"sk-container\" hidden><div class=\"sk-item sk-dashed-wrapped\"><div class=\"sk-label-container\"><div class=\"sk-label sk-toggleable\"><input class=\"sk-toggleable__control sk-hidden--visually\" id=\"sk-estimator-id-1\" type=\"checkbox\" ><label for=\"sk-estimator-id-1\" class=\"sk-toggleable__label sk-toggleable__label-arrow\">GridSearchCV</label><div class=\"sk-toggleable__content\"><pre>GridSearchCV(cv=5, estimator=RandomForestRegressor(max_depth=5),\n",
       "             param_grid={&#x27;bootstrap&#x27;: [True, False],\n",
       "                         &#x27;max_depth&#x27;: [5, 10, 15, 20],\n",
       "                         &#x27;max_features&#x27;: [&#x27;auto&#x27;, &#x27;sqrt&#x27;],\n",
       "                         &#x27;min_samples_leaf&#x27;: [1, 2, 3, 4],\n",
       "                         &#x27;min_samples_split&#x27;: [2, 4, 6, 8, 10],\n",
       "                         &#x27;n_estimators&#x27;: [5, 10, 15, 20]})</pre></div></div></div><div class=\"sk-parallel\"><div class=\"sk-parallel-item\"><div class=\"sk-item\"><div class=\"sk-label-container\"><div class=\"sk-label sk-toggleable\"><input class=\"sk-toggleable__control sk-hidden--visually\" id=\"sk-estimator-id-2\" type=\"checkbox\" ><label for=\"sk-estimator-id-2\" class=\"sk-toggleable__label sk-toggleable__label-arrow\">estimator: RandomForestRegressor</label><div class=\"sk-toggleable__content\"><pre>RandomForestRegressor(max_depth=5)</pre></div></div></div><div class=\"sk-serial\"><div class=\"sk-item\"><div class=\"sk-estimator sk-toggleable\"><input class=\"sk-toggleable__control sk-hidden--visually\" id=\"sk-estimator-id-3\" type=\"checkbox\" ><label for=\"sk-estimator-id-3\" class=\"sk-toggleable__label sk-toggleable__label-arrow\">RandomForestRegressor</label><div class=\"sk-toggleable__content\"><pre>RandomForestRegressor(max_depth=5)</pre></div></div></div></div></div></div></div></div></div></div>"
      ],
      "text/plain": [
       "GridSearchCV(cv=5, estimator=RandomForestRegressor(max_depth=5),\n",
       "             param_grid={'bootstrap': [True, False],\n",
       "                         'max_depth': [5, 10, 15, 20],\n",
       "                         'max_features': ['auto', 'sqrt'],\n",
       "                         'min_samples_leaf': [1, 2, 3, 4],\n",
       "                         'min_samples_split': [2, 4, 6, 8, 10],\n",
       "                         'n_estimators': [5, 10, 15, 20]})"
      ]
     },
     "execution_count": 83,
     "metadata": {},
     "output_type": "execute_result"
    }
   ],
   "source": [
    "grid_search_rf.fit(X_train, Y_train)"
   ]
  },
  {
   "cell_type": "code",
   "execution_count": 84,
   "id": "2ac35adf",
   "metadata": {},
   "outputs": [
    {
     "name": "stdout",
     "output_type": "stream",
     "text": [
      "{'bootstrap': False, 'max_depth': 20, 'max_features': 'sqrt', 'min_samples_leaf': 1, 'min_samples_split': 8, 'n_estimators': 20}\n"
     ]
    }
   ],
   "source": [
    "print(grid_search_rf.best_params_)"
   ]
  },
  {
   "cell_type": "markdown",
   "id": "16e562b3",
   "metadata": {},
   "source": [
    "#### Mô hình Decision Tree Regression\n"
   ]
  },
  {
   "cell_type": "code",
   "execution_count": 85,
   "id": "b6debe74",
   "metadata": {},
   "outputs": [],
   "source": [
    "# Chọn các tham số\n",
    "param_grid = {\n",
    "    'max_depth': [5, 10, 15, 20],\n",
    "    'max_features': ['auto', 'sqrt'],\n",
    "    'min_samples_leaf': [1, 2, 3, 4],\n",
    "    'min_samples_split': [2, 4, 6, 8],\n",
    "}"
   ]
  },
  {
   "cell_type": "code",
   "execution_count": 86,
   "id": "dc707476",
   "metadata": {},
   "outputs": [],
   "source": [
    "grid_search_dt = GridSearchCV(estimator=dt, param_grid=param_grid, cv=5)"
   ]
  },
  {
   "cell_type": "code",
   "execution_count": 87,
   "id": "19a0ba0a",
   "metadata": {},
   "outputs": [
    {
     "data": {
      "text/html": [
       "<style>#sk-container-id-2 {color: black;}#sk-container-id-2 pre{padding: 0;}#sk-container-id-2 div.sk-toggleable {background-color: white;}#sk-container-id-2 label.sk-toggleable__label {cursor: pointer;display: block;width: 100%;margin-bottom: 0;padding: 0.3em;box-sizing: border-box;text-align: center;}#sk-container-id-2 label.sk-toggleable__label-arrow:before {content: \"▸\";float: left;margin-right: 0.25em;color: #696969;}#sk-container-id-2 label.sk-toggleable__label-arrow:hover:before {color: black;}#sk-container-id-2 div.sk-estimator:hover label.sk-toggleable__label-arrow:before {color: black;}#sk-container-id-2 div.sk-toggleable__content {max-height: 0;max-width: 0;overflow: hidden;text-align: left;background-color: #f0f8ff;}#sk-container-id-2 div.sk-toggleable__content pre {margin: 0.2em;color: black;border-radius: 0.25em;background-color: #f0f8ff;}#sk-container-id-2 input.sk-toggleable__control:checked~div.sk-toggleable__content {max-height: 200px;max-width: 100%;overflow: auto;}#sk-container-id-2 input.sk-toggleable__control:checked~label.sk-toggleable__label-arrow:before {content: \"▾\";}#sk-container-id-2 div.sk-estimator input.sk-toggleable__control:checked~label.sk-toggleable__label {background-color: #d4ebff;}#sk-container-id-2 div.sk-label input.sk-toggleable__control:checked~label.sk-toggleable__label {background-color: #d4ebff;}#sk-container-id-2 input.sk-hidden--visually {border: 0;clip: rect(1px 1px 1px 1px);clip: rect(1px, 1px, 1px, 1px);height: 1px;margin: -1px;overflow: hidden;padding: 0;position: absolute;width: 1px;}#sk-container-id-2 div.sk-estimator {font-family: monospace;background-color: #f0f8ff;border: 1px dotted black;border-radius: 0.25em;box-sizing: border-box;margin-bottom: 0.5em;}#sk-container-id-2 div.sk-estimator:hover {background-color: #d4ebff;}#sk-container-id-2 div.sk-parallel-item::after {content: \"\";width: 100%;border-bottom: 1px solid gray;flex-grow: 1;}#sk-container-id-2 div.sk-label:hover label.sk-toggleable__label {background-color: #d4ebff;}#sk-container-id-2 div.sk-serial::before {content: \"\";position: absolute;border-left: 1px solid gray;box-sizing: border-box;top: 0;bottom: 0;left: 50%;z-index: 0;}#sk-container-id-2 div.sk-serial {display: flex;flex-direction: column;align-items: center;background-color: white;padding-right: 0.2em;padding-left: 0.2em;position: relative;}#sk-container-id-2 div.sk-item {position: relative;z-index: 1;}#sk-container-id-2 div.sk-parallel {display: flex;align-items: stretch;justify-content: center;background-color: white;position: relative;}#sk-container-id-2 div.sk-item::before, #sk-container-id-2 div.sk-parallel-item::before {content: \"\";position: absolute;border-left: 1px solid gray;box-sizing: border-box;top: 0;bottom: 0;left: 50%;z-index: -1;}#sk-container-id-2 div.sk-parallel-item {display: flex;flex-direction: column;z-index: 1;position: relative;background-color: white;}#sk-container-id-2 div.sk-parallel-item:first-child::after {align-self: flex-end;width: 50%;}#sk-container-id-2 div.sk-parallel-item:last-child::after {align-self: flex-start;width: 50%;}#sk-container-id-2 div.sk-parallel-item:only-child::after {width: 0;}#sk-container-id-2 div.sk-dashed-wrapped {border: 1px dashed gray;margin: 0 0.4em 0.5em 0.4em;box-sizing: border-box;padding-bottom: 0.4em;background-color: white;}#sk-container-id-2 div.sk-label label {font-family: monospace;font-weight: bold;display: inline-block;line-height: 1.2em;}#sk-container-id-2 div.sk-label-container {text-align: center;}#sk-container-id-2 div.sk-container {/* jupyter's `normalize.less` sets `[hidden] { display: none; }` but bootstrap.min.css set `[hidden] { display: none !important; }` so we also need the `!important` here to be able to override the default hidden behavior on the sphinx rendered scikit-learn.org. See: https://github.com/scikit-learn/scikit-learn/issues/21755 */display: inline-block !important;position: relative;}#sk-container-id-2 div.sk-text-repr-fallback {display: none;}</style><div id=\"sk-container-id-2\" class=\"sk-top-container\"><div class=\"sk-text-repr-fallback\"><pre>GridSearchCV(cv=5, estimator=DecisionTreeRegressor(),\n",
       "             param_grid={&#x27;max_depth&#x27;: [5, 10, 15, 20],\n",
       "                         &#x27;max_features&#x27;: [&#x27;auto&#x27;, &#x27;sqrt&#x27;],\n",
       "                         &#x27;min_samples_leaf&#x27;: [1, 2, 3, 4],\n",
       "                         &#x27;min_samples_split&#x27;: [2, 4, 6, 8]})</pre><b>In a Jupyter environment, please rerun this cell to show the HTML representation or trust the notebook. <br />On GitHub, the HTML representation is unable to render, please try loading this page with nbviewer.org.</b></div><div class=\"sk-container\" hidden><div class=\"sk-item sk-dashed-wrapped\"><div class=\"sk-label-container\"><div class=\"sk-label sk-toggleable\"><input class=\"sk-toggleable__control sk-hidden--visually\" id=\"sk-estimator-id-4\" type=\"checkbox\" ><label for=\"sk-estimator-id-4\" class=\"sk-toggleable__label sk-toggleable__label-arrow\">GridSearchCV</label><div class=\"sk-toggleable__content\"><pre>GridSearchCV(cv=5, estimator=DecisionTreeRegressor(),\n",
       "             param_grid={&#x27;max_depth&#x27;: [5, 10, 15, 20],\n",
       "                         &#x27;max_features&#x27;: [&#x27;auto&#x27;, &#x27;sqrt&#x27;],\n",
       "                         &#x27;min_samples_leaf&#x27;: [1, 2, 3, 4],\n",
       "                         &#x27;min_samples_split&#x27;: [2, 4, 6, 8]})</pre></div></div></div><div class=\"sk-parallel\"><div class=\"sk-parallel-item\"><div class=\"sk-item\"><div class=\"sk-label-container\"><div class=\"sk-label sk-toggleable\"><input class=\"sk-toggleable__control sk-hidden--visually\" id=\"sk-estimator-id-5\" type=\"checkbox\" ><label for=\"sk-estimator-id-5\" class=\"sk-toggleable__label sk-toggleable__label-arrow\">estimator: DecisionTreeRegressor</label><div class=\"sk-toggleable__content\"><pre>DecisionTreeRegressor()</pre></div></div></div><div class=\"sk-serial\"><div class=\"sk-item\"><div class=\"sk-estimator sk-toggleable\"><input class=\"sk-toggleable__control sk-hidden--visually\" id=\"sk-estimator-id-6\" type=\"checkbox\" ><label for=\"sk-estimator-id-6\" class=\"sk-toggleable__label sk-toggleable__label-arrow\">DecisionTreeRegressor</label><div class=\"sk-toggleable__content\"><pre>DecisionTreeRegressor()</pre></div></div></div></div></div></div></div></div></div></div>"
      ],
      "text/plain": [
       "GridSearchCV(cv=5, estimator=DecisionTreeRegressor(),\n",
       "             param_grid={'max_depth': [5, 10, 15, 20],\n",
       "                         'max_features': ['auto', 'sqrt'],\n",
       "                         'min_samples_leaf': [1, 2, 3, 4],\n",
       "                         'min_samples_split': [2, 4, 6, 8]})"
      ]
     },
     "execution_count": 87,
     "metadata": {},
     "output_type": "execute_result"
    }
   ],
   "source": [
    "grid_search_dt.fit(X_train, Y_train)"
   ]
  },
  {
   "cell_type": "markdown",
   "id": "391cb957",
   "metadata": {},
   "source": [
    "### Chọn ra các siêu tham số tốt nhất\n"
   ]
  },
  {
   "cell_type": "markdown",
   "id": "6be50f22",
   "metadata": {},
   "source": [
    "#### Mô hình Random Forest Regression\n"
   ]
  },
  {
   "cell_type": "code",
   "execution_count": 88,
   "id": "3c793a67",
   "metadata": {},
   "outputs": [
    {
     "data": {
      "text/plain": [
       "{'bootstrap': False,\n",
       " 'max_depth': 20,\n",
       " 'max_features': 'sqrt',\n",
       " 'min_samples_leaf': 1,\n",
       " 'min_samples_split': 8,\n",
       " 'n_estimators': 20}"
      ]
     },
     "execution_count": 88,
     "metadata": {},
     "output_type": "execute_result"
    }
   ],
   "source": [
    "grid_search_rf.best_params_"
   ]
  },
  {
   "cell_type": "code",
   "execution_count": 89,
   "id": "f9fa3e86",
   "metadata": {},
   "outputs": [
    {
     "data": {
      "text/html": [
       "<style>#sk-container-id-3 {color: black;}#sk-container-id-3 pre{padding: 0;}#sk-container-id-3 div.sk-toggleable {background-color: white;}#sk-container-id-3 label.sk-toggleable__label {cursor: pointer;display: block;width: 100%;margin-bottom: 0;padding: 0.3em;box-sizing: border-box;text-align: center;}#sk-container-id-3 label.sk-toggleable__label-arrow:before {content: \"▸\";float: left;margin-right: 0.25em;color: #696969;}#sk-container-id-3 label.sk-toggleable__label-arrow:hover:before {color: black;}#sk-container-id-3 div.sk-estimator:hover label.sk-toggleable__label-arrow:before {color: black;}#sk-container-id-3 div.sk-toggleable__content {max-height: 0;max-width: 0;overflow: hidden;text-align: left;background-color: #f0f8ff;}#sk-container-id-3 div.sk-toggleable__content pre {margin: 0.2em;color: black;border-radius: 0.25em;background-color: #f0f8ff;}#sk-container-id-3 input.sk-toggleable__control:checked~div.sk-toggleable__content {max-height: 200px;max-width: 100%;overflow: auto;}#sk-container-id-3 input.sk-toggleable__control:checked~label.sk-toggleable__label-arrow:before {content: \"▾\";}#sk-container-id-3 div.sk-estimator input.sk-toggleable__control:checked~label.sk-toggleable__label {background-color: #d4ebff;}#sk-container-id-3 div.sk-label input.sk-toggleable__control:checked~label.sk-toggleable__label {background-color: #d4ebff;}#sk-container-id-3 input.sk-hidden--visually {border: 0;clip: rect(1px 1px 1px 1px);clip: rect(1px, 1px, 1px, 1px);height: 1px;margin: -1px;overflow: hidden;padding: 0;position: absolute;width: 1px;}#sk-container-id-3 div.sk-estimator {font-family: monospace;background-color: #f0f8ff;border: 1px dotted black;border-radius: 0.25em;box-sizing: border-box;margin-bottom: 0.5em;}#sk-container-id-3 div.sk-estimator:hover {background-color: #d4ebff;}#sk-container-id-3 div.sk-parallel-item::after {content: \"\";width: 100%;border-bottom: 1px solid gray;flex-grow: 1;}#sk-container-id-3 div.sk-label:hover label.sk-toggleable__label {background-color: #d4ebff;}#sk-container-id-3 div.sk-serial::before {content: \"\";position: absolute;border-left: 1px solid gray;box-sizing: border-box;top: 0;bottom: 0;left: 50%;z-index: 0;}#sk-container-id-3 div.sk-serial {display: flex;flex-direction: column;align-items: center;background-color: white;padding-right: 0.2em;padding-left: 0.2em;position: relative;}#sk-container-id-3 div.sk-item {position: relative;z-index: 1;}#sk-container-id-3 div.sk-parallel {display: flex;align-items: stretch;justify-content: center;background-color: white;position: relative;}#sk-container-id-3 div.sk-item::before, #sk-container-id-3 div.sk-parallel-item::before {content: \"\";position: absolute;border-left: 1px solid gray;box-sizing: border-box;top: 0;bottom: 0;left: 50%;z-index: -1;}#sk-container-id-3 div.sk-parallel-item {display: flex;flex-direction: column;z-index: 1;position: relative;background-color: white;}#sk-container-id-3 div.sk-parallel-item:first-child::after {align-self: flex-end;width: 50%;}#sk-container-id-3 div.sk-parallel-item:last-child::after {align-self: flex-start;width: 50%;}#sk-container-id-3 div.sk-parallel-item:only-child::after {width: 0;}#sk-container-id-3 div.sk-dashed-wrapped {border: 1px dashed gray;margin: 0 0.4em 0.5em 0.4em;box-sizing: border-box;padding-bottom: 0.4em;background-color: white;}#sk-container-id-3 div.sk-label label {font-family: monospace;font-weight: bold;display: inline-block;line-height: 1.2em;}#sk-container-id-3 div.sk-label-container {text-align: center;}#sk-container-id-3 div.sk-container {/* jupyter's `normalize.less` sets `[hidden] { display: none; }` but bootstrap.min.css set `[hidden] { display: none !important; }` so we also need the `!important` here to be able to override the default hidden behavior on the sphinx rendered scikit-learn.org. See: https://github.com/scikit-learn/scikit-learn/issues/21755 */display: inline-block !important;position: relative;}#sk-container-id-3 div.sk-text-repr-fallback {display: none;}</style><div id=\"sk-container-id-3\" class=\"sk-top-container\"><div class=\"sk-text-repr-fallback\"><pre>RandomForestRegressor(bootstrap=False, max_depth=20, max_features=&#x27;sqrt&#x27;,\n",
       "                      min_samples_split=8, n_estimators=20)</pre><b>In a Jupyter environment, please rerun this cell to show the HTML representation or trust the notebook. <br />On GitHub, the HTML representation is unable to render, please try loading this page with nbviewer.org.</b></div><div class=\"sk-container\" hidden><div class=\"sk-item\"><div class=\"sk-estimator sk-toggleable\"><input class=\"sk-toggleable__control sk-hidden--visually\" id=\"sk-estimator-id-7\" type=\"checkbox\" checked><label for=\"sk-estimator-id-7\" class=\"sk-toggleable__label sk-toggleable__label-arrow\">RandomForestRegressor</label><div class=\"sk-toggleable__content\"><pre>RandomForestRegressor(bootstrap=False, max_depth=20, max_features=&#x27;sqrt&#x27;,\n",
       "                      min_samples_split=8, n_estimators=20)</pre></div></div></div></div></div>"
      ],
      "text/plain": [
       "RandomForestRegressor(bootstrap=False, max_depth=20, max_features='sqrt',\n",
       "                      min_samples_split=8, n_estimators=20)"
      ]
     },
     "execution_count": 89,
     "metadata": {},
     "output_type": "execute_result"
    }
   ],
   "source": [
    "rf = RandomForestRegressor(n_estimators=grid_search_rf.best_params_['n_estimators'], bootstrap=grid_search_rf.best_params_['bootstrap'],\n",
    "                           max_depth=grid_search_rf.best_params_[\n",
    "                               'max_depth'], max_features=grid_search_rf.best_params_['max_features'],\n",
    "                           min_samples_leaf=grid_search_rf.best_params_['min_samples_leaf'], min_samples_split=grid_search_rf.best_params_['min_samples_split'])\n",
    "rf.fit(X_train, Y_train)"
   ]
  },
  {
   "cell_type": "code",
   "execution_count": 90,
   "id": "951b98c6",
   "metadata": {},
   "outputs": [],
   "source": [
    "rf_pre = rf.predict(X_test)"
   ]
  },
  {
   "cell_type": "markdown",
   "id": "659958cf",
   "metadata": {},
   "source": [
    "Giá trị `MSE`, `RMSE`, và `MAE`\n"
   ]
  },
  {
   "cell_type": "code",
   "execution_count": 91,
   "id": "be0082a4",
   "metadata": {},
   "outputs": [
    {
     "name": "stdout",
     "output_type": "stream",
     "text": [
      "0.1847422111294993 \t 0.4298164854091794 \t 0.3381618280207796\n"
     ]
    }
   ],
   "source": [
    "rf_mse = mean_squared_error(Y_test, rf_pre)\n",
    "rf_rmse = np.sqrt(rf_mse)\n",
    "rf_mae = mean_absolute_error(Y_test, rf_pre)\n",
    "print(rf_mse, '\\t', rf_rmse, '\\t', rf_mae)"
   ]
  },
  {
   "cell_type": "markdown",
   "id": "fd7214b1",
   "metadata": {},
   "source": [
    "##### Mô hình Decision Tree Regression\n"
   ]
  },
  {
   "cell_type": "code",
   "execution_count": 92,
   "id": "571a870d",
   "metadata": {},
   "outputs": [
    {
     "data": {
      "text/plain": [
       "{'max_depth': 10,\n",
       " 'max_features': 'sqrt',\n",
       " 'min_samples_leaf': 4,\n",
       " 'min_samples_split': 4}"
      ]
     },
     "execution_count": 92,
     "metadata": {},
     "output_type": "execute_result"
    }
   ],
   "source": [
    "grid_search_dt.best_params_"
   ]
  },
  {
   "cell_type": "code",
   "execution_count": 93,
   "id": "d7769497",
   "metadata": {},
   "outputs": [
    {
     "data": {
      "text/html": [
       "<style>#sk-container-id-4 {color: black;}#sk-container-id-4 pre{padding: 0;}#sk-container-id-4 div.sk-toggleable {background-color: white;}#sk-container-id-4 label.sk-toggleable__label {cursor: pointer;display: block;width: 100%;margin-bottom: 0;padding: 0.3em;box-sizing: border-box;text-align: center;}#sk-container-id-4 label.sk-toggleable__label-arrow:before {content: \"▸\";float: left;margin-right: 0.25em;color: #696969;}#sk-container-id-4 label.sk-toggleable__label-arrow:hover:before {color: black;}#sk-container-id-4 div.sk-estimator:hover label.sk-toggleable__label-arrow:before {color: black;}#sk-container-id-4 div.sk-toggleable__content {max-height: 0;max-width: 0;overflow: hidden;text-align: left;background-color: #f0f8ff;}#sk-container-id-4 div.sk-toggleable__content pre {margin: 0.2em;color: black;border-radius: 0.25em;background-color: #f0f8ff;}#sk-container-id-4 input.sk-toggleable__control:checked~div.sk-toggleable__content {max-height: 200px;max-width: 100%;overflow: auto;}#sk-container-id-4 input.sk-toggleable__control:checked~label.sk-toggleable__label-arrow:before {content: \"▾\";}#sk-container-id-4 div.sk-estimator input.sk-toggleable__control:checked~label.sk-toggleable__label {background-color: #d4ebff;}#sk-container-id-4 div.sk-label input.sk-toggleable__control:checked~label.sk-toggleable__label {background-color: #d4ebff;}#sk-container-id-4 input.sk-hidden--visually {border: 0;clip: rect(1px 1px 1px 1px);clip: rect(1px, 1px, 1px, 1px);height: 1px;margin: -1px;overflow: hidden;padding: 0;position: absolute;width: 1px;}#sk-container-id-4 div.sk-estimator {font-family: monospace;background-color: #f0f8ff;border: 1px dotted black;border-radius: 0.25em;box-sizing: border-box;margin-bottom: 0.5em;}#sk-container-id-4 div.sk-estimator:hover {background-color: #d4ebff;}#sk-container-id-4 div.sk-parallel-item::after {content: \"\";width: 100%;border-bottom: 1px solid gray;flex-grow: 1;}#sk-container-id-4 div.sk-label:hover label.sk-toggleable__label {background-color: #d4ebff;}#sk-container-id-4 div.sk-serial::before {content: \"\";position: absolute;border-left: 1px solid gray;box-sizing: border-box;top: 0;bottom: 0;left: 50%;z-index: 0;}#sk-container-id-4 div.sk-serial {display: flex;flex-direction: column;align-items: center;background-color: white;padding-right: 0.2em;padding-left: 0.2em;position: relative;}#sk-container-id-4 div.sk-item {position: relative;z-index: 1;}#sk-container-id-4 div.sk-parallel {display: flex;align-items: stretch;justify-content: center;background-color: white;position: relative;}#sk-container-id-4 div.sk-item::before, #sk-container-id-4 div.sk-parallel-item::before {content: \"\";position: absolute;border-left: 1px solid gray;box-sizing: border-box;top: 0;bottom: 0;left: 50%;z-index: -1;}#sk-container-id-4 div.sk-parallel-item {display: flex;flex-direction: column;z-index: 1;position: relative;background-color: white;}#sk-container-id-4 div.sk-parallel-item:first-child::after {align-self: flex-end;width: 50%;}#sk-container-id-4 div.sk-parallel-item:last-child::after {align-self: flex-start;width: 50%;}#sk-container-id-4 div.sk-parallel-item:only-child::after {width: 0;}#sk-container-id-4 div.sk-dashed-wrapped {border: 1px dashed gray;margin: 0 0.4em 0.5em 0.4em;box-sizing: border-box;padding-bottom: 0.4em;background-color: white;}#sk-container-id-4 div.sk-label label {font-family: monospace;font-weight: bold;display: inline-block;line-height: 1.2em;}#sk-container-id-4 div.sk-label-container {text-align: center;}#sk-container-id-4 div.sk-container {/* jupyter's `normalize.less` sets `[hidden] { display: none; }` but bootstrap.min.css set `[hidden] { display: none !important; }` so we also need the `!important` here to be able to override the default hidden behavior on the sphinx rendered scikit-learn.org. See: https://github.com/scikit-learn/scikit-learn/issues/21755 */display: inline-block !important;position: relative;}#sk-container-id-4 div.sk-text-repr-fallback {display: none;}</style><div id=\"sk-container-id-4\" class=\"sk-top-container\"><div class=\"sk-text-repr-fallback\"><pre>DecisionTreeRegressor(max_depth=10, max_features=&#x27;sqrt&#x27;, min_samples_leaf=4,\n",
       "                      min_samples_split=4)</pre><b>In a Jupyter environment, please rerun this cell to show the HTML representation or trust the notebook. <br />On GitHub, the HTML representation is unable to render, please try loading this page with nbviewer.org.</b></div><div class=\"sk-container\" hidden><div class=\"sk-item\"><div class=\"sk-estimator sk-toggleable\"><input class=\"sk-toggleable__control sk-hidden--visually\" id=\"sk-estimator-id-8\" type=\"checkbox\" checked><label for=\"sk-estimator-id-8\" class=\"sk-toggleable__label sk-toggleable__label-arrow\">DecisionTreeRegressor</label><div class=\"sk-toggleable__content\"><pre>DecisionTreeRegressor(max_depth=10, max_features=&#x27;sqrt&#x27;, min_samples_leaf=4,\n",
       "                      min_samples_split=4)</pre></div></div></div></div></div>"
      ],
      "text/plain": [
       "DecisionTreeRegressor(max_depth=10, max_features='sqrt', min_samples_leaf=4,\n",
       "                      min_samples_split=4)"
      ]
     },
     "execution_count": 93,
     "metadata": {},
     "output_type": "execute_result"
    }
   ],
   "source": [
    "dt = DecisionTreeRegressor(max_depth=grid_search_dt.best_params_['max_depth'],\n",
    "                           max_features=grid_search_dt.best_params_[\n",
    "                               'max_features'],\n",
    "                           min_samples_leaf=grid_search_dt.best_params_[\n",
    "                               'min_samples_leaf'],\n",
    "                           min_samples_split=grid_search_dt.best_params_['min_samples_split'])\n",
    "dt.fit(X_train, Y_train)"
   ]
  },
  {
   "cell_type": "code",
   "execution_count": 94,
   "id": "35ca2d09",
   "metadata": {},
   "outputs": [],
   "source": [
    "dt_pre = dt.predict(X_test)"
   ]
  },
  {
   "cell_type": "markdown",
   "id": "b337bb78",
   "metadata": {},
   "source": [
    "Giá trị `MSE`,`RMSE` và `MAE`\n"
   ]
  },
  {
   "cell_type": "code",
   "execution_count": 95,
   "id": "00a6e2fc",
   "metadata": {},
   "outputs": [
    {
     "name": "stdout",
     "output_type": "stream",
     "text": [
      "0.27322055625761554 \t 0.5227050375284473 \t 0.4022604056687146\n"
     ]
    }
   ],
   "source": [
    "dt_mse = mean_squared_error(Y_test, dt_pre)\n",
    "dt_rmse = np.sqrt(dt_mse)\n",
    "dt_mae = mean_absolute_error(Y_test, dt_pre)\n",
    "print(dt_mse, '\\t', dt_rmse, '\\t', dt_mae)"
   ]
  },
  {
   "cell_type": "markdown",
   "id": "5765dab1",
   "metadata": {},
   "source": [
    "### So sánh độ lỗi giữa các mô hình sau khi đã tinh chỉnh\n"
   ]
  },
  {
   "cell_type": "code",
   "execution_count": 96,
   "id": "2d4a22b3",
   "metadata": {},
   "outputs": [
    {
     "data": {
      "text/html": [
       "<style type=\"text/css\">\n",
       "#T_edb63_row0_col0, #T_edb63_row0_col1, #T_edb63_row0_col2, #T_edb63_row0_col3, #T_edb63_row0_col4, #T_edb63_row0_col5, #T_edb63_row0_col6, #T_edb63_row0_col7, #T_edb63_row0_col8, #T_edb63_row1_col0, #T_edb63_row1_col1, #T_edb63_row1_col2, #T_edb63_row1_col3, #T_edb63_row1_col4, #T_edb63_row1_col5, #T_edb63_row1_col6, #T_edb63_row1_col7, #T_edb63_row1_col8 {\n",
       "  text-align: center;\n",
       "}\n",
       "</style>\n",
       "<table id=\"T_edb63\">\n",
       "  <thead>\n",
       "    <tr>\n",
       "      <th class=\"blank level0\" >&nbsp;</th>\n",
       "      <th id=\"T_edb63_level0_col0\" class=\"col_heading level0 col0\" colspan=\"3\">Linear Regression</th>\n",
       "      <th id=\"T_edb63_level0_col3\" class=\"col_heading level0 col3\" colspan=\"3\">Decision Tree Regression</th>\n",
       "      <th id=\"T_edb63_level0_col6\" class=\"col_heading level0 col6\" colspan=\"3\">Random Forest Regression</th>\n",
       "    </tr>\n",
       "    <tr>\n",
       "      <th class=\"index_name level1\" > </th>\n",
       "      <th id=\"T_edb63_level1_col0\" class=\"col_heading level1 col0\" >MAE</th>\n",
       "      <th id=\"T_edb63_level1_col1\" class=\"col_heading level1 col1\" >MSE</th>\n",
       "      <th id=\"T_edb63_level1_col2\" class=\"col_heading level1 col2\" >RMSE</th>\n",
       "      <th id=\"T_edb63_level1_col3\" class=\"col_heading level1 col3\" >MAE</th>\n",
       "      <th id=\"T_edb63_level1_col4\" class=\"col_heading level1 col4\" >MSE</th>\n",
       "      <th id=\"T_edb63_level1_col5\" class=\"col_heading level1 col5\" >RMSE</th>\n",
       "      <th id=\"T_edb63_level1_col6\" class=\"col_heading level1 col6\" >MAE</th>\n",
       "      <th id=\"T_edb63_level1_col7\" class=\"col_heading level1 col7\" >MSE</th>\n",
       "      <th id=\"T_edb63_level1_col8\" class=\"col_heading level1 col8\" >RMSE</th>\n",
       "    </tr>\n",
       "    <tr>\n",
       "      <th class=\"index_name level0\" >Tuning</th>\n",
       "      <th class=\"blank col0\" >&nbsp;</th>\n",
       "      <th class=\"blank col1\" >&nbsp;</th>\n",
       "      <th class=\"blank col2\" >&nbsp;</th>\n",
       "      <th class=\"blank col3\" >&nbsp;</th>\n",
       "      <th class=\"blank col4\" >&nbsp;</th>\n",
       "      <th class=\"blank col5\" >&nbsp;</th>\n",
       "      <th class=\"blank col6\" >&nbsp;</th>\n",
       "      <th class=\"blank col7\" >&nbsp;</th>\n",
       "      <th class=\"blank col8\" >&nbsp;</th>\n",
       "    </tr>\n",
       "  </thead>\n",
       "  <tbody>\n",
       "    <tr>\n",
       "      <th id=\"T_edb63_level0_row0\" class=\"row_heading level0 row0\" >Before</th>\n",
       "      <td id=\"T_edb63_row0_col0\" class=\"data row0 col0\" >0.389306</td>\n",
       "      <td id=\"T_edb63_row0_col1\" class=\"data row0 col1\" >0.256071</td>\n",
       "      <td id=\"T_edb63_row0_col2\" class=\"data row0 col2\" >0.506034</td>\n",
       "      <td id=\"T_edb63_row0_col3\" class=\"data row0 col3\" >0.461719</td>\n",
       "      <td id=\"T_edb63_row0_col4\" class=\"data row0 col4\" >0.366688</td>\n",
       "      <td id=\"T_edb63_row0_col5\" class=\"data row0 col5\" >0.605548</td>\n",
       "      <td id=\"T_edb63_row0_col6\" class=\"data row0 col6\" >0.375956</td>\n",
       "      <td id=\"T_edb63_row0_col7\" class=\"data row0 col7\" >0.222925</td>\n",
       "      <td id=\"T_edb63_row0_col8\" class=\"data row0 col8\" >0.472149</td>\n",
       "    </tr>\n",
       "    <tr>\n",
       "      <th id=\"T_edb63_level0_row1\" class=\"row_heading level0 row1\" >After</th>\n",
       "      <td id=\"T_edb63_row1_col0\" class=\"data row1 col0\" >0.389306</td>\n",
       "      <td id=\"T_edb63_row1_col1\" class=\"data row1 col1\" >0.256071</td>\n",
       "      <td id=\"T_edb63_row1_col2\" class=\"data row1 col2\" >0.506034</td>\n",
       "      <td id=\"T_edb63_row1_col3\" class=\"data row1 col3\" >0.402260</td>\n",
       "      <td id=\"T_edb63_row1_col4\" class=\"data row1 col4\" >0.273221</td>\n",
       "      <td id=\"T_edb63_row1_col5\" class=\"data row1 col5\" >0.522705</td>\n",
       "      <td id=\"T_edb63_row1_col6\" class=\"data row1 col6\" >0.338162</td>\n",
       "      <td id=\"T_edb63_row1_col7\" class=\"data row1 col7\" >0.184742</td>\n",
       "      <td id=\"T_edb63_row1_col8\" class=\"data row1 col8\" >0.429816</td>\n",
       "    </tr>\n",
       "  </tbody>\n",
       "</table>\n"
      ],
      "text/plain": [
       "<pandas.io.formats.style.Styler at 0x1aaed757790>"
      ]
     },
     "execution_count": 96,
     "metadata": {},
     "output_type": "execute_result"
    }
   ],
   "source": [
    "\n",
    "data = {\n",
    "    'Linear Regression': [ln_rmse, ln_mse, ln_mae],\n",
    "    'Decision Tree Regression': [dt_rmse, dt_mse, dt_mae],\n",
    "    'Random Forest Regression': [rf_rmse, rf_mse, rf_mae]\n",
    "}\n",
    "\n",
    "\n",
    "metrics = ['RMSE', 'MSE', 'MAE']\n",
    "ea_df = pd.DataFrame(data, index=metrics)\n",
    "ea_df\n",
    "\n",
    "e_df['Tuning'] = 'Before'\n",
    "ea_df['Tuning'] = 'After'\n",
    "combined_df = pd.concat([e_df, ea_df], axis=0)\n",
    "\n",
    "combined_df.reset_index(inplace=True)\n",
    "combined_df.rename(columns={'index': ' '}, inplace=True)\n",
    "combined_df['Metric'] = pd.Categorical(\n",
    "    combined_df[' '], ['MSE', 'RMSE', 'MAE'])\n",
    "\n",
    "combined_df['Tuning'] = pd.Categorical(combined_df['Tuning'], categories=[\n",
    "                                       'Before', 'After'], ordered=True)\n",
    "combined_df.sort_values(['Tuning', 'Metric'], inplace=True)\n",
    "final_df = combined_df.pivot(index='Tuning', columns=' ', values=[\n",
    "                             'Linear Regression', 'Decision Tree Regression', 'Random Forest Regression'])\n",
    "\n",
    "\n",
    "final_df = final_df.style.set_properties(**{'text-align': 'center'})\n",
    "\n",
    "final_df"
   ]
  },
  {
   "cell_type": "markdown",
   "id": "b95991ef",
   "metadata": {},
   "source": [
    "### Nhận xét"
   ]
  },
  {
   "cell_type": "markdown",
   "id": "f7341614",
   "metadata": {},
   "source": [
    "1. Đối với tất cả ba mô hình, các chỉ số lỗi đã giảm sau khi tinh chỉnh, cho thấy hiệu suất của các mô hình đã được cải thiện.\n",
    "2. Mô hình Random Forest Regression có các chỉ số lỗi thấp nhất cả trước và sau khi tinh chỉnh, cho thấy nó hoạt động tốt nhất trong số ba mô hình.\n",
    "3. Mô hình Decision Tree cho thấy sự cải thiện đáng kể sau khi tinh chỉnh, đặc biệt là về các chỉ số MSE và RMSE.\n"
   ]
  },
  {
   "cell_type": "markdown",
   "id": "82b28623",
   "metadata": {},
   "source": [
    "### KẾT LUẬN\n"
   ]
  },
  {
   "cell_type": "markdown",
   "id": "7d0e408c",
   "metadata": {},
   "source": [
    "`Random Forest Regression` là mô hình có `MSE`,`RMSE` và `MAE` nhỏ nhất nên được xem là mô hình dự đoán tốt nhất trong cả 3 mô hình.\n"
   ]
  },
  {
   "cell_type": "markdown",
   "id": "0863dfa8",
   "metadata": {},
   "source": [
    "<h1 style='color:blue;text-align:center;font-size:30px'><b>Mô hình Phân lớp</b></h1>"
   ]
  },
  {
   "cell_type": "markdown",
   "id": "aaf9e604",
   "metadata": {},
   "source": [
    "# Import thư viện"
   ]
  },
  {
   "cell_type": "code",
   "execution_count": 97,
   "id": "1c3a5942",
   "metadata": {},
   "outputs": [],
   "source": [
    "%matplotlib inline\n",
    "import matplotlib.pyplot as plt\n",
    "import seaborn as sns\n",
    "sns.set_theme()\n",
    "import os\n",
    "import re\n",
    "import statistics\n",
    "import seaborn as sns\n",
    "sns.set(rc={'axes.facecolor':'lightblue', 'figure.facecolor':'lightgray'})\n",
    "import pandas as pd\n",
    "import numpy as np\n",
    "from sklearn.preprocessing import LabelEncoder, StandardScaler, OneHotEncoder\n",
    "# Modelling\n",
    "from sklearn.ensemble import RandomForestClassifier\n",
    "from sklearn.metrics import accuracy_score, confusion_matrix, precision_score, recall_score, ConfusionMatrixDisplay\n",
    "from sklearn.model_selection import RandomizedSearchCV, train_test_split\n",
    "from scipy.stats import randint\n",
    "from sklearn.impute import SimpleImputer\n",
    "from sklearn.compose import ColumnTransformer\n",
    "from sklearn.metrics import classification_report\n",
    "from sklearn.neighbors import KNeighborsClassifier\n",
    "from sklearn.model_selection import cross_val_score"
   ]
  },
  {
   "cell_type": "code",
   "execution_count": 98,
   "id": "ed849e04",
   "metadata": {},
   "outputs": [
    {
     "data": {
      "text/plain": [
       "'c:\\\\Users\\\\dhuu2\\\\AppData\\\\Local\\\\Programs\\\\Python\\\\Python311\\\\python.exe'"
      ]
     },
     "execution_count": 98,
     "metadata": {},
     "output_type": "execute_result"
    }
   ],
   "source": [
    "import sys\n",
    "sys.executable"
   ]
  },
  {
   "cell_type": "markdown",
   "id": "2ce61c27",
   "metadata": {},
   "source": [
    "## Đọc file 'processed_data' vào dataframe df"
   ]
  },
  {
   "cell_type": "code",
   "execution_count": 99,
   "id": "d2bb2f8c",
   "metadata": {},
   "outputs": [
    {
     "data": {
      "text/html": [
       "<div>\n",
       "<style scoped>\n",
       "    .dataframe tbody tr th:only-of-type {\n",
       "        vertical-align: middle;\n",
       "    }\n",
       "\n",
       "    .dataframe tbody tr th {\n",
       "        vertical-align: top;\n",
       "    }\n",
       "\n",
       "    .dataframe thead th {\n",
       "        text-align: right;\n",
       "    }\n",
       "</style>\n",
       "<table border=\"1\" class=\"dataframe\">\n",
       "  <thead>\n",
       "    <tr style=\"text-align: right;\">\n",
       "      <th></th>\n",
       "      <th>title</th>\n",
       "      <th>domestic_revenue</th>\n",
       "      <th>world_revenue</th>\n",
       "      <th>distributor</th>\n",
       "      <th>opening_revenue</th>\n",
       "      <th>MPAA</th>\n",
       "      <th>genres</th>\n",
       "      <th>running_time</th>\n",
       "      <th>in_release</th>\n",
       "      <th>release_date</th>\n",
       "    </tr>\n",
       "  </thead>\n",
       "  <tbody>\n",
       "    <tr>\n",
       "      <th>0</th>\n",
       "      <td>Batman Returns</td>\n",
       "      <td>162831698</td>\n",
       "      <td>266831698</td>\n",
       "      <td>Warner Bros.</td>\n",
       "      <td>45687711.0</td>\n",
       "      <td>PG-13</td>\n",
       "      <td>Action,Crime,Fantasy</td>\n",
       "      <td>126.0</td>\n",
       "      <td>196.0</td>\n",
       "      <td>1992-06-19</td>\n",
       "    </tr>\n",
       "    <tr>\n",
       "      <th>1</th>\n",
       "      <td>Evolution</td>\n",
       "      <td>38345494</td>\n",
       "      <td>98376292</td>\n",
       "      <td>DreamWorks Distribution</td>\n",
       "      <td>13408351.0</td>\n",
       "      <td>PG-13</td>\n",
       "      <td>Comedy,Sci-Fi</td>\n",
       "      <td>101.0</td>\n",
       "      <td>207.0</td>\n",
       "      <td>2001-06-08</td>\n",
       "    </tr>\n",
       "    <tr>\n",
       "      <th>2</th>\n",
       "      <td>Jumanji</td>\n",
       "      <td>100475249</td>\n",
       "      <td>100475249</td>\n",
       "      <td>Sony Pictures Entertainment (SPE)</td>\n",
       "      <td>11084370.0</td>\n",
       "      <td>PG</td>\n",
       "      <td>Adventure,Comedy,Family,Fantasy</td>\n",
       "      <td>104.0</td>\n",
       "      <td>383.0</td>\n",
       "      <td>1995-12-15</td>\n",
       "    </tr>\n",
       "    <tr>\n",
       "      <th>3</th>\n",
       "      <td>The American President</td>\n",
       "      <td>60079496</td>\n",
       "      <td>60079496</td>\n",
       "      <td>Sony Pictures Entertainment (SPE)</td>\n",
       "      <td>10014558.0</td>\n",
       "      <td>PG-13</td>\n",
       "      <td>Comedy,Drama,Romance</td>\n",
       "      <td>114.0</td>\n",
       "      <td>411.0</td>\n",
       "      <td>1995-11-17</td>\n",
       "    </tr>\n",
       "    <tr>\n",
       "      <th>4</th>\n",
       "      <td>Mulholland Drive</td>\n",
       "      <td>7220243</td>\n",
       "      <td>20117339</td>\n",
       "      <td>Universal Pictures</td>\n",
       "      <td>587591.0</td>\n",
       "      <td>R</td>\n",
       "      <td>Drama,Mystery,Thriller</td>\n",
       "      <td>147.0</td>\n",
       "      <td>450.0</td>\n",
       "      <td>2001-10-08</td>\n",
       "    </tr>\n",
       "    <tr>\n",
       "      <th>5</th>\n",
       "      <td>Tombstone</td>\n",
       "      <td>56505065</td>\n",
       "      <td>56505065</td>\n",
       "      <td>Walt Disney Studios Motion Pictures</td>\n",
       "      <td>6454752.0</td>\n",
       "      <td>R</td>\n",
       "      <td>Biography,Drama,History,Western</td>\n",
       "      <td>130.0</td>\n",
       "      <td>373.0</td>\n",
       "      <td>1993-12-24</td>\n",
       "    </tr>\n",
       "    <tr>\n",
       "      <th>6</th>\n",
       "      <td>Heart and Souls</td>\n",
       "      <td>16589540</td>\n",
       "      <td>16589540</td>\n",
       "      <td>Universal Pictures</td>\n",
       "      <td>4322250.0</td>\n",
       "      <td>PG-13</td>\n",
       "      <td>Comedy,Drama,Fantasy,Romance</td>\n",
       "      <td>104.0</td>\n",
       "      <td>141.0</td>\n",
       "      <td>1993-08-13</td>\n",
       "    </tr>\n",
       "    <tr>\n",
       "      <th>7</th>\n",
       "      <td>The Phantom of the Opera</td>\n",
       "      <td>51268815</td>\n",
       "      <td>154648887</td>\n",
       "      <td>Warner Bros.</td>\n",
       "      <td>4001890.0</td>\n",
       "      <td>PG-13</td>\n",
       "      <td>Drama,Musical,Romance,Thriller</td>\n",
       "      <td>143.0</td>\n",
       "      <td>375.0</td>\n",
       "      <td>2004-12-22</td>\n",
       "    </tr>\n",
       "    <tr>\n",
       "      <th>8</th>\n",
       "      <td>The Brady Bunch Movie</td>\n",
       "      <td>46576136</td>\n",
       "      <td>46576136</td>\n",
       "      <td>Paramount Pictures</td>\n",
       "      <td>14827066.0</td>\n",
       "      <td>PG-13</td>\n",
       "      <td>Comedy</td>\n",
       "      <td>90.0</td>\n",
       "      <td>318.0</td>\n",
       "      <td>1995-02-17</td>\n",
       "    </tr>\n",
       "    <tr>\n",
       "      <th>9</th>\n",
       "      <td>Teenage Mutant Ninja Turtles III</td>\n",
       "      <td>42273609</td>\n",
       "      <td>42273609</td>\n",
       "      <td>New Line Cinema</td>\n",
       "      <td>12419597.0</td>\n",
       "      <td>PG</td>\n",
       "      <td>Action,Adventure,Comedy,Family,Fantasy,Sci-Fi</td>\n",
       "      <td>96.0</td>\n",
       "      <td>288.0</td>\n",
       "      <td>1993-03-19</td>\n",
       "    </tr>\n",
       "  </tbody>\n",
       "</table>\n",
       "</div>"
      ],
      "text/plain": [
       "                              title  domestic_revenue  world_revenue  \\\n",
       "0                    Batman Returns         162831698      266831698   \n",
       "1                         Evolution          38345494       98376292   \n",
       "2                           Jumanji         100475249      100475249   \n",
       "3            The American President          60079496       60079496   \n",
       "4                  Mulholland Drive           7220243       20117339   \n",
       "5                         Tombstone          56505065       56505065   \n",
       "6                   Heart and Souls          16589540       16589540   \n",
       "7          The Phantom of the Opera          51268815      154648887   \n",
       "8             The Brady Bunch Movie          46576136       46576136   \n",
       "9  Teenage Mutant Ninja Turtles III          42273609       42273609   \n",
       "\n",
       "                           distributor  opening_revenue   MPAA  \\\n",
       "0                         Warner Bros.       45687711.0  PG-13   \n",
       "1              DreamWorks Distribution       13408351.0  PG-13   \n",
       "2    Sony Pictures Entertainment (SPE)       11084370.0     PG   \n",
       "3    Sony Pictures Entertainment (SPE)       10014558.0  PG-13   \n",
       "4                   Universal Pictures         587591.0      R   \n",
       "5  Walt Disney Studios Motion Pictures        6454752.0      R   \n",
       "6                   Universal Pictures        4322250.0  PG-13   \n",
       "7                         Warner Bros.        4001890.0  PG-13   \n",
       "8                   Paramount Pictures       14827066.0  PG-13   \n",
       "9                      New Line Cinema       12419597.0     PG   \n",
       "\n",
       "                                          genres  running_time  in_release  \\\n",
       "0                           Action,Crime,Fantasy         126.0       196.0   \n",
       "1                                  Comedy,Sci-Fi         101.0       207.0   \n",
       "2                Adventure,Comedy,Family,Fantasy         104.0       383.0   \n",
       "3                           Comedy,Drama,Romance         114.0       411.0   \n",
       "4                         Drama,Mystery,Thriller         147.0       450.0   \n",
       "5                Biography,Drama,History,Western         130.0       373.0   \n",
       "6                   Comedy,Drama,Fantasy,Romance         104.0       141.0   \n",
       "7                 Drama,Musical,Romance,Thriller         143.0       375.0   \n",
       "8                                         Comedy          90.0       318.0   \n",
       "9  Action,Adventure,Comedy,Family,Fantasy,Sci-Fi          96.0       288.0   \n",
       "\n",
       "  release_date  \n",
       "0   1992-06-19  \n",
       "1   2001-06-08  \n",
       "2   1995-12-15  \n",
       "3   1995-11-17  \n",
       "4   2001-10-08  \n",
       "5   1993-12-24  \n",
       "6   1993-08-13  \n",
       "7   2004-12-22  \n",
       "8   1995-02-17  \n",
       "9   1993-03-19  "
      ]
     },
     "execution_count": 99,
     "metadata": {},
     "output_type": "execute_result"
    }
   ],
   "source": [
    "movies_df = pd.read_csv('./data/processed/processed_data.csv')\n",
    "movies_df.head(10)"
   ]
  },
  {
   "cell_type": "markdown",
   "id": "9aadd395-ec53-4cc7-9f67-235b4abec064",
   "metadata": {},
   "source": [
    "### Bài toán đặt ra\n",
    "- Một bộ phim có các thuộc tính của phim như thể loại, sự giới hạn độ tuổi, thời lượng phim hay là các nhà sản xuất phim,...Liệu chúng ta có thể đánh giá tổng doanh thu của bộ phim đó thông qua những thuộc tính trên không?\n",
    "### Hướng giải quyết\n",
    "- Chọn các thuộc tính phù hợp để tiến hành đánh giá mô hình.\n",
    "- Tiền xử lí và chọn `world_revenue` làm biến mục tiêu.\n",
    "- Lựa chọn các thuật toán cho mô hình.\n",
    "- Tinh chỉnh mô hình và đánh giá mô hình của từng thuật toán.\n",
    "- Chọn thuật toán tốt nhất để triển khai mô hình.\n",
    "### Thuật toán sử dụng:\n",
    "- Random Forest Classifier(RF)\n",
    "- K-Nearest Neighbor(KNN)"
   ]
  },
  {
   "cell_type": "code",
   "execution_count": 100,
   "id": "8439d271-1ea5-4608-a060-05193308f2d6",
   "metadata": {},
   "outputs": [
    {
     "data": {
      "text/html": [
       "<div>\n",
       "<style scoped>\n",
       "    .dataframe tbody tr th:only-of-type {\n",
       "        vertical-align: middle;\n",
       "    }\n",
       "\n",
       "    .dataframe tbody tr th {\n",
       "        vertical-align: top;\n",
       "    }\n",
       "\n",
       "    .dataframe thead th {\n",
       "        text-align: right;\n",
       "    }\n",
       "</style>\n",
       "<table border=\"1\" class=\"dataframe\">\n",
       "  <thead>\n",
       "    <tr style=\"text-align: right;\">\n",
       "      <th></th>\n",
       "      <th>title</th>\n",
       "      <th>domestic_revenue</th>\n",
       "      <th>world_revenue</th>\n",
       "      <th>distributor</th>\n",
       "      <th>opening_revenue</th>\n",
       "      <th>MPAA</th>\n",
       "      <th>genres</th>\n",
       "      <th>running_time</th>\n",
       "      <th>in_release</th>\n",
       "      <th>release_date</th>\n",
       "    </tr>\n",
       "  </thead>\n",
       "  <tbody>\n",
       "    <tr>\n",
       "      <th>title</th>\n",
       "      <td>1.0</td>\n",
       "      <td>1.0</td>\n",
       "      <td>1.0</td>\n",
       "      <td>0.991538</td>\n",
       "      <td>0.999144</td>\n",
       "      <td>0.989278</td>\n",
       "      <td>0.995482</td>\n",
       "      <td>0.993828</td>\n",
       "      <td>0.98883</td>\n",
       "      <td>0.990519</td>\n",
       "    </tr>\n",
       "    <tr>\n",
       "      <th>domestic_revenue</th>\n",
       "      <td>1.0</td>\n",
       "      <td>1.0</td>\n",
       "      <td>1.0</td>\n",
       "      <td>1.0</td>\n",
       "      <td>1.0</td>\n",
       "      <td>1.0</td>\n",
       "      <td>1.0</td>\n",
       "      <td>1.0</td>\n",
       "      <td>1.0</td>\n",
       "      <td>1.0</td>\n",
       "    </tr>\n",
       "    <tr>\n",
       "      <th>world_revenue</th>\n",
       "      <td>1.0</td>\n",
       "      <td>1.0</td>\n",
       "      <td>1.0</td>\n",
       "      <td>1.0</td>\n",
       "      <td>1.0</td>\n",
       "      <td>1.0</td>\n",
       "      <td>1.0</td>\n",
       "      <td>1.0</td>\n",
       "      <td>1.0</td>\n",
       "      <td>1.0</td>\n",
       "    </tr>\n",
       "    <tr>\n",
       "      <th>distributor</th>\n",
       "      <td>0.991538</td>\n",
       "      <td>1.0</td>\n",
       "      <td>1.0</td>\n",
       "      <td>1.0</td>\n",
       "      <td>0.999731</td>\n",
       "      <td>0.456466</td>\n",
       "      <td>0.479133</td>\n",
       "      <td>0.202594</td>\n",
       "      <td>0.338967</td>\n",
       "      <td>0.615526</td>\n",
       "    </tr>\n",
       "    <tr>\n",
       "      <th>opening_revenue</th>\n",
       "      <td>0.999144</td>\n",
       "      <td>1.0</td>\n",
       "      <td>1.0</td>\n",
       "      <td>0.999731</td>\n",
       "      <td>1.0</td>\n",
       "      <td>0.999672</td>\n",
       "      <td>0.999478</td>\n",
       "      <td>0.998617</td>\n",
       "      <td>0.999528</td>\n",
       "      <td>0.99919</td>\n",
       "    </tr>\n",
       "    <tr>\n",
       "      <th>MPAA</th>\n",
       "      <td>0.989278</td>\n",
       "      <td>1.0</td>\n",
       "      <td>1.0</td>\n",
       "      <td>0.456466</td>\n",
       "      <td>0.999672</td>\n",
       "      <td>1.0</td>\n",
       "      <td>0.700623</td>\n",
       "      <td>0.299357</td>\n",
       "      <td>0.320513</td>\n",
       "      <td>0.638232</td>\n",
       "    </tr>\n",
       "    <tr>\n",
       "      <th>genres</th>\n",
       "      <td>0.995482</td>\n",
       "      <td>1.0</td>\n",
       "      <td>1.0</td>\n",
       "      <td>0.479133</td>\n",
       "      <td>0.999478</td>\n",
       "      <td>0.700623</td>\n",
       "      <td>1.0</td>\n",
       "      <td>0.476132</td>\n",
       "      <td>0.43354</td>\n",
       "      <td>0.621265</td>\n",
       "    </tr>\n",
       "    <tr>\n",
       "      <th>running_time</th>\n",
       "      <td>0.993828</td>\n",
       "      <td>1.0</td>\n",
       "      <td>1.0</td>\n",
       "      <td>0.202594</td>\n",
       "      <td>0.998617</td>\n",
       "      <td>0.299357</td>\n",
       "      <td>0.476132</td>\n",
       "      <td>1.0</td>\n",
       "      <td>0.365101</td>\n",
       "      <td>0.669692</td>\n",
       "    </tr>\n",
       "    <tr>\n",
       "      <th>in_release</th>\n",
       "      <td>0.98883</td>\n",
       "      <td>1.0</td>\n",
       "      <td>1.0</td>\n",
       "      <td>0.338967</td>\n",
       "      <td>0.999528</td>\n",
       "      <td>0.320513</td>\n",
       "      <td>0.43354</td>\n",
       "      <td>0.365101</td>\n",
       "      <td>1.0</td>\n",
       "      <td>0.895791</td>\n",
       "    </tr>\n",
       "    <tr>\n",
       "      <th>release_date</th>\n",
       "      <td>0.990519</td>\n",
       "      <td>1.0</td>\n",
       "      <td>1.0</td>\n",
       "      <td>0.615526</td>\n",
       "      <td>0.99919</td>\n",
       "      <td>0.638232</td>\n",
       "      <td>0.621265</td>\n",
       "      <td>0.669692</td>\n",
       "      <td>0.895791</td>\n",
       "      <td>1.0</td>\n",
       "    </tr>\n",
       "  </tbody>\n",
       "</table>\n",
       "</div>"
      ],
      "text/plain": [
       "                     title domestic_revenue world_revenue distributor  \\\n",
       "title                  1.0              1.0           1.0    0.991538   \n",
       "domestic_revenue       1.0              1.0           1.0         1.0   \n",
       "world_revenue          1.0              1.0           1.0         1.0   \n",
       "distributor       0.991538              1.0           1.0         1.0   \n",
       "opening_revenue   0.999144              1.0           1.0    0.999731   \n",
       "MPAA              0.989278              1.0           1.0    0.456466   \n",
       "genres            0.995482              1.0           1.0    0.479133   \n",
       "running_time      0.993828              1.0           1.0    0.202594   \n",
       "in_release         0.98883              1.0           1.0    0.338967   \n",
       "release_date      0.990519              1.0           1.0    0.615526   \n",
       "\n",
       "                 opening_revenue      MPAA    genres running_time in_release  \\\n",
       "title                   0.999144  0.989278  0.995482     0.993828    0.98883   \n",
       "domestic_revenue             1.0       1.0       1.0          1.0        1.0   \n",
       "world_revenue                1.0       1.0       1.0          1.0        1.0   \n",
       "distributor             0.999731  0.456466  0.479133     0.202594   0.338967   \n",
       "opening_revenue              1.0  0.999672  0.999478     0.998617   0.999528   \n",
       "MPAA                    0.999672       1.0  0.700623     0.299357   0.320513   \n",
       "genres                  0.999478  0.700623       1.0     0.476132    0.43354   \n",
       "running_time            0.998617  0.299357  0.476132          1.0   0.365101   \n",
       "in_release              0.999528  0.320513   0.43354     0.365101        1.0   \n",
       "release_date             0.99919  0.638232  0.621265     0.669692   0.895791   \n",
       "\n",
       "                 release_date  \n",
       "title                0.990519  \n",
       "domestic_revenue          1.0  \n",
       "world_revenue             1.0  \n",
       "distributor          0.615526  \n",
       "opening_revenue       0.99919  \n",
       "MPAA                 0.638232  \n",
       "genres               0.621265  \n",
       "running_time         0.669692  \n",
       "in_release           0.895791  \n",
       "release_date              1.0  "
      ]
     },
     "execution_count": 100,
     "metadata": {},
     "output_type": "execute_result"
    }
   ],
   "source": [
    "import pandas as pd\n",
    "import numpy as np\n",
    "from scipy.stats import chi2_contingency\n",
    "\n",
    "# Hàm tính phi hệ số Cramér cho cặp biến\n",
    "def cramers_v(var1, var2):\n",
    "    contingency_table = pd.crosstab(movies_df[var1], movies_df[var2])\n",
    "    chi2, _, _, _ = chi2_contingency(contingency_table)\n",
    "    n = contingency_table.values.sum()\n",
    "    v = np.sqrt(chi2 / (n * min(contingency_table.shape[0] - 1, contingency_table.shape[1] - 1)))\n",
    "    return v\n",
    "\n",
    "# Tính phi hệ số Cramér cho tất cả các cặp biến trong DataFrame\n",
    "columns = movies_df.columns\n",
    "cramers_matrix = pd.DataFrame(index=columns, columns=columns)\n",
    "\n",
    "for var1 in columns:\n",
    "    for var2 in columns:\n",
    "        cramers_matrix.loc[var1, var2] = cramers_v(var1, var2)\n",
    "cramers_matrix"
   ]
  },
  {
   "cell_type": "markdown",
   "id": "4ab43ad7-4c6f-4635-b064-95804f853103",
   "metadata": {},
   "source": [
    "#### Trực quan hóa ma trận trên:"
   ]
  },
  {
   "cell_type": "code",
   "execution_count": 101,
   "id": "c5d91d4b-91a5-4b58-9b51-5d23df93220e",
   "metadata": {},
   "outputs": [
    {
     "data": {
      "image/png": "[encoded data removed]",
      "text/plain": [
       "<Figure size 1000x800 with 2 Axes>"
      ]
     },
     "metadata": {},
     "output_type": "display_data"
    }
   ],
   "source": [
    "copy = cramers_matrix.copy()\n",
    "copy = copy.astype(float)\n",
    "\n",
    "# Vẽ heatmap\n",
    "plt.figure(figsize=(10, 8))\n",
    "sns.heatmap(copy, annot=True, cmap=\"coolwarm\", fmt=\".2f\")\n",
    "plt.title(\"Cramér's V Heatmap\")\n",
    "plt.show()"
   ]
  },
  {
   "cell_type": "markdown",
   "id": "739d2dc6-73f2-4066-98d7-b1f62499c8d4",
   "metadata": {},
   "source": [
    "#### Từ ma trận thể hiện độ tương quan giữa mỗi giữa các biến trong tập dữ liệu, ta thấy:\n",
    "- `title`, `domestic_revenue`, `world_revenue`, `opening_revenue`: mức độ tương quan giữa từng cặp biến này `rất cao(mức tuyệt đối)`. Cho nên nhóm đã loại bỏ chúng ra khỏi tập đặc trưng của mô hình bởi vì chúng hoàn toàn `tuyến tính phụ thuộc lẫn nhau`, dẫn đến hiện tượng `\"multicollinearity\"`(tăng phương sai của các ước lượng và mô hình sẽ dự đoán sai) trong mô hình.\n",
    "- `in_release` và `release_date` có mối tương quan với nhau cũng khá cao nên nhóm sẽ loại bỏ đi một trong hai chúng. Nhóm sẽ bỏ đi `release_date`.\n",
    "- Cuối cùng, cột `MPAA`, `genres`, `running_time` và `in_release` sẽ được chọn làm `đặc trưng` của mô hình."
   ]
  },
  {
   "cell_type": "markdown",
   "id": "b46b1848-69f6-4696-992a-758e01b1e482",
   "metadata": {},
   "source": [
    "### Tiền xử lí dữ liệu"
   ]
  },
  {
   "cell_type": "code",
   "execution_count": 102,
   "id": "4cc96366-d1e5-4477-8665-e37d84e9b3c0",
   "metadata": {},
   "outputs": [],
   "source": [
    "copy_df = movies_df[['distributor', 'MPAA','genres','running_time','in_release']]"
   ]
  },
  {
   "cell_type": "code",
   "execution_count": 103,
   "id": "d1c0dd5e-cac9-4899-b41f-720c73e47d2f",
   "metadata": {},
   "outputs": [
    {
     "name": "stdout",
     "output_type": "stream",
     "text": [
      "<class 'pandas.core.frame.DataFrame'>\n",
      "RangeIndex: 4760 entries, 0 to 4759\n",
      "Data columns (total 5 columns):\n",
      " #   Column        Non-Null Count  Dtype  \n",
      "---  ------        --------------  -----  \n",
      " 0   distributor   4760 non-null   object \n",
      " 1   MPAA          4760 non-null   object \n",
      " 2   genres        4760 non-null   object \n",
      " 3   running_time  4760 non-null   float64\n",
      " 4   in_release    4760 non-null   float64\n",
      "dtypes: float64(2), object(3)\n",
      "memory usage: 186.1+ KB\n"
     ]
    }
   ],
   "source": [
    "copy_df.info()"
   ]
  },
  {
   "cell_type": "markdown",
   "id": "0859d9e8-44f2-4653-ad5b-7e8f1b54737e",
   "metadata": {},
   "source": [
    "`Bước 1`: Kiểm tra có cột nào bị thiếu dữ liệu không?"
   ]
  },
  {
   "cell_type": "code",
   "execution_count": 104,
   "id": "cda889fd-29af-4861-ad1f-73c57cc466ab",
   "metadata": {},
   "outputs": [
    {
     "data": {
      "text/html": [
       "<div>\n",
       "<style scoped>\n",
       "    .dataframe tbody tr th:only-of-type {\n",
       "        vertical-align: middle;\n",
       "    }\n",
       "\n",
       "    .dataframe tbody tr th {\n",
       "        vertical-align: top;\n",
       "    }\n",
       "\n",
       "    .dataframe thead th {\n",
       "        text-align: right;\n",
       "    }\n",
       "</style>\n",
       "<table border=\"1\" class=\"dataframe\">\n",
       "  <thead>\n",
       "    <tr style=\"text-align: right;\">\n",
       "      <th></th>\n",
       "      <th>distributor</th>\n",
       "      <th>MPAA</th>\n",
       "      <th>genres</th>\n",
       "      <th>running_time</th>\n",
       "      <th>in_release</th>\n",
       "    </tr>\n",
       "  </thead>\n",
       "  <tbody>\n",
       "    <tr>\n",
       "      <th>Total</th>\n",
       "      <td>0.0</td>\n",
       "      <td>0.0</td>\n",
       "      <td>0.0</td>\n",
       "      <td>0.0</td>\n",
       "      <td>0.0</td>\n",
       "    </tr>\n",
       "    <tr>\n",
       "      <th>Percent</th>\n",
       "      <td>0.0</td>\n",
       "      <td>0.0</td>\n",
       "      <td>0.0</td>\n",
       "      <td>0.0</td>\n",
       "      <td>0.0</td>\n",
       "    </tr>\n",
       "  </tbody>\n",
       "</table>\n",
       "</div>"
      ],
      "text/plain": [
       "         distributor  MPAA  genres  running_time  in_release\n",
       "Total            0.0   0.0     0.0           0.0         0.0\n",
       "Percent          0.0   0.0     0.0           0.0         0.0"
      ]
     },
     "execution_count": 104,
     "metadata": {},
     "output_type": "execute_result"
    }
   ],
   "source": [
    "total = copy_df.isnull().sum().sort_values(ascending=False)\n",
    "percent = (copy_df.isnull().sum()/copy_df.isnull().count()).sort_values(ascending=False)\n",
    "missing_data = pd.concat([total, percent], axis=1, keys=['Total', 'Percent'])\n",
    "missing_data.T"
   ]
  },
  {
   "cell_type": "markdown",
   "id": "9c72c8b0-4a88-4301-8231-3b9143ea5153",
   "metadata": {},
   "source": [
    "`Bước 2`: Xử lí các cột categorial `distributor`, `MPAA` và `genres`.\n",
    "- Áp dụng `Label Encoding` cho `distributor` và `MPAA` của copy_df.\n",
    "- Áp dụng `One-hot Encoding` cho `genres` tạo ra `genres_encoded`.\n",
    "- Sau đó dùng `pd.concat` để ghép `genres_encoded` với `copy_df` rồi drop cột `genres` đi."
   ]
  },
  {
   "cell_type": "code",
   "execution_count": 105,
   "id": "ecf6cce0-b1f7-4c6d-8dc3-f7935890f024",
   "metadata": {},
   "outputs": [],
   "source": [
    "for col in ['distributor', 'MPAA']:\n",
    "    le = LabelEncoder()\n",
    "    copy_df[col] = le.fit_transform(copy_df[col])"
   ]
  },
  {
   "cell_type": "code",
   "execution_count": 106,
   "id": "6a277193-0638-454e-9d33-2f6e5a46882b",
   "metadata": {},
   "outputs": [],
   "source": [
    "genres_encoded = copy_df['genres'].str.get_dummies(',')\n",
    "copy_df = pd.concat([genres_encoded,copy_df], axis=1)\n",
    "copy_df = copy_df.drop(['genres'], axis=1)"
   ]
  },
  {
   "cell_type": "markdown",
   "id": "b3348c7e-3e6b-4cc3-95eb-45eb56eee830",
   "metadata": {},
   "source": [
    "`Bước 3`: Tạo biến mục tiêu"
   ]
  },
  {
   "cell_type": "markdown",
   "id": "baaec247-4139-4d24-8bcb-7fd5bba11945",
   "metadata": {},
   "source": [
    "Thử xem phân phối của cột world_revenue và xử lí outlier của cột này"
   ]
  },
  {
   "cell_type": "code",
   "execution_count": 107,
   "id": "c7fc86a7-9dfd-4925-a9b3-607c0ae2904c",
   "metadata": {},
   "outputs": [
    {
     "data": {
      "image/png": "[encoded data removed]",
      "text/plain": [
       "<Figure size 800x600 with 1 Axes>"
      ]
     },
     "metadata": {},
     "output_type": "display_data"
    }
   ],
   "source": [
    "plt.figure(figsize=(8, 6))\n",
    "sns.histplot(movies_df['world_revenue'], kde=True)\n",
    "plt.title('Phân phối của cột')\n",
    "plt.xlabel('Giá trị')\n",
    "plt.ylabel('Tần suất')\n",
    "plt.show()"
   ]
  },
  {
   "cell_type": "markdown",
   "id": "e78e126e-7cf8-426b-b44a-788b005a9596",
   "metadata": {},
   "source": [
    "Phân phối của world_revenue sau khi sử dụng phương pháp Log-transform để xử lí các giá trị outlier"
   ]
  },
  {
   "cell_type": "code",
   "execution_count": 108,
   "id": "344f55e4-4453-4bf2-a71c-818e756f92ad",
   "metadata": {},
   "outputs": [
    {
     "data": {
      "image/png": "[encoded data removed]",
      "text/plain": [
       "<Figure size 800x600 with 1 Axes>"
      ]
     },
     "metadata": {},
     "output_type": "display_data"
    }
   ],
   "source": [
    "# Log-transform cột\n",
    "movies_df['world_revenue'] = np.log1p(movies_df['world_revenue'])\n",
    "plt.figure(figsize=(8, 6))\n",
    "sns.histplot(movies_df['world_revenue'], kde=True)\n",
    "plt.title('Phân phối của cột')\n",
    "plt.xlabel('Giá trị')\n",
    "plt.ylabel('Tần suất')\n",
    "plt.show()"
   ]
  },
  {
   "cell_type": "code",
   "execution_count": 109,
   "id": "eb1b9d41-f334-4be1-a449-d357c8034e24",
   "metadata": {},
   "outputs": [],
   "source": [
    "threshold = movies_df['world_revenue'].median()\n",
    "threshold\n",
    "copy_df['label'] = movies_df['world_revenue'].apply(lambda x: 1 if x > threshold else 0)"
   ]
  },
  {
   "cell_type": "code",
   "execution_count": 110,
   "id": "d62a92e8-7444-4c08-b52e-ddb7f7cc07ca",
   "metadata": {},
   "outputs": [],
   "source": [
    "X = copy_df.drop(['label'], axis=1)\n",
    "y = copy_df['label']\n",
    "\n",
    "# Chia dữ liệu thành tập huấn luyện và tập kiểm tra với tỉ lệ là 70% train, 30% test\n",
    "X_train, X_test, y_train, y_test = train_test_split(X, y, test_size=0.3, random_state=0)"
   ]
  },
  {
   "cell_type": "markdown",
   "id": "56406235-4753-4195-9280-827d45162907",
   "metadata": {},
   "source": [
    "Chuẩn hóa dữ liệu"
   ]
  },
  {
   "cell_type": "code",
   "execution_count": 111,
   "id": "173cbf03-9fe5-48b0-beff-187427f4cd27",
   "metadata": {},
   "outputs": [],
   "source": [
    "sc = StandardScaler()\n",
    "X_train = sc.fit_transform(X_train)\n",
    "X_test = sc.transform(X_test)"
   ]
  },
  {
   "cell_type": "markdown",
   "id": "67d5d923-0ed7-4ad2-809e-ab9899bcca08",
   "metadata": {},
   "source": [
    "## Các mô hình phân loại"
   ]
  },
  {
   "cell_type": "markdown",
   "id": "0c9175b6-bfbf-4a24-915d-a1562545f626",
   "metadata": {},
   "source": [
    "### Mô hình 1: Random Forest Classifier"
   ]
  },
  {
   "cell_type": "code",
   "execution_count": 112,
   "id": "681da2a9-79bf-43ab-a882-c31016443915",
   "metadata": {},
   "outputs": [],
   "source": [
    "metric = {}"
   ]
  },
  {
   "cell_type": "code",
   "execution_count": 113,
   "id": "98ed067e-5477-449b-b58d-b37c5dce2f83",
   "metadata": {},
   "outputs": [
    {
     "name": "stdout",
     "output_type": "stream",
     "text": [
      "Accuracy: 0.7233893557422969\n",
      "Precision: 0.7368421052631579\n",
      "Recall: 0.7115384615384616\n"
     ]
    }
   ],
   "source": [
    "#Fitting the Model\n",
    "classifier = RandomForestClassifier()\n",
    "classifier.fit(X_train, y_train)\n",
    "\n",
    "#Evaluating the Model\n",
    "rf_pred = classifier.predict(X_test)\n",
    "\n",
    "rf_accuracy = accuracy_score(y_test, rf_pred)\n",
    "rf_precision = precision_score(y_test, rf_pred)\n",
    "rf_recall = recall_score(y_test, rf_pred)\n",
    "\n",
    "print(\"Accuracy:\", rf_accuracy)\n",
    "print(\"Precision:\", rf_precision)\n",
    "print(\"Recall:\", rf_recall)\n",
    "metric['RF'] = [rf_accuracy,rf_precision,rf_recall]"
   ]
  },
  {
   "cell_type": "markdown",
   "id": "75feef35-ee68-41b3-b377-88308397b665",
   "metadata": {},
   "source": [
    "### Mô hình 2: K-Nearest Neighbor"
   ]
  },
  {
   "cell_type": "code",
   "execution_count": 114,
   "id": "36d10d6e-dd4b-4533-8f51-e46d70dca947",
   "metadata": {},
   "outputs": [
    {
     "name": "stdout",
     "output_type": "stream",
     "text": [
      "Accuracy: 0.6645658263305322\n",
      "Precision: 0.6760961810466761\n",
      "Recall: 0.6565934065934066\n"
     ]
    }
   ],
   "source": [
    "knn = KNeighborsClassifier()\n",
    "knn.fit(X_train, y_train)\n",
    "\n",
    "knn_pred = knn.predict(X_test)\n",
    "\n",
    "knn_accuracy = accuracy_score(y_test, knn_pred)\n",
    "knn_precision = precision_score(y_test, knn_pred)\n",
    "knn_recall = recall_score(y_test, knn_pred)\n",
    "\n",
    "print(\"Accuracy:\", knn_accuracy)\n",
    "print(\"Precision:\", knn_precision)\n",
    "print(\"Recall:\", knn_recall)\n",
    "metric['KNN'] = [knn_accuracy,knn_precision,knn_recall]"
   ]
  },
  {
   "cell_type": "code",
   "execution_count": 115,
   "id": "5a80db30-f92b-4d4a-a477-23da8314673d",
   "metadata": {},
   "outputs": [
    {
     "data": {
      "text/html": [
       "<div>\n",
       "<style scoped>\n",
       "    .dataframe tbody tr th:only-of-type {\n",
       "        vertical-align: middle;\n",
       "    }\n",
       "\n",
       "    .dataframe tbody tr th {\n",
       "        vertical-align: top;\n",
       "    }\n",
       "\n",
       "    .dataframe thead th {\n",
       "        text-align: right;\n",
       "    }\n",
       "</style>\n",
       "<table border=\"1\" class=\"dataframe\">\n",
       "  <thead>\n",
       "    <tr style=\"text-align: right;\">\n",
       "      <th></th>\n",
       "      <th>RF</th>\n",
       "      <th>KNN</th>\n",
       "    </tr>\n",
       "  </thead>\n",
       "  <tbody>\n",
       "    <tr>\n",
       "      <th>Accuracy</th>\n",
       "      <td>0.723389</td>\n",
       "      <td>0.664566</td>\n",
       "    </tr>\n",
       "    <tr>\n",
       "      <th>Precision</th>\n",
       "      <td>0.736842</td>\n",
       "      <td>0.676096</td>\n",
       "    </tr>\n",
       "    <tr>\n",
       "      <th>Recall</th>\n",
       "      <td>0.711538</td>\n",
       "      <td>0.656593</td>\n",
       "    </tr>\n",
       "  </tbody>\n",
       "</table>\n",
       "</div>"
      ],
      "text/plain": [
       "                 RF       KNN\n",
       "Accuracy   0.723389  0.664566\n",
       "Precision  0.736842  0.676096\n",
       "Recall     0.711538  0.656593"
      ]
     },
     "execution_count": 115,
     "metadata": {},
     "output_type": "execute_result"
    }
   ],
   "source": [
    "before_metric = pd.DataFrame(metric)\n",
    "before_metric.index = ['Accuracy', 'Precision', 'Recall']\n",
    "before_metric"
   ]
  },
  {
   "cell_type": "markdown",
   "id": "7a1b8f1d-80c4-44cd-b5ab-9c4f83e39499",
   "metadata": {},
   "source": [
    "### Tinh chỉnh mô hình"
   ]
  },
  {
   "cell_type": "markdown",
   "id": "9f5aa9c0-1baa-48c7-b5fd-e951c35a0d11",
   "metadata": {},
   "source": [
    "#### Tinh chỉnh mô hình Random Forest Classifier bằng kỹ thuật cross-validation\n",
    "Ở task này, nhóm tiến hành tìm kiếm siêu tham số ngẫu nhiên (Randomized Search) để tối ưu hóa mô hình Random Forest Classifier.\n",
    "- Đầu tiên tạo siêu tham số ngẫn nhiên `param_dict`, các siêu tham số này được xác định thông qua hàm `randint(a, b)`, do đó trong mỗi lần thử nghiệm mỗi siêu tham số này sẽ được chọn ngẫu nhiên từ phân phối đều giữa `a` và `b` do hàm `randint` tạo ra. Trong đó:\n",
    "  - `n_estimators`: số lượng cây quyết định trong rừng. Số cây càng lớn có thể cải thiện hiệu suất của mô hình nhưng cũng làm tăng chi phí tính toán.\n",
    "  - `max_depth`: độ sâu tối đa của mỗi cây quyết định trong rừng. Siêu tham số này dùng để kiểm soát độ phức tạp của mỗi cây. Độ sâu càng lớn có thể làm mô hình trở nên phức tạp và dễ bị overfitting.\n",
    "  - `min_samples_split`: số mẫu tối thiểu để chia một nút nội tại để phép phân chia có thể được thực hiện. Nếu số lượng mẫu trong nút ít hơn siêu tham số này, nút sẽ không được phân chia và nó sẽ trở thành một lá(hoặc dừng lại nếu đáp ứng được các điều kiện dừng khác).\n",
    "  - `min_samples_leaf`: số lượng mẫu tối thiểu ở mỗi lá nghĩa là số lượng mẫu tối thiểu mà lá đó cần phải chứa. Nếu sau mỗi lần phân chia một lá có ít mẫu hơn siêu tham số này thì cây sẽ không tiếp tục phân chia và lá sẽ được dừng lại.\n",
    "  - `min_samples_split` và `min_samples_leaf` giúp kiểm soát độ phức tạp của cây và giảm nguy cơ `overfitting`."
   ]
  },
  {
   "cell_type": "code",
   "execution_count": 116,
   "id": "83fd3f4f-b6c4-4460-8bc7-ae83f8afbef3",
   "metadata": {},
   "outputs": [],
   "source": [
    "# Thêm các siêu tham số khác vào param_dist\n",
    "param_dist = {'n_estimators': randint(50, 500),\n",
    "              'max_depth': randint(1, 20),\n",
    "              'min_samples_split': randint(2, 10),\n",
    "              'min_samples_leaf': randint(1, 5)}"
   ]
  },
  {
   "cell_type": "markdown",
   "id": "1f88d0d9-80a0-48d9-9f8b-224b11c72703",
   "metadata": {},
   "source": [
    "- Bước này nhóm tiến hành tạo mô hình `Random Forest Classifier` là `rf`, sau đó sử dụng `RandomizedSearchCV` để train các mô hình(được định nghĩa bởi tham số `n_iter`) và lưu chúng vào `rand_search`. Từ `rand_search`, dùng `best_estimator_` để tìm mô hình tốt nhất trong số các mô hình mà hàm RandomizedSearchCV vừa train. \n",
    "- Hơn nữa, `RandomizedSearchCV` còn sử dụng kỹ thuật `5-fold cross-validation` diễn ra như sau:\n",
    "  1. `Chia dữ liệu`: chia dữ liệu thành 5 phần bằng nhau.\n",
    "  2. `Lặp 5 lần`: lần lượt mỗi fold được chọn làm tập kiểm thử và các fold còn lại được sử dụng để huấn luyện mô hình\n",
    "  3. `Huấn luyện và đánh giá`: mô hình được huấn luyện trên `4 fold`(được gọi là tập huấn luyện) và đánh giá trên `fold còn lại`(tập kiểm thử). Qúa trình này được lặp `5 lần`, mỗi lần sẽ chọn một fold khác nhau làm tập test còn 4 tập kia thì train.\n",
    "  4. `Tổng hợp kết quả`: kết quả của 5 lần đánh giá từ bước 3 sẽ được tổng hợp để đưa ra kết quả cuối cùng, chính là mô hình tốt nhất.\n",
    "- `best_params_` được dùng để lấy các siêu tham số của mô hình tốt nhất đó."
   ]
  },
  {
   "cell_type": "code",
   "execution_count": 117,
   "id": "b6984b76-e520-44da-b05b-7d6cf77fa335",
   "metadata": {},
   "outputs": [
    {
     "name": "stdout",
     "output_type": "stream",
     "text": [
      "Các siêu tham số tốt nhất: {'max_depth': 14, 'min_samples_leaf': 2, 'min_samples_split': 7, 'n_estimators': 469}\n",
      "Accuracy: 0.7345938375350141\n",
      "Precision: 0.7585185185185185\n",
      "Recall: 0.7032967032967034\n"
     ]
    }
   ],
   "source": [
    "# Tạo mô hình Random Forest Classifier\n",
    "rf = RandomForestClassifier()\n",
    "\n",
    "# Sử dụng RandomizedSearchCV để tìm kiếm siêu tham số\n",
    "rand_search = RandomizedSearchCV(rf, \n",
    "                                 param_distributions=param_dist, \n",
    "                                 n_iter=5, \n",
    "                                 cv=5)\n",
    "\n",
    "# Fit đối tượng tìm kiếm ngẫu nhiên vào dữ liệu\n",
    "rand_search.fit(X_train, y_train)\n",
    "\n",
    "# Print the best hyperparameters\n",
    "best_rf_params = rand_search.best_params_\n",
    "print(\"Các siêu tham số tốt nhất:\", best_rf_params)\n",
    "\n",
    "# Get the best model\n",
    "best_classifier = rand_search.best_estimator_\n",
    "\n",
    "# Make predictions on the test set\n",
    "rf_fined_pred = best_classifier.predict(X_test)\n",
    "\n",
    "# Evaluate the model\n",
    "rf_fined_accuracy = accuracy_score(y_test, rf_fined_pred)\n",
    "rf_fined_precision = precision_score(y_test, rf_fined_pred)\n",
    "rf_fined_recall = recall_score(y_test, rf_fined_pred)\n",
    "\n",
    "print(\"Accuracy:\", rf_fined_accuracy)\n",
    "print(\"Precision:\", rf_fined_precision)\n",
    "print(\"Recall:\", rf_fined_recall)\n",
    "metric['Fined RF'] = [rf_fined_accuracy,rf_fined_precision,rf_fined_recall]"
   ]
  },
  {
   "cell_type": "code",
   "execution_count": 118,
   "id": "6a6b0913-c503-4f99-9c95-4aab3485e7c6",
   "metadata": {},
   "outputs": [
    {
     "data": {
      "image/png": "[encoded data removed]",
      "text/plain": [
       "<Figure size 640x480 with 2 Axes>"
      ]
     },
     "metadata": {},
     "output_type": "display_data"
    }
   ],
   "source": [
    "# Generate predictions with the best model\n",
    "y_pred = best_classifier.predict(X_test)\n",
    "\n",
    "# Create the confusion matrix\n",
    "cm = confusion_matrix(y_test, y_pred)\n",
    "\n",
    "ConfusionMatrixDisplay(confusion_matrix=cm).plot();"
   ]
  },
  {
   "cell_type": "code",
   "execution_count": 119,
   "id": "f304dba6-91ae-4d20-a351-b04eb27cda11",
   "metadata": {},
   "outputs": [
    {
     "data": {
      "image/png": "[encoded data removed]",
      "text/plain": [
       "<Figure size 2000x600 with 1 Axes>"
      ]
     },
     "metadata": {},
     "output_type": "display_data"
    }
   ],
   "source": [
    "# Create a series containing feature importances from the model and feature names from the training data\n",
    "feature_importances = pd.Series(best_classifier.feature_importances_, index=X.columns).sort_values(ascending=False)\n",
    "\n",
    "plt.figure(figsize=(20, 6))\n",
    "\n",
    "# Vẽ đồ thị cột\n",
    "feature_importances.plot.bar()\n",
    "\n",
    "# Hiển thị đồ thị\n",
    "plt.show()"
   ]
  },
  {
   "cell_type": "markdown",
   "id": "957cca3b-98d2-4940-9884-aaf4c2fa6dd3",
   "metadata": {},
   "source": [
    "https://www.datacamp.com/tutorial/random-forests-classifier-python"
   ]
  },
  {
   "cell_type": "markdown",
   "id": "ffce8a79-176f-478c-80ed-2cae40b47422",
   "metadata": {},
   "source": [
    "#### Tinh chỉnh mô hình K-Nearest Neighbor bằng kỹ thuật cross-validation"
   ]
  },
  {
   "cell_type": "markdown",
   "id": "882b7e41-15a7-40a6-b299-fe3b9df59563",
   "metadata": {},
   "source": [
    "- Trong mô hình `K-Nearest Neighbor`, tham số `n_neighbors` là tham số quan trọng, nó dùng để xác định số lượng hàng xóm gần nhất mà mô hình sẽ xem xét để cho ra một điểm dữ liệu mới.\n",
    "- Để tinh chỉnh mô hình K-Nearest Neighbor, chúng ta cần phải tìm ra giá trị k(n_neighbors) `tốt nhất` để tìm ra mô hình KNN `tốt nhất`.\n",
    "- Đầu tiên, nhóm vạch ra khoảng cho k là `(1,201)`. `Tại sao không lấy k lớn hơn?` Bởi vì nếu `k quá lớn` sẽ xảy ra `overfitting` dẫn đến mô hình trở nên `phức tạp` và `không thể áp dụng` cho dữ liệu mới.\n",
    "- Chuẩn hóa dữ liệu để `đảm bảo các đặc trưng` đều có cùng mức độ ảnh hưởng với khoảng cách giữa các điểm dữ liệu.\n",
    "- Thực hiện vòng lặp từ range định nghĩa. Trong mỗi lần lặp:\n",
    "    - Tạo mô hình KNN với tham số n_neighbors là k hiện tại.\n",
    "    - Dùng `cross_val_score` để tính độ chính xác bằng cách truyền vào mô hình vừa được tạo, dữ liệu chuẩn hóa X, biến mục tiêu Y và cv = 5 là sử dụng kỹ thuật `5-fold cross-validation` để đánh giá tìm ra độ chính xác.\n",
    "    - Lưu kết quả vừa tính vào list `scores`."
   ]
  },
  {
   "cell_type": "code",
   "execution_count": 120,
   "id": "cb5a4359-41bf-4876-a24a-72dd3e942da8",
   "metadata": {},
   "outputs": [],
   "source": [
    "k_values = [i for i in range (1,201)]\n",
    "scores = []\n",
    "\n",
    "sc = StandardScaler()\n",
    "X = sc.fit_transform(X)\n",
    "\n",
    "for k in k_values:\n",
    "    knn = KNeighborsClassifier(n_neighbors=k)\n",
    "    score = cross_val_score(knn, X, y, cv=5)\n",
    "    scores.append(np.mean(score))"
   ]
  },
  {
   "cell_type": "markdown",
   "id": "567e5e54-0f8f-46a1-9d11-7e5e2fad0ee5",
   "metadata": {},
   "source": [
    "Trực quan hóa kết quả đánh giá độ chính xác của mô hình theo từng giá trị k"
   ]
  },
  {
   "cell_type": "code",
   "execution_count": 121,
   "id": "f982c370-42eb-4115-8829-4b760c322334",
   "metadata": {},
   "outputs": [
    {
     "data": {
      "text/plain": [
       "Text(0, 0.5, 'Độ chính xác')"
      ]
     },
     "execution_count": 121,
     "metadata": {},
     "output_type": "execute_result"
    },
    {
     "data": {
      "image/png": "[encoded data removed]",
      "text/plain": [
       "<Figure size 640x480 with 1 Axes>"
      ]
     },
     "metadata": {},
     "output_type": "display_data"
    }
   ],
   "source": [
    "sns.lineplot(x = k_values, y = scores, marker = 'o')\n",
    "plt.xlabel(\"k\")\n",
    "plt.ylabel(\"Độ chính xác\")"
   ]
  },
  {
   "cell_type": "markdown",
   "id": "b10c8c67-e984-4b80-9944-353c5d524202",
   "metadata": {},
   "source": [
    "Từ biểu đồ trực quan hóa trên, giá trị k tốt nhất nằm gần giữa 50 và 75, để biết chính xác giá trị k, chúng ta sẽ chạy code ở dưới:"
   ]
  },
  {
   "cell_type": "code",
   "execution_count": 122,
   "id": "fdf62a85-50d1-4b9a-bfee-c1aed995c798",
   "metadata": {},
   "outputs": [
    {
     "name": "stdout",
     "output_type": "stream",
     "text": [
      "Gía trị k tốt nhất sau khi tinh chỉnh: k = 65\n"
     ]
    }
   ],
   "source": [
    "best_index = np.argmax(scores)\n",
    "best_k = k_values[best_index]\n",
    "\n",
    "best_knn = KNeighborsClassifier(n_neighbors=best_k)\n",
    "best_knn.fit(X_train, y_train)\n",
    "print(\"Gía trị k tốt nhất sau khi tinh chỉnh: k =\", best_k)"
   ]
  },
  {
   "cell_type": "code",
   "execution_count": 123,
   "id": "79040ea0-e13f-4bb2-9b25-425cf1a1bf61",
   "metadata": {},
   "outputs": [
    {
     "name": "stdout",
     "output_type": "stream",
     "text": [
      "Accuracy: 0.6736694677871149\n",
      "Precision: 0.7053291536050157\n",
      "Recall: 0.6181318681318682\n"
     ]
    }
   ],
   "source": [
    "knn_fined_pred = best_knn.predict(X_test)\n",
    "\n",
    "knn_fined_accuracy = accuracy_score(y_test, knn_fined_pred)\n",
    "knn_fined_precision = precision_score(y_test, knn_fined_pred)\n",
    "knn_fined_recall = recall_score(y_test, knn_fined_pred)\n",
    "\n",
    "\n",
    "print(\"Accuracy:\", knn_fined_accuracy)\n",
    "print(\"Precision:\", knn_fined_precision)\n",
    "print(\"Recall:\", knn_fined_recall)\n",
    "metric['Fined KNN'] = [knn_fined_accuracy,knn_fined_precision,knn_fined_recall]"
   ]
  },
  {
   "cell_type": "code",
   "execution_count": 124,
   "id": "c7b07c9e-756b-491e-9859-8dd36bd527e2",
   "metadata": {},
   "outputs": [
    {
     "data": {
      "text/html": [
       "<div>\n",
       "<style scoped>\n",
       "    .dataframe tbody tr th:only-of-type {\n",
       "        vertical-align: middle;\n",
       "    }\n",
       "\n",
       "    .dataframe tbody tr th {\n",
       "        vertical-align: top;\n",
       "    }\n",
       "\n",
       "    .dataframe thead th {\n",
       "        text-align: right;\n",
       "    }\n",
       "</style>\n",
       "<table border=\"1\" class=\"dataframe\">\n",
       "  <thead>\n",
       "    <tr style=\"text-align: right;\">\n",
       "      <th></th>\n",
       "      <th>Accuracy</th>\n",
       "      <th>Precision</th>\n",
       "      <th>Recall</th>\n",
       "    </tr>\n",
       "  </thead>\n",
       "  <tbody>\n",
       "    <tr>\n",
       "      <th>RF</th>\n",
       "      <td>0.723389</td>\n",
       "      <td>0.736842</td>\n",
       "      <td>0.711538</td>\n",
       "    </tr>\n",
       "    <tr>\n",
       "      <th>KNN</th>\n",
       "      <td>0.664566</td>\n",
       "      <td>0.676096</td>\n",
       "      <td>0.656593</td>\n",
       "    </tr>\n",
       "    <tr>\n",
       "      <th>Fined RF</th>\n",
       "      <td>0.734594</td>\n",
       "      <td>0.758519</td>\n",
       "      <td>0.703297</td>\n",
       "    </tr>\n",
       "    <tr>\n",
       "      <th>Fined KNN</th>\n",
       "      <td>0.673669</td>\n",
       "      <td>0.705329</td>\n",
       "      <td>0.618132</td>\n",
       "    </tr>\n",
       "  </tbody>\n",
       "</table>\n",
       "</div>"
      ],
      "text/plain": [
       "           Accuracy  Precision    Recall\n",
       "RF         0.723389   0.736842  0.711538\n",
       "KNN        0.664566   0.676096  0.656593\n",
       "Fined RF   0.734594   0.758519  0.703297\n",
       "Fined KNN  0.673669   0.705329  0.618132"
      ]
     },
     "execution_count": 124,
     "metadata": {},
     "output_type": "execute_result"
    }
   ],
   "source": [
    "temp = pd.DataFrame(metric)\n",
    "temp.index = ['Accuracy', 'Precision', 'Recall']\n",
    "temp.T"
   ]
  },
  {
   "cell_type": "markdown",
   "id": "3b9ea610-71ba-414d-84c3-ce20851fc65b",
   "metadata": {},
   "source": [
    "### Kết luận:\n",
    "\n",
    "#### 1. Random Forest (RF):\n",
    "   - **Accuracy:** 0.723389\n",
    "   - **Precision:** 0.736842\n",
    "   - **Recall:** 0.711538\n",
    "   - Mô hình Random Forest có độ chính xác cao (Accuracy), tốt hơn so với K-Nearest Neighbors (KNN).\n",
    "   - Mô hình có độ chính xác, độ chính xác Positive và độ nhớ khá cao. Cả ba độ đo đều gần nhau, ám chỉ sự cân bằng giữa việc dự đoán đúng positive, negative và tỷ lệ dự đoán đúng tổng cộng.\n",
    "#### 2. K-Nearest Neighbors (KNN):\n",
    "   - **Accuracy:** 0.664566\n",
    "   - **Precision:** 0.676096\n",
    "   - **Recall:** 0.656593\n",
    "   - Mô hình KNN có độ chính xác thấp hơn so với Random Forest.\n",
    "   - Mô hình có độ chính xác và độ nhớ khá tốt nhưng cũng thấp hơn so với Random Forest.  \n",
    "#### 3. Sau khi tinh chỉnh:\n",
    "   - Sau quá trình tinh chỉnh (fine-tuning), cả hai mô hình đều có sự cải thiện về Accuracy và Precision. Recall thì có sự giảm đi.\n",
    "     - Accuracy tăng: số lượng True Positives và True Negatives tăng.\n",
    "     - Precision tăng: số lượng True Positives tăng so với tổng số dự đoán Positive (True Positives + False Positives).\n",
    "     - Recall giảm: số lượng True Positives giảm so với tổng số thực tế Positive (True Positives + False Negatives).\n",
    "#### Tóm lại, mô hình Random Forest Classifier có khả năng đưa ra dự đoán tốt hơn mô hình K-Nearest Neighbors."
   ]
  },
  {
   "cell_type": "code",
   "execution_count": null,
   "id": "086f1b67-67cd-47fb-9a33-c9fce2845dd3",
   "metadata": {},
   "outputs": [],
   "source": []
  }
 ],
 "metadata": {
  "kernelspec": {
   "display_name": "Python 3 (ipykernel)",
   "language": "python",
   "name": "python3"
  },
  "language_info": {
   "codemirror_mode": {
    "name": "ipython",
    "version": 3
   },
   "file_extension": ".py",
   "mimetype": "text/x-python",
   "name": "python",
   "nbconvert_exporter": "python",
   "pygments_lexer": "ipython3",
   "version": "3.11.5"
  },
  "vscode": {
   "interpreter": {
    "hash": "230eced423d2f0c873d70f568fb3b91d4d0a92783dea9e5e343fd82907c96f27"
   }
  }
 },
 "nbformat": 4,
 "nbformat_minor": 5
}
