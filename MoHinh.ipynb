{
 "cells": [
  {
   "cell_type": "markdown",
   "id": "62050c72",
   "metadata": {},
   "source": [
    "<div style=\"border:2px solid black; padding:10px;\">\n",
    "    <h3>Nhóm 15</h3>\n",
    "    <h1 style='color:red;text-align:center;font-size:30px'>Chủ đề: Phân tích về doanh thu phim<b></b></h1>\n",
    "</div>\n"
   ]
  },
  {
   "cell_type": "markdown",
   "id": "eede0177",
   "metadata": {},
   "source": [
    "<h3>Danh sách thành viên</h3>\n",
    "<li> Nguyễn Quốc Hưng - 21120464 </li>\n",
    "<li> Đoàn Đức Hữu - 21120465 </li>\n",
    "<li> Võ Minh Khuê - 21120486</li>\n",
    "<li> Hồ Trọng Lễ - 21120494</li>"
   ]
  },
  {
   "cell_type": "markdown",
   "id": "fadad046",
   "metadata": {},
   "source": [
    "<h1 style='color:blue;text-align:center;font-size:30px'><b>Phần II</b></h1>"
   ]
  },
  {
   "cell_type": "markdown",
   "id": "d9aeff06",
   "metadata": {},
   "source": [
    "# Import thư viện"
   ]
  },
  {
   "cell_type": "code",
   "execution_count": 1,
   "id": "bb276657",
   "metadata": {},
   "outputs": [],
   "source": [
    "%matplotlib inline\n",
    "import matplotlib.pyplot as plt\n",
    "import numpy as np\n",
    "import pandas as pd \n",
    "import seaborn as sns\n",
    "sns.set_theme()\n",
    "import os\n",
    "import re\n",
    "import statistics\n",
    "import seaborn as sns\n",
    "sns.set(rc={'axes.facecolor':'lightblue', 'figure.facecolor':'lightgray'})"
   ]
  },
  {
   "cell_type": "code",
   "execution_count": 2,
   "id": "47af81f8",
   "metadata": {},
   "outputs": [
    {
     "data": {
      "text/plain": [
       "'/home/khuevo098/miniconda3/envs/min_ds-env/bin/python'"
      ]
     },
     "execution_count": 2,
     "metadata": {},
     "output_type": "execute_result"
    }
   ],
   "source": [
    "import sys\n",
    "sys.executable"
   ]
  },
  {
   "cell_type": "markdown",
   "id": "79b3a572",
   "metadata": {},
   "source": [
    "## Đọc file 'processed_data' vào dataframe df"
   ]
  },
  {
   "cell_type": "code",
   "execution_count": 3,
   "id": "09468941",
   "metadata": {},
   "outputs": [
    {
     "data": {
      "text/html": [
       "<div>\n",
       "<style scoped>\n",
       "    .dataframe tbody tr th:only-of-type {\n",
       "        vertical-align: middle;\n",
       "    }\n",
       "\n",
       "    .dataframe tbody tr th {\n",
       "        vertical-align: top;\n",
       "    }\n",
       "\n",
       "    .dataframe thead th {\n",
       "        text-align: right;\n",
       "    }\n",
       "</style>\n",
       "<table border=\"1\" class=\"dataframe\">\n",
       "  <thead>\n",
       "    <tr style=\"text-align: right;\">\n",
       "      <th></th>\n",
       "      <th>title</th>\n",
       "      <th>domestic_revenue</th>\n",
       "      <th>world_revenue</th>\n",
       "      <th>distributor</th>\n",
       "      <th>opening_revenue</th>\n",
       "      <th>MPAA</th>\n",
       "      <th>genres</th>\n",
       "      <th>running_time</th>\n",
       "      <th>in_release</th>\n",
       "      <th>release_date</th>\n",
       "    </tr>\n",
       "  </thead>\n",
       "  <tbody>\n",
       "    <tr>\n",
       "      <th>0</th>\n",
       "      <td>Batman Returns</td>\n",
       "      <td>162831698</td>\n",
       "      <td>266831698</td>\n",
       "      <td>Warner Bros.</td>\n",
       "      <td>45687711.0</td>\n",
       "      <td>PG-13</td>\n",
       "      <td>Action,Crime,Fantasy</td>\n",
       "      <td>126.0</td>\n",
       "      <td>196.0</td>\n",
       "      <td>1992-06-19</td>\n",
       "    </tr>\n",
       "    <tr>\n",
       "      <th>1</th>\n",
       "      <td>Evolution</td>\n",
       "      <td>38345494</td>\n",
       "      <td>98376292</td>\n",
       "      <td>DreamWorks Distribution</td>\n",
       "      <td>13408351.0</td>\n",
       "      <td>PG-13</td>\n",
       "      <td>Comedy,Sci-Fi</td>\n",
       "      <td>101.0</td>\n",
       "      <td>207.0</td>\n",
       "      <td>2001-06-08</td>\n",
       "    </tr>\n",
       "    <tr>\n",
       "      <th>2</th>\n",
       "      <td>Jumanji</td>\n",
       "      <td>100475249</td>\n",
       "      <td>100475249</td>\n",
       "      <td>Sony Pictures Entertainment (SPE)</td>\n",
       "      <td>11084370.0</td>\n",
       "      <td>PG</td>\n",
       "      <td>Adventure,Comedy,Family,Fantasy</td>\n",
       "      <td>104.0</td>\n",
       "      <td>383.0</td>\n",
       "      <td>1995-12-15</td>\n",
       "    </tr>\n",
       "    <tr>\n",
       "      <th>3</th>\n",
       "      <td>The American President</td>\n",
       "      <td>60079496</td>\n",
       "      <td>60079496</td>\n",
       "      <td>Sony Pictures Entertainment (SPE)</td>\n",
       "      <td>10014558.0</td>\n",
       "      <td>PG-13</td>\n",
       "      <td>Comedy,Drama,Romance</td>\n",
       "      <td>114.0</td>\n",
       "      <td>411.0</td>\n",
       "      <td>1995-11-17</td>\n",
       "    </tr>\n",
       "    <tr>\n",
       "      <th>4</th>\n",
       "      <td>Mulholland Drive</td>\n",
       "      <td>7220243</td>\n",
       "      <td>20117339</td>\n",
       "      <td>Universal Pictures</td>\n",
       "      <td>587591.0</td>\n",
       "      <td>R</td>\n",
       "      <td>Drama,Mystery,Thriller</td>\n",
       "      <td>147.0</td>\n",
       "      <td>450.0</td>\n",
       "      <td>2001-10-08</td>\n",
       "    </tr>\n",
       "    <tr>\n",
       "      <th>5</th>\n",
       "      <td>Tombstone</td>\n",
       "      <td>56505065</td>\n",
       "      <td>56505065</td>\n",
       "      <td>Walt Disney Studios Motion Pictures</td>\n",
       "      <td>6454752.0</td>\n",
       "      <td>R</td>\n",
       "      <td>Biography,Drama,History,Western</td>\n",
       "      <td>130.0</td>\n",
       "      <td>373.0</td>\n",
       "      <td>1993-12-24</td>\n",
       "    </tr>\n",
       "    <tr>\n",
       "      <th>6</th>\n",
       "      <td>Heart and Souls</td>\n",
       "      <td>16589540</td>\n",
       "      <td>16589540</td>\n",
       "      <td>Universal Pictures</td>\n",
       "      <td>4322250.0</td>\n",
       "      <td>PG-13</td>\n",
       "      <td>Comedy,Drama,Fantasy,Romance</td>\n",
       "      <td>104.0</td>\n",
       "      <td>141.0</td>\n",
       "      <td>1993-08-13</td>\n",
       "    </tr>\n",
       "    <tr>\n",
       "      <th>7</th>\n",
       "      <td>The Phantom of the Opera</td>\n",
       "      <td>51268815</td>\n",
       "      <td>154648887</td>\n",
       "      <td>Warner Bros.</td>\n",
       "      <td>4001890.0</td>\n",
       "      <td>PG-13</td>\n",
       "      <td>Drama,Musical,Romance,Thriller</td>\n",
       "      <td>143.0</td>\n",
       "      <td>375.0</td>\n",
       "      <td>2004-12-22</td>\n",
       "    </tr>\n",
       "    <tr>\n",
       "      <th>8</th>\n",
       "      <td>The Brady Bunch Movie</td>\n",
       "      <td>46576136</td>\n",
       "      <td>46576136</td>\n",
       "      <td>Paramount Pictures</td>\n",
       "      <td>14827066.0</td>\n",
       "      <td>PG-13</td>\n",
       "      <td>Comedy</td>\n",
       "      <td>90.0</td>\n",
       "      <td>318.0</td>\n",
       "      <td>1995-02-17</td>\n",
       "    </tr>\n",
       "    <tr>\n",
       "      <th>9</th>\n",
       "      <td>Teenage Mutant Ninja Turtles III</td>\n",
       "      <td>42273609</td>\n",
       "      <td>42273609</td>\n",
       "      <td>New Line Cinema</td>\n",
       "      <td>12419597.0</td>\n",
       "      <td>PG</td>\n",
       "      <td>Action,Adventure,Comedy,Family,Fantasy,Sci-Fi</td>\n",
       "      <td>96.0</td>\n",
       "      <td>288.0</td>\n",
       "      <td>1993-03-19</td>\n",
       "    </tr>\n",
       "  </tbody>\n",
       "</table>\n",
       "</div>"
      ],
      "text/plain": [
       "                              title  domestic_revenue  world_revenue  \\\n",
       "0                    Batman Returns         162831698      266831698   \n",
       "1                         Evolution          38345494       98376292   \n",
       "2                           Jumanji         100475249      100475249   \n",
       "3            The American President          60079496       60079496   \n",
       "4                  Mulholland Drive           7220243       20117339   \n",
       "5                         Tombstone          56505065       56505065   \n",
       "6                   Heart and Souls          16589540       16589540   \n",
       "7          The Phantom of the Opera          51268815      154648887   \n",
       "8             The Brady Bunch Movie          46576136       46576136   \n",
       "9  Teenage Mutant Ninja Turtles III          42273609       42273609   \n",
       "\n",
       "                           distributor  opening_revenue   MPAA  \\\n",
       "0                         Warner Bros.       45687711.0  PG-13   \n",
       "1              DreamWorks Distribution       13408351.0  PG-13   \n",
       "2    Sony Pictures Entertainment (SPE)       11084370.0     PG   \n",
       "3    Sony Pictures Entertainment (SPE)       10014558.0  PG-13   \n",
       "4                   Universal Pictures         587591.0      R   \n",
       "5  Walt Disney Studios Motion Pictures        6454752.0      R   \n",
       "6                   Universal Pictures        4322250.0  PG-13   \n",
       "7                         Warner Bros.        4001890.0  PG-13   \n",
       "8                   Paramount Pictures       14827066.0  PG-13   \n",
       "9                      New Line Cinema       12419597.0     PG   \n",
       "\n",
       "                                          genres  running_time  in_release  \\\n",
       "0                           Action,Crime,Fantasy         126.0       196.0   \n",
       "1                                  Comedy,Sci-Fi         101.0       207.0   \n",
       "2                Adventure,Comedy,Family,Fantasy         104.0       383.0   \n",
       "3                           Comedy,Drama,Romance         114.0       411.0   \n",
       "4                         Drama,Mystery,Thriller         147.0       450.0   \n",
       "5                Biography,Drama,History,Western         130.0       373.0   \n",
       "6                   Comedy,Drama,Fantasy,Romance         104.0       141.0   \n",
       "7                 Drama,Musical,Romance,Thriller         143.0       375.0   \n",
       "8                                         Comedy          90.0       318.0   \n",
       "9  Action,Adventure,Comedy,Family,Fantasy,Sci-Fi          96.0       288.0   \n",
       "\n",
       "  release_date  \n",
       "0   1992-06-19  \n",
       "1   2001-06-08  \n",
       "2   1995-12-15  \n",
       "3   1995-11-17  \n",
       "4   2001-10-08  \n",
       "5   1993-12-24  \n",
       "6   1993-08-13  \n",
       "7   2004-12-22  \n",
       "8   1995-02-17  \n",
       "9   1993-03-19  "
      ]
     },
     "execution_count": 3,
     "metadata": {},
     "output_type": "execute_result"
    }
   ],
   "source": [
    "movies_df = pd.read_csv('./data/processed/processed_data.csv')\n",
    "movies_df.head(10)"
   ]
  },
  {
   "cell_type": "markdown",
   "id": "37cdb7ea",
   "metadata": {},
   "source": [
    "<h2 style='color:#32a852;text-align:center;font-size:25px'><b>A. Mô hình hóa dữ liệu</b></h2> "
   ]
  },
  {
   "cell_type": "code",
   "execution_count": 4,
   "id": "0f2e3ff5",
   "metadata": {},
   "outputs": [],
   "source": [
    "# Data Processing\n",
    "import pandas as pd\n",
    "import numpy as np\n",
    "from sklearn.preprocessing import LabelEncoder, StandardScaler, OneHotEncoder\n",
    "# Modelling\n",
    "from sklearn.ensemble import RandomForestClassifier\n",
    "from sklearn.metrics import accuracy_score, confusion_matrix, precision_score, recall_score, ConfusionMatrixDisplay\n",
    "from sklearn.model_selection import RandomizedSearchCV, train_test_split\n",
    "from scipy.stats import randint\n",
    "\n",
    "from sklearn.impute import SimpleImputer\n",
    "from sklearn.compose import ColumnTransformer\n",
    "\n",
    "from sklearn.metrics import classification_report\n",
    "\n",
    "from sklearn.neighbors import KNeighborsClassifier\n",
    "from sklearn.model_selection import cross_val_score"
   ]
  },
  {
   "cell_type": "markdown",
   "id": "ed6ecd5f",
   "metadata": {},
   "source": [
    "<h2 style='color:#32a852;text-align:center;font-size:25px'><b>B. Đánh giá mô hình</b></h2> "
   ]
  },
  {
   "cell_type": "markdown",
   "id": "9aadd395-ec53-4cc7-9f67-235b4abec064",
   "metadata": {},
   "source": [
    "### Bài toán đặt ra\n",
    "- Một bộ phim có các thuộc tính của phim như thể loại, sự giới hạn độ tuổi, thời lượng phim hay là các nhà sản xuất phim,...Liệu chúng ta có thể đánh giá tổng doanh thu của bộ phim đó thông qua những thuộc tính trên không?\n",
    "### Hướng giải quyết\n",
    "- Chọn các thuộc tính phù hợp để tiến hành đánh giá mô hình.\n",
    "- Chọn `world_revenue` làm biến mục tiêu.\n",
    "- Lựa chọn các thuật toán cho mô hình.\n",
    "- Tinh chỉnh mô hình và đánh giá mô hình của từng thuật toán.\n",
    "- Chọn thuật toán tốt nhất để triển khai mô hình.\n",
    "### Thuật toán sử dụng:\n",
    "- Random Forest Classifier(RF)\n",
    "- K-Nearest Neighbor(KNN)"
   ]
  },
  {
   "cell_type": "code",
   "execution_count": 5,
   "id": "8439d271-1ea5-4608-a060-05193308f2d6",
   "metadata": {},
   "outputs": [
    {
     "data": {
      "text/html": [
       "<div>\n",
       "<style scoped>\n",
       "    .dataframe tbody tr th:only-of-type {\n",
       "        vertical-align: middle;\n",
       "    }\n",
       "\n",
       "    .dataframe tbody tr th {\n",
       "        vertical-align: top;\n",
       "    }\n",
       "\n",
       "    .dataframe thead th {\n",
       "        text-align: right;\n",
       "    }\n",
       "</style>\n",
       "<table border=\"1\" class=\"dataframe\">\n",
       "  <thead>\n",
       "    <tr style=\"text-align: right;\">\n",
       "      <th></th>\n",
       "      <th>title</th>\n",
       "      <th>domestic_revenue</th>\n",
       "      <th>world_revenue</th>\n",
       "      <th>distributor</th>\n",
       "      <th>opening_revenue</th>\n",
       "      <th>MPAA</th>\n",
       "      <th>genres</th>\n",
       "      <th>running_time</th>\n",
       "      <th>in_release</th>\n",
       "      <th>release_date</th>\n",
       "    </tr>\n",
       "  </thead>\n",
       "  <tbody>\n",
       "    <tr>\n",
       "      <th>title</th>\n",
       "      <td>1.0</td>\n",
       "      <td>1.0</td>\n",
       "      <td>1.0</td>\n",
       "      <td>0.991538</td>\n",
       "      <td>0.999144</td>\n",
       "      <td>0.989278</td>\n",
       "      <td>0.995482</td>\n",
       "      <td>0.993828</td>\n",
       "      <td>0.98883</td>\n",
       "      <td>0.990519</td>\n",
       "    </tr>\n",
       "    <tr>\n",
       "      <th>domestic_revenue</th>\n",
       "      <td>1.0</td>\n",
       "      <td>1.0</td>\n",
       "      <td>1.0</td>\n",
       "      <td>1.0</td>\n",
       "      <td>1.0</td>\n",
       "      <td>1.0</td>\n",
       "      <td>1.0</td>\n",
       "      <td>1.0</td>\n",
       "      <td>1.0</td>\n",
       "      <td>1.0</td>\n",
       "    </tr>\n",
       "    <tr>\n",
       "      <th>world_revenue</th>\n",
       "      <td>1.0</td>\n",
       "      <td>1.0</td>\n",
       "      <td>1.0</td>\n",
       "      <td>1.0</td>\n",
       "      <td>1.0</td>\n",
       "      <td>1.0</td>\n",
       "      <td>1.0</td>\n",
       "      <td>1.0</td>\n",
       "      <td>1.0</td>\n",
       "      <td>1.0</td>\n",
       "    </tr>\n",
       "    <tr>\n",
       "      <th>distributor</th>\n",
       "      <td>0.991538</td>\n",
       "      <td>1.0</td>\n",
       "      <td>1.0</td>\n",
       "      <td>1.0</td>\n",
       "      <td>0.999731</td>\n",
       "      <td>0.456466</td>\n",
       "      <td>0.479133</td>\n",
       "      <td>0.202594</td>\n",
       "      <td>0.338967</td>\n",
       "      <td>0.615526</td>\n",
       "    </tr>\n",
       "    <tr>\n",
       "      <th>opening_revenue</th>\n",
       "      <td>0.999144</td>\n",
       "      <td>1.0</td>\n",
       "      <td>1.0</td>\n",
       "      <td>0.999731</td>\n",
       "      <td>1.0</td>\n",
       "      <td>0.999672</td>\n",
       "      <td>0.999478</td>\n",
       "      <td>0.998617</td>\n",
       "      <td>0.999528</td>\n",
       "      <td>0.99919</td>\n",
       "    </tr>\n",
       "    <tr>\n",
       "      <th>MPAA</th>\n",
       "      <td>0.989278</td>\n",
       "      <td>1.0</td>\n",
       "      <td>1.0</td>\n",
       "      <td>0.456466</td>\n",
       "      <td>0.999672</td>\n",
       "      <td>1.0</td>\n",
       "      <td>0.700623</td>\n",
       "      <td>0.299357</td>\n",
       "      <td>0.320513</td>\n",
       "      <td>0.638232</td>\n",
       "    </tr>\n",
       "    <tr>\n",
       "      <th>genres</th>\n",
       "      <td>0.995482</td>\n",
       "      <td>1.0</td>\n",
       "      <td>1.0</td>\n",
       "      <td>0.479133</td>\n",
       "      <td>0.999478</td>\n",
       "      <td>0.700623</td>\n",
       "      <td>1.0</td>\n",
       "      <td>0.476132</td>\n",
       "      <td>0.43354</td>\n",
       "      <td>0.621265</td>\n",
       "    </tr>\n",
       "    <tr>\n",
       "      <th>running_time</th>\n",
       "      <td>0.993828</td>\n",
       "      <td>1.0</td>\n",
       "      <td>1.0</td>\n",
       "      <td>0.202594</td>\n",
       "      <td>0.998617</td>\n",
       "      <td>0.299357</td>\n",
       "      <td>0.476132</td>\n",
       "      <td>1.0</td>\n",
       "      <td>0.365101</td>\n",
       "      <td>0.669692</td>\n",
       "    </tr>\n",
       "    <tr>\n",
       "      <th>in_release</th>\n",
       "      <td>0.98883</td>\n",
       "      <td>1.0</td>\n",
       "      <td>1.0</td>\n",
       "      <td>0.338967</td>\n",
       "      <td>0.999528</td>\n",
       "      <td>0.320513</td>\n",
       "      <td>0.43354</td>\n",
       "      <td>0.365101</td>\n",
       "      <td>1.0</td>\n",
       "      <td>0.895791</td>\n",
       "    </tr>\n",
       "    <tr>\n",
       "      <th>release_date</th>\n",
       "      <td>0.990519</td>\n",
       "      <td>1.0</td>\n",
       "      <td>1.0</td>\n",
       "      <td>0.615526</td>\n",
       "      <td>0.99919</td>\n",
       "      <td>0.638232</td>\n",
       "      <td>0.621265</td>\n",
       "      <td>0.669692</td>\n",
       "      <td>0.895791</td>\n",
       "      <td>1.0</td>\n",
       "    </tr>\n",
       "  </tbody>\n",
       "</table>\n",
       "</div>"
      ],
      "text/plain": [
       "                     title domestic_revenue world_revenue distributor  \\\n",
       "title                  1.0              1.0           1.0    0.991538   \n",
       "domestic_revenue       1.0              1.0           1.0         1.0   \n",
       "world_revenue          1.0              1.0           1.0         1.0   \n",
       "distributor       0.991538              1.0           1.0         1.0   \n",
       "opening_revenue   0.999144              1.0           1.0    0.999731   \n",
       "MPAA              0.989278              1.0           1.0    0.456466   \n",
       "genres            0.995482              1.0           1.0    0.479133   \n",
       "running_time      0.993828              1.0           1.0    0.202594   \n",
       "in_release         0.98883              1.0           1.0    0.338967   \n",
       "release_date      0.990519              1.0           1.0    0.615526   \n",
       "\n",
       "                 opening_revenue      MPAA    genres running_time in_release  \\\n",
       "title                   0.999144  0.989278  0.995482     0.993828    0.98883   \n",
       "domestic_revenue             1.0       1.0       1.0          1.0        1.0   \n",
       "world_revenue                1.0       1.0       1.0          1.0        1.0   \n",
       "distributor             0.999731  0.456466  0.479133     0.202594   0.338967   \n",
       "opening_revenue              1.0  0.999672  0.999478     0.998617   0.999528   \n",
       "MPAA                    0.999672       1.0  0.700623     0.299357   0.320513   \n",
       "genres                  0.999478  0.700623       1.0     0.476132    0.43354   \n",
       "running_time            0.998617  0.299357  0.476132          1.0   0.365101   \n",
       "in_release              0.999528  0.320513   0.43354     0.365101        1.0   \n",
       "release_date             0.99919  0.638232  0.621265     0.669692   0.895791   \n",
       "\n",
       "                 release_date  \n",
       "title                0.990519  \n",
       "domestic_revenue          1.0  \n",
       "world_revenue             1.0  \n",
       "distributor          0.615526  \n",
       "opening_revenue       0.99919  \n",
       "MPAA                 0.638232  \n",
       "genres               0.621265  \n",
       "running_time         0.669692  \n",
       "in_release           0.895791  \n",
       "release_date              1.0  "
      ]
     },
     "execution_count": 5,
     "metadata": {},
     "output_type": "execute_result"
    }
   ],
   "source": [
    "import pandas as pd\n",
    "import numpy as np\n",
    "from scipy.stats import chi2_contingency\n",
    "\n",
    "# Hàm tính phi hệ số Cramér cho cặp biến\n",
    "def cramers_v(var1, var2):\n",
    "    contingency_table = pd.crosstab(movies_df[var1], movies_df[var2])\n",
    "    chi2, _, _, _ = chi2_contingency(contingency_table)\n",
    "    n = contingency_table.values.sum()\n",
    "    v = np.sqrt(chi2 / (n * min(contingency_table.shape[0] - 1, contingency_table.shape[1] - 1)))\n",
    "    return v\n",
    "\n",
    "# Tính phi hệ số Cramér cho tất cả các cặp biến trong DataFrame\n",
    "columns = movies_df.columns\n",
    "cramers_matrix = pd.DataFrame(index=columns, columns=columns)\n",
    "\n",
    "for var1 in columns:\n",
    "    for var2 in columns:\n",
    "        cramers_matrix.loc[var1, var2] = cramers_v(var1, var2)\n",
    "cramers_matrix"
   ]
  },
  {
   "cell_type": "markdown",
   "id": "4ab43ad7-4c6f-4635-b064-95804f853103",
   "metadata": {},
   "source": [
    "#### Trực quan hóa ma trận trên:"
   ]
  },
  {
   "cell_type": "code",
   "execution_count": 6,
   "id": "c5d91d4b-91a5-4b58-9b51-5d23df93220e",
   "metadata": {},
   "outputs": [
    {
     "data": {
      "image/png": "[encoded data removed]",
      "text/plain": [
       "<Figure size 1000x800 with 2 Axes>"
      ]
     },
     "metadata": {},
     "output_type": "display_data"
    }
   ],
   "source": [
    "copy = cramers_matrix.copy()\n",
    "copy = copy.astype(float)\n",
    "\n",
    "# Vẽ heatmap\n",
    "plt.figure(figsize=(10, 8))\n",
    "sns.heatmap(copy, annot=True, cmap=\"coolwarm\", fmt=\".2f\")\n",
    "plt.title(\"Cramér's V Heatmap\")\n",
    "plt.show()"
   ]
  },
  {
   "cell_type": "markdown",
   "id": "739d2dc6-73f2-4066-98d7-b1f62499c8d4",
   "metadata": {},
   "source": [
    "#### Từ ma trận thể hiện độ tương quan giữa mỗi giữa các biến trong tập dữ liệu, ta thấy:\n",
    "- `title`, `domestic_revenue`, `world_revenue`, `opening_revenue`: mức độ tương quan giữa từng cặp biến này `rất cao(mức tuyệt đối)`. Cho nên nhóm đã loại bỏ chúng ra khỏi tập đặc trưng của mô hình bởi vì chúng hoàn toàn `tuyến tính phụ thuộc lẫn nhau`, dẫn đến hiện tượng `\"multicollinearity\"`(tăng phương sai của các ước lượng và mô hình sẽ dự đoán sai) trong mô hình.\n",
    "- `in_release` và `release_date` có mối tương quan với nhau cũng khá cao nên nhóm sẽ loại bỏ đi một trong hai chúng. Nhóm sẽ bỏ đi `release_date`.\n",
    "- Cuối cùng, cột `MPAA`, `genres`, `running_time` và `in_release` sẽ được chọn làm `đặc trưng` của mô hình."
   ]
  },
  {
   "cell_type": "markdown",
   "id": "b46b1848-69f6-4696-992a-758e01b1e482",
   "metadata": {},
   "source": [
    "### Tiền xử lí dữ liệu"
   ]
  },
  {
   "cell_type": "code",
   "execution_count": 7,
   "id": "4cc96366-d1e5-4477-8665-e37d84e9b3c0",
   "metadata": {},
   "outputs": [],
   "source": [
    "copy_df = movies_df[['distributor', 'MPAA','genres','running_time','in_release']]"
   ]
  },
  {
   "cell_type": "code",
   "execution_count": 8,
   "id": "d1c0dd5e-cac9-4899-b41f-720c73e47d2f",
   "metadata": {},
   "outputs": [
    {
     "name": "stdout",
     "output_type": "stream",
     "text": [
      "<class 'pandas.core.frame.DataFrame'>\n",
      "RangeIndex: 4760 entries, 0 to 4759\n",
      "Data columns (total 5 columns):\n",
      " #   Column        Non-Null Count  Dtype  \n",
      "---  ------        --------------  -----  \n",
      " 0   distributor   4760 non-null   object \n",
      " 1   MPAA          4760 non-null   object \n",
      " 2   genres        4760 non-null   object \n",
      " 3   running_time  4760 non-null   float64\n",
      " 4   in_release    4760 non-null   float64\n",
      "dtypes: float64(2), object(3)\n",
      "memory usage: 186.1+ KB\n"
     ]
    }
   ],
   "source": [
    "copy_df.info()"
   ]
  },
  {
   "cell_type": "markdown",
   "id": "0859d9e8-44f2-4653-ad5b-7e8f1b54737e",
   "metadata": {},
   "source": [
    "`Bước 1`: Kiểm tra có cột nào bị thiếu dữ liệu không?"
   ]
  },
  {
   "cell_type": "code",
   "execution_count": 9,
   "id": "cda889fd-29af-4861-ad1f-73c57cc466ab",
   "metadata": {},
   "outputs": [
    {
     "data": {
      "text/html": [
       "<div>\n",
       "<style scoped>\n",
       "    .dataframe tbody tr th:only-of-type {\n",
       "        vertical-align: middle;\n",
       "    }\n",
       "\n",
       "    .dataframe tbody tr th {\n",
       "        vertical-align: top;\n",
       "    }\n",
       "\n",
       "    .dataframe thead th {\n",
       "        text-align: right;\n",
       "    }\n",
       "</style>\n",
       "<table border=\"1\" class=\"dataframe\">\n",
       "  <thead>\n",
       "    <tr style=\"text-align: right;\">\n",
       "      <th></th>\n",
       "      <th>distributor</th>\n",
       "      <th>MPAA</th>\n",
       "      <th>genres</th>\n",
       "      <th>running_time</th>\n",
       "      <th>in_release</th>\n",
       "    </tr>\n",
       "  </thead>\n",
       "  <tbody>\n",
       "    <tr>\n",
       "      <th>Total</th>\n",
       "      <td>0.0</td>\n",
       "      <td>0.0</td>\n",
       "      <td>0.0</td>\n",
       "      <td>0.0</td>\n",
       "      <td>0.0</td>\n",
       "    </tr>\n",
       "    <tr>\n",
       "      <th>Percent</th>\n",
       "      <td>0.0</td>\n",
       "      <td>0.0</td>\n",
       "      <td>0.0</td>\n",
       "      <td>0.0</td>\n",
       "      <td>0.0</td>\n",
       "    </tr>\n",
       "  </tbody>\n",
       "</table>\n",
       "</div>"
      ],
      "text/plain": [
       "         distributor  MPAA  genres  running_time  in_release\n",
       "Total            0.0   0.0     0.0           0.0         0.0\n",
       "Percent          0.0   0.0     0.0           0.0         0.0"
      ]
     },
     "execution_count": 9,
     "metadata": {},
     "output_type": "execute_result"
    }
   ],
   "source": [
    "total = copy_df.isnull().sum().sort_values(ascending=False)\n",
    "percent = (copy_df.isnull().sum()/copy_df.isnull().count()).sort_values(ascending=False)\n",
    "missing_data = pd.concat([total, percent], axis=1, keys=['Total', 'Percent'])\n",
    "missing_data.T"
   ]
  },
  {
   "cell_type": "markdown",
   "id": "9c72c8b0-4a88-4301-8231-3b9143ea5153",
   "metadata": {},
   "source": [
    "`Bước 2`: Xử lí các cột categorial `distributor`, `MPAA` và `genres`.\n",
    "- Áp dụng `Label Encoding` cho distributor và MPAA của copy_df.\n",
    "- Áp dụng `One-hot Encoding` cho genres tạo ra genres_encoded.\n",
    "- Sau đó dùng `pd.concat` để ghép genres_encoded với copy_df rồi drop cột genres đi."
   ]
  },
  {
   "cell_type": "code",
   "execution_count": 10,
   "id": "ecf6cce0-b1f7-4c6d-8dc3-f7935890f024",
   "metadata": {},
   "outputs": [
    {
     "name": "stderr",
     "output_type": "stream",
     "text": [
      "/tmp/ipykernel_1341/4102794415.py:3: SettingWithCopyWarning: \n",
      "A value is trying to be set on a copy of a slice from a DataFrame.\n",
      "Try using .loc[row_indexer,col_indexer] = value instead\n",
      "\n",
      "See the caveats in the documentation: https://pandas.pydata.org/pandas-docs/stable/user_guide/indexing.html#returning-a-view-versus-a-copy\n",
      "  copy_df[col] = le.fit_transform(copy_df[col])\n",
      "/tmp/ipykernel_1341/4102794415.py:3: SettingWithCopyWarning: \n",
      "A value is trying to be set on a copy of a slice from a DataFrame.\n",
      "Try using .loc[row_indexer,col_indexer] = value instead\n",
      "\n",
      "See the caveats in the documentation: https://pandas.pydata.org/pandas-docs/stable/user_guide/indexing.html#returning-a-view-versus-a-copy\n",
      "  copy_df[col] = le.fit_transform(copy_df[col])\n"
     ]
    }
   ],
   "source": [
    "for col in ['distributor', 'MPAA']:\n",
    "    le = LabelEncoder()\n",
    "    copy_df[col] = le.fit_transform(copy_df[col])"
   ]
  },
  {
   "cell_type": "code",
   "execution_count": 11,
   "id": "6a277193-0638-454e-9d33-2f6e5a46882b",
   "metadata": {},
   "outputs": [],
   "source": [
    "genres_encoded = copy_df['genres'].str.get_dummies(',')\n",
    "copy_df = pd.concat([genres_encoded,copy_df], axis=1)\n",
    "copy_df = copy_df.drop(['genres'], axis=1)"
   ]
  },
  {
   "cell_type": "markdown",
   "id": "b3348c7e-3e6b-4cc3-95eb-45eb56eee830",
   "metadata": {},
   "source": [
    "`Bước 3`: Tạo biến mục tiêu"
   ]
  },
  {
   "cell_type": "code",
   "execution_count": 12,
   "id": "eb1b9d41-f334-4be1-a449-d357c8034e24",
   "metadata": {},
   "outputs": [],
   "source": [
    "threshold = movies_df['world_revenue'].quantile(0.75)\n",
    "threshold\n",
    "copy_df['label'] = movies_df['world_revenue'].apply(lambda x: 1 if x > threshold else 0)"
   ]
  },
  {
   "cell_type": "code",
   "execution_count": 13,
   "id": "d62a92e8-7444-4c08-b52e-ddb7f7cc07ca",
   "metadata": {},
   "outputs": [],
   "source": [
    "X = copy_df.drop(['label'], axis=1)\n",
    "y = copy_df['label']\n",
    "\n",
    "# Chia dữ liệu thành tập huấn luyện và tập kiểm tra với tỉ lệ là 70% train, 30% test\n",
    "X_train, X_test, y_train, y_test = train_test_split(X, y, test_size=0.3, random_state=0)"
   ]
  },
  {
   "cell_type": "markdown",
   "id": "56406235-4753-4195-9280-827d45162907",
   "metadata": {},
   "source": [
    "Chuẩn hóa dữ liệu"
   ]
  },
  {
   "cell_type": "code",
   "execution_count": 14,
   "id": "173cbf03-9fe5-48b0-beff-187427f4cd27",
   "metadata": {},
   "outputs": [],
   "source": [
    "sc = StandardScaler()\n",
    "X_train = sc.fit_transform(X_train)\n",
    "X_test = sc.transform(X_test)"
   ]
  },
  {
   "cell_type": "markdown",
   "id": "67d5d923-0ed7-4ad2-809e-ab9899bcca08",
   "metadata": {},
   "source": [
    "## Các mô hình phân loại"
   ]
  },
  {
   "cell_type": "markdown",
   "id": "0c9175b6-bfbf-4a24-915d-a1562545f626",
   "metadata": {},
   "source": [
    "### Mô hình 1: Random Forest Classifier"
   ]
  },
  {
   "cell_type": "code",
   "execution_count": 15,
   "id": "681da2a9-79bf-43ab-a882-c31016443915",
   "metadata": {},
   "outputs": [],
   "source": [
    "metric = {}"
   ]
  },
  {
   "cell_type": "code",
   "execution_count": 16,
   "id": "98ed067e-5477-449b-b58d-b37c5dce2f83",
   "metadata": {},
   "outputs": [
    {
     "name": "stdout",
     "output_type": "stream",
     "text": [
      "Accuracy: 0.8179271708683473\n",
      "Precision: 0.7208333333333333\n",
      "Recall: 0.4726775956284153\n"
     ]
    }
   ],
   "source": [
    "#Fitting the Model\n",
    "classifier = RandomForestClassifier()\n",
    "classifier.fit(X_train, y_train)\n",
    "\n",
    "#Evaluating the Model\n",
    "rf_pred = classifier.predict(X_test)\n",
    "\n",
    "rf_accuracy = accuracy_score(y_test, rf_pred)\n",
    "rf_precision = precision_score(y_test, rf_pred)\n",
    "rf_recall = recall_score(y_test, rf_pred)\n",
    "\n",
    "print(\"Accuracy:\", rf_accuracy)\n",
    "print(\"Precision:\", rf_precision)\n",
    "print(\"Recall:\", rf_recall)\n",
    "metric['RF'] = [rf_accuracy,rf_precision,rf_recall]"
   ]
  },
  {
   "cell_type": "markdown",
   "id": "75feef35-ee68-41b3-b377-88308397b665",
   "metadata": {},
   "source": [
    "### Mô hình 2: K-Nearest Neighbor"
   ]
  },
  {
   "cell_type": "code",
   "execution_count": 17,
   "id": "36d10d6e-dd4b-4533-8f51-e46d70dca947",
   "metadata": {},
   "outputs": [
    {
     "name": "stdout",
     "output_type": "stream",
     "text": [
      "Accuracy: 0.7941176470588235\n",
      "Precision: 0.6463414634146342\n",
      "Recall: 0.4344262295081967\n"
     ]
    }
   ],
   "source": [
    "knn = KNeighborsClassifier()\n",
    "knn.fit(X_train, y_train)\n",
    "\n",
    "knn_pred = knn.predict(X_test)\n",
    "\n",
    "knn_accuracy = accuracy_score(y_test, knn_pred)\n",
    "knn_precision = precision_score(y_test, knn_pred)\n",
    "knn_recall = recall_score(y_test, knn_pred)\n",
    "\n",
    "print(\"Accuracy:\", knn_accuracy)\n",
    "print(\"Precision:\", knn_precision)\n",
    "print(\"Recall:\", knn_recall)\n",
    "metric['KNN'] = [knn_accuracy,knn_precision,knn_recall]"
   ]
  },
  {
   "cell_type": "code",
   "execution_count": 18,
   "id": "5a80db30-f92b-4d4a-a477-23da8314673d",
   "metadata": {},
   "outputs": [
    {
     "data": {
      "text/html": [
       "<div>\n",
       "<style scoped>\n",
       "    .dataframe tbody tr th:only-of-type {\n",
       "        vertical-align: middle;\n",
       "    }\n",
       "\n",
       "    .dataframe tbody tr th {\n",
       "        vertical-align: top;\n",
       "    }\n",
       "\n",
       "    .dataframe thead th {\n",
       "        text-align: right;\n",
       "    }\n",
       "</style>\n",
       "<table border=\"1\" class=\"dataframe\">\n",
       "  <thead>\n",
       "    <tr style=\"text-align: right;\">\n",
       "      <th></th>\n",
       "      <th>RF</th>\n",
       "      <th>KNN</th>\n",
       "    </tr>\n",
       "  </thead>\n",
       "  <tbody>\n",
       "    <tr>\n",
       "      <th>Accuracy</th>\n",
       "      <td>0.817927</td>\n",
       "      <td>0.794118</td>\n",
       "    </tr>\n",
       "    <tr>\n",
       "      <th>Precision</th>\n",
       "      <td>0.720833</td>\n",
       "      <td>0.646341</td>\n",
       "    </tr>\n",
       "    <tr>\n",
       "      <th>Recall</th>\n",
       "      <td>0.472678</td>\n",
       "      <td>0.434426</td>\n",
       "    </tr>\n",
       "  </tbody>\n",
       "</table>\n",
       "</div>"
      ],
      "text/plain": [
       "                 RF       KNN\n",
       "Accuracy   0.817927  0.794118\n",
       "Precision  0.720833  0.646341\n",
       "Recall     0.472678  0.434426"
      ]
     },
     "execution_count": 18,
     "metadata": {},
     "output_type": "execute_result"
    }
   ],
   "source": [
    "before_metric = pd.DataFrame(metric)\n",
    "before_metric.index = ['Accuracy', 'Precision', 'Recall']\n",
    "before_metric"
   ]
  },
  {
   "cell_type": "markdown",
   "id": "7a1b8f1d-80c4-44cd-b5ab-9c4f83e39499",
   "metadata": {},
   "source": [
    "### Tinh chỉnh mô hình"
   ]
  },
  {
   "cell_type": "markdown",
   "id": "9f5aa9c0-1baa-48c7-b5fd-e951c35a0d11",
   "metadata": {},
   "source": [
    "#### Tinh chỉnh mô hình Random Forest Classifier bằng kỹ thuật cross-validation\n",
    "Ở task này, nhóm tiến hành tìm kiếm siêu tham số ngẫu nhiên (Randomized Search) để tối ưu hóa mô hình Random Forest Classifier.\n",
    "- Đầu tiên tạo siêu tham số ngẫn nhiên `param_dict`, các siêu tham số này được xác định thông qua hàm `randint(a, b)`, do đó trong mỗi lần thử nghiệm mỗi siêu tham số này sẽ được chọn ngẫu nhiên từ phân phối đều giữa `a` và `b` do hàm `randint` tạo ra. Trong đó:\n",
    "  - `n_estimators`: số lượng cây quyết định trong rừng. Số cây càng lớn có thể cải thiện hiệu suất của mô hình nhưng cũng làm tăng chi phí tính toán.\n",
    "  - `max_depth`: độ sâu tối đa của mỗi cây quyết định trong rừng. Siêu tham số này dùng để kiểm soát độ phức tạp của mỗi cây. Độ sâu càng lớn có thể làm mô hình trở nên phức tạp và dễ bị overfitting.\n",
    "  - `min_samples_split`: số mẫu tối thiểu để chia một nút nội tại để phép phân chia có thể được thực hiện. Nếu số lượng mẫu trong nút ít hơn siêu tham số này, nút sẽ không được phân chia và nó sẽ trở thành một lá(hoặc dừng lại nếu đáp ứng được các điều kiện dừng khác).\n",
    "  - `min_samples_leaf`: số lượng mẫu tối thiểu ở mỗi lá nghĩa là số lượng mẫu tối thiểu mà lá đó cần phải chứa. Nếu sau mỗi lần phân chia một lá có ít mẫu hơn siêu tham số này thì cây sẽ không tiếp tục phân chia và lá sẽ được dừng lại.\n",
    "  - `min_samples_split` và `min_samples_leaf` giúp kiểm soát độ phức tạp của cây và giảm nguy cơ `overfitting`."
   ]
  },
  {
   "cell_type": "code",
   "execution_count": 19,
   "id": "83fd3f4f-b6c4-4460-8bc7-ae83f8afbef3",
   "metadata": {},
   "outputs": [],
   "source": [
    "# Thêm các siêu tham số khác vào param_dist\n",
    "param_dist = {'n_estimators': randint(50, 500),\n",
    "              'max_depth': randint(1, 20),\n",
    "              'min_samples_split': randint(2, 10),\n",
    "              'min_samples_leaf': randint(1, 5)}"
   ]
  },
  {
   "cell_type": "markdown",
   "id": "1f88d0d9-80a0-48d9-9f8b-224b11c72703",
   "metadata": {},
   "source": [
    "- Bước này nhóm tiến hành tạo mô hình `Random Forest Classifier` là `rf`, sau đó sử dụng `RandomizedSearchCV` để train các mô hình(được định nghĩa bởi tham số `n_iter`) và lưu chúng vào `rand_search`. Từ `rand_search`, dùng `best_estimator_` để tìm mô hình tốt nhất trong số các mô hình mà hàm RandomizedSearchCV vừa train. \n",
    "- Hơn nữa, `RandomizedSearchCV` còn sử dụng kỹ thuật `5-fold cross-validation` diễn ra như sau:\n",
    "  1. `Chia dữ liệu`: chia dữ liệu thành 5 phần bằng nhau.\n",
    "  2. `Lặp 5 lần`: lần lượt mỗi fold được chọn làm tập kiểm thử và các fold còn lại được sử dụng để huấn luyện mô hình\n",
    "  3. `Huấn luyện và đánh giá`: mô hình được huấn luyện trên `4 fold`(được gọi là tập huấn luyện) và đánh giá trên `fold còn lại`(tập kiểm thử). Qúa trình này được lặp `5 lần`, mỗi lần sẽ chọn một fold khác nhau làm tập test còn 4 tập kia thì train.\n",
    "  4. `Tổng hợp kết quả`: kết quả của 5 lần đánh giá từ bước 3 sẽ được tổng hợp để đưa ra kết quả cuối cùng, chính là mô hình tốt nhất.\n",
    "- `best_params_` được dùng để lấy các siêu tham số của mô hình tốt nhất đó."
   ]
  },
  {
   "cell_type": "code",
   "execution_count": 20,
   "id": "b6984b76-e520-44da-b05b-7d6cf77fa335",
   "metadata": {},
   "outputs": [
    {
     "name": "stdout",
     "output_type": "stream",
     "text": [
      "Các siêu tham số tốt nhất: {'max_depth': 11, 'min_samples_leaf': 1, 'min_samples_split': 8, 'n_estimators': 497}\n",
      "Accuracy: 0.8235294117647058\n",
      "Precision: 0.796875\n",
      "Recall: 0.4180327868852459\n"
     ]
    }
   ],
   "source": [
    "# Tạo mô hình Random Forest Classifier\n",
    "rf = RandomForestClassifier()\n",
    "\n",
    "# Sử dụng RandomizedSearchCV để tìm kiếm siêu tham số\n",
    "rand_search = RandomizedSearchCV(rf, \n",
    "                                 param_distributions=param_dist, \n",
    "                                 n_iter=5, \n",
    "                                 cv=5)\n",
    "\n",
    "# Fit đối tượng tìm kiếm ngẫu nhiên vào dữ liệu\n",
    "rand_search.fit(X_train, y_train)\n",
    "\n",
    "# Print the best hyperparameters\n",
    "best_rf_params = rand_search.best_params_\n",
    "print(\"Các siêu tham số tốt nhất:\", best_rf_params)\n",
    "\n",
    "# Get the best model\n",
    "best_classifier = rand_search.best_estimator_\n",
    "\n",
    "# Make predictions on the test set\n",
    "rf_fined_pred = best_classifier.predict(X_test)\n",
    "\n",
    "# Evaluate the model\n",
    "rf_fined_accuracy = accuracy_score(y_test, rf_fined_pred)\n",
    "rf_fined_precision = precision_score(y_test, rf_fined_pred)\n",
    "rf_fined_recall = recall_score(y_test, rf_fined_pred)\n",
    "\n",
    "print(\"Accuracy:\", rf_fined_accuracy)\n",
    "print(\"Precision:\", rf_fined_precision)\n",
    "print(\"Recall:\", rf_fined_recall)\n",
    "metric['Fined RF'] = [rf_fined_accuracy,rf_fined_precision,rf_fined_recall]"
   ]
  },
  {
   "cell_type": "code",
   "execution_count": 21,
   "id": "6a6b0913-c503-4f99-9c95-4aab3485e7c6",
   "metadata": {},
   "outputs": [
    {
     "data": {
      "image/png": "[encoded data removed]",
      "text/plain": [
       "<Figure size 640x480 with 2 Axes>"
      ]
     },
     "metadata": {},
     "output_type": "display_data"
    }
   ],
   "source": [
    "# Generate predictions with the best model\n",
    "y_pred = best_classifier.predict(X_test)\n",
    "\n",
    "# Create the confusion matrix\n",
    "cm = confusion_matrix(y_test, y_pred)\n",
    "\n",
    "ConfusionMatrixDisplay(confusion_matrix=cm).plot();"
   ]
  },
  {
   "cell_type": "code",
   "execution_count": 22,
   "id": "f304dba6-91ae-4d20-a351-b04eb27cda11",
   "metadata": {},
   "outputs": [
    {
     "data": {
      "image/png": "[encoded data removed]",
      "text/plain": [
       "<Figure size 2000x600 with 1 Axes>"
      ]
     },
     "metadata": {},
     "output_type": "display_data"
    }
   ],
   "source": [
    "# Create a series containing feature importances from the model and feature names from the training data\n",
    "feature_importances = pd.Series(best_classifier.feature_importances_, index=X.columns).sort_values(ascending=False)\n",
    "\n",
    "plt.figure(figsize=(20, 6))\n",
    "\n",
    "# Vẽ đồ thị cột\n",
    "feature_importances.plot.bar()\n",
    "\n",
    "# Hiển thị đồ thị\n",
    "plt.show()"
   ]
  },
  {
   "cell_type": "markdown",
   "id": "957cca3b-98d2-4940-9884-aaf4c2fa6dd3",
   "metadata": {},
   "source": [
    "https://www.datacamp.com/tutorial/random-forests-classifier-python"
   ]
  },
  {
   "cell_type": "markdown",
   "id": "ffce8a79-176f-478c-80ed-2cae40b47422",
   "metadata": {},
   "source": [
    "#### Tinh chỉnh mô hình K-Nearest Neighbor bằng kỹ thuật cross-validation"
   ]
  },
  {
   "cell_type": "markdown",
   "id": "882b7e41-15a7-40a6-b299-fe3b9df59563",
   "metadata": {},
   "source": [
    "- Trong mô hình `K-Nearest Neighbor`, tham số `n_neighbors` là tham số quan trọng, nó dùng để xác định số lượng hàng xóm gần nhất mà mô hình sẽ xem xét để cho ra một điểm dữ liệu mới.\n",
    "- Để tinh chỉnh mô hình K-Nearest Neighbor, chúng ta cần phải tìm ra giá trị k(n_neighbors) `tốt nhất` để tìm ra mô hình KNN `tốt nhất`.\n",
    "- Đầu tiên, nhóm vạch ra khoảng cho k là `(1,201)`. `Tại sao không lấy k lớn hơn?` Bởi vì nếu `k quá lớn` sẽ xảy ra `overfitting` dẫn đến mô hình trở nên `phức tạp` và `không thể áp dụng` cho dữ liệu mới.\n",
    "- Chuẩn hóa dữ liệu để `đảm bảo các đặc trưng` đều có cùng mức độ ảnh hưởng với khoảng cách giữa các điểm dữ liệu.\n",
    "- Thực hiện vòng lặp từ range định nghĩa. Trong mỗi lần lặp:\n",
    "    - Tạo mô hình KNN với tham số n_neighbors là k hiện tại.\n",
    "    - Dùng `cross_val_score` để tính độ chính xác bằng cách truyền vào mô hình vừa được tạo, dữ liệu chuẩn hóa X, biến mục tiêu Y và cv = 5 là sử dụng kỹ thuật `5-fold cross-validation` để đánh giá tìm ra độ chính xác.\n",
    "    - Lưu kết quả vừa tính vào list `scores`."
   ]
  },
  {
   "cell_type": "code",
   "execution_count": 23,
   "id": "cb5a4359-41bf-4876-a24a-72dd3e942da8",
   "metadata": {},
   "outputs": [],
   "source": [
    "k_values = [i for i in range (1,201)]\n",
    "scores = []\n",
    "\n",
    "sc = StandardScaler()\n",
    "X = sc.fit_transform(X)\n",
    "\n",
    "for k in k_values:\n",
    "    knn = KNeighborsClassifier(n_neighbors=k)\n",
    "    score = cross_val_score(knn, X, y, cv=5)\n",
    "    scores.append(np.mean(score))"
   ]
  },
  {
   "cell_type": "markdown",
   "id": "567e5e54-0f8f-46a1-9d11-7e5e2fad0ee5",
   "metadata": {},
   "source": [
    "Trực quan hóa kết quả đánh giá độ chính xác của mô hình theo từng giá trị k"
   ]
  },
  {
   "cell_type": "code",
   "execution_count": 24,
   "id": "f982c370-42eb-4115-8829-4b760c322334",
   "metadata": {},
   "outputs": [
    {
     "data": {
      "text/plain": [
       "Text(0, 0.5, 'Độ chính xác')"
      ]
     },
     "execution_count": 24,
     "metadata": {},
     "output_type": "execute_result"
    },
    {
     "data": {
      "image/png": "[encoded data removed]",
      "text/plain": [
       "<Figure size 640x480 with 1 Axes>"
      ]
     },
     "metadata": {},
     "output_type": "display_data"
    }
   ],
   "source": [
    "sns.lineplot(x = k_values, y = scores, marker = 'o')\n",
    "plt.xlabel(\"k\")\n",
    "plt.ylabel(\"Độ chính xác\")"
   ]
  },
  {
   "cell_type": "markdown",
   "id": "b10c8c67-e984-4b80-9944-353c5d524202",
   "metadata": {},
   "source": [
    "Từ biểu đồ trực quan hóa trên, giá trị k tốt nhất nằm gần giữa 27 và 30, để biết chính xác giá trị k, chúng ta sẽ chạy code ở dưới:"
   ]
  },
  {
   "cell_type": "code",
   "execution_count": 25,
   "id": "fdf62a85-50d1-4b9a-bfee-c1aed995c798",
   "metadata": {},
   "outputs": [
    {
     "name": "stdout",
     "output_type": "stream",
     "text": [
      "Gía trị k tốt nhất sau khi tinh chỉnh: k = 27\n"
     ]
    }
   ],
   "source": [
    "best_index = np.argmax(scores)\n",
    "best_k = k_values[best_index]\n",
    "\n",
    "best_knn = KNeighborsClassifier(n_neighbors=best_k)\n",
    "best_knn.fit(X_train, y_train)\n",
    "print(\"Gía trị k tốt nhất sau khi tinh chỉnh: k =\", best_k)"
   ]
  },
  {
   "cell_type": "code",
   "execution_count": 26,
   "id": "79040ea0-e13f-4bb2-9b25-425cf1a1bf61",
   "metadata": {},
   "outputs": [
    {
     "name": "stdout",
     "output_type": "stream",
     "text": [
      "Accuracy: 0.8018207282913166\n",
      "Precision: 0.7106598984771574\n",
      "Recall: 0.3825136612021858\n"
     ]
    }
   ],
   "source": [
    "knn_fined_pred = best_knn.predict(X_test)\n",
    "\n",
    "knn_fined_accuracy = accuracy_score(y_test, knn_fined_pred)\n",
    "knn_fined_precision = precision_score(y_test, knn_fined_pred)\n",
    "knn_fined_recall = recall_score(y_test, knn_fined_pred)\n",
    "\n",
    "\n",
    "print(\"Accuracy:\", knn_fined_accuracy)\n",
    "print(\"Precision:\", knn_fined_precision)\n",
    "print(\"Recall:\", knn_fined_recall)\n",
    "metric['Fined KNN'] = [knn_fined_accuracy,knn_fined_precision,knn_fined_recall]"
   ]
  },
  {
   "cell_type": "code",
   "execution_count": 27,
   "id": "c7b07c9e-756b-491e-9859-8dd36bd527e2",
   "metadata": {},
   "outputs": [
    {
     "data": {
      "text/html": [
       "<div>\n",
       "<style scoped>\n",
       "    .dataframe tbody tr th:only-of-type {\n",
       "        vertical-align: middle;\n",
       "    }\n",
       "\n",
       "    .dataframe tbody tr th {\n",
       "        vertical-align: top;\n",
       "    }\n",
       "\n",
       "    .dataframe thead th {\n",
       "        text-align: right;\n",
       "    }\n",
       "</style>\n",
       "<table border=\"1\" class=\"dataframe\">\n",
       "  <thead>\n",
       "    <tr style=\"text-align: right;\">\n",
       "      <th></th>\n",
       "      <th>Accuracy</th>\n",
       "      <th>Precision</th>\n",
       "      <th>Recall</th>\n",
       "    </tr>\n",
       "  </thead>\n",
       "  <tbody>\n",
       "    <tr>\n",
       "      <th>RF</th>\n",
       "      <td>0.817927</td>\n",
       "      <td>0.720833</td>\n",
       "      <td>0.472678</td>\n",
       "    </tr>\n",
       "    <tr>\n",
       "      <th>KNN</th>\n",
       "      <td>0.794118</td>\n",
       "      <td>0.646341</td>\n",
       "      <td>0.434426</td>\n",
       "    </tr>\n",
       "    <tr>\n",
       "      <th>Fined RF</th>\n",
       "      <td>0.823529</td>\n",
       "      <td>0.796875</td>\n",
       "      <td>0.418033</td>\n",
       "    </tr>\n",
       "    <tr>\n",
       "      <th>Fined KNN</th>\n",
       "      <td>0.801821</td>\n",
       "      <td>0.710660</td>\n",
       "      <td>0.382514</td>\n",
       "    </tr>\n",
       "  </tbody>\n",
       "</table>\n",
       "</div>"
      ],
      "text/plain": [
       "           Accuracy  Precision    Recall\n",
       "RF         0.817927   0.720833  0.472678\n",
       "KNN        0.794118   0.646341  0.434426\n",
       "Fined RF   0.823529   0.796875  0.418033\n",
       "Fined KNN  0.801821   0.710660  0.382514"
      ]
     },
     "execution_count": 27,
     "metadata": {},
     "output_type": "execute_result"
    }
   ],
   "source": [
    "temp = pd.DataFrame(metric)\n",
    "temp.index = ['Accuracy', 'Precision', 'Recall']\n",
    "temp.T"
   ]
  },
  {
   "cell_type": "markdown",
   "id": "3b9ea610-71ba-414d-84c3-ce20851fc65b",
   "metadata": {},
   "source": [
    "### Kết luận:\n",
    "\n",
    "#### 1. Random Forest (RF):\n",
    "   - **Accuracy:** 0.817927\n",
    "   - **Precision:** 0.720833\n",
    "   - **Recall:** 0.472678\n",
    "   - Mô hình Random Forest có độ chính xác cao (Accuracy), tốt hơn so với K-Nearest Neighbors (KNN).\n",
    "   - Precision của mô hình cũng khá tốt, đặc biệt là khả năng đưa ra dự đoán chính xác cho các trường hợp tích cực (Positive). Tuy nhiên, Recall thấp hơn so với Precision, có thể mô hình bỏ sót một số trường hợp tích cực.\n",
    "#### 2. K-Nearest Neighbors (KNN):\n",
    "   - **Accuracy:** 0.794118\t\n",
    "   - **Precision:** 0.646341\n",
    "   - **Recall:** 0.434426\n",
    "   - Mô hình KNN có độ chính xác thấp hơn so với Random Forest.\n",
    "   - Precision và Recall cũng thấp hơn so với Random Forest.  \n",
    "#### 3. Sau khi tinh chỉnh:\n",
    "   - Sau quá trình tinh chỉnh (fine-tuning), cả hai mô hình đều có sự cải thiện về Accuracy và Precision. Recall thì có sự giảm đi.\n",
    "     - Accuracy tăng: số lượng True Positives và True Negatives tăng.\n",
    "     - Precision tăng: số lượng True Positives tăng so với tổng số dự đoán Positive (True Positives + False Positives).\n",
    "     - Recall giảm: số lượng True Positives giảm so với tổng số thực tế Positive (True Positives + False Negatives).\n",
    "#### Tóm lại, mô hình Random Forest Classifier có khả năng đưa ra dự đoán tốt hơn mô hình K-Nearest Neighbors."
   ]
  },
  {
   "cell_type": "code",
   "execution_count": null,
   "id": "1d782db8-9a50-42aa-b474-efb94c831d78",
   "metadata": {},
   "outputs": [],
   "source": []
  }
 ],
 "metadata": {
  "kernelspec": {
   "display_name": "Python 3 (ipykernel)",
   "language": "python",
   "name": "python3"
  },
  "language_info": {
   "codemirror_mode": {
    "name": "ipython",
    "version": 3
   },
   "file_extension": ".py",
   "mimetype": "text/x-python",
   "name": "python",
   "nbconvert_exporter": "python",
   "pygments_lexer": "ipython3",
   "version": "3.10.8"
  },
  "vscode": {
   "interpreter": {
    "hash": "230eced423d2f0c873d70f568fb3b91d4d0a92783dea9e5e343fd82907c96f27"
   }
  }
 },
 "nbformat": 4,
 "nbformat_minor": 5
}
